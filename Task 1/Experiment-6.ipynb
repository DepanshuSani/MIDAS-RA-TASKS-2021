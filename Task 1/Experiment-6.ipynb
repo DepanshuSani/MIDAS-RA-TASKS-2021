{
 "cells": [
  {
   "cell_type": "markdown",
   "metadata": {},
   "source": [
    "### Import necessary packages"
   ]
  },
  {
   "cell_type": "code",
   "execution_count": 102,
   "metadata": {
    "_cell_guid": "b1076dfc-b9ad-4769-8c92-a6c4dae69d19",
    "_uuid": "8f2839f25d086af736a60e9eeb907d3b93b6e0e5"
   },
   "outputs": [],
   "source": [
    "import numpy as np\n",
    "import pandas as pd\n",
    "import matplotlib.pyplot as plt\n",
    "import tensorflow as tf\n",
    "import librosa\n",
    "import scipy.io.wavfile as wav\n",
    "import scipy\n",
    "\n",
    "from sklearn.model_selection import train_test_split\n",
    "\n",
    "import os"
   ]
  },
  {
   "cell_type": "markdown",
   "metadata": {},
   "source": [
    "##### Install dependencies and unzip dataset "
   ]
  },
  {
   "cell_type": "code",
   "execution_count": 2,
   "metadata": {},
   "outputs": [
    {
     "name": "stdout",
     "output_type": "stream",
     "text": [
      "Collecting py7zr\n",
      "  Downloading py7zr-0.15.1-py3-none-any.whl (66 kB)\n",
      "\u001b[K     |████████████████████████████████| 66 kB 2.5 MB/s eta 0:00:011\n",
      "\u001b[?25hCollecting multivolumefile<0.3.0,>=0.2.0\n",
      "  Downloading multivolumefile-0.2.2-py3-none-any.whl (16 kB)\n",
      "Requirement already satisfied: texttable in /opt/conda/lib/python3.7/site-packages (from py7zr) (1.6.3)\n",
      "Collecting ppmd-cffi<0.5.0,>=0.4.1\n",
      "  Downloading ppmd_cffi-0.4.1-cp37-cp37m-manylinux2014_x86_64.whl (124 kB)\n",
      "\u001b[K     |████████████████████████████████| 124 kB 7.3 MB/s eta 0:00:01\n",
      "\u001b[?25hRequirement already satisfied: importlib-metadata in /opt/conda/lib/python3.7/site-packages (from py7zr) (3.4.0)\n",
      "Collecting bcj-cffi<0.6.0,>=0.5.1\n",
      "  Downloading bcj_cffi-0.5.1-cp37-cp37m-manylinux2014_x86_64.whl (36 kB)\n",
      "Collecting pyzstd<0.15.0,>=0.14.4\n",
      "  Downloading pyzstd-0.14.4-cp37-cp37m-manylinux2014_x86_64.whl (2.2 MB)\n",
      "\u001b[K     |███████████████████████████████▉| 2.2 MB 7.4 MB/s eta 0:00:01     |████████████████████████████████| 2.2 MB 7.4 MB/s \n",
      "\u001b[?25hCollecting pycryptodome\n",
      "  Downloading pycryptodome-3.10.1-cp35-abi3-manylinux2010_x86_64.whl (1.9 MB)\n",
      "\u001b[K     |████████████████████████████████| 1.9 MB 2.9 MB/s eta 0:00:01\n",
      "\u001b[?25hRequirement already satisfied: cffi>=1.14.0 in /opt/conda/lib/python3.7/site-packages (from bcj-cffi<0.6.0,>=0.5.1->py7zr) (1.14.5)\n",
      "Requirement already satisfied: pycparser in /opt/conda/lib/python3.7/site-packages (from cffi>=1.14.0->bcj-cffi<0.6.0,>=0.5.1->py7zr) (2.20)\n",
      "Requirement already satisfied: zipp>=0.5 in /opt/conda/lib/python3.7/site-packages (from importlib-metadata->py7zr) (3.4.0)\n",
      "Requirement already satisfied: typing-extensions>=3.6.4 in /opt/conda/lib/python3.7/site-packages (from importlib-metadata->py7zr) (3.7.4.3)\n",
      "Installing collected packages: pyzstd, pycryptodome, ppmd-cffi, multivolumefile, bcj-cffi, py7zr\n",
      "Successfully installed bcj-cffi-0.5.1 multivolumefile-0.2.2 ppmd-cffi-0.4.1 py7zr-0.15.1 pycryptodome-3.10.1 pyzstd-0.14.4\n"
     ]
    }
   ],
   "source": [
    "!pip install py7zr\n",
    "!py7zr x '../input/tensorflow-speech-recognition-challenge/train.7z'\n",
    "!py7zr x '../input/tensorflow-speech-recognition-challenge/test.7z'"
   ]
  },
  {
   "cell_type": "markdown",
   "metadata": {},
   "source": [
    "### Create train-dataset\n"
   ]
  },
  {
   "cell_type": "code",
   "execution_count": 3,
   "metadata": {},
   "outputs": [],
   "source": [
    "TRAIN_DIR = './train/audio'\n",
    "labels = os.listdir(TRAIN_DIR)"
   ]
  },
  {
   "cell_type": "markdown",
   "metadata": {},
   "source": [
    "Dataset of all labels except silence"
   ]
  },
  {
   "cell_type": "code",
   "execution_count": 174,
   "metadata": {},
   "outputs": [
    {
     "name": "stdout",
     "output_type": "stream",
     "text": [
      "five, "
     ]
    },
    {
     "name": "stderr",
     "output_type": "stream",
     "text": [
      "/opt/conda/lib/python3.7/site-packages/librosa/core/pitch.py:153: UserWarning: Trying to estimate tuning from empty frequency set.\n",
      "  warnings.warn(\"Trying to estimate tuning from empty frequency set.\")\n"
     ]
    },
    {
     "name": "stdout",
     "output_type": "stream",
     "text": [
      "dog, _background_noise_, marvin, happy, seven, go, three, four, bird, bed, cat, tree, yes, zero, on, eight, right, stop, wow, sheila, off, nine, left, down, up, one, no, house, two, six, "
     ]
    }
   ],
   "source": [
    "X_mfcc = []\n",
    "X_chroma = []\n",
    "Y = []\n",
    "for label in labels:\n",
    "    print(label, end=\", \")\n",
    "    path = os.path.join(TRAIN_DIR, label)\n",
    "    filenames = os.listdir(path)\n",
    "    for filename in filenames:\n",
    "        if \".wav\" not in filename or label == \"_background_noise_\":\n",
    "            continue\n",
    "        sr, audio = wav.read(os.path.join(path, filename))\n",
    "        audio = audio.astype('float')\n",
    "        a = librosa.feature.mfcc(y = audio, sr=sr, n_mfcc=32) # Generate MFCC of the audio sample\n",
    "        a = np.pad(a, ((0, 0), (0, 32-a.shape[1])), mode=\"constant\", constant_values=0)\n",
    "        X_mfcc.append(a)\n",
    "        a = librosa.feature.chroma_stft(y = audio, sr=sr, n_chroma=32) # Generate Chroma STFT of the audio sample\n",
    "        a = np.pad(a, ((0, 0), (0, 32-a.shape[1])), mode=\"constant\", constant_values=0)\n",
    "        X_chroma.append(a)\n",
    "        Y.append(labels.index(label))"
   ]
  },
  {
   "cell_type": "markdown",
   "metadata": {},
   "source": [
    "Dataset creation of silence label"
   ]
  },
  {
   "cell_type": "code",
   "execution_count": 176,
   "metadata": {},
   "outputs": [
    {
     "name": "stderr",
     "output_type": "stream",
     "text": [
      "/opt/conda/lib/python3.7/site-packages/librosa/core/spectrum.py:224: UserWarning: n_fft=2048 is too small for input signal of length=1600\n",
      "  n_fft, y.shape[-1]\n",
      "/opt/conda/lib/python3.7/site-packages/ipykernel_launcher.py:8: WavFileWarning: Chunk (non-data) not understood, skipping it.\n",
      "  \n",
      "/opt/conda/lib/python3.7/site-packages/librosa/core/spectrum.py:224: UserWarning: n_fft=2048 is too small for input signal of length=249\n",
      "  n_fft, y.shape[-1]\n",
      "/opt/conda/lib/python3.7/site-packages/librosa/core/spectrum.py:224: UserWarning: n_fft=2048 is too small for input signal of length=407\n",
      "  n_fft, y.shape[-1]\n",
      "/opt/conda/lib/python3.7/site-packages/librosa/core/spectrum.py:224: UserWarning: n_fft=2048 is too small for input signal of length=1290\n",
      "  n_fft, y.shape[-1]\n",
      "/opt/conda/lib/python3.7/site-packages/librosa/core/spectrum.py:224: UserWarning: n_fft=2048 is too small for input signal of length=293\n",
      "  n_fft, y.shape[-1]\n"
     ]
    }
   ],
   "source": [
    "label = \"_background_noise_\"\n",
    "path = os.path.join(TRAIN_DIR, label)\n",
    "filenames = os.listdir(path)\n",
    "for filename in filenames:\n",
    "    if \".wav\" not in filename:\n",
    "        continue\n",
    "    sr, audio = wav.read(os.path.join(path, filename))\n",
    "    audio = audio.astype('float')\n",
    "    for i in range(0, len(audio), sr):\n",
    "        aa = audio[i:i+sr:10]\n",
    "        a = librosa.feature.mfcc(y = aa, sr=sr, n_mfcc=32)\n",
    "        a = np.pad(a, ((0, 0), (0, 32-a.shape[1])), mode=\"constant\", constant_values=0)\n",
    "        X_mfcc.append(a)\n",
    "        a = librosa.feature.chroma_stft(y = aa, sr=sr, n_chroma=32)\n",
    "        a = np.pad(a, ((0, 0), (0, 32-a.shape[1])), mode=\"constant\", constant_values=0)\n",
    "        X_chroma.append(a)\n",
    "        Y.append(labels.index(label))"
   ]
  },
  {
   "cell_type": "markdown",
   "metadata": {},
   "source": [
    "To balance the dataset add more samples of audio samples for <strong><i>silence</i></strong>. This is done by reversing each audio sample of 1 sec adn generating the said features"
   ]
  },
  {
   "cell_type": "code",
   "execution_count": 177,
   "metadata": {},
   "outputs": [
    {
     "name": "stderr",
     "output_type": "stream",
     "text": [
      "/opt/conda/lib/python3.7/site-packages/librosa/core/spectrum.py:224: UserWarning: n_fft=2048 is too small for input signal of length=0\n",
      "  n_fft, y.shape[-1]\n"
     ]
    },
    {
     "ename": "ValueError",
     "evalue": "can't extend empty axis 0 using modes other than 'constant' or 'empty'",
     "output_type": "error",
     "traceback": [
      "\u001b[0;31m---------------------------------------------------------------------------\u001b[0m",
      "\u001b[0;31mValueError\u001b[0m                                Traceback (most recent call last)",
      "\u001b[0;32m<ipython-input-177-ac61d668397d>\u001b[0m in \u001b[0;36m<module>\u001b[0;34m\u001b[0m\n\u001b[1;32m     10\u001b[0m     \u001b[0;32mfor\u001b[0m \u001b[0mi\u001b[0m \u001b[0;32min\u001b[0m \u001b[0mrange\u001b[0m\u001b[0;34m(\u001b[0m\u001b[0;36m0\u001b[0m\u001b[0;34m,\u001b[0m \u001b[0mlen\u001b[0m\u001b[0;34m(\u001b[0m\u001b[0maudio\u001b[0m\u001b[0;34m)\u001b[0m\u001b[0;34m,\u001b[0m \u001b[0msr\u001b[0m\u001b[0;34m)\u001b[0m\u001b[0;34m:\u001b[0m\u001b[0;34m\u001b[0m\u001b[0;34m\u001b[0m\u001b[0m\n\u001b[1;32m     11\u001b[0m         \u001b[0maa\u001b[0m \u001b[0;34m=\u001b[0m \u001b[0maudio\u001b[0m\u001b[0;34m[\u001b[0m\u001b[0mi\u001b[0m\u001b[0;34m:\u001b[0m\u001b[0mi\u001b[0m\u001b[0;34m+\u001b[0m\u001b[0msr\u001b[0m\u001b[0;34m:\u001b[0m\u001b[0;34m-\u001b[0m\u001b[0;36m10\u001b[0m\u001b[0;34m]\u001b[0m\u001b[0;34m\u001b[0m\u001b[0;34m\u001b[0m\u001b[0m\n\u001b[0;32m---> 12\u001b[0;31m         \u001b[0ma\u001b[0m \u001b[0;34m=\u001b[0m \u001b[0mlibrosa\u001b[0m\u001b[0;34m.\u001b[0m\u001b[0mfeature\u001b[0m\u001b[0;34m.\u001b[0m\u001b[0mmfcc\u001b[0m\u001b[0;34m(\u001b[0m\u001b[0my\u001b[0m \u001b[0;34m=\u001b[0m \u001b[0maa\u001b[0m\u001b[0;34m,\u001b[0m \u001b[0msr\u001b[0m\u001b[0;34m=\u001b[0m\u001b[0msr\u001b[0m\u001b[0;34m,\u001b[0m \u001b[0mn_mfcc\u001b[0m\u001b[0;34m=\u001b[0m\u001b[0;36m32\u001b[0m\u001b[0;34m)\u001b[0m\u001b[0;34m\u001b[0m\u001b[0;34m\u001b[0m\u001b[0m\n\u001b[0m\u001b[1;32m     13\u001b[0m         \u001b[0ma\u001b[0m \u001b[0;34m=\u001b[0m \u001b[0mnp\u001b[0m\u001b[0;34m.\u001b[0m\u001b[0mpad\u001b[0m\u001b[0;34m(\u001b[0m\u001b[0ma\u001b[0m\u001b[0;34m,\u001b[0m \u001b[0;34m(\u001b[0m\u001b[0;34m(\u001b[0m\u001b[0;36m0\u001b[0m\u001b[0;34m,\u001b[0m \u001b[0;36m0\u001b[0m\u001b[0;34m)\u001b[0m\u001b[0;34m,\u001b[0m \u001b[0;34m(\u001b[0m\u001b[0;36m0\u001b[0m\u001b[0;34m,\u001b[0m \u001b[0;36m32\u001b[0m\u001b[0;34m-\u001b[0m\u001b[0ma\u001b[0m\u001b[0;34m.\u001b[0m\u001b[0mshape\u001b[0m\u001b[0;34m[\u001b[0m\u001b[0;36m1\u001b[0m\u001b[0;34m]\u001b[0m\u001b[0;34m)\u001b[0m\u001b[0;34m)\u001b[0m\u001b[0;34m,\u001b[0m \u001b[0mmode\u001b[0m\u001b[0;34m=\u001b[0m\u001b[0;34m\"constant\"\u001b[0m\u001b[0;34m,\u001b[0m \u001b[0mconstant_values\u001b[0m\u001b[0;34m=\u001b[0m\u001b[0;36m0\u001b[0m\u001b[0;34m)\u001b[0m\u001b[0;34m\u001b[0m\u001b[0;34m\u001b[0m\u001b[0m\n\u001b[1;32m     14\u001b[0m         \u001b[0mX_mfcc\u001b[0m\u001b[0;34m.\u001b[0m\u001b[0mappend\u001b[0m\u001b[0;34m(\u001b[0m\u001b[0ma\u001b[0m\u001b[0;34m)\u001b[0m\u001b[0;34m\u001b[0m\u001b[0;34m\u001b[0m\u001b[0m\n",
      "\u001b[0;32m/opt/conda/lib/python3.7/site-packages/librosa/feature/spectral.py\u001b[0m in \u001b[0;36mmfcc\u001b[0;34m(y, sr, S, n_mfcc, dct_type, norm, lifter, **kwargs)\u001b[0m\n\u001b[1;32m   1850\u001b[0m \u001b[0;34m\u001b[0m\u001b[0m\n\u001b[1;32m   1851\u001b[0m     \u001b[0;32mif\u001b[0m \u001b[0mS\u001b[0m \u001b[0;32mis\u001b[0m \u001b[0;32mNone\u001b[0m\u001b[0;34m:\u001b[0m\u001b[0;34m\u001b[0m\u001b[0;34m\u001b[0m\u001b[0m\n\u001b[0;32m-> 1852\u001b[0;31m         \u001b[0mS\u001b[0m \u001b[0;34m=\u001b[0m \u001b[0mpower_to_db\u001b[0m\u001b[0;34m(\u001b[0m\u001b[0mmelspectrogram\u001b[0m\u001b[0;34m(\u001b[0m\u001b[0my\u001b[0m\u001b[0;34m=\u001b[0m\u001b[0my\u001b[0m\u001b[0;34m,\u001b[0m \u001b[0msr\u001b[0m\u001b[0;34m=\u001b[0m\u001b[0msr\u001b[0m\u001b[0;34m,\u001b[0m \u001b[0;34m**\u001b[0m\u001b[0mkwargs\u001b[0m\u001b[0;34m)\u001b[0m\u001b[0;34m)\u001b[0m\u001b[0;34m\u001b[0m\u001b[0;34m\u001b[0m\u001b[0m\n\u001b[0m\u001b[1;32m   1853\u001b[0m \u001b[0;34m\u001b[0m\u001b[0m\n\u001b[1;32m   1854\u001b[0m     \u001b[0mM\u001b[0m \u001b[0;34m=\u001b[0m \u001b[0mscipy\u001b[0m\u001b[0;34m.\u001b[0m\u001b[0mfftpack\u001b[0m\u001b[0;34m.\u001b[0m\u001b[0mdct\u001b[0m\u001b[0;34m(\u001b[0m\u001b[0mS\u001b[0m\u001b[0;34m,\u001b[0m \u001b[0maxis\u001b[0m\u001b[0;34m=\u001b[0m\u001b[0;36m0\u001b[0m\u001b[0;34m,\u001b[0m \u001b[0mtype\u001b[0m\u001b[0;34m=\u001b[0m\u001b[0mdct_type\u001b[0m\u001b[0;34m,\u001b[0m \u001b[0mnorm\u001b[0m\u001b[0;34m=\u001b[0m\u001b[0mnorm\u001b[0m\u001b[0;34m)\u001b[0m\u001b[0;34m[\u001b[0m\u001b[0;34m:\u001b[0m\u001b[0mn_mfcc\u001b[0m\u001b[0;34m]\u001b[0m\u001b[0;34m\u001b[0m\u001b[0;34m\u001b[0m\u001b[0m\n",
      "\u001b[0;32m/opt/conda/lib/python3.7/site-packages/librosa/feature/spectral.py\u001b[0m in \u001b[0;36mmelspectrogram\u001b[0;34m(y, sr, S, n_fft, hop_length, win_length, window, center, pad_mode, power, **kwargs)\u001b[0m\n\u001b[1;32m   2003\u001b[0m         \u001b[0mwindow\u001b[0m\u001b[0;34m=\u001b[0m\u001b[0mwindow\u001b[0m\u001b[0;34m,\u001b[0m\u001b[0;34m\u001b[0m\u001b[0;34m\u001b[0m\u001b[0m\n\u001b[1;32m   2004\u001b[0m         \u001b[0mcenter\u001b[0m\u001b[0;34m=\u001b[0m\u001b[0mcenter\u001b[0m\u001b[0;34m,\u001b[0m\u001b[0;34m\u001b[0m\u001b[0;34m\u001b[0m\u001b[0m\n\u001b[0;32m-> 2005\u001b[0;31m         \u001b[0mpad_mode\u001b[0m\u001b[0;34m=\u001b[0m\u001b[0mpad_mode\u001b[0m\u001b[0;34m,\u001b[0m\u001b[0;34m\u001b[0m\u001b[0;34m\u001b[0m\u001b[0m\n\u001b[0m\u001b[1;32m   2006\u001b[0m     )\n\u001b[1;32m   2007\u001b[0m \u001b[0;34m\u001b[0m\u001b[0m\n",
      "\u001b[0;32m/opt/conda/lib/python3.7/site-packages/librosa/core/spectrum.py\u001b[0m in \u001b[0;36m_spectrogram\u001b[0;34m(y, S, n_fft, hop_length, power, win_length, window, center, pad_mode)\u001b[0m\n\u001b[1;32m   2517\u001b[0m                     \u001b[0mcenter\u001b[0m\u001b[0;34m=\u001b[0m\u001b[0mcenter\u001b[0m\u001b[0;34m,\u001b[0m\u001b[0;34m\u001b[0m\u001b[0;34m\u001b[0m\u001b[0m\n\u001b[1;32m   2518\u001b[0m                     \u001b[0mwindow\u001b[0m\u001b[0;34m=\u001b[0m\u001b[0mwindow\u001b[0m\u001b[0;34m,\u001b[0m\u001b[0;34m\u001b[0m\u001b[0;34m\u001b[0m\u001b[0m\n\u001b[0;32m-> 2519\u001b[0;31m                     \u001b[0mpad_mode\u001b[0m\u001b[0;34m=\u001b[0m\u001b[0mpad_mode\u001b[0m\u001b[0;34m,\u001b[0m\u001b[0;34m\u001b[0m\u001b[0;34m\u001b[0m\u001b[0m\n\u001b[0m\u001b[1;32m   2520\u001b[0m                 )\n\u001b[1;32m   2521\u001b[0m             )\n",
      "\u001b[0;32m/opt/conda/lib/python3.7/site-packages/librosa/core/spectrum.py\u001b[0m in \u001b[0;36mstft\u001b[0;34m(y, n_fft, hop_length, win_length, window, center, dtype, pad_mode)\u001b[0m\n\u001b[1;32m    226\u001b[0m             )\n\u001b[1;32m    227\u001b[0m \u001b[0;34m\u001b[0m\u001b[0m\n\u001b[0;32m--> 228\u001b[0;31m         \u001b[0my\u001b[0m \u001b[0;34m=\u001b[0m \u001b[0mnp\u001b[0m\u001b[0;34m.\u001b[0m\u001b[0mpad\u001b[0m\u001b[0;34m(\u001b[0m\u001b[0my\u001b[0m\u001b[0;34m,\u001b[0m \u001b[0mint\u001b[0m\u001b[0;34m(\u001b[0m\u001b[0mn_fft\u001b[0m \u001b[0;34m//\u001b[0m \u001b[0;36m2\u001b[0m\u001b[0;34m)\u001b[0m\u001b[0;34m,\u001b[0m \u001b[0mmode\u001b[0m\u001b[0;34m=\u001b[0m\u001b[0mpad_mode\u001b[0m\u001b[0;34m)\u001b[0m\u001b[0;34m\u001b[0m\u001b[0;34m\u001b[0m\u001b[0m\n\u001b[0m\u001b[1;32m    229\u001b[0m \u001b[0;34m\u001b[0m\u001b[0m\n\u001b[1;32m    230\u001b[0m     \u001b[0;32melif\u001b[0m \u001b[0mn_fft\u001b[0m \u001b[0;34m>\u001b[0m \u001b[0my\u001b[0m\u001b[0;34m.\u001b[0m\u001b[0mshape\u001b[0m\u001b[0;34m[\u001b[0m\u001b[0;34m-\u001b[0m\u001b[0;36m1\u001b[0m\u001b[0;34m]\u001b[0m\u001b[0;34m:\u001b[0m\u001b[0;34m\u001b[0m\u001b[0;34m\u001b[0m\u001b[0m\n",
      "\u001b[0;32m<__array_function__ internals>\u001b[0m in \u001b[0;36mpad\u001b[0;34m(*args, **kwargs)\u001b[0m\n",
      "\u001b[0;32m/opt/conda/lib/python3.7/site-packages/numpy/lib/arraypad.py\u001b[0m in \u001b[0;36mpad\u001b[0;34m(array, pad_width, mode, **kwargs)\u001b[0m\n\u001b[1;32m    817\u001b[0m                 raise ValueError(\n\u001b[1;32m    818\u001b[0m                     \u001b[0;34m\"can't extend empty axis {} using modes other than \"\u001b[0m\u001b[0;34m\u001b[0m\u001b[0;34m\u001b[0m\u001b[0m\n\u001b[0;32m--> 819\u001b[0;31m                     \u001b[0;34m\"'constant' or 'empty'\"\u001b[0m\u001b[0;34m.\u001b[0m\u001b[0mformat\u001b[0m\u001b[0;34m(\u001b[0m\u001b[0maxis\u001b[0m\u001b[0;34m)\u001b[0m\u001b[0;34m\u001b[0m\u001b[0;34m\u001b[0m\u001b[0m\n\u001b[0m\u001b[1;32m    820\u001b[0m                 )\n\u001b[1;32m    821\u001b[0m         \u001b[0;31m# passed, don't need to do anything more as _pad_simple already\u001b[0m\u001b[0;34m\u001b[0m\u001b[0;34m\u001b[0m\u001b[0;34m\u001b[0m\u001b[0m\n",
      "\u001b[0;31mValueError\u001b[0m: can't extend empty axis 0 using modes other than 'constant' or 'empty'"
     ]
    }
   ],
   "source": [
    "label = \"_background_noise_\"\n",
    "path = os.path.join(TRAIN_DIR, label)\n",
    "filenames = os.listdir(path)\n",
    "for filename in filenames:\n",
    "    if \".wav\" not in filename:\n",
    "        continue\n",
    "    sr, audio = wav.read(os.path.join(path, filename))\n",
    "    audio = audio.astype('float')\n",
    "    for i in range(0, len(audio), sr):\n",
    "        aa = audio[i:i+sr:-10]\n",
    "        a = librosa.feature.mfcc(y = aa, sr=sr, n_mfcc=32)\n",
    "        a = np.pad(a, ((0, 0), (0, 32-a.shape[1])), mode=\"constant\", constant_values=0)\n",
    "        X_mfcc.append(a)\n",
    "        a = librosa.feature.chroma_stft(y = aa, sr=sr, n_chroma=32)\n",
    "        a = np.pad(a, ((0, 0), (0, 32-a.shape[1])), mode=\"constant\", constant_values=0)\n",
    "        X_chroma.append(a)\n",
    "        Y.append(labels.index(label))"
   ]
  },
  {
   "cell_type": "code",
   "execution_count": 181,
   "metadata": {},
   "outputs": [
    {
     "data": {
      "text/plain": [
       "((65123, 32, 32, 1), (65123, 32, 32, 1), (65123,))"
      ]
     },
     "execution_count": 181,
     "metadata": {},
     "output_type": "execute_result"
    }
   ],
   "source": [
    "X_mfcc = np.asarray(X_mfcc)\n",
    "X_mfcc = np.expand_dims(X_mfcc, -1)\n",
    "X_chroma = np.asarray(X_chroma)\n",
    "X_chroma = np.expand_dims(X_chroma, -1)\n",
    "Y = np.asarray(Y)\n",
    "X_mfcc.shape, X_chroma.shape, Y.shape"
   ]
  },
  {
   "cell_type": "markdown",
   "metadata": {},
   "source": [
    "To visualize the number of samples for each label"
   ]
  },
  {
   "cell_type": "code",
   "execution_count": 182,
   "metadata": {},
   "outputs": [
    {
     "data": {
      "text/plain": [
       "array([[   0, 2357],\n",
       "       [   1, 1746],\n",
       "       [   2,  402],\n",
       "       [   3, 1746],\n",
       "       [   4, 1742],\n",
       "       [   5, 2377],\n",
       "       [   6, 2372],\n",
       "       [   7, 2356],\n",
       "       [   8, 2372],\n",
       "       [   9, 1731],\n",
       "       [  10, 1713],\n",
       "       [  11, 1733],\n",
       "       [  12, 1733],\n",
       "       [  13, 2377],\n",
       "       [  14, 2376],\n",
       "       [  15, 2367],\n",
       "       [  16, 2352],\n",
       "       [  17, 2367],\n",
       "       [  18, 2380],\n",
       "       [  19, 1745],\n",
       "       [  20, 1734],\n",
       "       [  21, 2357],\n",
       "       [  22, 2364],\n",
       "       [  23, 2353],\n",
       "       [  24, 2359],\n",
       "       [  25, 2375],\n",
       "       [  26, 2370],\n",
       "       [  27, 2375],\n",
       "       [  28, 1750],\n",
       "       [  29, 2373],\n",
       "       [  30, 2369]])"
      ]
     },
     "execution_count": 182,
     "metadata": {},
     "output_type": "execute_result"
    }
   ],
   "source": [
    "i = np.bincount(Y)\n",
    "ii = np.nonzero(i)[0]\n",
    "np.vstack([ii, i[ii]]).T"
   ]
  },
  {
   "cell_type": "markdown",
   "metadata": {},
   "source": [
    "### Train-Test Split"
   ]
  },
  {
   "cell_type": "code",
   "execution_count": 183,
   "metadata": {},
   "outputs": [],
   "source": [
    "m_train, m_test, c_train, c_test, y_train, y_test = train_test_split(X_mfcc, X_chroma, Y, test_size=0.25, random_state=42)"
   ]
  },
  {
   "cell_type": "markdown",
   "metadata": {},
   "source": [
    "### Model Creation & Training"
   ]
  },
  {
   "cell_type": "code",
   "execution_count": 184,
   "metadata": {},
   "outputs": [],
   "source": [
    "def Model(X1, X2, dropout=0.4):\n",
    "    _input1 = tf.keras.layers.Input(X1)\n",
    "    x = tf.keras.layers.Conv2D(64, 3, padding=\"same\")(_input1)\n",
    "    x = tf.keras.layers.Activation(tf.nn.leaky_relu)(x)\n",
    "    x = tf.keras.layers.BatchNormalization()(x)    \n",
    "    x = tf.keras.layers.MaxPool2D()(x)\n",
    "    x = tf.keras.layers.Dropout(dropout)(x)\n",
    "    \n",
    "    x = tf.keras.layers.Conv2D(128, 3, padding=\"same\")(x)\n",
    "    x = tf.keras.layers.Activation(tf.nn.leaky_relu)(x)\n",
    "    x = tf.keras.layers.BatchNormalization()(x)    \n",
    "    x = tf.keras.layers.MaxPool2D()(x)\n",
    "    x = tf.keras.layers.Dropout(dropout)(x)\n",
    "    \n",
    "    x = tf.keras.layers.Conv2D(256, 3, padding=\"same\")(x)\n",
    "    x = tf.keras.layers.Activation(tf.nn.leaky_relu)(x)\n",
    "    x = tf.keras.layers.BatchNormalization()(x)\n",
    "    x = tf.keras.layers.MaxPool2D()(x)\n",
    "    \n",
    "    x1 = tf.keras.layers.Flatten()(x)\n",
    "    \n",
    "    _input2 = tf.keras.layers.Input(X2)\n",
    "    x = tf.keras.layers.Conv2D(64, 3, padding=\"same\")(_input2)\n",
    "    x = tf.keras.layers.Activation(tf.nn.leaky_relu)(x)\n",
    "    x = tf.keras.layers.BatchNormalization()(x)    \n",
    "    x = tf.keras.layers.MaxPool2D()(x)\n",
    "    x = tf.keras.layers.Dropout(dropout)(x)\n",
    "    \n",
    "    x = tf.keras.layers.Conv2D(128, 3, padding=\"same\")(x)\n",
    "    x = tf.keras.layers.Activation(tf.nn.leaky_relu)(x)\n",
    "    x = tf.keras.layers.BatchNormalization()(x)    \n",
    "    x = tf.keras.layers.MaxPool2D()(x)\n",
    "    x = tf.keras.layers.Dropout(dropout)(x)\n",
    "    \n",
    "    x = tf.keras.layers.Conv2D(256, 3, padding=\"same\")(x)\n",
    "    x = tf.keras.layers.Activation(tf.nn.leaky_relu)(x)\n",
    "    x = tf.keras.layers.BatchNormalization()(x)\n",
    "    x = tf.keras.layers.MaxPool2D()(x)\n",
    "    \n",
    "    x2 = tf.keras.layers.Flatten()(x)\n",
    "    \n",
    "    x = tf.keras.layers.Concatenate()([x1, x2])\n",
    "    \n",
    "    x = tf.keras.layers.Dense(128)(x)\n",
    "    x = tf.keras.layers.Activation(tf.nn.leaky_relu)(x)\n",
    "    x = tf.keras.layers.BatchNormalization()(x)\n",
    "    x = tf.keras.layers.Dropout(dropout)(x)\n",
    "    \n",
    "    x = tf.keras.layers.Dense(64)(x)\n",
    "    x = tf.keras.layers.Activation(tf.nn.leaky_relu)(x)\n",
    "    x = tf.keras.layers.BatchNormalization()(x)\n",
    "    x = tf.keras.layers.Dropout(dropout)(x)\n",
    "    \n",
    "    x = tf.keras.layers.Dense(len(labels))(x)\n",
    "    x = tf.keras.layers.Activation(tf.nn.softmax)(x)\n",
    "    return tf.keras.Model([_input1, _input2], x)"
   ]
  },
  {
   "cell_type": "code",
   "execution_count": 185,
   "metadata": {},
   "outputs": [],
   "source": [
    "model = Model(m_train[0].shape, c_train[0].shape)\n",
    "model.compile(loss=\"sparse_categorical_crossentropy\", metrics=[\"accuracy\"])\n",
    "checkpoint_filepath = \"weights_mfcc_Conv2D/\"\n",
    "model_checkpoint_callback = tf.keras.callbacks.ModelCheckpoint(\n",
    "    filepath=checkpoint_filepath,\n",
    "    save_weights_only=True,\n",
    "    monitor='val_accuracy',\n",
    "    mode='max',\n",
    "    save_best_only=True)"
   ]
  },
  {
   "cell_type": "markdown",
   "metadata": {},
   "source": [
    "Summary of the output shape and parameters of the model"
   ]
  },
  {
   "cell_type": "code",
   "execution_count": 186,
   "metadata": {},
   "outputs": [
    {
     "name": "stdout",
     "output_type": "stream",
     "text": [
      "Model: \"model_9\"\n",
      "__________________________________________________________________________________________________\n",
      "Layer (type)                    Output Shape         Param #     Connected to                     \n",
      "==================================================================================================\n",
      "input_10 (InputLayer)           [(None, 32, 32, 1)]  0                                            \n",
      "__________________________________________________________________________________________________\n",
      "input_11 (InputLayer)           [(None, 32, 32, 1)]  0                                            \n",
      "__________________________________________________________________________________________________\n",
      "conv2d (Conv2D)                 (None, 32, 32, 64)   640         input_10[0][0]                   \n",
      "__________________________________________________________________________________________________\n",
      "conv2d_3 (Conv2D)               (None, 32, 32, 64)   640         input_11[0][0]                   \n",
      "__________________________________________________________________________________________________\n",
      "activation_41 (Activation)      (None, 32, 32, 64)   0           conv2d[0][0]                     \n",
      "__________________________________________________________________________________________________\n",
      "activation_44 (Activation)      (None, 32, 32, 64)   0           conv2d_3[0][0]                   \n",
      "__________________________________________________________________________________________________\n",
      "batch_normalization_32 (BatchNo (None, 32, 32, 64)   256         activation_41[0][0]              \n",
      "__________________________________________________________________________________________________\n",
      "batch_normalization_35 (BatchNo (None, 32, 32, 64)   256         activation_44[0][0]              \n",
      "__________________________________________________________________________________________________\n",
      "max_pooling2d (MaxPooling2D)    (None, 16, 16, 64)   0           batch_normalization_32[0][0]     \n",
      "__________________________________________________________________________________________________\n",
      "max_pooling2d_3 (MaxPooling2D)  (None, 16, 16, 64)   0           batch_normalization_35[0][0]     \n",
      "__________________________________________________________________________________________________\n",
      "dropout_28 (Dropout)            (None, 16, 16, 64)   0           max_pooling2d[0][0]              \n",
      "__________________________________________________________________________________________________\n",
      "dropout_30 (Dropout)            (None, 16, 16, 64)   0           max_pooling2d_3[0][0]            \n",
      "__________________________________________________________________________________________________\n",
      "conv2d_1 (Conv2D)               (None, 16, 16, 128)  73856       dropout_28[0][0]                 \n",
      "__________________________________________________________________________________________________\n",
      "conv2d_4 (Conv2D)               (None, 16, 16, 128)  73856       dropout_30[0][0]                 \n",
      "__________________________________________________________________________________________________\n",
      "activation_42 (Activation)      (None, 16, 16, 128)  0           conv2d_1[0][0]                   \n",
      "__________________________________________________________________________________________________\n",
      "activation_45 (Activation)      (None, 16, 16, 128)  0           conv2d_4[0][0]                   \n",
      "__________________________________________________________________________________________________\n",
      "batch_normalization_33 (BatchNo (None, 16, 16, 128)  512         activation_42[0][0]              \n",
      "__________________________________________________________________________________________________\n",
      "batch_normalization_36 (BatchNo (None, 16, 16, 128)  512         activation_45[0][0]              \n",
      "__________________________________________________________________________________________________\n",
      "max_pooling2d_1 (MaxPooling2D)  (None, 8, 8, 128)    0           batch_normalization_33[0][0]     \n",
      "__________________________________________________________________________________________________\n",
      "max_pooling2d_4 (MaxPooling2D)  (None, 8, 8, 128)    0           batch_normalization_36[0][0]     \n",
      "__________________________________________________________________________________________________\n",
      "dropout_29 (Dropout)            (None, 8, 8, 128)    0           max_pooling2d_1[0][0]            \n",
      "__________________________________________________________________________________________________\n",
      "dropout_31 (Dropout)            (None, 8, 8, 128)    0           max_pooling2d_4[0][0]            \n",
      "__________________________________________________________________________________________________\n",
      "conv2d_2 (Conv2D)               (None, 8, 8, 256)    295168      dropout_29[0][0]                 \n",
      "__________________________________________________________________________________________________\n",
      "conv2d_5 (Conv2D)               (None, 8, 8, 256)    295168      dropout_31[0][0]                 \n",
      "__________________________________________________________________________________________________\n",
      "activation_43 (Activation)      (None, 8, 8, 256)    0           conv2d_2[0][0]                   \n",
      "__________________________________________________________________________________________________\n",
      "activation_46 (Activation)      (None, 8, 8, 256)    0           conv2d_5[0][0]                   \n",
      "__________________________________________________________________________________________________\n",
      "batch_normalization_34 (BatchNo (None, 8, 8, 256)    1024        activation_43[0][0]              \n",
      "__________________________________________________________________________________________________\n",
      "batch_normalization_37 (BatchNo (None, 8, 8, 256)    1024        activation_46[0][0]              \n",
      "__________________________________________________________________________________________________\n",
      "max_pooling2d_2 (MaxPooling2D)  (None, 4, 4, 256)    0           batch_normalization_34[0][0]     \n",
      "__________________________________________________________________________________________________\n",
      "max_pooling2d_5 (MaxPooling2D)  (None, 4, 4, 256)    0           batch_normalization_37[0][0]     \n",
      "__________________________________________________________________________________________________\n",
      "flatten_3 (Flatten)             (None, 4096)         0           max_pooling2d_2[0][0]            \n",
      "__________________________________________________________________________________________________\n",
      "flatten_4 (Flatten)             (None, 4096)         0           max_pooling2d_5[0][0]            \n",
      "__________________________________________________________________________________________________\n",
      "concatenate (Concatenate)       (None, 8192)         0           flatten_3[0][0]                  \n",
      "                                                                 flatten_4[0][0]                  \n",
      "__________________________________________________________________________________________________\n",
      "dense_25 (Dense)                (None, 128)          1048704     concatenate[0][0]                \n",
      "__________________________________________________________________________________________________\n",
      "activation_47 (Activation)      (None, 128)          0           dense_25[0][0]                   \n",
      "__________________________________________________________________________________________________\n",
      "batch_normalization_38 (BatchNo (None, 128)          512         activation_47[0][0]              \n",
      "__________________________________________________________________________________________________\n",
      "dropout_32 (Dropout)            (None, 128)          0           batch_normalization_38[0][0]     \n",
      "__________________________________________________________________________________________________\n",
      "dense_26 (Dense)                (None, 64)           8256        dropout_32[0][0]                 \n",
      "__________________________________________________________________________________________________\n",
      "activation_48 (Activation)      (None, 64)           0           dense_26[0][0]                   \n",
      "__________________________________________________________________________________________________\n",
      "batch_normalization_39 (BatchNo (None, 64)           256         activation_48[0][0]              \n",
      "__________________________________________________________________________________________________\n",
      "dropout_33 (Dropout)            (None, 64)           0           batch_normalization_39[0][0]     \n",
      "__________________________________________________________________________________________________\n",
      "dense_27 (Dense)                (None, 31)           2015        dropout_33[0][0]                 \n",
      "__________________________________________________________________________________________________\n",
      "activation_49 (Activation)      (None, 31)           0           dense_27[0][0]                   \n",
      "==================================================================================================\n",
      "Total params: 1,802,655\n",
      "Trainable params: 1,800,479\n",
      "Non-trainable params: 2,176\n",
      "__________________________________________________________________________________________________\n"
     ]
    }
   ],
   "source": [
    "model.summary()"
   ]
  },
  {
   "cell_type": "code",
   "execution_count": 187,
   "metadata": {},
   "outputs": [
    {
     "name": "stdout",
     "output_type": "stream",
     "text": [
      "Epoch 1/500\n",
      "287/287 [==============================] - 9s 22ms/step - loss: 3.1394 - accuracy: 0.1800 - val_loss: 3.1489 - val_accuracy: 0.3227\n",
      "Epoch 2/500\n",
      "287/287 [==============================] - 6s 20ms/step - loss: 1.3590 - accuracy: 0.6015 - val_loss: 1.3351 - val_accuracy: 0.6083\n",
      "Epoch 3/500\n",
      "287/287 [==============================] - 6s 19ms/step - loss: 0.8730 - accuracy: 0.7430 - val_loss: 0.5119 - val_accuracy: 0.8469\n",
      "Epoch 4/500\n",
      "287/287 [==============================] - 6s 20ms/step - loss: 0.6679 - accuracy: 0.8024 - val_loss: 0.5604 - val_accuracy: 0.8248\n",
      "Epoch 5/500\n",
      "287/287 [==============================] - 6s 20ms/step - loss: 0.5628 - accuracy: 0.8392 - val_loss: 0.3850 - val_accuracy: 0.8851\n",
      "Epoch 6/500\n",
      "287/287 [==============================] - 6s 20ms/step - loss: 0.4750 - accuracy: 0.8571 - val_loss: 0.3400 - val_accuracy: 0.8989\n",
      "Epoch 7/500\n",
      "287/287 [==============================] - 6s 20ms/step - loss: 0.4381 - accuracy: 0.8675 - val_loss: 0.3063 - val_accuracy: 0.9093\n",
      "Epoch 8/500\n",
      "287/287 [==============================] - 6s 20ms/step - loss: 0.3980 - accuracy: 0.8830 - val_loss: 0.5255 - val_accuracy: 0.8479\n",
      "Epoch 9/500\n",
      "287/287 [==============================] - 6s 20ms/step - loss: 0.3486 - accuracy: 0.8939 - val_loss: 0.3077 - val_accuracy: 0.9082\n",
      "Epoch 10/500\n",
      "287/287 [==============================] - 6s 20ms/step - loss: 0.3289 - accuracy: 0.9024 - val_loss: 0.2529 - val_accuracy: 0.9260\n",
      "Epoch 11/500\n",
      "287/287 [==============================] - 6s 20ms/step - loss: 0.3025 - accuracy: 0.9090 - val_loss: 0.2562 - val_accuracy: 0.9269\n",
      "Epoch 12/500\n",
      "287/287 [==============================] - 6s 21ms/step - loss: 0.2791 - accuracy: 0.9121 - val_loss: 0.2855 - val_accuracy: 0.9202\n",
      "Epoch 13/500\n",
      "287/287 [==============================] - 6s 20ms/step - loss: 0.2626 - accuracy: 0.9187 - val_loss: 0.2733 - val_accuracy: 0.9217\n",
      "Epoch 14/500\n",
      "287/287 [==============================] - 6s 20ms/step - loss: 0.2474 - accuracy: 0.9229 - val_loss: 0.2786 - val_accuracy: 0.9223\n",
      "Epoch 15/500\n",
      "287/287 [==============================] - 6s 20ms/step - loss: 0.2281 - accuracy: 0.9279 - val_loss: 0.2380 - val_accuracy: 0.9348\n",
      "Epoch 16/500\n",
      "287/287 [==============================] - 6s 20ms/step - loss: 0.2169 - accuracy: 0.9335 - val_loss: 0.2518 - val_accuracy: 0.9283\n",
      "Epoch 17/500\n",
      "287/287 [==============================] - 6s 20ms/step - loss: 0.2013 - accuracy: 0.9366 - val_loss: 0.2476 - val_accuracy: 0.9325\n",
      "Epoch 18/500\n",
      "287/287 [==============================] - 6s 21ms/step - loss: 0.1893 - accuracy: 0.9403 - val_loss: 0.2351 - val_accuracy: 0.9351\n",
      "Epoch 19/500\n",
      "287/287 [==============================] - 6s 20ms/step - loss: 0.1821 - accuracy: 0.9429 - val_loss: 0.2882 - val_accuracy: 0.9242\n",
      "Epoch 20/500\n",
      "287/287 [==============================] - 6s 20ms/step - loss: 0.1704 - accuracy: 0.9462 - val_loss: 0.2661 - val_accuracy: 0.9309\n",
      "Epoch 21/500\n",
      "287/287 [==============================] - 6s 20ms/step - loss: 0.1676 - accuracy: 0.9465 - val_loss: 0.2614 - val_accuracy: 0.9320\n",
      "Epoch 22/500\n",
      "287/287 [==============================] - 6s 20ms/step - loss: 0.1636 - accuracy: 0.9466 - val_loss: 0.2505 - val_accuracy: 0.9354\n",
      "Epoch 23/500\n",
      "287/287 [==============================] - 6s 20ms/step - loss: 0.1501 - accuracy: 0.9517 - val_loss: 0.2807 - val_accuracy: 0.9291\n",
      "Epoch 24/500\n",
      "287/287 [==============================] - 6s 20ms/step - loss: 0.1459 - accuracy: 0.9536 - val_loss: 0.2493 - val_accuracy: 0.9347\n",
      "Epoch 25/500\n",
      "287/287 [==============================] - 6s 20ms/step - loss: 0.1405 - accuracy: 0.9560 - val_loss: 0.2457 - val_accuracy: 0.9363\n",
      "Epoch 26/500\n",
      "287/287 [==============================] - 6s 20ms/step - loss: 0.1373 - accuracy: 0.9562 - val_loss: 0.2708 - val_accuracy: 0.9328\n",
      "Epoch 27/500\n",
      "287/287 [==============================] - 6s 20ms/step - loss: 0.1333 - accuracy: 0.9561 - val_loss: 0.2706 - val_accuracy: 0.9310\n",
      "Epoch 28/500\n",
      "287/287 [==============================] - 6s 20ms/step - loss: 0.1282 - accuracy: 0.9593 - val_loss: 0.2988 - val_accuracy: 0.9270\n",
      "Epoch 29/500\n",
      "287/287 [==============================] - 6s 20ms/step - loss: 0.1230 - accuracy: 0.9598 - val_loss: 0.2459 - val_accuracy: 0.9389\n",
      "Epoch 30/500\n",
      "287/287 [==============================] - 6s 19ms/step - loss: 0.1164 - accuracy: 0.9632 - val_loss: 0.2773 - val_accuracy: 0.9323\n",
      "Epoch 31/500\n",
      "287/287 [==============================] - 6s 20ms/step - loss: 0.1113 - accuracy: 0.9642 - val_loss: 0.2720 - val_accuracy: 0.9328\n",
      "Epoch 32/500\n",
      "287/287 [==============================] - 6s 20ms/step - loss: 0.1121 - accuracy: 0.9641 - val_loss: 0.3000 - val_accuracy: 0.9306\n",
      "Epoch 33/500\n",
      "287/287 [==============================] - 6s 20ms/step - loss: 0.1036 - accuracy: 0.9672 - val_loss: 0.2885 - val_accuracy: 0.9320\n",
      "Epoch 34/500\n",
      "287/287 [==============================] - 6s 20ms/step - loss: 0.1040 - accuracy: 0.9660 - val_loss: 0.2526 - val_accuracy: 0.9410\n",
      "Epoch 35/500\n",
      "287/287 [==============================] - 6s 20ms/step - loss: 0.1010 - accuracy: 0.9684 - val_loss: 0.3073 - val_accuracy: 0.9285\n",
      "Epoch 36/500\n",
      "287/287 [==============================] - 6s 20ms/step - loss: 0.0920 - accuracy: 0.9711 - val_loss: 0.2827 - val_accuracy: 0.9333\n",
      "Epoch 37/500\n",
      "287/287 [==============================] - 6s 20ms/step - loss: 0.0957 - accuracy: 0.9667 - val_loss: 0.2834 - val_accuracy: 0.9346\n",
      "Epoch 38/500\n",
      "287/287 [==============================] - 6s 19ms/step - loss: 0.0958 - accuracy: 0.9683 - val_loss: 0.2723 - val_accuracy: 0.9369\n",
      "Epoch 39/500\n",
      "287/287 [==============================] - 6s 20ms/step - loss: 0.0897 - accuracy: 0.9703 - val_loss: 0.3743 - val_accuracy: 0.9157\n",
      "Epoch 40/500\n",
      "287/287 [==============================] - 6s 20ms/step - loss: 0.0912 - accuracy: 0.9702 - val_loss: 0.3033 - val_accuracy: 0.9306\n",
      "Epoch 41/500\n",
      "287/287 [==============================] - 6s 20ms/step - loss: 0.0894 - accuracy: 0.9706 - val_loss: 0.3384 - val_accuracy: 0.9228\n",
      "Epoch 42/500\n",
      "287/287 [==============================] - 6s 20ms/step - loss: 0.0823 - accuracy: 0.9742 - val_loss: 0.3057 - val_accuracy: 0.9324\n",
      "Epoch 43/500\n",
      "287/287 [==============================] - 6s 20ms/step - loss: 0.0817 - accuracy: 0.9735 - val_loss: 0.3349 - val_accuracy: 0.9263\n",
      "Epoch 44/500\n",
      "287/287 [==============================] - 6s 20ms/step - loss: 0.0878 - accuracy: 0.9721 - val_loss: 0.2962 - val_accuracy: 0.9335\n",
      "Epoch 45/500\n",
      "287/287 [==============================] - 6s 20ms/step - loss: 0.0785 - accuracy: 0.9752 - val_loss: 0.2940 - val_accuracy: 0.9338\n",
      "Epoch 46/500\n",
      "287/287 [==============================] - 6s 20ms/step - loss: 0.0729 - accuracy: 0.9769 - val_loss: 0.3471 - val_accuracy: 0.9231\n",
      "Epoch 47/500\n",
      "287/287 [==============================] - 6s 20ms/step - loss: 0.0811 - accuracy: 0.9747 - val_loss: 0.2954 - val_accuracy: 0.9351\n",
      "Epoch 48/500\n",
      "287/287 [==============================] - 6s 19ms/step - loss: 0.0794 - accuracy: 0.9742 - val_loss: 0.2936 - val_accuracy: 0.9353\n",
      "Epoch 49/500\n",
      "287/287 [==============================] - 6s 20ms/step - loss: 0.0822 - accuracy: 0.9728 - val_loss: 0.2713 - val_accuracy: 0.9395\n",
      "Epoch 50/500\n",
      "287/287 [==============================] - 6s 20ms/step - loss: 0.0697 - accuracy: 0.9769 - val_loss: 0.2764 - val_accuracy: 0.9393\n",
      "Epoch 51/500\n",
      "287/287 [==============================] - 6s 20ms/step - loss: 0.0671 - accuracy: 0.9784 - val_loss: 0.2911 - val_accuracy: 0.9353\n",
      "Epoch 52/500\n",
      "287/287 [==============================] - 6s 20ms/step - loss: 0.0691 - accuracy: 0.9786 - val_loss: 0.2733 - val_accuracy: 0.9389\n",
      "Epoch 53/500\n",
      "287/287 [==============================] - 6s 20ms/step - loss: 0.0723 - accuracy: 0.9766 - val_loss: 0.3085 - val_accuracy: 0.9318\n",
      "Epoch 54/500\n",
      "287/287 [==============================] - 6s 20ms/step - loss: 0.0684 - accuracy: 0.9765 - val_loss: 0.2737 - val_accuracy: 0.9403\n",
      "Epoch 55/500\n",
      "287/287 [==============================] - 6s 20ms/step - loss: 0.0703 - accuracy: 0.9772 - val_loss: 0.2922 - val_accuracy: 0.9372\n",
      "Epoch 56/500\n",
      "287/287 [==============================] - 6s 20ms/step - loss: 0.0674 - accuracy: 0.9763 - val_loss: 0.2890 - val_accuracy: 0.9349\n",
      "Epoch 57/500\n",
      "287/287 [==============================] - 6s 20ms/step - loss: 0.0642 - accuracy: 0.9792 - val_loss: 0.3060 - val_accuracy: 0.9359\n",
      "Epoch 58/500\n",
      "287/287 [==============================] - 6s 20ms/step - loss: 0.0665 - accuracy: 0.9785 - val_loss: 0.2931 - val_accuracy: 0.9391\n",
      "Epoch 59/500\n",
      "287/287 [==============================] - 6s 20ms/step - loss: 0.0661 - accuracy: 0.9791 - val_loss: 0.2997 - val_accuracy: 0.9360\n",
      "Epoch 60/500\n",
      "287/287 [==============================] - 6s 20ms/step - loss: 0.0584 - accuracy: 0.9814 - val_loss: 0.3104 - val_accuracy: 0.9331\n",
      "Epoch 61/500\n",
      "287/287 [==============================] - 6s 20ms/step - loss: 0.0620 - accuracy: 0.9798 - val_loss: 0.3047 - val_accuracy: 0.9364\n",
      "Epoch 62/500\n",
      "287/287 [==============================] - 6s 20ms/step - loss: 0.0588 - accuracy: 0.9820 - val_loss: 0.3063 - val_accuracy: 0.9348\n",
      "Epoch 63/500\n",
      "287/287 [==============================] - 6s 20ms/step - loss: 0.0585 - accuracy: 0.9811 - val_loss: 0.3525 - val_accuracy: 0.9259\n",
      "Epoch 64/500\n",
      "287/287 [==============================] - 6s 20ms/step - loss: 0.0580 - accuracy: 0.9819 - val_loss: 0.3246 - val_accuracy: 0.9337\n",
      "Epoch 65/500\n",
      "287/287 [==============================] - 6s 20ms/step - loss: 0.0593 - accuracy: 0.9811 - val_loss: 0.3169 - val_accuracy: 0.9352\n",
      "Epoch 66/500\n",
      "287/287 [==============================] - 6s 20ms/step - loss: 0.0560 - accuracy: 0.9820 - val_loss: 0.3388 - val_accuracy: 0.9342\n",
      "Epoch 67/500\n",
      "287/287 [==============================] - 6s 19ms/step - loss: 0.0576 - accuracy: 0.9809 - val_loss: 0.2827 - val_accuracy: 0.9406\n",
      "Epoch 68/500\n",
      "287/287 [==============================] - 6s 20ms/step - loss: 0.0544 - accuracy: 0.9824 - val_loss: 0.3087 - val_accuracy: 0.9371\n",
      "Epoch 69/500\n",
      "287/287 [==============================] - 6s 19ms/step - loss: 0.0547 - accuracy: 0.9833 - val_loss: 0.3235 - val_accuracy: 0.9351\n",
      "Epoch 70/500\n",
      "287/287 [==============================] - 6s 20ms/step - loss: 0.0549 - accuracy: 0.9826 - val_loss: 0.3406 - val_accuracy: 0.9311\n",
      "Epoch 71/500\n",
      "287/287 [==============================] - 6s 19ms/step - loss: 0.0534 - accuracy: 0.9827 - val_loss: 0.3283 - val_accuracy: 0.9315\n",
      "Epoch 72/500\n",
      "287/287 [==============================] - 6s 20ms/step - loss: 0.0557 - accuracy: 0.9825 - val_loss: 0.3361 - val_accuracy: 0.9330\n",
      "Epoch 73/500\n",
      "287/287 [==============================] - 6s 20ms/step - loss: 0.0500 - accuracy: 0.9839 - val_loss: 0.3688 - val_accuracy: 0.9281\n",
      "Epoch 74/500\n",
      "287/287 [==============================] - 6s 20ms/step - loss: 0.0512 - accuracy: 0.9833 - val_loss: 0.3158 - val_accuracy: 0.9361\n",
      "Epoch 75/500\n",
      "287/287 [==============================] - 6s 19ms/step - loss: 0.0489 - accuracy: 0.9836 - val_loss: 0.3233 - val_accuracy: 0.9369\n",
      "Epoch 76/500\n",
      "287/287 [==============================] - 6s 19ms/step - loss: 0.0507 - accuracy: 0.9839 - val_loss: 0.3226 - val_accuracy: 0.9341\n",
      "Epoch 77/500\n",
      "287/287 [==============================] - 6s 19ms/step - loss: 0.0543 - accuracy: 0.9831 - val_loss: 0.3140 - val_accuracy: 0.9355\n",
      "Epoch 78/500\n",
      "287/287 [==============================] - 6s 19ms/step - loss: 0.0520 - accuracy: 0.9826 - val_loss: 0.3120 - val_accuracy: 0.9401\n",
      "Epoch 79/500\n",
      "287/287 [==============================] - 6s 20ms/step - loss: 0.0530 - accuracy: 0.9837 - val_loss: 0.3012 - val_accuracy: 0.9405\n",
      "Epoch 80/500\n",
      "287/287 [==============================] - 6s 19ms/step - loss: 0.0500 - accuracy: 0.9839 - val_loss: 0.3740 - val_accuracy: 0.9265\n",
      "Epoch 81/500\n",
      "287/287 [==============================] - 5s 19ms/step - loss: 0.0475 - accuracy: 0.9845 - val_loss: 0.3060 - val_accuracy: 0.9386\n",
      "Epoch 82/500\n",
      "287/287 [==============================] - 6s 19ms/step - loss: 0.0479 - accuracy: 0.9853 - val_loss: 0.3508 - val_accuracy: 0.9297\n",
      "Epoch 83/500\n",
      "287/287 [==============================] - 5s 19ms/step - loss: 0.0522 - accuracy: 0.9837 - val_loss: 0.3259 - val_accuracy: 0.9346\n",
      "Epoch 84/500\n",
      "287/287 [==============================] - 6s 19ms/step - loss: 0.0492 - accuracy: 0.9841 - val_loss: 0.3086 - val_accuracy: 0.9356\n",
      "Epoch 85/500\n",
      "287/287 [==============================] - 6s 20ms/step - loss: 0.0479 - accuracy: 0.9846 - val_loss: 0.3412 - val_accuracy: 0.9319\n",
      "Epoch 86/500\n",
      "287/287 [==============================] - 6s 19ms/step - loss: 0.0489 - accuracy: 0.9838 - val_loss: 0.3042 - val_accuracy: 0.9367\n",
      "Epoch 87/500\n",
      "287/287 [==============================] - 5s 19ms/step - loss: 0.0431 - accuracy: 0.9855 - val_loss: 0.3094 - val_accuracy: 0.9377\n",
      "Epoch 88/500\n",
      "287/287 [==============================] - 6s 19ms/step - loss: 0.0470 - accuracy: 0.9855 - val_loss: 0.3079 - val_accuracy: 0.9376\n",
      "Epoch 89/500\n",
      "287/287 [==============================] - 5s 19ms/step - loss: 0.0449 - accuracy: 0.9861 - val_loss: 0.3220 - val_accuracy: 0.9355\n",
      "Epoch 90/500\n",
      "287/287 [==============================] - 6s 19ms/step - loss: 0.0426 - accuracy: 0.9865 - val_loss: 0.3287 - val_accuracy: 0.9366\n",
      "Epoch 91/500\n",
      "287/287 [==============================] - 6s 20ms/step - loss: 0.0421 - accuracy: 0.9864 - val_loss: 0.3354 - val_accuracy: 0.9357\n",
      "Epoch 92/500\n",
      "287/287 [==============================] - 6s 19ms/step - loss: 0.0422 - accuracy: 0.9860 - val_loss: 0.3318 - val_accuracy: 0.9339\n",
      "Epoch 93/500\n",
      "287/287 [==============================] - 5s 19ms/step - loss: 0.0408 - accuracy: 0.9871 - val_loss: 0.3148 - val_accuracy: 0.9370\n",
      "Epoch 94/500\n",
      "287/287 [==============================] - 6s 19ms/step - loss: 0.0409 - accuracy: 0.9865 - val_loss: 0.3516 - val_accuracy: 0.9309\n",
      "Epoch 95/500\n",
      "287/287 [==============================] - 6s 19ms/step - loss: 0.0423 - accuracy: 0.9865 - val_loss: 0.3159 - val_accuracy: 0.9367\n",
      "Epoch 96/500\n",
      "287/287 [==============================] - 6s 19ms/step - loss: 0.0409 - accuracy: 0.9866 - val_loss: 0.3272 - val_accuracy: 0.9349\n",
      "Epoch 97/500\n",
      "287/287 [==============================] - 6s 20ms/step - loss: 0.0454 - accuracy: 0.9854 - val_loss: 0.3299 - val_accuracy: 0.9332\n",
      "Epoch 98/500\n",
      "287/287 [==============================] - 6s 19ms/step - loss: 0.0396 - accuracy: 0.9870 - val_loss: 0.3162 - val_accuracy: 0.9361\n",
      "Epoch 99/500\n",
      "287/287 [==============================] - 5s 19ms/step - loss: 0.0393 - accuracy: 0.9876 - val_loss: 0.3423 - val_accuracy: 0.9339\n",
      "Epoch 100/500\n",
      "287/287 [==============================] - 6s 19ms/step - loss: 0.0387 - accuracy: 0.9871 - val_loss: 0.3755 - val_accuracy: 0.9315\n",
      "Epoch 101/500\n",
      "287/287 [==============================] - 5s 19ms/step - loss: 0.0390 - accuracy: 0.9873 - val_loss: 0.3539 - val_accuracy: 0.9310\n",
      "Epoch 102/500\n",
      "287/287 [==============================] - 6s 20ms/step - loss: 0.0393 - accuracy: 0.9872 - val_loss: 0.3000 - val_accuracy: 0.9411\n",
      "Epoch 103/500\n",
      "287/287 [==============================] - 5s 19ms/step - loss: 0.0425 - accuracy: 0.9852 - val_loss: 0.3556 - val_accuracy: 0.9349\n",
      "Epoch 104/500\n",
      "287/287 [==============================] - 6s 19ms/step - loss: 0.0391 - accuracy: 0.9879 - val_loss: 0.3243 - val_accuracy: 0.9360\n",
      "Epoch 105/500\n",
      "287/287 [==============================] - 5s 19ms/step - loss: 0.0403 - accuracy: 0.9870 - val_loss: 0.3125 - val_accuracy: 0.9391\n",
      "Epoch 106/500\n",
      "287/287 [==============================] - 6s 19ms/step - loss: 0.0391 - accuracy: 0.9874 - val_loss: 0.3291 - val_accuracy: 0.9378\n",
      "Epoch 107/500\n",
      "287/287 [==============================] - 5s 19ms/step - loss: 0.0397 - accuracy: 0.9873 - val_loss: 0.3281 - val_accuracy: 0.9365\n",
      "Epoch 108/500\n",
      "287/287 [==============================] - 6s 20ms/step - loss: 0.0350 - accuracy: 0.9889 - val_loss: 0.3330 - val_accuracy: 0.9365\n",
      "Epoch 109/500\n",
      "287/287 [==============================] - 5s 19ms/step - loss: 0.0372 - accuracy: 0.9866 - val_loss: 0.3831 - val_accuracy: 0.9311\n",
      "Epoch 110/500\n",
      "287/287 [==============================] - 6s 19ms/step - loss: 0.0390 - accuracy: 0.9877 - val_loss: 0.3240 - val_accuracy: 0.9388\n",
      "Epoch 111/500\n",
      "287/287 [==============================] - 5s 19ms/step - loss: 0.0374 - accuracy: 0.9886 - val_loss: 0.3135 - val_accuracy: 0.9392\n",
      "Epoch 112/500\n",
      "287/287 [==============================] - 6s 19ms/step - loss: 0.0369 - accuracy: 0.9880 - val_loss: 0.3421 - val_accuracy: 0.9343\n",
      "Epoch 113/500\n",
      "287/287 [==============================] - 5s 19ms/step - loss: 0.0355 - accuracy: 0.9891 - val_loss: 0.3408 - val_accuracy: 0.9356\n",
      "Epoch 114/500\n",
      "287/287 [==============================] - 6s 20ms/step - loss: 0.0365 - accuracy: 0.9881 - val_loss: 0.3184 - val_accuracy: 0.9382\n",
      "Epoch 115/500\n",
      "287/287 [==============================] - 5s 19ms/step - loss: 0.0360 - accuracy: 0.9888 - val_loss: 0.3300 - val_accuracy: 0.9385\n",
      "Epoch 116/500\n",
      "287/287 [==============================] - 6s 19ms/step - loss: 0.0359 - accuracy: 0.9880 - val_loss: 0.3173 - val_accuracy: 0.9386\n",
      "Epoch 117/500\n",
      "287/287 [==============================] - 5s 19ms/step - loss: 0.0370 - accuracy: 0.9886 - val_loss: 0.3113 - val_accuracy: 0.9383\n",
      "Epoch 118/500\n",
      "287/287 [==============================] - 6s 19ms/step - loss: 0.0378 - accuracy: 0.9872 - val_loss: 0.3091 - val_accuracy: 0.9401\n",
      "Epoch 119/500\n",
      "287/287 [==============================] - 6s 19ms/step - loss: 0.0329 - accuracy: 0.9887 - val_loss: 0.3110 - val_accuracy: 0.9401\n",
      "Epoch 120/500\n",
      "287/287 [==============================] - 6s 20ms/step - loss: 0.0352 - accuracy: 0.9897 - val_loss: 0.3320 - val_accuracy: 0.9375\n",
      "Epoch 121/500\n",
      "287/287 [==============================] - 5s 19ms/step - loss: 0.0360 - accuracy: 0.9886 - val_loss: 0.3278 - val_accuracy: 0.9367\n",
      "Epoch 122/500\n",
      "287/287 [==============================] - 6s 19ms/step - loss: 0.0368 - accuracy: 0.9890 - val_loss: 0.3129 - val_accuracy: 0.9379\n",
      "Epoch 123/500\n",
      "287/287 [==============================] - 5s 19ms/step - loss: 0.0339 - accuracy: 0.9903 - val_loss: 0.3257 - val_accuracy: 0.9394\n",
      "Epoch 124/500\n",
      "287/287 [==============================] - 6s 19ms/step - loss: 0.0349 - accuracy: 0.9893 - val_loss: 0.3313 - val_accuracy: 0.9373\n",
      "Epoch 125/500\n",
      "287/287 [==============================] - 6s 19ms/step - loss: 0.0339 - accuracy: 0.9901 - val_loss: 0.3348 - val_accuracy: 0.9382\n",
      "Epoch 126/500\n",
      "287/287 [==============================] - 6s 19ms/step - loss: 0.0323 - accuracy: 0.9899 - val_loss: 0.3215 - val_accuracy: 0.9396\n",
      "Epoch 127/500\n",
      "287/287 [==============================] - 5s 19ms/step - loss: 0.0354 - accuracy: 0.9894 - val_loss: 0.3289 - val_accuracy: 0.9374\n",
      "Epoch 128/500\n",
      "287/287 [==============================] - 6s 19ms/step - loss: 0.0336 - accuracy: 0.9885 - val_loss: 0.3494 - val_accuracy: 0.9365\n",
      "Epoch 129/500\n",
      "287/287 [==============================] - 5s 19ms/step - loss: 0.0330 - accuracy: 0.9890 - val_loss: 0.3325 - val_accuracy: 0.9368\n",
      "Epoch 130/500\n",
      "287/287 [==============================] - 6s 19ms/step - loss: 0.0326 - accuracy: 0.9902 - val_loss: 0.3470 - val_accuracy: 0.9354\n",
      "Epoch 131/500\n",
      "287/287 [==============================] - 6s 20ms/step - loss: 0.0334 - accuracy: 0.9889 - val_loss: 0.3332 - val_accuracy: 0.9383\n",
      "Epoch 132/500\n",
      "287/287 [==============================] - 5s 19ms/step - loss: 0.0343 - accuracy: 0.9898 - val_loss: 0.3370 - val_accuracy: 0.9338\n",
      "Epoch 133/500\n",
      "287/287 [==============================] - 6s 19ms/step - loss: 0.0364 - accuracy: 0.9885 - val_loss: 0.3222 - val_accuracy: 0.9406\n",
      "Epoch 134/500\n",
      "287/287 [==============================] - 6s 19ms/step - loss: 0.0314 - accuracy: 0.9890 - val_loss: 0.3223 - val_accuracy: 0.9394\n",
      "Epoch 135/500\n",
      "287/287 [==============================] - 6s 19ms/step - loss: 0.0313 - accuracy: 0.9894 - val_loss: 0.3461 - val_accuracy: 0.9343\n",
      "Epoch 136/500\n",
      "287/287 [==============================] - 5s 19ms/step - loss: 0.0326 - accuracy: 0.9901 - val_loss: 0.3278 - val_accuracy: 0.9389\n",
      "Epoch 137/500\n",
      "287/287 [==============================] - 6s 20ms/step - loss: 0.0323 - accuracy: 0.9894 - val_loss: 0.3293 - val_accuracy: 0.9389\n",
      "Epoch 138/500\n",
      "287/287 [==============================] - 6s 19ms/step - loss: 0.0302 - accuracy: 0.9901 - val_loss: 0.3379 - val_accuracy: 0.9381\n",
      "Epoch 139/500\n",
      "287/287 [==============================] - 6s 19ms/step - loss: 0.0290 - accuracy: 0.9904 - val_loss: 0.3546 - val_accuracy: 0.9350\n",
      "Epoch 140/500\n",
      "287/287 [==============================] - 5s 19ms/step - loss: 0.0314 - accuracy: 0.9899 - val_loss: 0.3596 - val_accuracy: 0.9383\n",
      "Epoch 141/500\n",
      "287/287 [==============================] - 6s 19ms/step - loss: 0.0368 - accuracy: 0.9883 - val_loss: 0.3254 - val_accuracy: 0.9405\n",
      "Epoch 142/500\n",
      "287/287 [==============================] - 5s 19ms/step - loss: 0.0368 - accuracy: 0.9891 - val_loss: 0.3626 - val_accuracy: 0.9364\n",
      "Epoch 143/500\n",
      "287/287 [==============================] - 6s 20ms/step - loss: 0.0310 - accuracy: 0.9905 - val_loss: 0.3336 - val_accuracy: 0.9371\n",
      "Epoch 144/500\n",
      "287/287 [==============================] - 5s 19ms/step - loss: 0.0305 - accuracy: 0.9911 - val_loss: 0.3406 - val_accuracy: 0.9392\n",
      "Epoch 145/500\n",
      "287/287 [==============================] - 6s 19ms/step - loss: 0.0303 - accuracy: 0.9898 - val_loss: 0.3323 - val_accuracy: 0.9404\n",
      "Epoch 146/500\n",
      "287/287 [==============================] - 5s 19ms/step - loss: 0.0324 - accuracy: 0.9900 - val_loss: 0.3696 - val_accuracy: 0.9369\n",
      "Epoch 147/500\n",
      "287/287 [==============================] - 6s 19ms/step - loss: 0.0289 - accuracy: 0.9907 - val_loss: 0.3489 - val_accuracy: 0.9369\n",
      "Epoch 148/500\n",
      "287/287 [==============================] - 5s 19ms/step - loss: 0.0311 - accuracy: 0.9898 - val_loss: 0.3308 - val_accuracy: 0.9407\n",
      "Epoch 149/500\n",
      "287/287 [==============================] - 6s 20ms/step - loss: 0.0332 - accuracy: 0.9893 - val_loss: 0.3295 - val_accuracy: 0.9384\n",
      "Epoch 150/500\n",
      "287/287 [==============================] - 5s 19ms/step - loss: 0.0317 - accuracy: 0.9901 - val_loss: 0.3393 - val_accuracy: 0.9362\n",
      "Epoch 151/500\n",
      "287/287 [==============================] - 6s 19ms/step - loss: 0.0356 - accuracy: 0.9889 - val_loss: 0.3557 - val_accuracy: 0.9397\n",
      "Epoch 152/500\n",
      "287/287 [==============================] - 5s 19ms/step - loss: 0.0293 - accuracy: 0.9897 - val_loss: 0.3237 - val_accuracy: 0.9396\n",
      "Epoch 153/500\n",
      "287/287 [==============================] - 6s 19ms/step - loss: 0.0279 - accuracy: 0.9906 - val_loss: 0.3491 - val_accuracy: 0.9374\n",
      "Epoch 154/500\n",
      "287/287 [==============================] - 5s 19ms/step - loss: 0.0300 - accuracy: 0.9909 - val_loss: 0.3406 - val_accuracy: 0.9401\n",
      "Epoch 155/500\n",
      "287/287 [==============================] - 6s 20ms/step - loss: 0.0302 - accuracy: 0.9899 - val_loss: 0.3646 - val_accuracy: 0.9346\n",
      "Epoch 156/500\n",
      "287/287 [==============================] - 5s 19ms/step - loss: 0.0302 - accuracy: 0.9906 - val_loss: 0.3457 - val_accuracy: 0.9389\n",
      "Epoch 157/500\n",
      "287/287 [==============================] - 6s 19ms/step - loss: 0.0292 - accuracy: 0.9905 - val_loss: 0.3487 - val_accuracy: 0.9385\n",
      "Epoch 158/500\n",
      "287/287 [==============================] - 5s 19ms/step - loss: 0.0289 - accuracy: 0.9907 - val_loss: 0.3529 - val_accuracy: 0.9379\n",
      "Epoch 159/500\n",
      " 94/287 [========>.....................] - ETA: 3s - loss: 0.0369 - accuracy: 0.9908"
     ]
    },
    {
     "ename": "KeyboardInterrupt",
     "evalue": "",
     "output_type": "error",
     "traceback": [
      "\u001b[0;31m---------------------------------------------------------------------------\u001b[0m",
      "\u001b[0;31mKeyboardInterrupt\u001b[0m                         Traceback (most recent call last)",
      "\u001b[0;32m<ipython-input-187-e402c92d5ef4>\u001b[0m in \u001b[0;36m<module>\u001b[0;34m\u001b[0m\n\u001b[0;32m----> 1\u001b[0;31m \u001b[0mH\u001b[0m \u001b[0;34m=\u001b[0m \u001b[0mmodel\u001b[0m\u001b[0;34m.\u001b[0m\u001b[0mfit\u001b[0m\u001b[0;34m(\u001b[0m\u001b[0;34m[\u001b[0m\u001b[0mm_train\u001b[0m\u001b[0;34m,\u001b[0m \u001b[0mc_train\u001b[0m\u001b[0;34m]\u001b[0m\u001b[0;34m,\u001b[0m \u001b[0my_train\u001b[0m\u001b[0;34m,\u001b[0m \u001b[0mbatch_size\u001b[0m\u001b[0;34m=\u001b[0m\u001b[0;36m128\u001b[0m\u001b[0;34m,\u001b[0m \u001b[0mepochs\u001b[0m\u001b[0;34m=\u001b[0m\u001b[0;36m500\u001b[0m\u001b[0;34m,\u001b[0m \u001b[0mvalidation_split\u001b[0m\u001b[0;34m=\u001b[0m\u001b[0;36m0.25\u001b[0m\u001b[0;34m,\u001b[0m \u001b[0mshuffle\u001b[0m\u001b[0;34m=\u001b[0m\u001b[0;32mTrue\u001b[0m\u001b[0;34m,\u001b[0m \u001b[0mcallbacks\u001b[0m\u001b[0;34m=\u001b[0m\u001b[0;34m[\u001b[0m\u001b[0mmodel_checkpoint_callback\u001b[0m\u001b[0;34m]\u001b[0m\u001b[0;34m)\u001b[0m\u001b[0;34m\u001b[0m\u001b[0;34m\u001b[0m\u001b[0m\n\u001b[0m",
      "\u001b[0;32m/opt/conda/lib/python3.7/site-packages/tensorflow/python/keras/engine/training.py\u001b[0m in \u001b[0;36mfit\u001b[0;34m(self, x, y, batch_size, epochs, verbose, callbacks, validation_split, validation_data, shuffle, class_weight, sample_weight, initial_epoch, steps_per_epoch, validation_steps, validation_batch_size, validation_freq, max_queue_size, workers, use_multiprocessing)\u001b[0m\n\u001b[1;32m   1103\u001b[0m               \u001b[0mlogs\u001b[0m \u001b[0;34m=\u001b[0m \u001b[0mtmp_logs\u001b[0m  \u001b[0;31m# No error, now safe to assign to logs.\u001b[0m\u001b[0;34m\u001b[0m\u001b[0;34m\u001b[0m\u001b[0m\n\u001b[1;32m   1104\u001b[0m               \u001b[0mend_step\u001b[0m \u001b[0;34m=\u001b[0m \u001b[0mstep\u001b[0m \u001b[0;34m+\u001b[0m \u001b[0mdata_handler\u001b[0m\u001b[0;34m.\u001b[0m\u001b[0mstep_increment\u001b[0m\u001b[0;34m\u001b[0m\u001b[0;34m\u001b[0m\u001b[0m\n\u001b[0;32m-> 1105\u001b[0;31m               \u001b[0mcallbacks\u001b[0m\u001b[0;34m.\u001b[0m\u001b[0mon_train_batch_end\u001b[0m\u001b[0;34m(\u001b[0m\u001b[0mend_step\u001b[0m\u001b[0;34m,\u001b[0m \u001b[0mlogs\u001b[0m\u001b[0;34m)\u001b[0m\u001b[0;34m\u001b[0m\u001b[0;34m\u001b[0m\u001b[0m\n\u001b[0m\u001b[1;32m   1106\u001b[0m               \u001b[0;32mif\u001b[0m \u001b[0mself\u001b[0m\u001b[0;34m.\u001b[0m\u001b[0mstop_training\u001b[0m\u001b[0;34m:\u001b[0m\u001b[0;34m\u001b[0m\u001b[0;34m\u001b[0m\u001b[0m\n\u001b[1;32m   1107\u001b[0m                 \u001b[0;32mbreak\u001b[0m\u001b[0;34m\u001b[0m\u001b[0;34m\u001b[0m\u001b[0m\n",
      "\u001b[0;32m/opt/conda/lib/python3.7/site-packages/tensorflow/python/keras/callbacks.py\u001b[0m in \u001b[0;36mon_train_batch_end\u001b[0;34m(self, batch, logs)\u001b[0m\n\u001b[1;32m    452\u001b[0m     \"\"\"\n\u001b[1;32m    453\u001b[0m     \u001b[0;32mif\u001b[0m \u001b[0mself\u001b[0m\u001b[0;34m.\u001b[0m\u001b[0m_should_call_train_batch_hooks\u001b[0m\u001b[0;34m:\u001b[0m\u001b[0;34m\u001b[0m\u001b[0;34m\u001b[0m\u001b[0m\n\u001b[0;32m--> 454\u001b[0;31m       \u001b[0mself\u001b[0m\u001b[0;34m.\u001b[0m\u001b[0m_call_batch_hook\u001b[0m\u001b[0;34m(\u001b[0m\u001b[0mModeKeys\u001b[0m\u001b[0;34m.\u001b[0m\u001b[0mTRAIN\u001b[0m\u001b[0;34m,\u001b[0m \u001b[0;34m'end'\u001b[0m\u001b[0;34m,\u001b[0m \u001b[0mbatch\u001b[0m\u001b[0;34m,\u001b[0m \u001b[0mlogs\u001b[0m\u001b[0;34m=\u001b[0m\u001b[0mlogs\u001b[0m\u001b[0;34m)\u001b[0m\u001b[0;34m\u001b[0m\u001b[0;34m\u001b[0m\u001b[0m\n\u001b[0m\u001b[1;32m    455\u001b[0m \u001b[0;34m\u001b[0m\u001b[0m\n\u001b[1;32m    456\u001b[0m   \u001b[0;32mdef\u001b[0m \u001b[0mon_test_batch_begin\u001b[0m\u001b[0;34m(\u001b[0m\u001b[0mself\u001b[0m\u001b[0;34m,\u001b[0m \u001b[0mbatch\u001b[0m\u001b[0;34m,\u001b[0m \u001b[0mlogs\u001b[0m\u001b[0;34m=\u001b[0m\u001b[0;32mNone\u001b[0m\u001b[0;34m)\u001b[0m\u001b[0;34m:\u001b[0m\u001b[0;34m\u001b[0m\u001b[0;34m\u001b[0m\u001b[0m\n",
      "\u001b[0;32m/opt/conda/lib/python3.7/site-packages/tensorflow/python/keras/callbacks.py\u001b[0m in \u001b[0;36m_call_batch_hook\u001b[0;34m(self, mode, hook, batch, logs)\u001b[0m\n\u001b[1;32m    294\u001b[0m       \u001b[0mself\u001b[0m\u001b[0;34m.\u001b[0m\u001b[0m_call_batch_begin_hook\u001b[0m\u001b[0;34m(\u001b[0m\u001b[0mmode\u001b[0m\u001b[0;34m,\u001b[0m \u001b[0mbatch\u001b[0m\u001b[0;34m,\u001b[0m \u001b[0mlogs\u001b[0m\u001b[0;34m)\u001b[0m\u001b[0;34m\u001b[0m\u001b[0;34m\u001b[0m\u001b[0m\n\u001b[1;32m    295\u001b[0m     \u001b[0;32melif\u001b[0m \u001b[0mhook\u001b[0m \u001b[0;34m==\u001b[0m \u001b[0;34m'end'\u001b[0m\u001b[0;34m:\u001b[0m\u001b[0;34m\u001b[0m\u001b[0;34m\u001b[0m\u001b[0m\n\u001b[0;32m--> 296\u001b[0;31m       \u001b[0mself\u001b[0m\u001b[0;34m.\u001b[0m\u001b[0m_call_batch_end_hook\u001b[0m\u001b[0;34m(\u001b[0m\u001b[0mmode\u001b[0m\u001b[0;34m,\u001b[0m \u001b[0mbatch\u001b[0m\u001b[0;34m,\u001b[0m \u001b[0mlogs\u001b[0m\u001b[0;34m)\u001b[0m\u001b[0;34m\u001b[0m\u001b[0;34m\u001b[0m\u001b[0m\n\u001b[0m\u001b[1;32m    297\u001b[0m     \u001b[0;32melse\u001b[0m\u001b[0;34m:\u001b[0m\u001b[0;34m\u001b[0m\u001b[0;34m\u001b[0m\u001b[0m\n\u001b[1;32m    298\u001b[0m       \u001b[0;32mraise\u001b[0m \u001b[0mValueError\u001b[0m\u001b[0;34m(\u001b[0m\u001b[0;34m'Unrecognized hook: {}'\u001b[0m\u001b[0;34m.\u001b[0m\u001b[0mformat\u001b[0m\u001b[0;34m(\u001b[0m\u001b[0mhook\u001b[0m\u001b[0;34m)\u001b[0m\u001b[0;34m)\u001b[0m\u001b[0;34m\u001b[0m\u001b[0;34m\u001b[0m\u001b[0m\n",
      "\u001b[0;32m/opt/conda/lib/python3.7/site-packages/tensorflow/python/keras/callbacks.py\u001b[0m in \u001b[0;36m_call_batch_end_hook\u001b[0;34m(self, mode, batch, logs)\u001b[0m\n\u001b[1;32m    314\u001b[0m       \u001b[0mself\u001b[0m\u001b[0;34m.\u001b[0m\u001b[0m_batch_times\u001b[0m\u001b[0;34m.\u001b[0m\u001b[0mappend\u001b[0m\u001b[0;34m(\u001b[0m\u001b[0mbatch_time\u001b[0m\u001b[0;34m)\u001b[0m\u001b[0;34m\u001b[0m\u001b[0;34m\u001b[0m\u001b[0m\n\u001b[1;32m    315\u001b[0m \u001b[0;34m\u001b[0m\u001b[0m\n\u001b[0;32m--> 316\u001b[0;31m     \u001b[0mself\u001b[0m\u001b[0;34m.\u001b[0m\u001b[0m_call_batch_hook_helper\u001b[0m\u001b[0;34m(\u001b[0m\u001b[0mhook_name\u001b[0m\u001b[0;34m,\u001b[0m \u001b[0mbatch\u001b[0m\u001b[0;34m,\u001b[0m \u001b[0mlogs\u001b[0m\u001b[0;34m)\u001b[0m\u001b[0;34m\u001b[0m\u001b[0;34m\u001b[0m\u001b[0m\n\u001b[0m\u001b[1;32m    317\u001b[0m \u001b[0;34m\u001b[0m\u001b[0m\n\u001b[1;32m    318\u001b[0m     \u001b[0;32mif\u001b[0m \u001b[0mlen\u001b[0m\u001b[0;34m(\u001b[0m\u001b[0mself\u001b[0m\u001b[0;34m.\u001b[0m\u001b[0m_batch_times\u001b[0m\u001b[0;34m)\u001b[0m \u001b[0;34m>=\u001b[0m \u001b[0mself\u001b[0m\u001b[0;34m.\u001b[0m\u001b[0m_num_batches_for_timing_check\u001b[0m\u001b[0;34m:\u001b[0m\u001b[0;34m\u001b[0m\u001b[0;34m\u001b[0m\u001b[0m\n",
      "\u001b[0;32m/opt/conda/lib/python3.7/site-packages/tensorflow/python/keras/callbacks.py\u001b[0m in \u001b[0;36m_call_batch_hook_helper\u001b[0;34m(self, hook_name, batch, logs)\u001b[0m\n\u001b[1;32m    354\u001b[0m       \u001b[0mhook\u001b[0m \u001b[0;34m=\u001b[0m \u001b[0mgetattr\u001b[0m\u001b[0;34m(\u001b[0m\u001b[0mcallback\u001b[0m\u001b[0;34m,\u001b[0m \u001b[0mhook_name\u001b[0m\u001b[0;34m)\u001b[0m\u001b[0;34m\u001b[0m\u001b[0;34m\u001b[0m\u001b[0m\n\u001b[1;32m    355\u001b[0m       \u001b[0;32mif\u001b[0m \u001b[0mgetattr\u001b[0m\u001b[0;34m(\u001b[0m\u001b[0mcallback\u001b[0m\u001b[0;34m,\u001b[0m \u001b[0;34m'_supports_tf_logs'\u001b[0m\u001b[0;34m,\u001b[0m \u001b[0;32mFalse\u001b[0m\u001b[0;34m)\u001b[0m\u001b[0;34m:\u001b[0m\u001b[0;34m\u001b[0m\u001b[0;34m\u001b[0m\u001b[0m\n\u001b[0;32m--> 356\u001b[0;31m         \u001b[0mhook\u001b[0m\u001b[0;34m(\u001b[0m\u001b[0mbatch\u001b[0m\u001b[0;34m,\u001b[0m \u001b[0mlogs\u001b[0m\u001b[0;34m)\u001b[0m\u001b[0;34m\u001b[0m\u001b[0;34m\u001b[0m\u001b[0m\n\u001b[0m\u001b[1;32m    357\u001b[0m       \u001b[0;32melse\u001b[0m\u001b[0;34m:\u001b[0m\u001b[0;34m\u001b[0m\u001b[0;34m\u001b[0m\u001b[0m\n\u001b[1;32m    358\u001b[0m         \u001b[0;32mif\u001b[0m \u001b[0mnumpy_logs\u001b[0m \u001b[0;32mis\u001b[0m \u001b[0;32mNone\u001b[0m\u001b[0;34m:\u001b[0m  \u001b[0;31m# Only convert once.\u001b[0m\u001b[0;34m\u001b[0m\u001b[0;34m\u001b[0m\u001b[0m\n",
      "\u001b[0;32m/opt/conda/lib/python3.7/site-packages/tensorflow/python/keras/callbacks.py\u001b[0m in \u001b[0;36mon_train_batch_end\u001b[0;34m(self, batch, logs)\u001b[0m\n\u001b[1;32m   1018\u001b[0m \u001b[0;34m\u001b[0m\u001b[0m\n\u001b[1;32m   1019\u001b[0m   \u001b[0;32mdef\u001b[0m \u001b[0mon_train_batch_end\u001b[0m\u001b[0;34m(\u001b[0m\u001b[0mself\u001b[0m\u001b[0;34m,\u001b[0m \u001b[0mbatch\u001b[0m\u001b[0;34m,\u001b[0m \u001b[0mlogs\u001b[0m\u001b[0;34m=\u001b[0m\u001b[0;32mNone\u001b[0m\u001b[0;34m)\u001b[0m\u001b[0;34m:\u001b[0m\u001b[0;34m\u001b[0m\u001b[0;34m\u001b[0m\u001b[0m\n\u001b[0;32m-> 1020\u001b[0;31m     \u001b[0mself\u001b[0m\u001b[0;34m.\u001b[0m\u001b[0m_batch_update_progbar\u001b[0m\u001b[0;34m(\u001b[0m\u001b[0mbatch\u001b[0m\u001b[0;34m,\u001b[0m \u001b[0mlogs\u001b[0m\u001b[0;34m)\u001b[0m\u001b[0;34m\u001b[0m\u001b[0;34m\u001b[0m\u001b[0m\n\u001b[0m\u001b[1;32m   1021\u001b[0m \u001b[0;34m\u001b[0m\u001b[0m\n\u001b[1;32m   1022\u001b[0m   \u001b[0;32mdef\u001b[0m \u001b[0mon_test_batch_end\u001b[0m\u001b[0;34m(\u001b[0m\u001b[0mself\u001b[0m\u001b[0;34m,\u001b[0m \u001b[0mbatch\u001b[0m\u001b[0;34m,\u001b[0m \u001b[0mlogs\u001b[0m\u001b[0;34m=\u001b[0m\u001b[0;32mNone\u001b[0m\u001b[0;34m)\u001b[0m\u001b[0;34m:\u001b[0m\u001b[0;34m\u001b[0m\u001b[0;34m\u001b[0m\u001b[0m\n",
      "\u001b[0;32m/opt/conda/lib/python3.7/site-packages/tensorflow/python/keras/callbacks.py\u001b[0m in \u001b[0;36m_batch_update_progbar\u001b[0;34m(self, batch, logs)\u001b[0m\n\u001b[1;32m   1082\u001b[0m     \u001b[0;32mif\u001b[0m \u001b[0mself\u001b[0m\u001b[0;34m.\u001b[0m\u001b[0mverbose\u001b[0m \u001b[0;34m==\u001b[0m \u001b[0;36m1\u001b[0m\u001b[0;34m:\u001b[0m\u001b[0;34m\u001b[0m\u001b[0;34m\u001b[0m\u001b[0m\n\u001b[1;32m   1083\u001b[0m       \u001b[0;31m# Only block async when verbose = 1.\u001b[0m\u001b[0;34m\u001b[0m\u001b[0;34m\u001b[0m\u001b[0;34m\u001b[0m\u001b[0m\n\u001b[0;32m-> 1084\u001b[0;31m       \u001b[0mlogs\u001b[0m \u001b[0;34m=\u001b[0m \u001b[0mtf_utils\u001b[0m\u001b[0;34m.\u001b[0m\u001b[0mto_numpy_or_python_type\u001b[0m\u001b[0;34m(\u001b[0m\u001b[0mlogs\u001b[0m\u001b[0;34m)\u001b[0m\u001b[0;34m\u001b[0m\u001b[0;34m\u001b[0m\u001b[0m\n\u001b[0m\u001b[1;32m   1085\u001b[0m       \u001b[0mself\u001b[0m\u001b[0;34m.\u001b[0m\u001b[0mprogbar\u001b[0m\u001b[0;34m.\u001b[0m\u001b[0mupdate\u001b[0m\u001b[0;34m(\u001b[0m\u001b[0mself\u001b[0m\u001b[0;34m.\u001b[0m\u001b[0mseen\u001b[0m\u001b[0;34m,\u001b[0m \u001b[0mlist\u001b[0m\u001b[0;34m(\u001b[0m\u001b[0mlogs\u001b[0m\u001b[0;34m.\u001b[0m\u001b[0mitems\u001b[0m\u001b[0;34m(\u001b[0m\u001b[0;34m)\u001b[0m\u001b[0;34m)\u001b[0m\u001b[0;34m,\u001b[0m \u001b[0mfinalize\u001b[0m\u001b[0;34m=\u001b[0m\u001b[0;32mFalse\u001b[0m\u001b[0;34m)\u001b[0m\u001b[0;34m\u001b[0m\u001b[0;34m\u001b[0m\u001b[0m\n\u001b[1;32m   1086\u001b[0m \u001b[0;34m\u001b[0m\u001b[0m\n",
      "\u001b[0;32m/opt/conda/lib/python3.7/site-packages/tensorflow/python/keras/utils/tf_utils.py\u001b[0m in \u001b[0;36mto_numpy_or_python_type\u001b[0;34m(tensors)\u001b[0m\n\u001b[1;32m    512\u001b[0m     \u001b[0;32mreturn\u001b[0m \u001b[0mt\u001b[0m  \u001b[0;31m# Don't turn ragged or sparse tensors to NumPy.\u001b[0m\u001b[0;34m\u001b[0m\u001b[0;34m\u001b[0m\u001b[0m\n\u001b[1;32m    513\u001b[0m \u001b[0;34m\u001b[0m\u001b[0m\n\u001b[0;32m--> 514\u001b[0;31m   \u001b[0;32mreturn\u001b[0m \u001b[0mnest\u001b[0m\u001b[0;34m.\u001b[0m\u001b[0mmap_structure\u001b[0m\u001b[0;34m(\u001b[0m\u001b[0m_to_single_numpy_or_python_type\u001b[0m\u001b[0;34m,\u001b[0m \u001b[0mtensors\u001b[0m\u001b[0;34m)\u001b[0m\u001b[0;34m\u001b[0m\u001b[0;34m\u001b[0m\u001b[0m\n\u001b[0m\u001b[1;32m    515\u001b[0m \u001b[0;34m\u001b[0m\u001b[0m\n\u001b[1;32m    516\u001b[0m \u001b[0;34m\u001b[0m\u001b[0m\n",
      "\u001b[0;32m/opt/conda/lib/python3.7/site-packages/tensorflow/python/util/nest.py\u001b[0m in \u001b[0;36mmap_structure\u001b[0;34m(func, *structure, **kwargs)\u001b[0m\n\u001b[1;32m    657\u001b[0m \u001b[0;34m\u001b[0m\u001b[0m\n\u001b[1;32m    658\u001b[0m   return pack_sequence_as(\n\u001b[0;32m--> 659\u001b[0;31m       \u001b[0mstructure\u001b[0m\u001b[0;34m[\u001b[0m\u001b[0;36m0\u001b[0m\u001b[0;34m]\u001b[0m\u001b[0;34m,\u001b[0m \u001b[0;34m[\u001b[0m\u001b[0mfunc\u001b[0m\u001b[0;34m(\u001b[0m\u001b[0;34m*\u001b[0m\u001b[0mx\u001b[0m\u001b[0;34m)\u001b[0m \u001b[0;32mfor\u001b[0m \u001b[0mx\u001b[0m \u001b[0;32min\u001b[0m \u001b[0mentries\u001b[0m\u001b[0;34m]\u001b[0m\u001b[0;34m,\u001b[0m\u001b[0;34m\u001b[0m\u001b[0;34m\u001b[0m\u001b[0m\n\u001b[0m\u001b[1;32m    660\u001b[0m       expand_composites=expand_composites)\n\u001b[1;32m    661\u001b[0m \u001b[0;34m\u001b[0m\u001b[0m\n",
      "\u001b[0;32m/opt/conda/lib/python3.7/site-packages/tensorflow/python/util/nest.py\u001b[0m in \u001b[0;36m<listcomp>\u001b[0;34m(.0)\u001b[0m\n\u001b[1;32m    657\u001b[0m \u001b[0;34m\u001b[0m\u001b[0m\n\u001b[1;32m    658\u001b[0m   return pack_sequence_as(\n\u001b[0;32m--> 659\u001b[0;31m       \u001b[0mstructure\u001b[0m\u001b[0;34m[\u001b[0m\u001b[0;36m0\u001b[0m\u001b[0;34m]\u001b[0m\u001b[0;34m,\u001b[0m \u001b[0;34m[\u001b[0m\u001b[0mfunc\u001b[0m\u001b[0;34m(\u001b[0m\u001b[0;34m*\u001b[0m\u001b[0mx\u001b[0m\u001b[0;34m)\u001b[0m \u001b[0;32mfor\u001b[0m \u001b[0mx\u001b[0m \u001b[0;32min\u001b[0m \u001b[0mentries\u001b[0m\u001b[0;34m]\u001b[0m\u001b[0;34m,\u001b[0m\u001b[0;34m\u001b[0m\u001b[0;34m\u001b[0m\u001b[0m\n\u001b[0m\u001b[1;32m    660\u001b[0m       expand_composites=expand_composites)\n\u001b[1;32m    661\u001b[0m \u001b[0;34m\u001b[0m\u001b[0m\n",
      "\u001b[0;32m/opt/conda/lib/python3.7/site-packages/tensorflow/python/keras/utils/tf_utils.py\u001b[0m in \u001b[0;36m_to_single_numpy_or_python_type\u001b[0;34m(t)\u001b[0m\n\u001b[1;32m    508\u001b[0m   \u001b[0;32mdef\u001b[0m \u001b[0m_to_single_numpy_or_python_type\u001b[0m\u001b[0;34m(\u001b[0m\u001b[0mt\u001b[0m\u001b[0;34m)\u001b[0m\u001b[0;34m:\u001b[0m\u001b[0;34m\u001b[0m\u001b[0;34m\u001b[0m\u001b[0m\n\u001b[1;32m    509\u001b[0m     \u001b[0;32mif\u001b[0m \u001b[0misinstance\u001b[0m\u001b[0;34m(\u001b[0m\u001b[0mt\u001b[0m\u001b[0;34m,\u001b[0m \u001b[0mops\u001b[0m\u001b[0;34m.\u001b[0m\u001b[0mTensor\u001b[0m\u001b[0;34m)\u001b[0m\u001b[0;34m:\u001b[0m\u001b[0;34m\u001b[0m\u001b[0;34m\u001b[0m\u001b[0m\n\u001b[0;32m--> 510\u001b[0;31m       \u001b[0mx\u001b[0m \u001b[0;34m=\u001b[0m \u001b[0mt\u001b[0m\u001b[0;34m.\u001b[0m\u001b[0mnumpy\u001b[0m\u001b[0;34m(\u001b[0m\u001b[0;34m)\u001b[0m\u001b[0;34m\u001b[0m\u001b[0;34m\u001b[0m\u001b[0m\n\u001b[0m\u001b[1;32m    511\u001b[0m       \u001b[0;32mreturn\u001b[0m \u001b[0mx\u001b[0m\u001b[0;34m.\u001b[0m\u001b[0mitem\u001b[0m\u001b[0;34m(\u001b[0m\u001b[0;34m)\u001b[0m \u001b[0;32mif\u001b[0m \u001b[0mnp\u001b[0m\u001b[0;34m.\u001b[0m\u001b[0mndim\u001b[0m\u001b[0;34m(\u001b[0m\u001b[0mx\u001b[0m\u001b[0;34m)\u001b[0m \u001b[0;34m==\u001b[0m \u001b[0;36m0\u001b[0m \u001b[0;32melse\u001b[0m \u001b[0mx\u001b[0m\u001b[0;34m\u001b[0m\u001b[0;34m\u001b[0m\u001b[0m\n\u001b[1;32m    512\u001b[0m     \u001b[0;32mreturn\u001b[0m \u001b[0mt\u001b[0m  \u001b[0;31m# Don't turn ragged or sparse tensors to NumPy.\u001b[0m\u001b[0;34m\u001b[0m\u001b[0;34m\u001b[0m\u001b[0m\n",
      "\u001b[0;32m/opt/conda/lib/python3.7/site-packages/tensorflow/python/framework/ops.py\u001b[0m in \u001b[0;36mnumpy\u001b[0;34m(self)\u001b[0m\n\u001b[1;32m   1069\u001b[0m     \"\"\"\n\u001b[1;32m   1070\u001b[0m     \u001b[0;31m# TODO(slebedev): Consider avoiding a copy for non-CPU or remote tensors.\u001b[0m\u001b[0;34m\u001b[0m\u001b[0;34m\u001b[0m\u001b[0;34m\u001b[0m\u001b[0m\n\u001b[0;32m-> 1071\u001b[0;31m     \u001b[0mmaybe_arr\u001b[0m \u001b[0;34m=\u001b[0m \u001b[0mself\u001b[0m\u001b[0;34m.\u001b[0m\u001b[0m_numpy\u001b[0m\u001b[0;34m(\u001b[0m\u001b[0;34m)\u001b[0m  \u001b[0;31m# pylint: disable=protected-access\u001b[0m\u001b[0;34m\u001b[0m\u001b[0;34m\u001b[0m\u001b[0m\n\u001b[0m\u001b[1;32m   1072\u001b[0m     \u001b[0;32mreturn\u001b[0m \u001b[0mmaybe_arr\u001b[0m\u001b[0;34m.\u001b[0m\u001b[0mcopy\u001b[0m\u001b[0;34m(\u001b[0m\u001b[0;34m)\u001b[0m \u001b[0;32mif\u001b[0m \u001b[0misinstance\u001b[0m\u001b[0;34m(\u001b[0m\u001b[0mmaybe_arr\u001b[0m\u001b[0;34m,\u001b[0m \u001b[0mnp\u001b[0m\u001b[0;34m.\u001b[0m\u001b[0mndarray\u001b[0m\u001b[0;34m)\u001b[0m \u001b[0;32melse\u001b[0m \u001b[0mmaybe_arr\u001b[0m\u001b[0;34m\u001b[0m\u001b[0;34m\u001b[0m\u001b[0m\n\u001b[1;32m   1073\u001b[0m \u001b[0;34m\u001b[0m\u001b[0m\n",
      "\u001b[0;32m/opt/conda/lib/python3.7/site-packages/tensorflow/python/framework/ops.py\u001b[0m in \u001b[0;36m_numpy\u001b[0;34m(self)\u001b[0m\n\u001b[1;32m   1035\u001b[0m   \u001b[0;32mdef\u001b[0m \u001b[0m_numpy\u001b[0m\u001b[0;34m(\u001b[0m\u001b[0mself\u001b[0m\u001b[0;34m)\u001b[0m\u001b[0;34m:\u001b[0m\u001b[0;34m\u001b[0m\u001b[0;34m\u001b[0m\u001b[0m\n\u001b[1;32m   1036\u001b[0m     \u001b[0;32mtry\u001b[0m\u001b[0;34m:\u001b[0m\u001b[0;34m\u001b[0m\u001b[0;34m\u001b[0m\u001b[0m\n\u001b[0;32m-> 1037\u001b[0;31m       \u001b[0;32mreturn\u001b[0m \u001b[0mself\u001b[0m\u001b[0;34m.\u001b[0m\u001b[0m_numpy_internal\u001b[0m\u001b[0;34m(\u001b[0m\u001b[0;34m)\u001b[0m\u001b[0;34m\u001b[0m\u001b[0;34m\u001b[0m\u001b[0m\n\u001b[0m\u001b[1;32m   1038\u001b[0m     \u001b[0;32mexcept\u001b[0m \u001b[0mcore\u001b[0m\u001b[0;34m.\u001b[0m\u001b[0m_NotOkStatusException\u001b[0m \u001b[0;32mas\u001b[0m \u001b[0me\u001b[0m\u001b[0;34m:\u001b[0m  \u001b[0;31m# pylint: disable=protected-access\u001b[0m\u001b[0;34m\u001b[0m\u001b[0;34m\u001b[0m\u001b[0m\n\u001b[1;32m   1039\u001b[0m       \u001b[0msix\u001b[0m\u001b[0;34m.\u001b[0m\u001b[0mraise_from\u001b[0m\u001b[0;34m(\u001b[0m\u001b[0mcore\u001b[0m\u001b[0;34m.\u001b[0m\u001b[0m_status_to_exception\u001b[0m\u001b[0;34m(\u001b[0m\u001b[0me\u001b[0m\u001b[0;34m.\u001b[0m\u001b[0mcode\u001b[0m\u001b[0;34m,\u001b[0m \u001b[0me\u001b[0m\u001b[0;34m.\u001b[0m\u001b[0mmessage\u001b[0m\u001b[0;34m)\u001b[0m\u001b[0;34m,\u001b[0m \u001b[0;32mNone\u001b[0m\u001b[0;34m)\u001b[0m  \u001b[0;31m# pylint: disable=protected-access\u001b[0m\u001b[0;34m\u001b[0m\u001b[0;34m\u001b[0m\u001b[0m\n",
      "\u001b[0;31mKeyboardInterrupt\u001b[0m: "
     ]
    }
   ],
   "source": [
    "H = model.fit([m_train, c_train], y_train, batch_size=128, epochs=500, validation_split=0.25, shuffle=True, callbacks=[model_checkpoint_callback])"
   ]
  },
  {
   "cell_type": "markdown",
   "metadata": {},
   "source": [
    "Plot of the train history (X-axis: <i>EPOCHS</i>, Y-axis: <i>ACCURACY</i>)"
   ]
  },
  {
   "cell_type": "code",
   "execution_count": null,
   "metadata": {},
   "outputs": [],
   "source": [
    "plt.plot(H.history[\"accuracy\"])\n",
    "plt.plot(H.history[\"val_accuracy\"])"
   ]
  },
  {
   "cell_type": "markdown",
   "metadata": {},
   "source": [
    "Load the best weights and evaluate the model"
   ]
  },
  {
   "cell_type": "code",
   "execution_count": 188,
   "metadata": {},
   "outputs": [
    {
     "name": "stdout",
     "output_type": "stream",
     "text": [
      "1527/1527 [==============================] - 5s 3ms/step - loss: 0.0751 - accuracy: 0.9853\n",
      "Train Accuracy 0.9852790832519531\n",
      "509/509 [==============================] - 2s 4ms/step - loss: 0.3277 - accuracy: 0.9384\n",
      "Test Accuracy 0.9383944272994995\n"
     ]
    }
   ],
   "source": [
    "model.load_weights(\"weights_mfcc_Conv2D/\")\n",
    "print(\"Train Accuracy\", model.evaluate([m_train, c_train], y_train)[1])\n",
    "print(\"Test Accuracy\", model.evaluate([m_test, c_test], y_test)[1])"
   ]
  },
  {
   "cell_type": "markdown",
   "metadata": {},
   "source": [
    "Save the model weights in a zip file (for downloading from server)"
   ]
  },
  {
   "cell_type": "code",
   "execution_count": 190,
   "metadata": {},
   "outputs": [
    {
     "name": "stdout",
     "output_type": "stream",
     "text": [
      "updating: weights_mfcc_Conv2D/ (stored 0%)\n",
      "updating: weights_mfcc_Conv2D/.index (deflated 76%)\n",
      "updating: weights_mfcc_Conv2D/checkpoint (deflated 34%)\n",
      "updating: weights_mfcc_Conv2D/.data-00000-of-00001 (deflated 8%)\n"
     ]
    }
   ],
   "source": [
    "!zip -r 'weights_mfcc_Conv2D.zip' 'weights_mfcc_Conv2D/'"
   ]
  },
  {
   "cell_type": "markdown",
   "metadata": {},
   "source": [
    "### Create Test-Dataset\n"
   ]
  },
  {
   "cell_type": "code",
   "execution_count": 191,
   "metadata": {},
   "outputs": [],
   "source": [
    "TEST_DIR = './test/audio'"
   ]
  },
  {
   "cell_type": "code",
   "execution_count": 196,
   "metadata": {},
   "outputs": [],
   "source": [
    "filenames = os.listdir(TEST_DIR)\n",
    "M_Test = []\n",
    "C_Test = []\n",
    "for filename in filenames:\n",
    "    if \".wav\" not in filename:\n",
    "        continue\n",
    "    sr, audio = wav.read(os.path.join(TEST_DIR, filename))\n",
    "    audio = audio.astype('float')\n",
    "    a = librosa.feature.mfcc(y = audio, sr=sr, n_mfcc=32)\n",
    "    a = np.pad(a, ((0, 0), (0, 32-a.shape[1])), mode=\"constant\", constant_values=0)\n",
    "    M_Test.append(a)\n",
    "    a = librosa.feature.chroma_stft(y = audio, sr=sr, n_chroma=32)\n",
    "    a = np.pad(a, ((0, 0), (0, 32-a.shape[1])), mode=\"constant\", constant_values=0)\n",
    "    C_Test.append(a)"
   ]
  },
  {
   "cell_type": "code",
   "execution_count": 197,
   "metadata": {},
   "outputs": [
    {
     "data": {
      "text/plain": [
       "((158538, 32, 32, 1), (158538, 32, 32, 1))"
      ]
     },
     "execution_count": 197,
     "metadata": {},
     "output_type": "execute_result"
    }
   ],
   "source": [
    "M_Test = np.asarray(M_Test)\n",
    "M_Test = np.expand_dims(M_Test, -1)\n",
    "\n",
    "C_Test = np.asarray(C_Test)\n",
    "C_Test = np.expand_dims(C_Test, -1)\n",
    "M_Test.shape, C_Test.shape"
   ]
  },
  {
   "cell_type": "markdown",
   "metadata": {},
   "source": [
    "### Load weights and predict class labels for test set provided for the challenge"
   ]
  },
  {
   "cell_type": "code",
   "execution_count": null,
   "metadata": {},
   "outputs": [],
   "source": [
    "checkpoint_filepath = \"weights_mfcc_Conv2D/\"\n",
    "model = Model(X_Test[0].shape)\n",
    "model.compile(loss=\"sparse_categorical_crossentropy\", metrics=[\"accuracy\"])\n",
    "model.load_weights(checkpoint_filepath)"
   ]
  },
  {
   "cell_type": "code",
   "execution_count": 198,
   "metadata": {},
   "outputs": [],
   "source": [
    "pred = model.predict([M_Test, C_Test])"
   ]
  },
  {
   "cell_type": "markdown",
   "metadata": {},
   "source": [
    "##### Create csv file for the predicted labels in the format specified for submission"
   ]
  },
  {
   "cell_type": "code",
   "execution_count": 200,
   "metadata": {},
   "outputs": [],
   "source": [
    "_fname = []\n",
    "_labels = []\n",
    "ans_labels = [\"yes\", \"no\", \"up\", \"down\", \"left\", \"right\", \"on\", \"off\", \"stop\", \"go\", \"silence\", \"unknown\"]\n",
    "for i in range(len(M_Test)):\n",
    "    y = np.argmax(pred[i])\n",
    "    y = labels[y]\n",
    "    if y not in ans_labels:\n",
    "        if y == \"_background_noise_\":\n",
    "            y = \"silence\"\n",
    "        else:\n",
    "            y = \"unknown\"\n",
    "    _fname.append(filenames[i])\n",
    "    _labels.append(y)"
   ]
  },
  {
   "cell_type": "code",
   "execution_count": 201,
   "metadata": {},
   "outputs": [
    {
     "data": {
      "text/html": [
       "<div>\n",
       "<style scoped>\n",
       "    .dataframe tbody tr th:only-of-type {\n",
       "        vertical-align: middle;\n",
       "    }\n",
       "\n",
       "    .dataframe tbody tr th {\n",
       "        vertical-align: top;\n",
       "    }\n",
       "\n",
       "    .dataframe thead th {\n",
       "        text-align: right;\n",
       "    }\n",
       "</style>\n",
       "<table border=\"1\" class=\"dataframe\">\n",
       "  <thead>\n",
       "    <tr style=\"text-align: right;\">\n",
       "      <th></th>\n",
       "      <th>fname</th>\n",
       "      <th>label</th>\n",
       "    </tr>\n",
       "  </thead>\n",
       "  <tbody>\n",
       "    <tr>\n",
       "      <th>0</th>\n",
       "      <td>clip_6ffc4eb63.wav</td>\n",
       "      <td>unknown</td>\n",
       "    </tr>\n",
       "    <tr>\n",
       "      <th>1</th>\n",
       "      <td>clip_6da59a15b.wav</td>\n",
       "      <td>up</td>\n",
       "    </tr>\n",
       "    <tr>\n",
       "      <th>2</th>\n",
       "      <td>clip_c12a2e8fc.wav</td>\n",
       "      <td>yes</td>\n",
       "    </tr>\n",
       "    <tr>\n",
       "      <th>3</th>\n",
       "      <td>clip_05b92927e.wav</td>\n",
       "      <td>go</td>\n",
       "    </tr>\n",
       "    <tr>\n",
       "      <th>4</th>\n",
       "      <td>clip_e605c025d.wav</td>\n",
       "      <td>off</td>\n",
       "    </tr>\n",
       "  </tbody>\n",
       "</table>\n",
       "</div>"
      ],
      "text/plain": [
       "                fname    label\n",
       "0  clip_6ffc4eb63.wav  unknown\n",
       "1  clip_6da59a15b.wav       up\n",
       "2  clip_c12a2e8fc.wav      yes\n",
       "3  clip_05b92927e.wav       go\n",
       "4  clip_e605c025d.wav      off"
      ]
     },
     "execution_count": 201,
     "metadata": {},
     "output_type": "execute_result"
    }
   ],
   "source": [
    "df = pd.DataFrame.from_dict({'fname':_fname, 'label':_labels})\n",
    "df.head()"
   ]
  },
  {
   "cell_type": "markdown",
   "metadata": {},
   "source": [
    "Save dataframe as csv"
   ]
  },
  {
   "cell_type": "code",
   "execution_count": 202,
   "metadata": {},
   "outputs": [],
   "source": [
    "df.to_csv('submission.csv', index=False)"
   ]
  },
  {
   "cell_type": "code",
   "execution_count": null,
   "metadata": {},
   "outputs": [],
   "source": []
  }
 ],
 "metadata": {
  "kernelspec": {
   "display_name": "Python 3",
   "language": "python",
   "name": "python3"
  },
  "language_info": {
   "codemirror_mode": {
    "name": "ipython",
    "version": 3
   },
   "file_extension": ".py",
   "mimetype": "text/x-python",
   "name": "python",
   "nbconvert_exporter": "python",
   "pygments_lexer": "ipython3",
   "version": "3.6.6"
  }
 },
 "nbformat": 4,
 "nbformat_minor": 4
}
