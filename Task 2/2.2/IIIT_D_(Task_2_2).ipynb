{
 "cells": [
  {
   "cell_type": "markdown",
   "metadata": {},
   "source": [
    "### Load necessary files and packages"
   ]
  },
  {
   "cell_type": "code",
   "execution_count": 1,
   "metadata": {
    "colab": {
     "base_uri": "https://localhost:8080/",
     "height": 211,
     "resources": {
      "http://localhost:8080/nbextensions/google.colab/files.js": {
       "data": "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",
       "headers": [
        [
         "content-type",
         "application/javascript"
        ]
       ],
       "ok": true,
       "status": 200,
       "status_text": ""
      }
     }
    },
    "id": "UlSYeIO2-vzf",
    "outputId": "6e04117b-1618-4f14-dbc3-fe1317038f93"
   },
   "outputs": [
    {
     "data": {
      "text/html": [
       "\n",
       "     <input type=\"file\" id=\"files-032c0f23-6bb0-4f1a-a8e8-2ff36d68dbc2\" name=\"files[]\" multiple disabled\n",
       "        style=\"border:none\" />\n",
       "     <output id=\"result-032c0f23-6bb0-4f1a-a8e8-2ff36d68dbc2\">\n",
       "      Upload widget is only available when the cell has been executed in the\n",
       "      current browser session. Please rerun this cell to enable.\n",
       "      </output>\n",
       "      <script src=\"/nbextensions/google.colab/files.js\"></script> "
      ],
      "text/plain": [
       "<IPython.core.display.HTML object>"
      ]
     },
     "metadata": {
      "tags": []
     },
     "output_type": "display_data"
    },
    {
     "name": "stdout",
     "output_type": "stream",
     "text": [
      "Saving trainPart1.zip to trainPart1.zip\n",
      "Saving train-labels-idx1-ubyte.gz to train-labels-idx1-ubyte.gz\n",
      "Saving train-images-idx3-ubyte.gz to train-images-idx3-ubyte.gz\n",
      "Saving t10k-labels-idx1-ubyte.gz to t10k-labels-idx1-ubyte.gz\n",
      "Saving t10k-images-idx3-ubyte.gz to t10k-images-idx3-ubyte.gz\n"
     ]
    }
   ],
   "source": [
    "from google.colab import files\n",
    "uploaded = files.upload()"
   ]
  },
  {
   "cell_type": "code",
   "execution_count": null,
   "metadata": {
    "id": "_hGxREg_BKEj"
   },
   "outputs": [],
   "source": [
    "!unzip trainPart1.zip"
   ]
  },
  {
   "cell_type": "code",
   "execution_count": null,
   "metadata": {
    "id": "m4t18FFN6yyt"
   },
   "outputs": [],
   "source": [
    "!gunzip t10k-labels-idx1-ubyte.gz\n",
    "!gunzip t10k-images-idx3-ubyte.gz\n",
    "!gunzip train-labels-idx1-ubyte.gz\n",
    "!gunzip train-images-idx3-ubyte.gz\n",
    "\n",
    "!pip install idx2numpy"
   ]
  },
  {
   "cell_type": "code",
   "execution_count": 1,
   "metadata": {
    "id": "sEU5e4dV-4do"
   },
   "outputs": [],
   "source": [
    "import numpy as np\n",
    "from sklearn.model_selection import train_test_split\n",
    "import matplotlib.pyplot as plt\n",
    "import tensorflow as tf\n",
    "import cv2\n",
    "import os\n",
    "from sklearn.preprocessing import LabelEncoder"
   ]
  },
  {
   "cell_type": "markdown",
   "metadata": {},
   "source": [
    "### Create Dataset"
   ]
  },
  {
   "cell_type": "code",
   "execution_count": 2,
   "metadata": {
    "id": "gfW86J6J_TDH"
   },
   "outputs": [],
   "source": [
    "ROOT_DIR = 'train'\n",
    "labels = []\n",
    "images = []\n",
    "all_labels = sorted(os.listdir(ROOT_DIR))\n",
    "for i in range(10):\n",
    "  label = all_labels[i]\n",
    "  path = [os.path.join(ROOT_DIR, label, p) for p in os.listdir(os.path.join(ROOT_DIR, label))]\n",
    "  for p in path:\n",
    "    image = cv2.imread(p)\n",
    "    image = cv2.cvtColor(image, cv2.COLOR_BGR2GRAY)\n",
    "    image = cv2.resize(image, (28, 28))\n",
    "    images.append(image)\n",
    "    labels.append(i)"
   ]
  },
  {
   "cell_type": "code",
   "execution_count": 3,
   "metadata": {
    "id": "MGwW_h64B66C"
   },
   "outputs": [],
   "source": [
    "images = np.asarray(images)/255\n",
    "images = np.expand_dims(images, -1)\n",
    "labels = np.asarray(labels)"
   ]
  },
  {
   "cell_type": "code",
   "execution_count": 4,
   "metadata": {
    "colab": {
     "base_uri": "https://localhost:8080/"
    },
    "id": "qEw1lXOfQyFf",
    "outputId": "3336ce7a-dcb0-4a25-a2be-ac654a4c0de3"
   },
   "outputs": [
    {
     "data": {
      "text/plain": [
       "((400, 28, 28, 1), (400,))"
      ]
     },
     "execution_count": 4,
     "metadata": {
      "tags": []
     },
     "output_type": "execute_result"
    }
   ],
   "source": [
    "images.shape, labels.shape"
   ]
  },
  {
   "cell_type": "markdown",
   "metadata": {},
   "source": [
    "As the number of total samples in the dataset is very less, i.e. 2,480, more samples are created by Data Augmentation techniques. <br />\n",
    "Random Translation and Rotation is done to create new data sample"
   ]
  },
  {
   "cell_type": "code",
   "execution_count": 5,
   "metadata": {
    "id": "p7gbYMXbM2t8"
   },
   "outputs": [],
   "source": [
    "data_augmentation = tf.keras.Sequential([\n",
    "      tf.keras.layers.experimental.preprocessing.RandomTranslation((-0.1, 0.1), (-0.1, 0.1)),\n",
    "      tf.keras.layers.experimental.preprocessing.RandomRotation(0.1)])\n",
    "\n",
    "augmented_dataset = None\n",
    "\n",
    "for i in range(25):\n",
    "  augmented_image = data_augmentation(images)\n",
    "  if augmented_dataset is None:\n",
    "    augmented_dataset = augmented_image\n",
    "    augmented_labels = labels\n",
    "  else:\n",
    "    augmented_dataset = np.vstack([augmented_dataset, augmented_image])\n",
    "    augmented_labels = np.hstack([augmented_labels, labels])"
   ]
  },
  {
   "cell_type": "markdown",
   "metadata": {},
   "source": [
    "### Train-Test Split"
   ]
  },
  {
   "cell_type": "code",
   "execution_count": 9,
   "metadata": {
    "id": "60W_-3YVFhFD"
   },
   "outputs": [],
   "source": [
    "x_train, x_test, y_train, y_test = train_test_split(augmented_dataset, augmented_labels, test_size=0.2, random_state=42)"
   ]
  },
  {
   "cell_type": "code",
   "execution_count": 10,
   "metadata": {
    "colab": {
     "base_uri": "https://localhost:8080/"
    },
    "id": "XbJYxZB_PywG",
    "outputId": "15e9e69e-0c65-4303-968d-ad759d76119a"
   },
   "outputs": [
    {
     "data": {
      "text/plain": [
       "(8000, 28, 28, 1)"
      ]
     },
     "execution_count": 10,
     "metadata": {
      "tags": []
     },
     "output_type": "execute_result"
    }
   ],
   "source": [
    "x_train.shape"
   ]
  },
  {
   "cell_type": "markdown",
   "metadata": {},
   "source": [
    "### Model Creation & Training"
   ]
  },
  {
   "cell_type": "code",
   "execution_count": 11,
   "metadata": {
    "id": "WGwWLUqDFtse"
   },
   "outputs": [],
   "source": [
    "def Model(image, label, dropout=0.25):\n",
    "  _input = tf.keras.layers.Input(shape=image)\n",
    "\n",
    "  x = tf.keras.layers.Conv2D(16, (3, 3))(_input)\n",
    "  x = tf.keras.layers.Activation(tf.nn.leaky_relu)(x)\n",
    "  x = tf.keras.layers.BatchNormalization()(x)\n",
    "  x = tf.keras.layers.Dropout(dropout)(x)\n",
    "  \n",
    "  x = tf.keras.layers.MaxPool2D()(x)\n",
    "\n",
    "  x = tf.keras.layers.Conv2D(32, (3, 3))(x)\n",
    "  x = tf.keras.layers.Activation(tf.nn.leaky_relu)(x)\n",
    "  x = tf.keras.layers.BatchNormalization()(x)\n",
    "  x = tf.keras.layers.Dropout(dropout)(x)\n",
    "  \n",
    "  x = tf.keras.layers.MaxPool2D()(x)\n",
    "\n",
    "  x = tf.keras.layers.Conv2D(64, (3, 3))(x)\n",
    "  x = tf.keras.layers.Activation(tf.nn.leaky_relu)(x)\n",
    "  x = tf.keras.layers.BatchNormalization()(x)\n",
    "  x = tf.keras.layers.Dropout(dropout)(x)\n",
    "  \n",
    "  # x = tf.keras.layers.MaxPool2D()(x)\n",
    "\n",
    "  x = tf.keras.layers.Flatten()(x)\n",
    "\n",
    "  x = tf.keras.layers.Dense(256)(x)\n",
    "  x = tf.keras.layers.Activation(tf.nn.leaky_relu)(x)\n",
    "  x = tf.keras.layers.BatchNormalization()(x)\n",
    "  x = tf.keras.layers.Dropout(dropout)(x)\n",
    "\n",
    "  x = tf.keras.layers.Dense(128)(x)\n",
    "  x = tf.keras.layers.Activation(tf.nn.leaky_relu)(x)\n",
    "  x = tf.keras.layers.BatchNormalization()(x)\n",
    "  x = tf.keras.layers.Dropout(dropout)(x)\n",
    "\n",
    "  x = tf.keras.layers.Dense(label)(x)\n",
    "  x = tf.keras.layers.Activation(tf.nn.softmax)(x)\n",
    "  return tf.keras.Model(_input, x)"
   ]
  },
  {
   "cell_type": "markdown",
   "metadata": {},
   "source": [
    "Summary of the model"
   ]
  },
  {
   "cell_type": "code",
   "execution_count": 12,
   "metadata": {
    "colab": {
     "base_uri": "https://localhost:8080/"
    },
    "id": "TMtbvQPUIA_X",
    "outputId": "6dc3063e-0ab5-4093-e406-c7e3b1ee4f50"
   },
   "outputs": [
    {
     "name": "stdout",
     "output_type": "stream",
     "text": [
      "Model: \"model\"\n",
      "_________________________________________________________________\n",
      "Layer (type)                 Output Shape              Param #   \n",
      "=================================================================\n",
      "input_1 (InputLayer)         [(None, 28, 28, 1)]       0         \n",
      "_________________________________________________________________\n",
      "conv2d (Conv2D)              (None, 26, 26, 16)        160       \n",
      "_________________________________________________________________\n",
      "activation (Activation)      (None, 26, 26, 16)        0         \n",
      "_________________________________________________________________\n",
      "batch_normalization (BatchNo (None, 26, 26, 16)        64        \n",
      "_________________________________________________________________\n",
      "dropout (Dropout)            (None, 26, 26, 16)        0         \n",
      "_________________________________________________________________\n",
      "max_pooling2d (MaxPooling2D) (None, 13, 13, 16)        0         \n",
      "_________________________________________________________________\n",
      "conv2d_1 (Conv2D)            (None, 11, 11, 32)        4640      \n",
      "_________________________________________________________________\n",
      "activation_1 (Activation)    (None, 11, 11, 32)        0         \n",
      "_________________________________________________________________\n",
      "batch_normalization_1 (Batch (None, 11, 11, 32)        128       \n",
      "_________________________________________________________________\n",
      "dropout_1 (Dropout)          (None, 11, 11, 32)        0         \n",
      "_________________________________________________________________\n",
      "max_pooling2d_1 (MaxPooling2 (None, 5, 5, 32)          0         \n",
      "_________________________________________________________________\n",
      "conv2d_2 (Conv2D)            (None, 3, 3, 64)          18496     \n",
      "_________________________________________________________________\n",
      "activation_2 (Activation)    (None, 3, 3, 64)          0         \n",
      "_________________________________________________________________\n",
      "batch_normalization_2 (Batch (None, 3, 3, 64)          256       \n",
      "_________________________________________________________________\n",
      "dropout_2 (Dropout)          (None, 3, 3, 64)          0         \n",
      "_________________________________________________________________\n",
      "flatten (Flatten)            (None, 576)               0         \n",
      "_________________________________________________________________\n",
      "dense (Dense)                (None, 256)               147712    \n",
      "_________________________________________________________________\n",
      "activation_3 (Activation)    (None, 256)               0         \n",
      "_________________________________________________________________\n",
      "batch_normalization_3 (Batch (None, 256)               1024      \n",
      "_________________________________________________________________\n",
      "dropout_3 (Dropout)          (None, 256)               0         \n",
      "_________________________________________________________________\n",
      "dense_1 (Dense)              (None, 128)               32896     \n",
      "_________________________________________________________________\n",
      "activation_4 (Activation)    (None, 128)               0         \n",
      "_________________________________________________________________\n",
      "batch_normalization_4 (Batch (None, 128)               512       \n",
      "_________________________________________________________________\n",
      "dropout_4 (Dropout)          (None, 128)               0         \n",
      "_________________________________________________________________\n",
      "dense_2 (Dense)              (None, 10)                1290      \n",
      "_________________________________________________________________\n",
      "activation_5 (Activation)    (None, 10)                0         \n",
      "=================================================================\n",
      "Total params: 207,178\n",
      "Trainable params: 206,186\n",
      "Non-trainable params: 992\n",
      "_________________________________________________________________\n"
     ]
    }
   ],
   "source": [
    "model = Model(x_train[0].shape, 10)\n",
    "model.summary()"
   ]
  },
  {
   "cell_type": "code",
   "execution_count": 13,
   "metadata": {
    "colab": {
     "base_uri": "https://localhost:8080/"
    },
    "id": "PaztrM6VIHwM",
    "outputId": "14a54ddd-3e7c-4587-cc53-2e489295ff7d"
   },
   "outputs": [
    {
     "name": "stdout",
     "output_type": "stream",
     "text": [
      "Epoch 1/150\n",
      "24/24 [==============================] - 34s 37ms/step - loss: 2.5069 - accuracy: 0.2503 - val_loss: 2.3619 - val_accuracy: 0.1015\n",
      "Epoch 2/150\n",
      "24/24 [==============================] - 0s 10ms/step - loss: 1.5338 - accuracy: 0.4881 - val_loss: 2.7241 - val_accuracy: 0.1015\n",
      "Epoch 3/150\n",
      "24/24 [==============================] - 0s 10ms/step - loss: 1.1694 - accuracy: 0.6129 - val_loss: 3.5014 - val_accuracy: 0.1015\n",
      "Epoch 4/150\n",
      "24/24 [==============================] - 0s 10ms/step - loss: 0.9551 - accuracy: 0.6799 - val_loss: 4.3042 - val_accuracy: 0.1015\n",
      "Epoch 5/150\n",
      "24/24 [==============================] - 0s 11ms/step - loss: 0.7925 - accuracy: 0.7258 - val_loss: 4.6205 - val_accuracy: 0.1015\n",
      "Epoch 6/150\n",
      "24/24 [==============================] - 0s 10ms/step - loss: 0.7095 - accuracy: 0.7574 - val_loss: 8.0543 - val_accuracy: 0.1015\n",
      "Epoch 7/150\n",
      "24/24 [==============================] - 0s 11ms/step - loss: 0.5936 - accuracy: 0.7965 - val_loss: 6.9414 - val_accuracy: 0.1015\n",
      "Epoch 8/150\n",
      "24/24 [==============================] - 0s 11ms/step - loss: 0.5708 - accuracy: 0.8076 - val_loss: 6.0292 - val_accuracy: 0.1015\n",
      "Epoch 9/150\n",
      "24/24 [==============================] - 0s 11ms/step - loss: 0.4793 - accuracy: 0.8361 - val_loss: 5.4982 - val_accuracy: 0.1030\n",
      "Epoch 10/150\n",
      "24/24 [==============================] - 0s 11ms/step - loss: 0.4661 - accuracy: 0.8438 - val_loss: 5.9197 - val_accuracy: 0.1035\n",
      "Epoch 11/150\n",
      "24/24 [==============================] - 0s 11ms/step - loss: 0.4143 - accuracy: 0.8515 - val_loss: 4.7761 - val_accuracy: 0.1285\n",
      "Epoch 12/150\n",
      "24/24 [==============================] - 0s 11ms/step - loss: 0.3866 - accuracy: 0.8652 - val_loss: 4.9739 - val_accuracy: 0.1070\n",
      "Epoch 13/150\n",
      "24/24 [==============================] - 0s 10ms/step - loss: 0.3738 - accuracy: 0.8707 - val_loss: 6.2306 - val_accuracy: 0.1120\n",
      "Epoch 14/150\n",
      "24/24 [==============================] - 0s 10ms/step - loss: 0.3567 - accuracy: 0.8815 - val_loss: 6.5161 - val_accuracy: 0.1090\n",
      "Epoch 15/150\n",
      "24/24 [==============================] - 0s 10ms/step - loss: 0.3178 - accuracy: 0.8928 - val_loss: 4.6234 - val_accuracy: 0.1380\n",
      "Epoch 16/150\n",
      "24/24 [==============================] - 0s 10ms/step - loss: 0.2886 - accuracy: 0.9011 - val_loss: 5.3450 - val_accuracy: 0.1200\n",
      "Epoch 17/150\n",
      "24/24 [==============================] - 0s 10ms/step - loss: 0.2678 - accuracy: 0.9067 - val_loss: 4.0682 - val_accuracy: 0.1755\n",
      "Epoch 18/150\n",
      "24/24 [==============================] - 0s 10ms/step - loss: 0.2674 - accuracy: 0.9094 - val_loss: 3.1729 - val_accuracy: 0.2065\n",
      "Epoch 19/150\n",
      "24/24 [==============================] - 0s 10ms/step - loss: 0.2622 - accuracy: 0.9108 - val_loss: 3.0900 - val_accuracy: 0.2445\n",
      "Epoch 20/150\n",
      "24/24 [==============================] - 0s 10ms/step - loss: 0.2242 - accuracy: 0.9229 - val_loss: 1.3628 - val_accuracy: 0.5555\n",
      "Epoch 21/150\n",
      "24/24 [==============================] - 0s 10ms/step - loss: 0.2242 - accuracy: 0.9176 - val_loss: 1.7569 - val_accuracy: 0.4470\n",
      "Epoch 22/150\n",
      "24/24 [==============================] - 0s 10ms/step - loss: 0.2184 - accuracy: 0.9327 - val_loss: 0.8965 - val_accuracy: 0.7115\n",
      "Epoch 23/150\n",
      "24/24 [==============================] - 0s 11ms/step - loss: 0.1964 - accuracy: 0.9318 - val_loss: 0.6510 - val_accuracy: 0.7795\n",
      "Epoch 24/150\n",
      "24/24 [==============================] - 0s 11ms/step - loss: 0.2065 - accuracy: 0.9294 - val_loss: 0.9303 - val_accuracy: 0.6835\n",
      "Epoch 25/150\n",
      "24/24 [==============================] - 0s 12ms/step - loss: 0.1849 - accuracy: 0.9361 - val_loss: 1.0987 - val_accuracy: 0.6355\n",
      "Epoch 26/150\n",
      "24/24 [==============================] - 0s 11ms/step - loss: 0.1855 - accuracy: 0.9388 - val_loss: 0.4806 - val_accuracy: 0.8330\n",
      "Epoch 27/150\n",
      "24/24 [==============================] - 0s 11ms/step - loss: 0.1742 - accuracy: 0.9396 - val_loss: 0.5352 - val_accuracy: 0.8345\n",
      "Epoch 28/150\n",
      "24/24 [==============================] - 0s 11ms/step - loss: 0.1597 - accuracy: 0.9434 - val_loss: 0.4866 - val_accuracy: 0.8435\n",
      "Epoch 29/150\n",
      "24/24 [==============================] - 0s 10ms/step - loss: 0.1593 - accuracy: 0.9434 - val_loss: 0.3644 - val_accuracy: 0.8900\n",
      "Epoch 30/150\n",
      "24/24 [==============================] - 0s 10ms/step - loss: 0.1688 - accuracy: 0.9418 - val_loss: 0.7772 - val_accuracy: 0.7790\n",
      "Epoch 31/150\n",
      "24/24 [==============================] - 0s 11ms/step - loss: 0.1603 - accuracy: 0.9442 - val_loss: 0.6899 - val_accuracy: 0.8030\n",
      "Epoch 32/150\n",
      "24/24 [==============================] - 0s 10ms/step - loss: 0.1457 - accuracy: 0.9537 - val_loss: 0.2866 - val_accuracy: 0.9070\n",
      "Epoch 33/150\n",
      "24/24 [==============================] - 0s 10ms/step - loss: 0.1398 - accuracy: 0.9529 - val_loss: 1.1345 - val_accuracy: 0.7285\n",
      "Epoch 34/150\n",
      "24/24 [==============================] - 0s 11ms/step - loss: 0.1542 - accuracy: 0.9444 - val_loss: 0.5854 - val_accuracy: 0.8320\n",
      "Epoch 35/150\n",
      "24/24 [==============================] - 0s 11ms/step - loss: 0.1381 - accuracy: 0.9506 - val_loss: 0.2585 - val_accuracy: 0.9190\n",
      "Epoch 36/150\n",
      "24/24 [==============================] - 0s 10ms/step - loss: 0.1308 - accuracy: 0.9578 - val_loss: 0.3423 - val_accuracy: 0.8950\n",
      "Epoch 37/150\n",
      "24/24 [==============================] - 0s 10ms/step - loss: 0.1327 - accuracy: 0.9565 - val_loss: 0.1187 - val_accuracy: 0.9630\n",
      "Epoch 38/150\n",
      "24/24 [==============================] - 0s 10ms/step - loss: 0.1306 - accuracy: 0.9556 - val_loss: 0.2238 - val_accuracy: 0.9255\n",
      "Epoch 39/150\n",
      "24/24 [==============================] - 0s 10ms/step - loss: 0.1198 - accuracy: 0.9565 - val_loss: 0.2108 - val_accuracy: 0.9300\n",
      "Epoch 40/150\n",
      "24/24 [==============================] - 0s 11ms/step - loss: 0.1153 - accuracy: 0.9621 - val_loss: 0.3173 - val_accuracy: 0.9005\n",
      "Epoch 41/150\n",
      "24/24 [==============================] - 0s 10ms/step - loss: 0.1277 - accuracy: 0.9564 - val_loss: 0.2517 - val_accuracy: 0.9230\n",
      "Epoch 42/150\n",
      "24/24 [==============================] - 0s 10ms/step - loss: 0.0999 - accuracy: 0.9678 - val_loss: 0.2428 - val_accuracy: 0.9185\n",
      "Epoch 43/150\n",
      "24/24 [==============================] - 0s 11ms/step - loss: 0.1186 - accuracy: 0.9591 - val_loss: 0.1751 - val_accuracy: 0.9380\n",
      "Epoch 44/150\n",
      "24/24 [==============================] - 0s 10ms/step - loss: 0.0975 - accuracy: 0.9658 - val_loss: 0.3425 - val_accuracy: 0.8920\n",
      "Epoch 45/150\n",
      "24/24 [==============================] - 0s 10ms/step - loss: 0.1041 - accuracy: 0.9652 - val_loss: 0.3557 - val_accuracy: 0.8900\n",
      "Epoch 46/150\n",
      "24/24 [==============================] - 0s 11ms/step - loss: 0.1061 - accuracy: 0.9637 - val_loss: 0.1633 - val_accuracy: 0.9480\n",
      "Epoch 47/150\n",
      "24/24 [==============================] - 0s 11ms/step - loss: 0.0865 - accuracy: 0.9732 - val_loss: 0.5232 - val_accuracy: 0.8430\n",
      "Epoch 48/150\n",
      "24/24 [==============================] - 0s 11ms/step - loss: 0.0939 - accuracy: 0.9669 - val_loss: 0.3454 - val_accuracy: 0.8880\n",
      "Epoch 49/150\n",
      "24/24 [==============================] - 0s 12ms/step - loss: 0.0872 - accuracy: 0.9678 - val_loss: 0.2627 - val_accuracy: 0.9105\n",
      "Epoch 50/150\n",
      "24/24 [==============================] - 0s 10ms/step - loss: 0.0951 - accuracy: 0.9696 - val_loss: 0.2114 - val_accuracy: 0.9295\n",
      "Epoch 51/150\n",
      "24/24 [==============================] - 0s 12ms/step - loss: 0.0919 - accuracy: 0.9629 - val_loss: 0.1875 - val_accuracy: 0.9315\n",
      "Epoch 52/150\n",
      "24/24 [==============================] - 0s 10ms/step - loss: 0.0900 - accuracy: 0.9700 - val_loss: 0.1806 - val_accuracy: 0.9360\n",
      "Epoch 53/150\n",
      "24/24 [==============================] - 0s 10ms/step - loss: 0.0897 - accuracy: 0.9678 - val_loss: 0.2276 - val_accuracy: 0.9305\n",
      "Epoch 54/150\n",
      "24/24 [==============================] - 0s 10ms/step - loss: 0.0887 - accuracy: 0.9686 - val_loss: 0.5165 - val_accuracy: 0.8505\n",
      "Epoch 55/150\n",
      "24/24 [==============================] - 0s 10ms/step - loss: 0.0794 - accuracy: 0.9718 - val_loss: 0.2184 - val_accuracy: 0.9250\n",
      "Epoch 56/150\n",
      "24/24 [==============================] - 0s 10ms/step - loss: 0.0822 - accuracy: 0.9741 - val_loss: 0.2509 - val_accuracy: 0.9225\n",
      "Epoch 57/150\n",
      "24/24 [==============================] - 0s 11ms/step - loss: 0.0775 - accuracy: 0.9712 - val_loss: 0.5590 - val_accuracy: 0.8435\n",
      "Epoch 58/150\n",
      "24/24 [==============================] - 0s 11ms/step - loss: 0.0900 - accuracy: 0.9675 - val_loss: 0.3108 - val_accuracy: 0.9100\n",
      "Epoch 59/150\n",
      "24/24 [==============================] - 0s 11ms/step - loss: 0.0808 - accuracy: 0.9730 - val_loss: 0.6936 - val_accuracy: 0.8380\n",
      "Epoch 60/150\n",
      "24/24 [==============================] - 0s 10ms/step - loss: 0.0920 - accuracy: 0.9671 - val_loss: 1.8151 - val_accuracy: 0.6555\n",
      "Epoch 61/150\n",
      "24/24 [==============================] - 0s 11ms/step - loss: 0.0792 - accuracy: 0.9727 - val_loss: 1.0838 - val_accuracy: 0.7655\n",
      "Epoch 62/150\n",
      "24/24 [==============================] - 0s 11ms/step - loss: 0.0769 - accuracy: 0.9729 - val_loss: 0.6199 - val_accuracy: 0.8415\n",
      "Epoch 63/150\n",
      "24/24 [==============================] - 0s 10ms/step - loss: 0.0789 - accuracy: 0.9726 - val_loss: 0.1311 - val_accuracy: 0.9575\n",
      "Epoch 64/150\n",
      "24/24 [==============================] - 0s 11ms/step - loss: 0.0764 - accuracy: 0.9702 - val_loss: 0.1342 - val_accuracy: 0.9560\n",
      "Epoch 65/150\n",
      "24/24 [==============================] - 0s 12ms/step - loss: 0.0719 - accuracy: 0.9748 - val_loss: 0.1933 - val_accuracy: 0.9425\n",
      "Epoch 66/150\n",
      "24/24 [==============================] - 0s 11ms/step - loss: 0.0676 - accuracy: 0.9788 - val_loss: 0.0914 - val_accuracy: 0.9675\n",
      "Epoch 67/150\n",
      "24/24 [==============================] - 0s 11ms/step - loss: 0.0664 - accuracy: 0.9783 - val_loss: 0.5649 - val_accuracy: 0.8420\n",
      "Epoch 68/150\n",
      "24/24 [==============================] - 0s 11ms/step - loss: 0.0774 - accuracy: 0.9715 - val_loss: 0.2870 - val_accuracy: 0.9065\n",
      "Epoch 69/150\n",
      "24/24 [==============================] - 0s 10ms/step - loss: 0.0697 - accuracy: 0.9770 - val_loss: 1.0328 - val_accuracy: 0.7715\n",
      "Epoch 70/150\n",
      "24/24 [==============================] - 0s 10ms/step - loss: 0.0709 - accuracy: 0.9760 - val_loss: 0.1292 - val_accuracy: 0.9595\n",
      "Epoch 71/150\n",
      "24/24 [==============================] - 0s 10ms/step - loss: 0.0629 - accuracy: 0.9791 - val_loss: 0.0813 - val_accuracy: 0.9735\n",
      "Epoch 72/150\n",
      "24/24 [==============================] - 0s 12ms/step - loss: 0.0714 - accuracy: 0.9768 - val_loss: 0.1624 - val_accuracy: 0.9545\n",
      "Epoch 73/150\n",
      "24/24 [==============================] - 0s 11ms/step - loss: 0.0648 - accuracy: 0.9757 - val_loss: 0.5627 - val_accuracy: 0.8395\n",
      "Epoch 74/150\n",
      "24/24 [==============================] - 0s 12ms/step - loss: 0.0661 - accuracy: 0.9759 - val_loss: 0.2315 - val_accuracy: 0.9260\n",
      "Epoch 75/150\n",
      "24/24 [==============================] - 0s 11ms/step - loss: 0.0598 - accuracy: 0.9777 - val_loss: 0.5116 - val_accuracy: 0.8615\n",
      "Epoch 76/150\n",
      "24/24 [==============================] - 0s 11ms/step - loss: 0.0716 - accuracy: 0.9764 - val_loss: 0.4109 - val_accuracy: 0.9010\n",
      "Epoch 77/150\n",
      "24/24 [==============================] - 0s 10ms/step - loss: 0.0506 - accuracy: 0.9809 - val_loss: 0.1033 - val_accuracy: 0.9700\n",
      "Epoch 78/150\n",
      "24/24 [==============================] - 0s 11ms/step - loss: 0.0592 - accuracy: 0.9811 - val_loss: 0.0700 - val_accuracy: 0.9755\n",
      "Epoch 79/150\n",
      "24/24 [==============================] - 0s 11ms/step - loss: 0.0520 - accuracy: 0.9828 - val_loss: 0.2063 - val_accuracy: 0.9360\n",
      "Epoch 80/150\n",
      "24/24 [==============================] - 0s 12ms/step - loss: 0.0669 - accuracy: 0.9783 - val_loss: 0.1185 - val_accuracy: 0.9640\n",
      "Epoch 81/150\n",
      "24/24 [==============================] - 0s 12ms/step - loss: 0.0582 - accuracy: 0.9806 - val_loss: 0.2004 - val_accuracy: 0.9375\n",
      "Epoch 82/150\n",
      "24/24 [==============================] - 0s 11ms/step - loss: 0.0634 - accuracy: 0.9799 - val_loss: 0.1639 - val_accuracy: 0.9490\n",
      "Epoch 83/150\n",
      "24/24 [==============================] - 0s 11ms/step - loss: 0.0674 - accuracy: 0.9783 - val_loss: 0.1500 - val_accuracy: 0.9540\n",
      "Epoch 84/150\n",
      "24/24 [==============================] - 0s 11ms/step - loss: 0.0509 - accuracy: 0.9814 - val_loss: 0.4934 - val_accuracy: 0.8725\n",
      "Epoch 85/150\n",
      "24/24 [==============================] - 0s 10ms/step - loss: 0.0427 - accuracy: 0.9849 - val_loss: 0.0944 - val_accuracy: 0.9680\n",
      "Epoch 86/150\n",
      "24/24 [==============================] - 0s 10ms/step - loss: 0.0546 - accuracy: 0.9836 - val_loss: 0.2624 - val_accuracy: 0.9230\n",
      "Epoch 87/150\n",
      "24/24 [==============================] - 0s 10ms/step - loss: 0.0510 - accuracy: 0.9818 - val_loss: 0.2775 - val_accuracy: 0.9180\n",
      "Epoch 88/150\n",
      "24/24 [==============================] - 0s 10ms/step - loss: 0.0491 - accuracy: 0.9829 - val_loss: 0.2964 - val_accuracy: 0.9160\n",
      "Epoch 89/150\n",
      "24/24 [==============================] - 0s 11ms/step - loss: 0.0490 - accuracy: 0.9865 - val_loss: 0.1542 - val_accuracy: 0.9525\n",
      "Epoch 90/150\n",
      "24/24 [==============================] - 0s 11ms/step - loss: 0.0605 - accuracy: 0.9797 - val_loss: 0.2060 - val_accuracy: 0.9480\n",
      "Epoch 91/150\n",
      "24/24 [==============================] - 0s 11ms/step - loss: 0.0598 - accuracy: 0.9806 - val_loss: 0.3102 - val_accuracy: 0.9180\n",
      "Epoch 92/150\n",
      "24/24 [==============================] - 0s 11ms/step - loss: 0.0446 - accuracy: 0.9836 - val_loss: 0.9024 - val_accuracy: 0.8120\n",
      "Epoch 93/150\n",
      "24/24 [==============================] - 0s 12ms/step - loss: 0.0458 - accuracy: 0.9843 - val_loss: 0.9925 - val_accuracy: 0.7790\n",
      "Epoch 94/150\n",
      "24/24 [==============================] - 0s 12ms/step - loss: 0.0474 - accuracy: 0.9850 - val_loss: 0.1619 - val_accuracy: 0.9520\n",
      "Epoch 95/150\n",
      "24/24 [==============================] - 0s 11ms/step - loss: 0.0570 - accuracy: 0.9792 - val_loss: 0.2697 - val_accuracy: 0.9290\n",
      "Epoch 96/150\n",
      "24/24 [==============================] - 0s 12ms/step - loss: 0.0624 - accuracy: 0.9804 - val_loss: 0.2958 - val_accuracy: 0.9155\n",
      "Epoch 97/150\n",
      "24/24 [==============================] - 0s 11ms/step - loss: 0.0540 - accuracy: 0.9840 - val_loss: 0.0831 - val_accuracy: 0.9740\n",
      "Epoch 98/150\n",
      "24/24 [==============================] - 0s 10ms/step - loss: 0.0479 - accuracy: 0.9842 - val_loss: 0.7836 - val_accuracy: 0.8525\n",
      "Epoch 99/150\n",
      "24/24 [==============================] - 0s 10ms/step - loss: 0.0390 - accuracy: 0.9857 - val_loss: 0.2989 - val_accuracy: 0.9175\n",
      "Epoch 100/150\n",
      "24/24 [==============================] - 0s 10ms/step - loss: 0.0526 - accuracy: 0.9817 - val_loss: 0.1182 - val_accuracy: 0.9630\n",
      "Epoch 101/150\n",
      "24/24 [==============================] - 0s 10ms/step - loss: 0.0547 - accuracy: 0.9812 - val_loss: 1.4242 - val_accuracy: 0.7415\n",
      "Epoch 102/150\n",
      "24/24 [==============================] - 0s 13ms/step - loss: 0.0451 - accuracy: 0.9841 - val_loss: 0.1356 - val_accuracy: 0.9550\n",
      "Epoch 103/150\n",
      "24/24 [==============================] - 0s 13ms/step - loss: 0.0542 - accuracy: 0.9827 - val_loss: 0.1481 - val_accuracy: 0.9550\n",
      "Epoch 104/150\n",
      "24/24 [==============================] - 0s 14ms/step - loss: 0.0551 - accuracy: 0.9812 - val_loss: 0.6161 - val_accuracy: 0.8485\n",
      "Epoch 105/150\n",
      "24/24 [==============================] - 0s 12ms/step - loss: 0.0466 - accuracy: 0.9862 - val_loss: 0.1576 - val_accuracy: 0.9485\n",
      "Epoch 106/150\n",
      "24/24 [==============================] - 0s 12ms/step - loss: 0.0467 - accuracy: 0.9844 - val_loss: 0.5494 - val_accuracy: 0.8665\n",
      "Epoch 107/150\n",
      "24/24 [==============================] - 0s 12ms/step - loss: 0.0483 - accuracy: 0.9836 - val_loss: 0.1475 - val_accuracy: 0.9555\n",
      "Epoch 108/150\n",
      "24/24 [==============================] - 0s 12ms/step - loss: 0.0418 - accuracy: 0.9839 - val_loss: 0.7639 - val_accuracy: 0.8440\n",
      "Epoch 109/150\n",
      "24/24 [==============================] - 0s 12ms/step - loss: 0.0532 - accuracy: 0.9835 - val_loss: 0.2671 - val_accuracy: 0.9210\n",
      "Epoch 110/150\n",
      "24/24 [==============================] - 0s 11ms/step - loss: 0.0413 - accuracy: 0.9862 - val_loss: 0.3497 - val_accuracy: 0.9120\n",
      "Epoch 111/150\n",
      "24/24 [==============================] - 0s 11ms/step - loss: 0.0420 - accuracy: 0.9854 - val_loss: 0.1085 - val_accuracy: 0.9685\n",
      "Epoch 112/150\n",
      "24/24 [==============================] - 0s 10ms/step - loss: 0.0408 - accuracy: 0.9866 - val_loss: 0.4467 - val_accuracy: 0.8895\n",
      "Epoch 113/150\n",
      "24/24 [==============================] - 0s 12ms/step - loss: 0.0511 - accuracy: 0.9848 - val_loss: 0.2350 - val_accuracy: 0.9270\n",
      "Epoch 114/150\n",
      "24/24 [==============================] - 0s 12ms/step - loss: 0.0332 - accuracy: 0.9879 - val_loss: 0.0756 - val_accuracy: 0.9765\n",
      "Epoch 115/150\n",
      "24/24 [==============================] - 0s 12ms/step - loss: 0.0465 - accuracy: 0.9827 - val_loss: 0.1860 - val_accuracy: 0.9445\n",
      "Epoch 116/150\n",
      "24/24 [==============================] - 0s 10ms/step - loss: 0.0399 - accuracy: 0.9856 - val_loss: 0.1915 - val_accuracy: 0.9390\n",
      "Epoch 117/150\n",
      "24/24 [==============================] - 0s 11ms/step - loss: 0.0490 - accuracy: 0.9825 - val_loss: 0.0982 - val_accuracy: 0.9655\n",
      "Epoch 118/150\n",
      "24/24 [==============================] - 0s 11ms/step - loss: 0.0443 - accuracy: 0.9861 - val_loss: 0.1737 - val_accuracy: 0.9465\n",
      "Epoch 119/150\n",
      "24/24 [==============================] - 0s 11ms/step - loss: 0.0522 - accuracy: 0.9833 - val_loss: 0.2326 - val_accuracy: 0.9360\n",
      "Epoch 120/150\n",
      "24/24 [==============================] - 0s 11ms/step - loss: 0.0362 - accuracy: 0.9887 - val_loss: 0.3944 - val_accuracy: 0.8900\n",
      "Epoch 121/150\n",
      "24/24 [==============================] - 0s 11ms/step - loss: 0.0362 - accuracy: 0.9863 - val_loss: 0.3992 - val_accuracy: 0.9010\n",
      "Epoch 122/150\n",
      "24/24 [==============================] - 0s 11ms/step - loss: 0.0383 - accuracy: 0.9857 - val_loss: 0.0861 - val_accuracy: 0.9735\n",
      "Epoch 123/150\n",
      "24/24 [==============================] - 0s 11ms/step - loss: 0.0417 - accuracy: 0.9852 - val_loss: 0.3815 - val_accuracy: 0.8870\n",
      "Epoch 124/150\n",
      "24/24 [==============================] - 0s 11ms/step - loss: 0.0433 - accuracy: 0.9865 - val_loss: 0.3437 - val_accuracy: 0.9045\n",
      "Epoch 125/150\n",
      "24/24 [==============================] - 0s 10ms/step - loss: 0.0414 - accuracy: 0.9885 - val_loss: 1.0064 - val_accuracy: 0.7655\n",
      "Epoch 126/150\n",
      "24/24 [==============================] - 0s 11ms/step - loss: 0.0440 - accuracy: 0.9859 - val_loss: 0.4465 - val_accuracy: 0.8945\n",
      "Epoch 127/150\n",
      "24/24 [==============================] - 0s 11ms/step - loss: 0.0380 - accuracy: 0.9883 - val_loss: 0.1409 - val_accuracy: 0.9540\n",
      "Epoch 128/150\n",
      "24/24 [==============================] - 0s 10ms/step - loss: 0.0427 - accuracy: 0.9865 - val_loss: 0.4443 - val_accuracy: 0.8930\n",
      "Epoch 129/150\n",
      "24/24 [==============================] - 0s 11ms/step - loss: 0.0339 - accuracy: 0.9896 - val_loss: 0.0920 - val_accuracy: 0.9700\n",
      "Epoch 130/150\n",
      "24/24 [==============================] - 0s 11ms/step - loss: 0.0461 - accuracy: 0.9846 - val_loss: 0.0842 - val_accuracy: 0.9695\n",
      "Epoch 131/150\n",
      "24/24 [==============================] - 0s 11ms/step - loss: 0.0372 - accuracy: 0.9878 - val_loss: 0.9435 - val_accuracy: 0.7840\n",
      "Epoch 132/150\n",
      "24/24 [==============================] - 0s 12ms/step - loss: 0.0573 - accuracy: 0.9799 - val_loss: 0.3770 - val_accuracy: 0.8975\n",
      "Epoch 133/150\n",
      "24/24 [==============================] - 0s 12ms/step - loss: 0.0387 - accuracy: 0.9877 - val_loss: 0.8172 - val_accuracy: 0.8450\n",
      "Epoch 134/150\n",
      "24/24 [==============================] - 0s 12ms/step - loss: 0.0434 - accuracy: 0.9851 - val_loss: 0.1622 - val_accuracy: 0.9490\n",
      "Epoch 135/150\n",
      "24/24 [==============================] - 0s 13ms/step - loss: 0.0449 - accuracy: 0.9844 - val_loss: 0.1142 - val_accuracy: 0.9720\n",
      "Epoch 136/150\n",
      "24/24 [==============================] - 0s 12ms/step - loss: 0.0429 - accuracy: 0.9852 - val_loss: 0.5550 - val_accuracy: 0.8670\n",
      "Epoch 137/150\n",
      "24/24 [==============================] - 0s 13ms/step - loss: 0.0442 - accuracy: 0.9848 - val_loss: 0.2275 - val_accuracy: 0.9280\n",
      "Epoch 138/150\n",
      "24/24 [==============================] - 0s 11ms/step - loss: 0.0340 - accuracy: 0.9891 - val_loss: 0.1305 - val_accuracy: 0.9610\n",
      "Epoch 139/150\n",
      "24/24 [==============================] - 0s 11ms/step - loss: 0.0450 - accuracy: 0.9838 - val_loss: 0.1145 - val_accuracy: 0.9655\n",
      "Epoch 140/150\n",
      "24/24 [==============================] - 0s 13ms/step - loss: 0.0488 - accuracy: 0.9860 - val_loss: 0.5836 - val_accuracy: 0.8615\n",
      "Epoch 141/150\n",
      "24/24 [==============================] - 0s 12ms/step - loss: 0.0488 - accuracy: 0.9844 - val_loss: 0.1257 - val_accuracy: 0.9585\n",
      "Epoch 142/150\n",
      "24/24 [==============================] - 0s 12ms/step - loss: 0.0414 - accuracy: 0.9875 - val_loss: 0.2096 - val_accuracy: 0.9395\n",
      "Epoch 143/150\n",
      "24/24 [==============================] - 0s 12ms/step - loss: 0.0445 - accuracy: 0.9859 - val_loss: 0.0888 - val_accuracy: 0.9730\n",
      "Epoch 144/150\n",
      "24/24 [==============================] - 0s 12ms/step - loss: 0.0416 - accuracy: 0.9878 - val_loss: 0.2036 - val_accuracy: 0.9470\n",
      "Epoch 145/150\n",
      "24/24 [==============================] - 0s 11ms/step - loss: 0.0337 - accuracy: 0.9892 - val_loss: 0.0972 - val_accuracy: 0.9735\n",
      "Epoch 146/150\n",
      "24/24 [==============================] - 0s 12ms/step - loss: 0.0367 - accuracy: 0.9880 - val_loss: 0.2001 - val_accuracy: 0.9440\n",
      "Epoch 147/150\n",
      "24/24 [==============================] - 0s 12ms/step - loss: 0.0396 - accuracy: 0.9869 - val_loss: 0.0921 - val_accuracy: 0.9710\n",
      "Epoch 148/150\n",
      "24/24 [==============================] - 0s 12ms/step - loss: 0.0395 - accuracy: 0.9858 - val_loss: 0.7383 - val_accuracy: 0.8350\n",
      "Epoch 149/150\n",
      "24/24 [==============================] - 0s 12ms/step - loss: 0.0376 - accuracy: 0.9873 - val_loss: 0.0733 - val_accuracy: 0.9760\n",
      "Epoch 150/150\n",
      "24/24 [==============================] - 0s 12ms/step - loss: 0.0367 - accuracy: 0.9877 - val_loss: 0.3076 - val_accuracy: 0.9120\n"
     ]
    }
   ],
   "source": [
    "model.compile(optimizer=\"rmsprop\", loss=\"sparse_categorical_crossentropy\", metrics=\"accuracy\")\n",
    "checkpoint_callback = tf.keras.callbacks.ModelCheckpoint(filepath='weights_pretrained/', save_weights_only=True, save_best_only=True, monitor=\"val_accuracy\", mode=\"max\")\n",
    "H = model.fit(x_train, y_train, validation_split=0.25, epochs=150, batch_size=256, shuffle=True, callbacks=[checkpoint_callback])"
   ]
  },
  {
   "cell_type": "markdown",
   "metadata": {},
   "source": [
    "Plot of the train history (X-axis: <i>EPOCHS</i>, Y-axis: <i>ACCURACY</i>)"
   ]
  },
  {
   "cell_type": "code",
   "execution_count": 14,
   "metadata": {
    "colab": {
     "base_uri": "https://localhost:8080/",
     "height": 282
    },
    "id": "R5N_t7j3L-hQ",
    "outputId": "08061e91-cff7-4bd0-9152-990a83a5b2e2"
   },
   "outputs": [
    {
     "data": {
      "text/plain": [
       "[<matplotlib.lines.Line2D at 0x7f463a5e8610>]"
      ]
     },
     "execution_count": 14,
     "metadata": {
      "tags": []
     },
     "output_type": "execute_result"
    },
    {
     "data": {
      "image/png": "[encoded data removed]",
      "text/plain": [
       "<Figure size 432x288 with 1 Axes>"
      ]
     },
     "metadata": {
      "needs_background": "light",
      "tags": []
     },
     "output_type": "display_data"
    }
   ],
   "source": [
    "plt.plot(H.history[\"accuracy\"])\n",
    "plt.plot(H.history[\"val_accuracy\"])"
   ]
  },
  {
   "cell_type": "markdown",
   "metadata": {},
   "source": [
    "Load the model with best weights for evaluation"
   ]
  },
  {
   "cell_type": "code",
   "execution_count": 15,
   "metadata": {
    "colab": {
     "base_uri": "https://localhost:8080/"
    },
    "id": "RVYtBBBzNHYq",
    "outputId": "2ef2c212-9591-4cf0-e334-877f6fb82be5"
   },
   "outputs": [
    {
     "name": "stdout",
     "output_type": "stream",
     "text": [
      "Train Accuracy: 0.9931250214576721 Test Accuracy: 0.9779999852180481\n"
     ]
    }
   ],
   "source": [
    "model.load_weights('weights_pretrained/')\n",
    "print(\"Train Accuracy:\", model.evaluate(x_train, y_train, verbose=0)[1], \"Test Accuracy:\", model.evaluate(x_test, y_test, verbose=0)[1])"
   ]
  },
  {
   "cell_type": "markdown",
   "metadata": {
    "id": "gRn31NTsiXfQ"
   },
   "source": [
    "### Train on pre-trained model"
   ]
  },
  {
   "cell_type": "code",
   "execution_count": 16,
   "metadata": {
    "colab": {
     "base_uri": "https://localhost:8080/"
    },
    "id": "W3ouxOS6h22U",
    "outputId": "dc2c4ac0-19ee-4eaf-84f3-4168e080db7b"
   },
   "outputs": [
    {
     "data": {
      "text/plain": [
       "((60000, 28, 28, 1), (60000, 1))"
      ]
     },
     "execution_count": 16,
     "metadata": {
      "tags": []
     },
     "output_type": "execute_result"
    }
   ],
   "source": [
    "import idx2numpy\n",
    "file = 'train-images-idx3-ubyte'\n",
    "x_train = np.expand_dims(idx2numpy.convert_from_file(file), -1)\n",
    "\n",
    "file = 'train-labels-idx1-ubyte'\n",
    "y_train = np.expand_dims(idx2numpy.convert_from_file(file), -1)\n",
    "\n",
    "file = 't10k-images-idx3-ubyte'\n",
    "x_test = idx2numpy.convert_from_file(file)\n",
    "\n",
    "file = 't10k-labels-idx1-ubyte'\n",
    "y_test = idx2numpy.convert_from_file(file)\n",
    "\n",
    "x_train.shape, y_train.shape"
   ]
  },
  {
   "cell_type": "code",
   "execution_count": 17,
   "metadata": {
    "colab": {
     "base_uri": "https://localhost:8080/"
    },
    "id": "6Ho09BaIhDN_",
    "outputId": "f8d6b824-1e55-495d-ee17-8be1f39778b5"
   },
   "outputs": [
    {
     "name": "stdout",
     "output_type": "stream",
     "text": [
      "Epoch 1/5\n",
      "176/176 [==============================] - 3s 12ms/step - loss: 0.3134 - accuracy: 0.9311 - val_loss: 0.0963 - val_accuracy: 0.9723\n",
      "Epoch 2/5\n",
      "176/176 [==============================] - 2s 9ms/step - loss: 0.0825 - accuracy: 0.9750 - val_loss: 0.0605 - val_accuracy: 0.9800\n",
      "Epoch 3/5\n",
      "176/176 [==============================] - 2s 9ms/step - loss: 0.0617 - accuracy: 0.9806 - val_loss: 0.0763 - val_accuracy: 0.9775\n",
      "Epoch 4/5\n",
      "176/176 [==============================] - 2s 10ms/step - loss: 0.0516 - accuracy: 0.9843 - val_loss: 0.0476 - val_accuracy: 0.9852\n",
      "Epoch 5/5\n",
      "176/176 [==============================] - 2s 10ms/step - loss: 0.0434 - accuracy: 0.9863 - val_loss: 0.0464 - val_accuracy: 0.9859\n"
     ]
    }
   ],
   "source": [
    "model.load_weights(\"weights_pretrained/\")\n",
    "checkpoint_callback = tf.keras.callbacks.ModelCheckpoint(filepath='MNIST_pretrained/', save_weights_only=True, save_best_only=True, monitor=\"val_accuracy\", mode=\"max\")\n",
    "H = model.fit(x_train, y_train, validation_split=0.25, epochs=5, batch_size=256, shuffle=True, callbacks=[checkpoint_callback])"
   ]
  },
  {
   "cell_type": "code",
   "execution_count": 18,
   "metadata": {
    "colab": {
     "base_uri": "https://localhost:8080/",
     "height": 282
    },
    "id": "8MHXW_QFi4wF",
    "outputId": "5fcbcce4-6e2e-4878-de17-bb1ed1427e11"
   },
   "outputs": [
    {
     "data": {
      "text/plain": [
       "[<matplotlib.lines.Line2D at 0x7f463b347f10>]"
      ]
     },
     "execution_count": 18,
     "metadata": {
      "tags": []
     },
     "output_type": "execute_result"
    },
    {
     "data": {
      "image/png": "[encoded data removed]",
      "text/plain": [
       "<Figure size 432x288 with 1 Axes>"
      ]
     },
     "metadata": {
      "needs_background": "light",
      "tags": []
     },
     "output_type": "display_data"
    }
   ],
   "source": [
    "plt.plot(H.history[\"accuracy\"])\n",
    "plt.plot(H.history[\"val_accuracy\"])"
   ]
  },
  {
   "cell_type": "code",
   "execution_count": 19,
   "metadata": {
    "colab": {
     "base_uri": "https://localhost:8080/"
    },
    "id": "eBQNbXWqhDT_",
    "outputId": "f4eb1446-9ab0-4760-d570-1e963b550205"
   },
   "outputs": [
    {
     "name": "stdout",
     "output_type": "stream",
     "text": [
      "Test Accuracy: 0.9882000088691711\n"
     ]
    }
   ],
   "source": [
    "print(\"Test Accuracy:\", model.evaluate(x_test, y_test, verbose=0)[1])"
   ]
  },
  {
   "cell_type": "markdown",
   "metadata": {},
   "source": [
    "### Train on Randomly Initialized Network"
   ]
  },
  {
   "cell_type": "code",
   "execution_count": 20,
   "metadata": {
    "colab": {
     "base_uri": "https://localhost:8080/"
    },
    "id": "6HFanCQJhDZK",
    "outputId": "39986153-cd72-4ead-c9d3-9ad5043784d8"
   },
   "outputs": [
    {
     "name": "stdout",
     "output_type": "stream",
     "text": [
      "Epoch 1/5\n",
      "176/176 [==============================] - 3s 11ms/step - loss: 0.5020 - accuracy: 0.8482 - val_loss: 0.1100 - val_accuracy: 0.9681\n",
      "Epoch 2/5\n",
      "176/176 [==============================] - 2s 9ms/step - loss: 0.0971 - accuracy: 0.9696 - val_loss: 0.1450 - val_accuracy: 0.9584\n",
      "Epoch 3/5\n",
      "176/176 [==============================] - 2s 9ms/step - loss: 0.0697 - accuracy: 0.9790 - val_loss: 0.0970 - val_accuracy: 0.9696\n",
      "Epoch 4/5\n",
      "176/176 [==============================] - 2s 9ms/step - loss: 0.0566 - accuracy: 0.9820 - val_loss: 0.1154 - val_accuracy: 0.9667\n",
      "Epoch 5/5\n",
      "176/176 [==============================] - 2s 9ms/step - loss: 0.0506 - accuracy: 0.9838 - val_loss: 0.1094 - val_accuracy: 0.9682\n"
     ]
    }
   ],
   "source": [
    "model = Model(x_train[0].shape, 10)\n",
    "model.compile(optimizer=\"rmsprop\", loss=\"sparse_categorical_crossentropy\", metrics=\"accuracy\")\n",
    "checkpoint_callback = tf.keras.callbacks.ModelCheckpoint(filepath='MNIST/', save_weights_only=True, save_best_only=True, monitor=\"val_accuracy\", mode=\"max\")\n",
    "H = model.fit(x_train, y_train, validation_split=0.25, epochs=5, batch_size=256, shuffle=True, callbacks=[checkpoint_callback])"
   ]
  },
  {
   "cell_type": "code",
   "execution_count": 21,
   "metadata": {
    "colab": {
     "base_uri": "https://localhost:8080/",
     "height": 282
    },
    "id": "ROmYD4cGjJ9m",
    "outputId": "44945817-08d5-48ba-ca3f-ca2ee55cdd72"
   },
   "outputs": [
    {
     "data": {
      "text/plain": [
       "[<matplotlib.lines.Line2D at 0x7f463a44aa90>]"
      ]
     },
     "execution_count": 21,
     "metadata": {
      "tags": []
     },
     "output_type": "execute_result"
    },
    {
     "data": {
      "image/png": "[encoded data removed]",
      "text/plain": [
       "<Figure size 432x288 with 1 Axes>"
      ]
     },
     "metadata": {
      "needs_background": "light",
      "tags": []
     },
     "output_type": "display_data"
    }
   ],
   "source": [
    "plt.plot(H.history[\"accuracy\"])\n",
    "plt.plot(H.history[\"val_accuracy\"])"
   ]
  },
  {
   "cell_type": "code",
   "execution_count": 22,
   "metadata": {
    "colab": {
     "base_uri": "https://localhost:8080/"
    },
    "id": "Tq7HmcvOjKjr",
    "outputId": "8f1800a4-8e63-4030-ec94-fb6d88e4befc"
   },
   "outputs": [
    {
     "name": "stdout",
     "output_type": "stream",
     "text": [
      "Test Accuracy: 0.9702000021934509\n"
     ]
    }
   ],
   "source": [
    "print(\"Test Accuracy:\", model.evaluate(x_test, y_test, verbose=0)[1])"
   ]
  },
  {
   "cell_type": "code",
   "execution_count": null,
   "metadata": {
    "id": "_GTGWSxRZ8qi"
   },
   "outputs": [],
   "source": []
  }
 ],
 "metadata": {
  "accelerator": "GPU",
  "colab": {
   "collapsed_sections": [],
   "name": "IIIT_D_(Task_2_2).ipynb",
   "provenance": []
  },
  "kernelspec": {
   "display_name": "Python 3",
   "language": "python",
   "name": "python3"
  },
  "language_info": {
   "codemirror_mode": {
    "name": "ipython",
    "version": 3
   },
   "file_extension": ".py",
   "mimetype": "text/x-python",
   "name": "python",
   "nbconvert_exporter": "python",
   "pygments_lexer": "ipython3",
   "version": "3.6.6"
  }
 },
 "nbformat": 4,
 "nbformat_minor": 1
}
