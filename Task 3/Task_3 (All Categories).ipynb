{
 "cells": [
  {
   "cell_type": "markdown",
   "metadata": {},
   "source": [
    "### Load necessary files and packages"
   ]
  },
  {
   "cell_type": "code",
   "execution_count": 1,
   "metadata": {
    "colab": {
     "base_uri": "https://localhost:8080/",
     "height": 90,
     "resources": {
      "http://localhost:8080/nbextensions/google.colab/files.js": {
       "data": "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",
       "headers": [
        [
         "content-type",
         "application/javascript"
        ]
       ],
       "ok": true,
       "status": 200,
       "status_text": ""
      }
     }
    },
    "id": "eYZ3PBSBrkqo",
    "outputId": "e13bafe9-1b87-4c2a-8cef-c49f744c7c0f"
   },
   "outputs": [
    {
     "data": {
      "text/html": [
       "\n",
       "     <input type=\"file\" id=\"files-5544e9d3-d545-45e8-bee5-0ed090679f74\" name=\"files[]\" multiple disabled\n",
       "        style=\"border:none\" />\n",
       "     <output id=\"result-5544e9d3-d545-45e8-bee5-0ed090679f74\">\n",
       "      Upload widget is only available when the cell has been executed in the\n",
       "      current browser session. Please rerun this cell to enable.\n",
       "      </output>\n",
       "      <script src=\"/nbextensions/google.colab/files.js\"></script> "
      ],
      "text/plain": [
       "<IPython.core.display.HTML object>"
      ]
     },
     "metadata": {
      "tags": []
     },
     "output_type": "display_data"
    },
    {
     "name": "stdout",
     "output_type": "stream",
     "text": [
      "Saving flipkart_com-ecommerce_sample - flipkart_com-ecommerce_sample.xlsx to flipkart_com-ecommerce_sample - flipkart_com-ecommerce_sample.xlsx\n"
     ]
    }
   ],
   "source": [
    "from google.colab import files\n",
    "uploaded = files.upload()"
   ]
  },
  {
   "cell_type": "code",
   "execution_count": 1,
   "metadata": {
    "id": "9BTWebEktT3x"
   },
   "outputs": [],
   "source": [
    "import pandas as pd\n",
    "import numpy as np\n",
    "from sklearn.model_selection import train_test_split\n",
    "from sklearn.preprocessing import LabelEncoder\n",
    "from sklearn.preprocessing import OneHotEncoder\n",
    "from sklearn.impute import KNNImputer\n",
    "import matplotlib.pyplot as plt\n",
    "import seaborn as sns\n",
    "import tensorflow as tf\n",
    "import nltk\n",
    "\n",
    "# nltk.download('wordnet')\n",
    "# nltk.download('stopwords')"
   ]
  },
  {
   "cell_type": "markdown",
   "metadata": {},
   "source": [
    "Objects that will be used later in the code"
   ]
  },
  {
   "cell_type": "code",
   "execution_count": 2,
   "metadata": {
    "id": "UWSaOg-XQYUQ"
   },
   "outputs": [],
   "source": [
    "Tokenizer = nltk.tokenize.TweetTokenizer()\n",
    "Lemmatizer = nltk.stem.WordNetLemmatizer()\n",
    "\n",
    "Imputer = KNNImputer()\n",
    "\n",
    "ohe_name = OneHotEncoder(sparse=False)\n",
    "\n",
    "name_le = LabelEncoder()\n",
    "brand_le = LabelEncoder()\n",
    "cat_le = LabelEncoder()\n",
    "cat_tree_le = LabelEncoder()"
   ]
  },
  {
   "cell_type": "markdown",
   "metadata": {},
   "source": [
    "### Load the Dataset"
   ]
  },
  {
   "cell_type": "code",
   "execution_count": 3,
   "metadata": {
    "colab": {
     "base_uri": "https://localhost:8080/",
     "height": 467
    },
    "id": "ymkVJxlyGjyL",
    "outputId": "c93e0fc8-9ac0-4291-f4b2-0ce1f1de39bc"
   },
   "outputs": [
    {
     "data": {
      "text/html": [
       "<div>\n",
       "<style scoped>\n",
       "    .dataframe tbody tr th:only-of-type {\n",
       "        vertical-align: middle;\n",
       "    }\n",
       "\n",
       "    .dataframe tbody tr th {\n",
       "        vertical-align: top;\n",
       "    }\n",
       "\n",
       "    .dataframe thead th {\n",
       "        text-align: right;\n",
       "    }\n",
       "</style>\n",
       "<table border=\"1\" class=\"dataframe\">\n",
       "  <thead>\n",
       "    <tr style=\"text-align: right;\">\n",
       "      <th></th>\n",
       "      <th>product_name</th>\n",
       "      <th>product_category_tree</th>\n",
       "      <th>retail_price</th>\n",
       "      <th>discounted_price</th>\n",
       "      <th>is_FK_Advantage_product</th>\n",
       "      <th>description</th>\n",
       "      <th>product_rating</th>\n",
       "      <th>overall_rating</th>\n",
       "      <th>brand</th>\n",
       "    </tr>\n",
       "  </thead>\n",
       "  <tbody>\n",
       "    <tr>\n",
       "      <th>0</th>\n",
       "      <td>Alisha Solid Women's Cycling Shorts</td>\n",
       "      <td>[\"Clothing &gt;&gt; Women's Clothing &gt;&gt; Lingerie, Sl...</td>\n",
       "      <td>999.0</td>\n",
       "      <td>379.0</td>\n",
       "      <td>False</td>\n",
       "      <td>Key Features of Alisha Solid Women's Cycling S...</td>\n",
       "      <td>No rating available</td>\n",
       "      <td>No rating available</td>\n",
       "      <td>Alisha</td>\n",
       "    </tr>\n",
       "    <tr>\n",
       "      <th>1</th>\n",
       "      <td>FabHomeDecor Fabric Double Sofa Bed</td>\n",
       "      <td>[\"Furniture &gt;&gt; Living Room Furniture &gt;&gt; Sofa B...</td>\n",
       "      <td>32157.0</td>\n",
       "      <td>22646.0</td>\n",
       "      <td>False</td>\n",
       "      <td>FabHomeDecor Fabric Double Sofa Bed (Finish Co...</td>\n",
       "      <td>No rating available</td>\n",
       "      <td>No rating available</td>\n",
       "      <td>FabHomeDecor</td>\n",
       "    </tr>\n",
       "    <tr>\n",
       "      <th>2</th>\n",
       "      <td>AW Bellies</td>\n",
       "      <td>[\"Footwear &gt;&gt; Women's Footwear &gt;&gt; Ballerinas &gt;...</td>\n",
       "      <td>999.0</td>\n",
       "      <td>499.0</td>\n",
       "      <td>False</td>\n",
       "      <td>Key Features of AW Bellies Sandals Wedges Heel...</td>\n",
       "      <td>No rating available</td>\n",
       "      <td>No rating available</td>\n",
       "      <td>AW</td>\n",
       "    </tr>\n",
       "    <tr>\n",
       "      <th>3</th>\n",
       "      <td>Alisha Solid Women's Cycling Shorts</td>\n",
       "      <td>[\"Clothing &gt;&gt; Women's Clothing &gt;&gt; Lingerie, Sl...</td>\n",
       "      <td>699.0</td>\n",
       "      <td>267.0</td>\n",
       "      <td>False</td>\n",
       "      <td>Key Features of Alisha Solid Women's Cycling S...</td>\n",
       "      <td>No rating available</td>\n",
       "      <td>No rating available</td>\n",
       "      <td>Alisha</td>\n",
       "    </tr>\n",
       "    <tr>\n",
       "      <th>4</th>\n",
       "      <td>Sicons All Purpose Arnica Dog Shampoo</td>\n",
       "      <td>[\"Pet Supplies &gt;&gt; Grooming &gt;&gt; Skin &amp; Coat Care...</td>\n",
       "      <td>220.0</td>\n",
       "      <td>210.0</td>\n",
       "      <td>False</td>\n",
       "      <td>Specifications of Sicons All Purpose Arnica Do...</td>\n",
       "      <td>No rating available</td>\n",
       "      <td>No rating available</td>\n",
       "      <td>Sicons</td>\n",
       "    </tr>\n",
       "  </tbody>\n",
       "</table>\n",
       "</div>"
      ],
      "text/plain": [
       "                            product_name  ...         brand\n",
       "0    Alisha Solid Women's Cycling Shorts  ...        Alisha\n",
       "1    FabHomeDecor Fabric Double Sofa Bed  ...  FabHomeDecor\n",
       "2                             AW Bellies  ...            AW\n",
       "3    Alisha Solid Women's Cycling Shorts  ...        Alisha\n",
       "4  Sicons All Purpose Arnica Dog Shampoo  ...        Sicons\n",
       "\n",
       "[5 rows x 9 columns]"
      ]
     },
     "execution_count": 3,
     "metadata": {
      "tags": []
     },
     "output_type": "execute_result"
    }
   ],
   "source": [
    "dataset = pd.read_excel(\"flipkart_com-ecommerce_sample - flipkart_com-ecommerce_sample.xlsx\")\n",
    "dataset = dataset.drop(columns=[\"uniq_id\", \"crawl_timestamp\", \"image\", \"product_url\", \"pid\", \"product_specifications\"])\n",
    "dataset = dataset[dataset[\"description\"].notna()]\n",
    "dataset.head()"
   ]
  },
  {
   "cell_type": "markdown",
   "metadata": {},
   "source": [
    "### Data Analysis & Cleaning"
   ]
  },
  {
   "cell_type": "code",
   "execution_count": 4,
   "metadata": {
    "colab": {
     "base_uri": "https://localhost:8080/"
    },
    "id": "pB6KsjCcYxhk",
    "outputId": "43075ea5-c064-4257-b4a4-009d240af7c4"
   },
   "outputs": [
    {
     "name": "stdout",
     "output_type": "stream",
     "text": [
      "<class 'pandas.core.frame.DataFrame'>\n",
      "Int64Index: 19998 entries, 0 to 19999\n",
      "Data columns (total 9 columns):\n",
      " #   Column                   Non-Null Count  Dtype  \n",
      "---  ------                   --------------  -----  \n",
      " 0   product_name             19998 non-null  object \n",
      " 1   product_category_tree    19998 non-null  object \n",
      " 2   retail_price             19920 non-null  float64\n",
      " 3   discounted_price         19920 non-null  float64\n",
      " 4   is_FK_Advantage_product  19998 non-null  bool   \n",
      " 5   description              19998 non-null  object \n",
      " 6   product_rating           19998 non-null  object \n",
      " 7   overall_rating           19998 non-null  object \n",
      " 8   brand                    14135 non-null  object \n",
      "dtypes: bool(1), float64(2), object(6)\n",
      "memory usage: 1.4+ MB\n"
     ]
    }
   ],
   "source": [
    "dataset.info()"
   ]
  },
  {
   "cell_type": "code",
   "execution_count": 5,
   "metadata": {
    "colab": {
     "base_uri": "https://localhost:8080/"
    },
    "id": "Ya8xLH-2ZOe9",
    "outputId": "3640471d-b48c-4d84-b88b-51fa740faecc"
   },
   "outputs": [
    {
     "name": "stdout",
     "output_type": "stream",
     "text": [
      "<class 'pandas.core.frame.DataFrame'>\n",
      "Int64Index: 19998 entries, 0 to 19999\n",
      "Data columns (total 10 columns):\n",
      " #   Column                   Non-Null Count  Dtype  \n",
      "---  ------                   --------------  -----  \n",
      " 0   product_name             19998 non-null  int64  \n",
      " 1   product_category_tree    19998 non-null  int64  \n",
      " 2   retail_price             19920 non-null  float64\n",
      " 3   discounted_price         19920 non-null  float64\n",
      " 4   is_FK_Advantage_product  19998 non-null  bool   \n",
      " 5   description              19998 non-null  object \n",
      " 6   product_rating           1849 non-null   float64\n",
      " 7   overall_rating           1849 non-null   float64\n",
      " 8   brand                    19998 non-null  int64  \n",
      " 9   product_category         19998 non-null  int64  \n",
      "dtypes: bool(1), float64(4), int64(4), object(1)\n",
      "memory usage: 1.5+ MB\n"
     ]
    }
   ],
   "source": [
    "dataset[\"product_name\"] = name_le.fit_transform(dataset[\"product_name\"])\n",
    "\n",
    "dataset[\"product_category\"] = dataset[\"product_category_tree\"].str.split(\" >>\", 1).str[0]\n",
    "dataset[\"product_category\"] = cat_tree_le.fit_transform(dataset[\"product_category\"])\n",
    "\n",
    "dataset[\"product_category_tree\"] = cat_le.fit_transform(dataset[\"product_category_tree\"])\n",
    "\n",
    "dataset[\"is_FK_Advantage_product\"] = pd.to_numeric(dataset[\"is_FK_Advantage_product\"], errors='coerce')\n",
    "\n",
    "dataset[\"product_rating\"] = pd.to_numeric(dataset[\"product_rating\"], errors='coerce')\n",
    "\n",
    "dataset[\"overall_rating\"] = pd.to_numeric(dataset[\"overall_rating\"], errors='coerce')\n",
    "\n",
    "dataset[\"brand\"] = dataset[\"brand\"].astype(\"str\")\n",
    "dataset[\"brand\"] = brand_le.fit_transform(dataset[\"brand\"])\n",
    "\n",
    "dataset.info()"
   ]
  },
  {
   "cell_type": "code",
   "execution_count": 6,
   "metadata": {
    "colab": {
     "base_uri": "https://localhost:8080/"
    },
    "id": "FzWRdRDjjeGa",
    "outputId": "58b82cc6-b997-445e-c902-a34d4fb96d96"
   },
   "outputs": [
    {
     "name": "stdout",
     "output_type": "stream",
     "text": [
      "<class 'pandas.core.frame.DataFrame'>\n",
      "Int64Index: 19998 entries, 0 to 19999\n",
      "Data columns (total 8 columns):\n",
      " #   Column                   Non-Null Count  Dtype  \n",
      "---  ------                   --------------  -----  \n",
      " 0   product_name             19998 non-null  int64  \n",
      " 1   product_category_tree    19998 non-null  int64  \n",
      " 2   retail_price             19998 non-null  float64\n",
      " 3   discounted_price         19998 non-null  float64\n",
      " 4   is_FK_Advantage_product  19998 non-null  bool   \n",
      " 5   description              19998 non-null  object \n",
      " 6   brand                    19998 non-null  int64  \n",
      " 7   product_category         19998 non-null  int64  \n",
      "dtypes: bool(1), float64(2), int64(4), object(1)\n",
      "memory usage: 1.2+ MB\n"
     ]
    }
   ],
   "source": [
    "dataset = dataset.drop(columns=[\"product_rating\", \"overall_rating\"])\n",
    "dataset[[\"retail_price\"]] = Imputer.fit_transform(dataset[[\"retail_price\"]])\n",
    "dataset[[\"discounted_price\"]] = Imputer.fit_transform(dataset[[\"discounted_price\"]])\n",
    "dataset.info()"
   ]
  },
  {
   "cell_type": "markdown",
   "metadata": {},
   "source": [
    "##### Visualize the data"
   ]
  },
  {
   "cell_type": "code",
   "execution_count": 7,
   "metadata": {
    "colab": {
     "base_uri": "https://localhost:8080/",
     "height": 405
    },
    "id": "QWrQvI_tjteg",
    "outputId": "4b11be97-06f1-46c3-ee66-f5a7aa44f418"
   },
   "outputs": [
    {
     "data": {
      "text/plain": [
       "<matplotlib.axes._subplots.AxesSubplot at 0x7f2df3cd3d10>"
      ]
     },
     "execution_count": 7,
     "metadata": {
      "tags": []
     },
     "output_type": "execute_result"
    },
    {
     "data": {
      "image/png": "[encoded data removed]",
      "text/plain": [
       "<Figure size 432x288 with 2 Axes>"
      ]
     },
     "metadata": {
      "needs_background": "light",
      "tags": []
     },
     "output_type": "display_data"
    }
   ],
   "source": [
    "sns.heatmap(dataset.corr())"
   ]
  },
  {
   "cell_type": "markdown",
   "metadata": {},
   "source": [
    "If some columns have very high correlation, then only one of them is required. For example: in this case retail price and discounted price are highly correlated. Similary, product name and brand are also highly correlated. Hence only of the highly correlated columns is kept for the input dataset"
   ]
  },
  {
   "cell_type": "code",
   "execution_count": 8,
   "metadata": {
    "colab": {
     "base_uri": "https://localhost:8080/",
     "height": 282
    },
    "id": "9iec75szjti1",
    "outputId": "cb18d184-93fb-4cb6-ef0f-369e15674286"
   },
   "outputs": [
    {
     "data": {
      "text/plain": [
       "<matplotlib.collections.PathCollection at 0x7f2df3edb950>"
      ]
     },
     "execution_count": 8,
     "metadata": {
      "tags": []
     },
     "output_type": "execute_result"
    },
    {
     "data": {
      "image/png": "[encoded data removed]",
      "text/plain": [
       "<Figure size 432x288 with 1 Axes>"
      ]
     },
     "metadata": {
      "needs_background": "light",
      "tags": []
     },
     "output_type": "display_data"
    }
   ],
   "source": [
    "plt.scatter(dataset[\"product_name\"], dataset[\"product_category\"])"
   ]
  },
  {
   "cell_type": "code",
   "execution_count": 9,
   "metadata": {
    "colab": {
     "base_uri": "https://localhost:8080/",
     "height": 282
    },
    "id": "IEzLqAWCk5dK",
    "outputId": "726d75de-9510-4dfc-ca03-ab78481039c4"
   },
   "outputs": [
    {
     "data": {
      "text/plain": [
       "<matplotlib.collections.PathCollection at 0x7f2df2c172d0>"
      ]
     },
     "execution_count": 9,
     "metadata": {
      "tags": []
     },
     "output_type": "execute_result"
    },
    {
     "data": {
      "image/png": "[encoded data removed]",
      "text/plain": [
       "<Figure size 432x288 with 1 Axes>"
      ]
     },
     "metadata": {
      "needs_background": "light",
      "tags": []
     },
     "output_type": "display_data"
    }
   ],
   "source": [
    "plt.scatter(dataset[\"is_FK_Advantage_product\"], dataset[\"product_category\"])"
   ]
  },
  {
   "cell_type": "code",
   "execution_count": 10,
   "metadata": {
    "colab": {
     "base_uri": "https://localhost:8080/",
     "height": 282
    },
    "id": "1s6VjALejtnq",
    "outputId": "c9d9557f-ab04-4b78-d5ce-fd299ef14565"
   },
   "outputs": [
    {
     "data": {
      "text/plain": [
       "<matplotlib.collections.PathCollection at 0x7f2df3cf9e90>"
      ]
     },
     "execution_count": 10,
     "metadata": {
      "tags": []
     },
     "output_type": "execute_result"
    },
    {
     "data": {
      "image/png": "[encoded data removed]",
      "text/plain": [
       "<Figure size 432x288 with 1 Axes>"
      ]
     },
     "metadata": {
      "needs_background": "light",
      "tags": []
     },
     "output_type": "display_data"
    }
   ],
   "source": [
    "plt.scatter(dataset[\"brand\"], dataset[\"product_category\"])"
   ]
  },
  {
   "cell_type": "markdown",
   "metadata": {},
   "source": [
    "### Choose the columns (other than product descrption) as input columns and pre-process them"
   ]
  },
  {
   "cell_type": "code",
   "execution_count": 11,
   "metadata": {
    "id": "W6xViZsfjtsL"
   },
   "outputs": [],
   "source": [
    "prod_name = ohe_name.fit_transform(dataset[[\"product_name\"]])\n",
    "retail_price = np.asarray(dataset[[\"retail_price\"]])\n",
    "advantage_product = np.asarray(dataset[[\"is_FK_Advantage_product\"]])"
   ]
  },
  {
   "cell_type": "code",
   "execution_count": 12,
   "metadata": {
    "colab": {
     "base_uri": "https://localhost:8080/"
    },
    "id": "U8J9VtmUjtvn",
    "outputId": "51435231-b4ac-461f-dbaf-847093fb3522"
   },
   "outputs": [
    {
     "data": {
      "text/plain": [
       "((19998, 12675), (19998, 1), (19998, 1))"
      ]
     },
     "execution_count": 12,
     "metadata": {
      "tags": []
     },
     "output_type": "execute_result"
    }
   ],
   "source": [
    "prod_name.shape, retail_price.shape, advantage_product.shape"
   ]
  },
  {
   "cell_type": "markdown",
   "metadata": {},
   "source": [
    "#### Create input samples for product description\n",
    "The maximum input length is chosen by calculating the mean length of the product description.<br />\n",
    "The product description is pre-processed. Pre-processing includes: Tokenization, Stop Word Removal and Lemmatization <br />\n",
    "The description having length < max_input_len are padded with 0's and for description having length > max_input_len, only the latest max_input_len words are taken."
   ]
  },
  {
   "cell_type": "code",
   "execution_count": 13,
   "metadata": {
    "id": "K99cwN6RGj5T"
   },
   "outputs": [],
   "source": [
    "bow = set()\n",
    "word_to_id = {\"PADDING\": 0}\n",
    "id_to_word = {0: \"PADDING\"}\n",
    "id = 1\n",
    "\n",
    "lengths = []\n",
    "input_len = int(dataset[\"description\"].str.len().mean())\n",
    "description_trans = []\n",
    "for i, row in dataset.iterrows():\n",
    "  description = row[\"description\"]\n",
    "  word = Tokenizer.tokenize(description)\n",
    "  stop_words = nltk.corpus.stopwords.words(\"english\")\n",
    "  filtered_sent = []\n",
    "  lengths.append(len(word))\n",
    "  for w in word:\n",
    "    if w not in stop_words:\n",
    "      w = Lemmatizer.lemmatize(w)\n",
    "      bow.add(w)\n",
    "      if word_to_id.get(w) is None:\n",
    "        word_to_id[w] = id\n",
    "        id_to_word[id] = w\n",
    "        id += 1\n",
    "      filtered_sent.append(word_to_id[w])\n",
    "  filtered_sent = filtered_sent[:input_len]\n",
    "  filtered_sent = np.pad(filtered_sent, (0,input_len-len(filtered_sent)), \"constant\", constant_values=0)\n",
    "  description_trans.append(filtered_sent)\n",
    "description_trans = np.asarray(description_trans)"
   ]
  },
  {
   "cell_type": "markdown",
   "metadata": {},
   "source": [
    "### Create Input Dataset"
   ]
  },
  {
   "cell_type": "code",
   "execution_count": 14,
   "metadata": {
    "id": "x2gBacmGvEUe"
   },
   "outputs": [],
   "source": [
    "X_description = description_trans\n",
    "X_meta = np.hstack([prod_name, retail_price, advantage_product])\n",
    "Y = np.asarray(dataset[[\"product_category\"]])"
   ]
  },
  {
   "cell_type": "code",
   "execution_count": 15,
   "metadata": {
    "colab": {
     "base_uri": "https://localhost:8080/"
    },
    "id": "PkEXGPOOGj-f",
    "outputId": "0427d5c4-8734-4656-fb54-ce9c540f8a79"
   },
   "outputs": [
    {
     "data": {
      "text/plain": [
       "((19998, 430), (19998, 12677), (19998, 1))"
      ]
     },
     "execution_count": 15,
     "metadata": {
      "tags": []
     },
     "output_type": "execute_result"
    }
   ],
   "source": [
    "X_description.shape, X_meta.shape, Y.shape"
   ]
  },
  {
   "cell_type": "markdown",
   "metadata": {},
   "source": [
    "### Train-Test Split"
   ]
  },
  {
   "cell_type": "code",
   "execution_count": 16,
   "metadata": {
    "id": "qwE7u-TAGcMm"
   },
   "outputs": [],
   "source": [
    "d_train, d_test, m_train, m_test, y_train, y_test = train_test_split(X_description, X_meta, Y, test_size=0.50, random_state=42)"
   ]
  },
  {
   "cell_type": "markdown",
   "metadata": {},
   "source": [
    "# Experiments with different models"
   ]
  },
  {
   "cell_type": "markdown",
   "metadata": {},
   "source": [
    "### Method for creating model"
   ]
  },
  {
   "cell_type": "code",
   "execution_count": 17,
   "metadata": {
    "id": "89k-4SPRwZTN"
   },
   "outputs": [],
   "source": [
    "def Model(x_description, x_meta, embed_size=16, LSTM=128, dropout=0.25):\n",
    "  input_description = tf.keras.layers.Input(shape=x_description)\n",
    "  x = tf.keras.layers.Embedding(id, embed_size, mask_zero=True, input_length=input_len)(input_description)\n",
    "  x = tf.keras.layers.Dropout(dropout)(x)\n",
    "\n",
    "  x = tf.keras.layers.LSTM(LSTM, return_sequences=True)(x)\n",
    "  x = tf.keras.layers.BatchNormalization()(x)\n",
    "  x = tf.keras.layers.Dropout(dropout)(x)\n",
    "\n",
    "  x = tf.keras.layers.LSTM(LSTM*2)(x)\n",
    "  x = tf.keras.layers.BatchNormalization()(x)\n",
    "  x = tf.keras.layers.Dropout(dropout)(x)\n",
    "\n",
    "  input_meta = tf.keras.layers.Input(shape=x_meta)\n",
    "  x = tf.keras.layers.Concatenate()([x, input_meta])\n",
    "  x = tf.keras.layers.BatchNormalization()(x)\n",
    "\n",
    "  x = tf.keras.layers.Dense(4086)(x)\n",
    "  x = tf.keras.layers.BatchNormalization()(x)\n",
    "  x = tf.keras.layers.Activation(tf.nn.leaky_relu)(x)\n",
    "  x = tf.keras.layers.Dropout(dropout)(x)\n",
    "\n",
    "  x = tf.keras.layers.Dense(1024)(x)\n",
    "  x = tf.keras.layers.BatchNormalization()(x)\n",
    "  x = tf.keras.layers.Activation(tf.nn.leaky_relu)(x)\n",
    "  x = tf.keras.layers.Dropout(dropout)(x)\n",
    "  \n",
    "  x = tf.keras.layers.Dense(len(dataset[\"product_category\"].unique()))(x)\n",
    "  x = tf.keras.layers.BatchNormalization()(x)\n",
    "  x = tf.keras.layers.Activation(tf.nn.softmax)(x)\n",
    "  return tf.keras.Model([input_description, input_meta], x)"
   ]
  },
  {
   "cell_type": "markdown",
   "metadata": {},
   "source": [
    "### Model-1"
   ]
  },
  {
   "cell_type": "code",
   "execution_count": 19,
   "metadata": {
    "colab": {
     "base_uri": "https://localhost:8080/"
    },
    "id": "gwahwxnbwZWz",
    "outputId": "85bdcf3d-4ba4-4e7e-f270-e0e867b46d3d"
   },
   "outputs": [
    {
     "name": "stdout",
     "output_type": "stream",
     "text": [
      "Model: \"model\"\n",
      "__________________________________________________________________________________________________\n",
      "Layer (type)                    Output Shape         Param #     Connected to                     \n",
      "==================================================================================================\n",
      "input_1 (InputLayer)            [(None, 430)]        0                                            \n",
      "__________________________________________________________________________________________________\n",
      "embedding (Embedding)           (None, 430, 16)      578912      input_1[0][0]                    \n",
      "__________________________________________________________________________________________________\n",
      "dropout (Dropout)               (None, 430, 16)      0           embedding[0][0]                  \n",
      "__________________________________________________________________________________________________\n",
      "lstm (LSTM)                     (None, 430, 128)     74240       dropout[0][0]                    \n",
      "__________________________________________________________________________________________________\n",
      "batch_normalization (BatchNorma (None, 430, 128)     512         lstm[0][0]                       \n",
      "__________________________________________________________________________________________________\n",
      "dropout_1 (Dropout)             (None, 430, 128)     0           batch_normalization[0][0]        \n",
      "__________________________________________________________________________________________________\n",
      "lstm_1 (LSTM)                   (None, 256)          394240      dropout_1[0][0]                  \n",
      "__________________________________________________________________________________________________\n",
      "batch_normalization_1 (BatchNor (None, 256)          1024        lstm_1[0][0]                     \n",
      "__________________________________________________________________________________________________\n",
      "dropout_2 (Dropout)             (None, 256)          0           batch_normalization_1[0][0]      \n",
      "__________________________________________________________________________________________________\n",
      "input_2 (InputLayer)            [(None, 12677)]      0                                            \n",
      "__________________________________________________________________________________________________\n",
      "concatenate (Concatenate)       (None, 12933)        0           dropout_2[0][0]                  \n",
      "                                                                 input_2[0][0]                    \n",
      "__________________________________________________________________________________________________\n",
      "batch_normalization_2 (BatchNor (None, 12933)        51732       concatenate[0][0]                \n",
      "__________________________________________________________________________________________________\n",
      "dense (Dense)                   (None, 4086)         52848324    batch_normalization_2[0][0]      \n",
      "__________________________________________________________________________________________________\n",
      "batch_normalization_3 (BatchNor (None, 4086)         16344       dense[0][0]                      \n",
      "__________________________________________________________________________________________________\n",
      "activation (Activation)         (None, 4086)         0           batch_normalization_3[0][0]      \n",
      "__________________________________________________________________________________________________\n",
      "dropout_3 (Dropout)             (None, 4086)         0           activation[0][0]                 \n",
      "__________________________________________________________________________________________________\n",
      "dense_1 (Dense)                 (None, 1024)         4185088     dropout_3[0][0]                  \n",
      "__________________________________________________________________________________________________\n",
      "batch_normalization_4 (BatchNor (None, 1024)         4096        dense_1[0][0]                    \n",
      "__________________________________________________________________________________________________\n",
      "activation_1 (Activation)       (None, 1024)         0           batch_normalization_4[0][0]      \n",
      "__________________________________________________________________________________________________\n",
      "dropout_4 (Dropout)             (None, 1024)         0           activation_1[0][0]               \n",
      "__________________________________________________________________________________________________\n",
      "dense_2 (Dense)                 (None, 266)          272650      dropout_4[0][0]                  \n",
      "__________________________________________________________________________________________________\n",
      "batch_normalization_5 (BatchNor (None, 266)          1064        dense_2[0][0]                    \n",
      "__________________________________________________________________________________________________\n",
      "activation_2 (Activation)       (None, 266)          0           batch_normalization_5[0][0]      \n",
      "==================================================================================================\n",
      "Total params: 58,428,226\n",
      "Trainable params: 58,390,840\n",
      "Non-trainable params: 37,386\n",
      "__________________________________________________________________________________________________\n"
     ]
    }
   ],
   "source": [
    "category_prediction_model_32_128 = Model(X_description[0].shape, X_meta[0].shape)\n",
    "category_prediction_model_32_128.compile(optimizer=\"rmsprop\", loss=\"sparse_categorical_crossentropy\", metrics=\"accuracy\")\n",
    "category_prediction_model_32_128.summary()"
   ]
  },
  {
   "cell_type": "code",
   "execution_count": 20,
   "metadata": {
    "colab": {
     "base_uri": "https://localhost:8080/"
    },
    "id": "KRQam2HkwZZW",
    "outputId": "09432977-a2e2-48e9-e480-e3aaff52b8eb"
   },
   "outputs": [
    {
     "name": "stdout",
     "output_type": "stream",
     "text": [
      "Epoch 1/50\n",
      "30/30 [==============================] - 46s 230ms/step - loss: 4.6694 - accuracy: 0.2081 - val_loss: 5.3624 - val_accuracy: 0.0516\n",
      "Epoch 2/50\n",
      "30/30 [==============================] - 4s 142ms/step - loss: 3.1173 - accuracy: 0.7898 - val_loss: 5.3064 - val_accuracy: 0.0228\n",
      "Epoch 3/50\n",
      "30/30 [==============================] - 4s 139ms/step - loss: 2.4257 - accuracy: 0.9323 - val_loss: 5.1762 - val_accuracy: 0.0296\n",
      "Epoch 4/50\n",
      "30/30 [==============================] - 4s 141ms/step - loss: 2.1607 - accuracy: 0.9629 - val_loss: 5.0246 - val_accuracy: 0.0672\n",
      "Epoch 5/50\n",
      "30/30 [==============================] - 4s 141ms/step - loss: 1.9325 - accuracy: 0.9859 - val_loss: 4.8728 - val_accuracy: 0.0904\n",
      "Epoch 6/50\n",
      "30/30 [==============================] - 4s 142ms/step - loss: 1.8200 - accuracy: 0.9888 - val_loss: 4.7489 - val_accuracy: 0.1448\n",
      "Epoch 7/50\n",
      "30/30 [==============================] - 4s 143ms/step - loss: 1.6674 - accuracy: 0.9951 - val_loss: 4.5762 - val_accuracy: 0.2720\n",
      "Epoch 8/50\n",
      "30/30 [==============================] - 4s 143ms/step - loss: 1.6189 - accuracy: 0.9905 - val_loss: 4.3699 - val_accuracy: 0.2728\n",
      "Epoch 9/50\n",
      "30/30 [==============================] - 4s 143ms/step - loss: 1.4658 - accuracy: 0.9962 - val_loss: 4.1297 - val_accuracy: 0.4896\n",
      "Epoch 10/50\n",
      "30/30 [==============================] - 5s 146ms/step - loss: 1.3956 - accuracy: 0.9914 - val_loss: 3.9876 - val_accuracy: 0.5280\n",
      "Epoch 11/50\n",
      "30/30 [==============================] - 4s 141ms/step - loss: 1.2863 - accuracy: 0.9967 - val_loss: 3.2279 - val_accuracy: 0.5948\n",
      "Epoch 12/50\n",
      "30/30 [==============================] - 4s 143ms/step - loss: 1.1866 - accuracy: 0.9947 - val_loss: 3.4733 - val_accuracy: 0.6572\n",
      "Epoch 13/50\n",
      "30/30 [==============================] - 4s 144ms/step - loss: 1.1240 - accuracy: 0.9981 - val_loss: 2.6063 - val_accuracy: 0.8220\n",
      "Epoch 14/50\n",
      "30/30 [==============================] - 4s 143ms/step - loss: 1.0379 - accuracy: 0.9968 - val_loss: 2.7109 - val_accuracy: 0.7192\n",
      "Epoch 15/50\n",
      "30/30 [==============================] - 4s 141ms/step - loss: 0.9970 - accuracy: 0.9967 - val_loss: 2.2413 - val_accuracy: 0.8392\n",
      "Epoch 16/50\n",
      "30/30 [==============================] - 4s 144ms/step - loss: 0.9329 - accuracy: 0.9955 - val_loss: 2.4579 - val_accuracy: 0.7476\n",
      "Epoch 17/50\n",
      "30/30 [==============================] - 4s 143ms/step - loss: 0.8251 - accuracy: 0.9979 - val_loss: 2.0874 - val_accuracy: 0.7836\n",
      "Epoch 18/50\n",
      "30/30 [==============================] - 4s 142ms/step - loss: 0.7818 - accuracy: 0.9943 - val_loss: 1.7278 - val_accuracy: 0.8708\n",
      "Epoch 19/50\n",
      "30/30 [==============================] - 4s 144ms/step - loss: 0.7670 - accuracy: 0.9964 - val_loss: 1.8720 - val_accuracy: 0.8288\n",
      "Epoch 20/50\n",
      "30/30 [==============================] - 4s 142ms/step - loss: 0.6799 - accuracy: 0.9961 - val_loss: 1.7981 - val_accuracy: 0.8220\n",
      "Epoch 21/50\n",
      "30/30 [==============================] - 4s 144ms/step - loss: 0.6363 - accuracy: 0.9956 - val_loss: 1.7019 - val_accuracy: 0.8612\n",
      "Epoch 22/50\n",
      "30/30 [==============================] - 4s 143ms/step - loss: 0.5645 - accuracy: 0.9972 - val_loss: 1.4415 - val_accuracy: 0.8792\n",
      "Epoch 23/50\n",
      "30/30 [==============================] - 4s 146ms/step - loss: 0.5566 - accuracy: 0.9960 - val_loss: 1.3911 - val_accuracy: 0.8720\n",
      "Epoch 24/50\n",
      "30/30 [==============================] - 4s 143ms/step - loss: 0.4976 - accuracy: 0.9962 - val_loss: 1.4253 - val_accuracy: 0.8548\n",
      "Epoch 25/50\n",
      "30/30 [==============================] - 4s 142ms/step - loss: 0.4640 - accuracy: 0.9970 - val_loss: 1.3040 - val_accuracy: 0.8880\n",
      "Epoch 26/50\n",
      "30/30 [==============================] - 4s 144ms/step - loss: 0.4244 - accuracy: 0.9962 - val_loss: 1.4072 - val_accuracy: 0.8216\n",
      "Epoch 27/50\n",
      "30/30 [==============================] - 4s 142ms/step - loss: 0.3948 - accuracy: 0.9947 - val_loss: 1.2818 - val_accuracy: 0.8448\n",
      "Epoch 28/50\n",
      "30/30 [==============================] - 4s 143ms/step - loss: 0.3504 - accuracy: 0.9965 - val_loss: 1.0475 - val_accuracy: 0.8848\n",
      "Epoch 29/50\n",
      "30/30 [==============================] - 4s 143ms/step - loss: 0.3340 - accuracy: 0.9972 - val_loss: 1.2251 - val_accuracy: 0.8604\n",
      "Epoch 30/50\n",
      "30/30 [==============================] - 4s 142ms/step - loss: 0.3115 - accuracy: 0.9971 - val_loss: 1.1903 - val_accuracy: 0.8552\n",
      "Epoch 31/50\n",
      "30/30 [==============================] - 4s 143ms/step - loss: 0.2747 - accuracy: 0.9978 - val_loss: 1.0615 - val_accuracy: 0.8848\n",
      "Epoch 32/50\n",
      "30/30 [==============================] - 4s 142ms/step - loss: 0.2456 - accuracy: 0.9953 - val_loss: 1.0134 - val_accuracy: 0.8704\n",
      "Epoch 33/50\n",
      "30/30 [==============================] - 4s 144ms/step - loss: 0.2323 - accuracy: 0.9963 - val_loss: 1.0539 - val_accuracy: 0.8612\n",
      "Epoch 34/50\n",
      "30/30 [==============================] - 4s 143ms/step - loss: 0.1973 - accuracy: 0.9973 - val_loss: 0.9335 - val_accuracy: 0.8796\n",
      "Epoch 35/50\n",
      "30/30 [==============================] - 4s 142ms/step - loss: 0.1854 - accuracy: 0.9980 - val_loss: 0.8460 - val_accuracy: 0.8728\n",
      "Epoch 36/50\n",
      "30/30 [==============================] - 4s 143ms/step - loss: 0.1699 - accuracy: 0.9969 - val_loss: 0.9019 - val_accuracy: 0.8892\n",
      "Epoch 37/50\n",
      "30/30 [==============================] - 4s 143ms/step - loss: 0.1630 - accuracy: 0.9981 - val_loss: 0.7873 - val_accuracy: 0.8948\n",
      "Epoch 38/50\n",
      "30/30 [==============================] - 4s 144ms/step - loss: 0.1503 - accuracy: 0.9974 - val_loss: 1.0000 - val_accuracy: 0.8532\n",
      "Epoch 39/50\n",
      "30/30 [==============================] - 4s 143ms/step - loss: 0.1462 - accuracy: 0.9933 - val_loss: 0.7556 - val_accuracy: 0.8852\n",
      "Epoch 40/50\n",
      "30/30 [==============================] - 4s 143ms/step - loss: 0.1188 - accuracy: 0.9978 - val_loss: 0.7359 - val_accuracy: 0.8972\n",
      "Epoch 41/50\n",
      "30/30 [==============================] - 4s 143ms/step - loss: 0.1026 - accuracy: 0.9986 - val_loss: 0.7051 - val_accuracy: 0.8940\n",
      "Epoch 42/50\n",
      "30/30 [==============================] - 4s 143ms/step - loss: 0.0990 - accuracy: 0.9978 - val_loss: 0.7322 - val_accuracy: 0.8844\n",
      "Epoch 43/50\n",
      "30/30 [==============================] - 4s 143ms/step - loss: 0.0976 - accuracy: 0.9976 - val_loss: 0.7109 - val_accuracy: 0.8780\n",
      "Epoch 44/50\n",
      "30/30 [==============================] - 4s 144ms/step - loss: 0.0815 - accuracy: 0.9985 - val_loss: 0.6927 - val_accuracy: 0.8904\n",
      "Epoch 45/50\n",
      "30/30 [==============================] - 4s 143ms/step - loss: 0.0775 - accuracy: 0.9974 - val_loss: 0.6993 - val_accuracy: 0.8860\n",
      "Epoch 46/50\n",
      "30/30 [==============================] - 4s 142ms/step - loss: 0.0710 - accuracy: 0.9985 - val_loss: 0.6919 - val_accuracy: 0.8892\n",
      "Epoch 47/50\n",
      "30/30 [==============================] - 4s 142ms/step - loss: 0.0655 - accuracy: 0.9990 - val_loss: 0.7168 - val_accuracy: 0.8816\n",
      "Epoch 48/50\n",
      "30/30 [==============================] - 4s 142ms/step - loss: 0.0560 - accuracy: 0.9987 - val_loss: 0.6673 - val_accuracy: 0.8968\n",
      "Epoch 49/50\n",
      "30/30 [==============================] - 4s 143ms/step - loss: 0.0533 - accuracy: 0.9985 - val_loss: 0.6645 - val_accuracy: 0.8912\n",
      "Epoch 50/50\n",
      "30/30 [==============================] - 4s 143ms/step - loss: 0.0504 - accuracy: 0.9985 - val_loss: 0.6914 - val_accuracy: 0.8844\n"
     ]
    }
   ],
   "source": [
    "checkpoint_callback = tf.keras.callbacks.ModelCheckpoint(filepath='weights_32_128/', save_weights_only=True, save_best_only=True, monitor=\"val_accuracy\", mode=\"max\")\n",
    "H = category_prediction_model_32_128.fit([d_train, m_train], y_train, validation_split=0.25, epochs=50, batch_size=256, shuffle=True, callbacks=[checkpoint_callback])"
   ]
  },
  {
   "cell_type": "code",
   "execution_count": 21,
   "metadata": {
    "colab": {
     "base_uri": "https://localhost:8080/",
     "height": 282
    },
    "id": "yPzB2sMewZcw",
    "outputId": "53724da9-ecc5-4302-c5be-330fa199a99b"
   },
   "outputs": [
    {
     "data": {
      "text/plain": [
       "[<matplotlib.lines.Line2D at 0x7f035d93bc10>]"
      ]
     },
     "execution_count": 21,
     "metadata": {
      "tags": []
     },
     "output_type": "execute_result"
    },
    {
     "data": {
      "image/png": "[encoded data removed]",
      "text/plain": [
       "<Figure size 432x288 with 1 Axes>"
      ]
     },
     "metadata": {
      "needs_background": "light",
      "tags": []
     },
     "output_type": "display_data"
    }
   ],
   "source": [
    "plt.plot(H.history[\"accuracy\"])\n",
    "plt.plot(H.history[\"val_accuracy\"])"
   ]
  },
  {
   "cell_type": "markdown",
   "metadata": {},
   "source": [
    "### Model-2"
   ]
  },
  {
   "cell_type": "code",
   "execution_count": 22,
   "metadata": {
    "id": "-IOyBP7hV9el"
   },
   "outputs": [],
   "source": [
    "category_prediction_model_32_256 = Model(X_description[0].shape, X_meta[0].shape, LSTM=256)\n",
    "category_prediction_model_32_256.compile(optimizer=\"rmsprop\", loss=\"sparse_categorical_crossentropy\", metrics=\"accuracy\")"
   ]
  },
  {
   "cell_type": "code",
   "execution_count": 23,
   "metadata": {
    "colab": {
     "base_uri": "https://localhost:8080/"
    },
    "id": "cmBCWzpFIEvk",
    "outputId": "ba16bd0b-6492-4850-c720-6419144e2c2d"
   },
   "outputs": [
    {
     "name": "stdout",
     "output_type": "stream",
     "text": [
      "Epoch 1/50\n",
      "30/30 [==============================] - 17s 295ms/step - loss: 4.7703 - accuracy: 0.2451 - val_loss: 5.3498 - val_accuracy: 0.0868\n",
      "Epoch 2/50\n",
      "30/30 [==============================] - 7s 218ms/step - loss: 3.4064 - accuracy: 0.7113 - val_loss: 5.1704 - val_accuracy: 0.0824\n",
      "Epoch 3/50\n",
      "30/30 [==============================] - 7s 221ms/step - loss: 2.7819 - accuracy: 0.8549 - val_loss: 5.1579 - val_accuracy: 0.0464\n",
      "Epoch 4/50\n",
      "30/30 [==============================] - 7s 219ms/step - loss: 2.3581 - accuracy: 0.9249 - val_loss: 5.0155 - val_accuracy: 0.0856\n",
      "Epoch 5/50\n",
      "30/30 [==============================] - 7s 221ms/step - loss: 2.1116 - accuracy: 0.9560 - val_loss: 4.7995 - val_accuracy: 0.0568\n",
      "Epoch 6/50\n",
      "30/30 [==============================] - 7s 222ms/step - loss: 1.8791 - accuracy: 0.9774 - val_loss: 4.9682 - val_accuracy: 0.0720\n",
      "Epoch 7/50\n",
      "30/30 [==============================] - 7s 219ms/step - loss: 1.7631 - accuracy: 0.9841 - val_loss: 5.0509 - val_accuracy: 0.1092\n",
      "Epoch 8/50\n",
      "30/30 [==============================] - 7s 219ms/step - loss: 1.6198 - accuracy: 0.9885 - val_loss: 3.7872 - val_accuracy: 0.4872\n",
      "Epoch 9/50\n",
      "30/30 [==============================] - 7s 217ms/step - loss: 1.5547 - accuracy: 0.9896 - val_loss: 4.0019 - val_accuracy: 0.4200\n",
      "Epoch 10/50\n",
      "30/30 [==============================] - 7s 218ms/step - loss: 1.4553 - accuracy: 0.9936 - val_loss: 4.5973 - val_accuracy: 0.1844\n",
      "Epoch 11/50\n",
      "30/30 [==============================] - 6s 217ms/step - loss: 1.3499 - accuracy: 0.9937 - val_loss: 3.9021 - val_accuracy: 0.4916\n",
      "Epoch 12/50\n",
      "30/30 [==============================] - 7s 218ms/step - loss: 1.2291 - accuracy: 0.9967 - val_loss: 3.9209 - val_accuracy: 0.2368\n",
      "Epoch 13/50\n",
      "30/30 [==============================] - 7s 219ms/step - loss: 1.1585 - accuracy: 0.9934 - val_loss: 3.6483 - val_accuracy: 0.5460\n",
      "Epoch 14/50\n",
      "30/30 [==============================] - 7s 220ms/step - loss: 1.0714 - accuracy: 0.9962 - val_loss: 2.9072 - val_accuracy: 0.6912\n",
      "Epoch 15/50\n",
      "30/30 [==============================] - 7s 219ms/step - loss: 0.9890 - accuracy: 0.9964 - val_loss: 2.3212 - val_accuracy: 0.8240\n",
      "Epoch 16/50\n",
      "30/30 [==============================] - 7s 219ms/step - loss: 0.9389 - accuracy: 0.9967 - val_loss: 2.1820 - val_accuracy: 0.8096\n",
      "Epoch 17/50\n",
      "30/30 [==============================] - 7s 220ms/step - loss: 0.8706 - accuracy: 0.9963 - val_loss: 1.9649 - val_accuracy: 0.8568\n",
      "Epoch 18/50\n",
      "30/30 [==============================] - 7s 218ms/step - loss: 0.7935 - accuracy: 0.9960 - val_loss: 1.9089 - val_accuracy: 0.8240\n",
      "Epoch 19/50\n",
      "30/30 [==============================] - 7s 218ms/step - loss: 0.7324 - accuracy: 0.9964 - val_loss: 1.4740 - val_accuracy: 0.8540\n",
      "Epoch 20/50\n",
      "30/30 [==============================] - 7s 218ms/step - loss: 0.6727 - accuracy: 0.9981 - val_loss: 1.4114 - val_accuracy: 0.8772\n",
      "Epoch 21/50\n",
      "30/30 [==============================] - 7s 219ms/step - loss: 0.6241 - accuracy: 0.9966 - val_loss: 1.3190 - val_accuracy: 0.8736\n",
      "Epoch 22/50\n",
      "30/30 [==============================] - 7s 219ms/step - loss: 0.6157 - accuracy: 0.9940 - val_loss: 1.3299 - val_accuracy: 0.8472\n",
      "Epoch 23/50\n",
      "30/30 [==============================] - 7s 221ms/step - loss: 0.5343 - accuracy: 0.9975 - val_loss: 1.2301 - val_accuracy: 0.9032\n",
      "Epoch 24/50\n",
      "30/30 [==============================] - 7s 219ms/step - loss: 0.4976 - accuracy: 0.9959 - val_loss: 1.1786 - val_accuracy: 0.8736\n",
      "Epoch 25/50\n",
      "30/30 [==============================] - 6s 217ms/step - loss: 0.4423 - accuracy: 0.9982 - val_loss: 1.2974 - val_accuracy: 0.8504\n",
      "Epoch 26/50\n",
      "30/30 [==============================] - 7s 218ms/step - loss: 0.4356 - accuracy: 0.9961 - val_loss: 1.0021 - val_accuracy: 0.9104\n",
      "Epoch 27/50\n",
      "30/30 [==============================] - 7s 218ms/step - loss: 0.3701 - accuracy: 0.9982 - val_loss: 0.8800 - val_accuracy: 0.9128\n",
      "Epoch 28/50\n",
      "30/30 [==============================] - 7s 220ms/step - loss: 0.3595 - accuracy: 0.9968 - val_loss: 0.9924 - val_accuracy: 0.9024\n",
      "Epoch 29/50\n",
      "30/30 [==============================] - 7s 220ms/step - loss: 0.3330 - accuracy: 0.9979 - val_loss: 0.9928 - val_accuracy: 0.8824\n",
      "Epoch 30/50\n",
      "30/30 [==============================] - 7s 219ms/step - loss: 0.3001 - accuracy: 0.9977 - val_loss: 1.1009 - val_accuracy: 0.8604\n",
      "Epoch 31/50\n",
      "30/30 [==============================] - 7s 219ms/step - loss: 0.2650 - accuracy: 0.9953 - val_loss: 0.9169 - val_accuracy: 0.8888\n",
      "Epoch 32/50\n",
      "30/30 [==============================] - 7s 219ms/step - loss: 0.2445 - accuracy: 0.9972 - val_loss: 0.9294 - val_accuracy: 0.8796\n",
      "Epoch 33/50\n",
      "30/30 [==============================] - 7s 219ms/step - loss: 0.2295 - accuracy: 0.9975 - val_loss: 0.7652 - val_accuracy: 0.9048\n",
      "Epoch 34/50\n",
      "30/30 [==============================] - 7s 219ms/step - loss: 0.2103 - accuracy: 0.9963 - val_loss: 0.7525 - val_accuracy: 0.9088\n",
      "Epoch 35/50\n",
      "30/30 [==============================] - 7s 220ms/step - loss: 0.1923 - accuracy: 0.9969 - val_loss: 0.8561 - val_accuracy: 0.8860\n",
      "Epoch 36/50\n",
      "30/30 [==============================] - 7s 220ms/step - loss: 0.1818 - accuracy: 0.9951 - val_loss: 1.0540 - val_accuracy: 0.8300\n",
      "Epoch 37/50\n",
      "30/30 [==============================] - 7s 219ms/step - loss: 0.1585 - accuracy: 0.9984 - val_loss: 0.7386 - val_accuracy: 0.9004\n",
      "Epoch 38/50\n",
      "30/30 [==============================] - 7s 220ms/step - loss: 0.1494 - accuracy: 0.9981 - val_loss: 0.7866 - val_accuracy: 0.9016\n",
      "Epoch 39/50\n",
      "30/30 [==============================] - 7s 219ms/step - loss: 0.1363 - accuracy: 0.9975 - val_loss: 0.7316 - val_accuracy: 0.8832\n",
      "Epoch 40/50\n",
      "30/30 [==============================] - 7s 219ms/step - loss: 0.1202 - accuracy: 0.9986 - val_loss: 0.6952 - val_accuracy: 0.8912\n",
      "Epoch 41/50\n",
      "30/30 [==============================] - 7s 220ms/step - loss: 0.1099 - accuracy: 0.9989 - val_loss: 0.6503 - val_accuracy: 0.9100\n",
      "Epoch 42/50\n",
      "30/30 [==============================] - 7s 220ms/step - loss: 0.1063 - accuracy: 0.9981 - val_loss: 0.6995 - val_accuracy: 0.8924\n",
      "Epoch 43/50\n",
      "30/30 [==============================] - 7s 219ms/step - loss: 0.0954 - accuracy: 0.9970 - val_loss: 0.6124 - val_accuracy: 0.9044\n",
      "Epoch 44/50\n",
      "30/30 [==============================] - 7s 219ms/step - loss: 0.0847 - accuracy: 0.9985 - val_loss: 0.6805 - val_accuracy: 0.8884\n",
      "Epoch 45/50\n",
      "30/30 [==============================] - 7s 220ms/step - loss: 0.0789 - accuracy: 0.9973 - val_loss: 0.6421 - val_accuracy: 0.8952\n",
      "Epoch 46/50\n",
      "30/30 [==============================] - 7s 219ms/step - loss: 0.0723 - accuracy: 0.9983 - val_loss: 0.6240 - val_accuracy: 0.8992\n",
      "Epoch 47/50\n",
      "30/30 [==============================] - 7s 218ms/step - loss: 0.0693 - accuracy: 0.9976 - val_loss: 0.6062 - val_accuracy: 0.9016\n",
      "Epoch 48/50\n",
      "30/30 [==============================] - 7s 218ms/step - loss: 0.0632 - accuracy: 0.9979 - val_loss: 0.6100 - val_accuracy: 0.9008\n",
      "Epoch 49/50\n",
      "30/30 [==============================] - 7s 218ms/step - loss: 0.0557 - accuracy: 0.9990 - val_loss: 0.5498 - val_accuracy: 0.9096\n",
      "Epoch 50/50\n",
      "30/30 [==============================] - 6s 217ms/step - loss: 0.0485 - accuracy: 0.9981 - val_loss: 0.5949 - val_accuracy: 0.9044\n"
     ]
    }
   ],
   "source": [
    "checkpoint_callback = tf.keras.callbacks.ModelCheckpoint(filepath='weights_32_256/', save_weights_only=True, save_best_only=True, monitor=\"val_accuracy\", mode=\"max\")\n",
    "H = category_prediction_model_32_256.fit([d_train, m_train], y_train, validation_split=0.25, epochs=50, batch_size=256, shuffle=True, callbacks=[checkpoint_callback])"
   ]
  },
  {
   "cell_type": "code",
   "execution_count": 24,
   "metadata": {
    "colab": {
     "base_uri": "https://localhost:8080/",
     "height": 282
    },
    "id": "i1kj8yb0IEys",
    "outputId": "098ed428-a60b-4128-f1ae-640bd7c6b4d1"
   },
   "outputs": [
    {
     "data": {
      "text/plain": [
       "[<matplotlib.lines.Line2D at 0x7f035a5501d0>]"
      ]
     },
     "execution_count": 24,
     "metadata": {
      "tags": []
     },
     "output_type": "execute_result"
    },
    {
     "data": {
      "image/png": "[encoded data removed]",
      "text/plain": [
       "<Figure size 432x288 with 1 Axes>"
      ]
     },
     "metadata": {
      "needs_background": "light",
      "tags": []
     },
     "output_type": "display_data"
    }
   ],
   "source": [
    "plt.plot(H.history[\"accuracy\"])\n",
    "plt.plot(H.history[\"val_accuracy\"])"
   ]
  },
  {
   "cell_type": "markdown",
   "metadata": {},
   "source": [
    "### Model-3"
   ]
  },
  {
   "cell_type": "code",
   "execution_count": 25,
   "metadata": {
    "id": "jxcBs2Z6WBDv"
   },
   "outputs": [],
   "source": [
    "category_prediction_model_32_512 = Model(X_description[0].shape, X_meta[0].shape, LSTM=512)\n",
    "category_prediction_model_32_512.compile(optimizer=\"rmsprop\", loss=\"sparse_categorical_crossentropy\", metrics=\"accuracy\")"
   ]
  },
  {
   "cell_type": "code",
   "execution_count": 26,
   "metadata": {
    "colab": {
     "base_uri": "https://localhost:8080/"
    },
    "id": "zEYSE5RvIE0z",
    "outputId": "4a38077b-4feb-436b-fecf-77ebc0c87013"
   },
   "outputs": [
    {
     "name": "stdout",
     "output_type": "stream",
     "text": [
      "Epoch 1/50\n",
      "30/30 [==============================] - 24s 549ms/step - loss: 4.8924 - accuracy: 0.2216 - val_loss: 5.0413 - val_accuracy: 0.3984\n",
      "Epoch 2/50\n",
      "30/30 [==============================] - 15s 486ms/step - loss: 3.6914 - accuracy: 0.6423 - val_loss: 5.1476 - val_accuracy: 0.2932\n",
      "Epoch 3/50\n",
      "30/30 [==============================] - 15s 485ms/step - loss: 3.0809 - accuracy: 0.7866 - val_loss: 5.2919 - val_accuracy: 0.0704\n",
      "Epoch 4/50\n",
      "30/30 [==============================] - 14s 480ms/step - loss: 2.5770 - accuracy: 0.8918 - val_loss: 5.3597 - val_accuracy: 0.0360\n",
      "Epoch 5/50\n",
      "30/30 [==============================] - 14s 477ms/step - loss: 2.2703 - accuracy: 0.9223 - val_loss: 6.6701 - val_accuracy: 0.0056\n",
      "Epoch 6/50\n",
      "30/30 [==============================] - 14s 474ms/step - loss: 2.0456 - accuracy: 0.9461 - val_loss: 6.6425 - val_accuracy: 0.0080\n",
      "Epoch 7/50\n",
      "30/30 [==============================] - 14s 476ms/step - loss: 1.7435 - accuracy: 0.9810 - val_loss: 6.2321 - val_accuracy: 0.0048\n",
      "Epoch 8/50\n",
      "30/30 [==============================] - 14s 477ms/step - loss: 1.6409 - accuracy: 0.9891 - val_loss: 5.9005 - val_accuracy: 0.0028\n",
      "Epoch 9/50\n",
      "30/30 [==============================] - 14s 478ms/step - loss: 1.5192 - accuracy: 0.9952 - val_loss: 6.1124 - val_accuracy: 0.0032\n",
      "Epoch 10/50\n",
      "30/30 [==============================] - 14s 476ms/step - loss: 1.3992 - accuracy: 0.9962 - val_loss: 6.0023 - val_accuracy: 0.0556\n",
      "Epoch 11/50\n",
      "30/30 [==============================] - 14s 476ms/step - loss: 1.3196 - accuracy: 0.9948 - val_loss: 5.6272 - val_accuracy: 0.0704\n",
      "Epoch 12/50\n",
      "30/30 [==============================] - 14s 475ms/step - loss: 1.2313 - accuracy: 0.9956 - val_loss: 6.6881 - val_accuracy: 0.0124\n",
      "Epoch 13/50\n",
      "30/30 [==============================] - 14s 472ms/step - loss: 1.1390 - accuracy: 0.9968 - val_loss: 5.1063 - val_accuracy: 0.0960\n",
      "Epoch 14/50\n",
      "30/30 [==============================] - 14s 476ms/step - loss: 1.1130 - accuracy: 0.9963 - val_loss: 7.9816 - val_accuracy: 0.0452\n",
      "Epoch 15/50\n",
      "30/30 [==============================] - 14s 477ms/step - loss: 0.9894 - accuracy: 0.9959 - val_loss: 8.6304 - val_accuracy: 0.0472\n",
      "Epoch 16/50\n",
      "30/30 [==============================] - 14s 478ms/step - loss: 0.9266 - accuracy: 0.9974 - val_loss: 12.1667 - val_accuracy: 0.0020\n",
      "Epoch 17/50\n",
      "30/30 [==============================] - 14s 477ms/step - loss: 0.8584 - accuracy: 0.9978 - val_loss: 10.6721 - val_accuracy: 0.0304\n",
      "Epoch 18/50\n",
      "30/30 [==============================] - 14s 475ms/step - loss: 0.7979 - accuracy: 0.9972 - val_loss: 9.8218 - val_accuracy: 0.0140\n",
      "Epoch 19/50\n",
      "30/30 [==============================] - 14s 475ms/step - loss: 0.7385 - accuracy: 0.9962 - val_loss: 9.7929 - val_accuracy: 0.0124\n",
      "Epoch 20/50\n",
      "30/30 [==============================] - 14s 479ms/step - loss: 0.7126 - accuracy: 0.9965 - val_loss: 8.5193 - val_accuracy: 0.0180\n",
      "Epoch 21/50\n",
      "30/30 [==============================] - 14s 476ms/step - loss: 0.6266 - accuracy: 0.9967 - val_loss: 7.3283 - val_accuracy: 0.0104\n",
      "Epoch 22/50\n",
      "30/30 [==============================] - 14s 475ms/step - loss: 0.5970 - accuracy: 0.9970 - val_loss: 6.8577 - val_accuracy: 0.0180\n",
      "Epoch 23/50\n",
      "30/30 [==============================] - 14s 475ms/step - loss: 0.5530 - accuracy: 0.9967 - val_loss: 5.4587 - val_accuracy: 0.0136\n",
      "Epoch 24/50\n",
      "30/30 [==============================] - 14s 477ms/step - loss: 0.6975 - accuracy: 0.9720 - val_loss: 4.2891 - val_accuracy: 0.0836\n",
      "Epoch 25/50\n",
      "30/30 [==============================] - 14s 475ms/step - loss: 0.5121 - accuracy: 0.9954 - val_loss: 3.4726 - val_accuracy: 0.4776\n",
      "Epoch 26/50\n",
      "30/30 [==============================] - 14s 477ms/step - loss: 0.4804 - accuracy: 0.9905 - val_loss: 2.2999 - val_accuracy: 0.7344\n",
      "Epoch 27/50\n",
      "30/30 [==============================] - 14s 479ms/step - loss: 0.4092 - accuracy: 0.9962 - val_loss: 70.4553 - val_accuracy: 0.4752\n",
      "Epoch 28/50\n",
      "30/30 [==============================] - 14s 480ms/step - loss: 0.5024 - accuracy: 0.9750 - val_loss: 1.8050 - val_accuracy: 0.7856\n",
      "Epoch 29/50\n",
      "30/30 [==============================] - 14s 477ms/step - loss: 0.3301 - accuracy: 0.9974 - val_loss: 1.9001 - val_accuracy: 0.7492\n",
      "Epoch 30/50\n",
      "30/30 [==============================] - 14s 477ms/step - loss: 0.3217 - accuracy: 0.9967 - val_loss: 1.9119 - val_accuracy: 0.7816\n",
      "Epoch 31/50\n",
      "30/30 [==============================] - 14s 475ms/step - loss: 0.2798 - accuracy: 0.9969 - val_loss: 2.0843 - val_accuracy: 0.7264\n",
      "Epoch 32/50\n",
      "30/30 [==============================] - 14s 478ms/step - loss: 0.2889 - accuracy: 0.9973 - val_loss: 2.0855 - val_accuracy: 0.7516\n",
      "Epoch 33/50\n",
      "30/30 [==============================] - 14s 475ms/step - loss: 0.2507 - accuracy: 0.9962 - val_loss: 1.7959 - val_accuracy: 0.7712\n",
      "Epoch 34/50\n",
      "30/30 [==============================] - 14s 479ms/step - loss: 0.2065 - accuracy: 0.9983 - val_loss: 3.9863 - val_accuracy: 0.3484\n",
      "Epoch 35/50\n",
      "30/30 [==============================] - 14s 477ms/step - loss: 0.2044 - accuracy: 0.9968 - val_loss: 4.6119 - val_accuracy: 0.3360\n",
      "Epoch 36/50\n",
      "30/30 [==============================] - 14s 478ms/step - loss: 0.1827 - accuracy: 0.9967 - val_loss: 2.0120 - val_accuracy: 0.7072\n",
      "Epoch 37/50\n",
      "30/30 [==============================] - 14s 477ms/step - loss: 0.1701 - accuracy: 0.9951 - val_loss: 2.5843 - val_accuracy: 0.7072\n",
      "Epoch 38/50\n",
      "30/30 [==============================] - 14s 481ms/step - loss: 0.1568 - accuracy: 0.9960 - val_loss: 5.7162 - val_accuracy: 0.0632\n",
      "Epoch 39/50\n",
      "30/30 [==============================] - 14s 478ms/step - loss: 0.1489 - accuracy: 0.9953 - val_loss: 4.1646 - val_accuracy: 0.2660\n",
      "Epoch 40/50\n",
      "30/30 [==============================] - 14s 480ms/step - loss: 0.1258 - accuracy: 0.9971 - val_loss: 4.1801 - val_accuracy: 0.1976\n",
      "Epoch 41/50\n",
      "30/30 [==============================] - 14s 477ms/step - loss: 0.1194 - accuracy: 0.9972 - val_loss: 3.8162 - val_accuracy: 0.3108\n",
      "Epoch 42/50\n",
      "30/30 [==============================] - 14s 474ms/step - loss: 0.1093 - accuracy: 0.9973 - val_loss: 3.5519 - val_accuracy: 0.3844\n",
      "Epoch 43/50\n",
      "30/30 [==============================] - 14s 476ms/step - loss: 0.0996 - accuracy: 0.9978 - val_loss: 16.4267 - val_accuracy: 0.0756\n",
      "Epoch 44/50\n",
      "30/30 [==============================] - 14s 476ms/step - loss: 0.0912 - accuracy: 0.9977 - val_loss: 5.1527 - val_accuracy: 0.3248\n",
      "Epoch 45/50\n",
      "30/30 [==============================] - 14s 478ms/step - loss: 0.0867 - accuracy: 0.9969 - val_loss: 2.5468 - val_accuracy: 0.5980\n",
      "Epoch 46/50\n",
      "30/30 [==============================] - 14s 477ms/step - loss: 0.0746 - accuracy: 0.9970 - val_loss: 2.0046 - val_accuracy: 0.6904\n",
      "Epoch 47/50\n",
      "30/30 [==============================] - 14s 476ms/step - loss: 0.0812 - accuracy: 0.9958 - val_loss: 1.8417 - val_accuracy: 0.6872\n",
      "Epoch 48/50\n",
      "30/30 [==============================] - 14s 478ms/step - loss: 0.0638 - accuracy: 0.9972 - val_loss: 4.1338 - val_accuracy: 0.2852\n",
      "Epoch 49/50\n",
      "30/30 [==============================] - 14s 476ms/step - loss: 0.0570 - accuracy: 0.9982 - val_loss: 12.3800 - val_accuracy: 0.1244\n",
      "Epoch 50/50\n",
      "30/30 [==============================] - 14s 476ms/step - loss: 0.1312 - accuracy: 0.9869 - val_loss: 2.2459 - val_accuracy: 0.6568\n"
     ]
    }
   ],
   "source": [
    "checkpoint_callback = tf.keras.callbacks.ModelCheckpoint(filepath='weights_32_512/', save_weights_only=True, save_best_only=True, monitor=\"val_accuracy\", mode=\"max\")\n",
    "H = category_prediction_model_32_512.fit([d_train, m_train], y_train, validation_split=0.25, epochs=50, batch_size=256, shuffle=True, callbacks=[checkpoint_callback])"
   ]
  },
  {
   "cell_type": "code",
   "execution_count": 27,
   "metadata": {
    "colab": {
     "base_uri": "https://localhost:8080/",
     "height": 282
    },
    "id": "3VLRShjlIE3f",
    "outputId": "e456b62d-e58b-40bc-b681-95762828cd8b"
   },
   "outputs": [
    {
     "data": {
      "text/plain": [
       "[<matplotlib.lines.Line2D at 0x7f0292375b90>]"
      ]
     },
     "execution_count": 27,
     "metadata": {
      "tags": []
     },
     "output_type": "execute_result"
    },
    {
     "data": {
      "image/png": "[encoded data removed]",
      "text/plain": [
       "<Figure size 432x288 with 1 Axes>"
      ]
     },
     "metadata": {
      "needs_background": "light",
      "tags": []
     },
     "output_type": "display_data"
    }
   ],
   "source": [
    "plt.plot(H.history[\"accuracy\"])\n",
    "plt.plot(H.history[\"val_accuracy\"])"
   ]
  },
  {
   "cell_type": "markdown",
   "metadata": {},
   "source": [
    "### Model-4"
   ]
  },
  {
   "cell_type": "code",
   "execution_count": 28,
   "metadata": {
    "id": "WjCVxlCaWCm7"
   },
   "outputs": [],
   "source": [
    "category_prediction_model_64_128 = Model(X_description[0].shape, X_meta[0].shape, embed_size=64)\n",
    "category_prediction_model_64_128.compile(optimizer=\"rmsprop\", loss=\"sparse_categorical_crossentropy\", metrics=\"accuracy\")"
   ]
  },
  {
   "cell_type": "code",
   "execution_count": 29,
   "metadata": {
    "colab": {
     "base_uri": "https://localhost:8080/"
    },
    "id": "zKETiK86IE6D",
    "outputId": "ef90b14f-2870-4e56-d003-91cace96aecc"
   },
   "outputs": [
    {
     "name": "stdout",
     "output_type": "stream",
     "text": [
      "Epoch 1/50\n",
      "30/30 [==============================] - 15s 234ms/step - loss: 4.5245 - accuracy: 0.2641 - val_loss: 5.4021 - val_accuracy: 0.0900\n",
      "Epoch 2/50\n",
      "30/30 [==============================] - 5s 158ms/step - loss: 2.7389 - accuracy: 0.8740 - val_loss: 5.3930 - val_accuracy: 0.0208\n",
      "Epoch 3/50\n",
      "30/30 [==============================] - 5s 157ms/step - loss: 2.3636 - accuracy: 0.9289 - val_loss: 5.3746 - val_accuracy: 0.0124\n",
      "Epoch 4/50\n",
      "30/30 [==============================] - 5s 161ms/step - loss: 2.0858 - accuracy: 0.9722 - val_loss: 5.2671 - val_accuracy: 0.0112\n",
      "Epoch 5/50\n",
      "30/30 [==============================] - 5s 160ms/step - loss: 1.9141 - accuracy: 0.9797 - val_loss: 5.1183 - val_accuracy: 0.0432\n",
      "Epoch 6/50\n",
      "30/30 [==============================] - 5s 158ms/step - loss: 1.8175 - accuracy: 0.9854 - val_loss: 4.5548 - val_accuracy: 0.3344\n",
      "Epoch 7/50\n",
      "30/30 [==============================] - 5s 160ms/step - loss: 1.6626 - accuracy: 0.9920 - val_loss: 4.4880 - val_accuracy: 0.3172\n",
      "Epoch 8/50\n",
      "30/30 [==============================] - 5s 161ms/step - loss: 1.5960 - accuracy: 0.9909 - val_loss: 4.0503 - val_accuracy: 0.4124\n",
      "Epoch 9/50\n",
      "30/30 [==============================] - 5s 161ms/step - loss: 1.4520 - accuracy: 0.9936 - val_loss: 3.6671 - val_accuracy: 0.4820\n",
      "Epoch 10/50\n",
      "30/30 [==============================] - 5s 160ms/step - loss: 1.3701 - accuracy: 0.9862 - val_loss: 3.0181 - val_accuracy: 0.7956\n",
      "Epoch 11/50\n",
      "30/30 [==============================] - 5s 159ms/step - loss: 1.2901 - accuracy: 0.9968 - val_loss: 3.1523 - val_accuracy: 0.7204\n",
      "Epoch 12/50\n",
      "30/30 [==============================] - 5s 160ms/step - loss: 1.2098 - accuracy: 0.9914 - val_loss: 2.5598 - val_accuracy: 0.8140\n",
      "Epoch 13/50\n",
      "30/30 [==============================] - 5s 159ms/step - loss: 1.1240 - accuracy: 0.9964 - val_loss: 1.9172 - val_accuracy: 0.8604\n",
      "Epoch 14/50\n",
      "30/30 [==============================] - 5s 160ms/step - loss: 1.0348 - accuracy: 0.9953 - val_loss: 1.8063 - val_accuracy: 0.8600\n",
      "Epoch 15/50\n",
      "30/30 [==============================] - 5s 159ms/step - loss: 0.9712 - accuracy: 0.9949 - val_loss: 1.6983 - val_accuracy: 0.9040\n",
      "Epoch 16/50\n",
      "30/30 [==============================] - 5s 162ms/step - loss: 0.8917 - accuracy: 0.9971 - val_loss: 1.6352 - val_accuracy: 0.8888\n",
      "Epoch 17/50\n",
      "30/30 [==============================] - 5s 158ms/step - loss: 0.8354 - accuracy: 0.9951 - val_loss: 1.3262 - val_accuracy: 0.9060\n",
      "Epoch 18/50\n",
      "30/30 [==============================] - 5s 161ms/step - loss: 0.7686 - accuracy: 0.9971 - val_loss: 1.3565 - val_accuracy: 0.8996\n",
      "Epoch 19/50\n",
      "30/30 [==============================] - 5s 160ms/step - loss: 0.7359 - accuracy: 0.9958 - val_loss: 1.1019 - val_accuracy: 0.9232\n",
      "Epoch 20/50\n",
      "30/30 [==============================] - 5s 161ms/step - loss: 0.6705 - accuracy: 0.9975 - val_loss: 1.0793 - val_accuracy: 0.9196\n",
      "Epoch 21/50\n",
      "30/30 [==============================] - 5s 159ms/step - loss: 0.6221 - accuracy: 0.9962 - val_loss: 1.0752 - val_accuracy: 0.9184\n",
      "Epoch 22/50\n",
      "30/30 [==============================] - 5s 160ms/step - loss: 0.5783 - accuracy: 0.9973 - val_loss: 1.0148 - val_accuracy: 0.9196\n",
      "Epoch 23/50\n",
      "30/30 [==============================] - 5s 159ms/step - loss: 0.5441 - accuracy: 0.9980 - val_loss: 1.4188 - val_accuracy: 0.8744\n",
      "Epoch 24/50\n",
      "30/30 [==============================] - 5s 159ms/step - loss: 0.5056 - accuracy: 0.9972 - val_loss: 1.0334 - val_accuracy: 0.9240\n",
      "Epoch 25/50\n",
      "30/30 [==============================] - 5s 161ms/step - loss: 0.4561 - accuracy: 0.9963 - val_loss: 1.3662 - val_accuracy: 0.8584\n",
      "Epoch 26/50\n",
      "30/30 [==============================] - 5s 159ms/step - loss: 0.4021 - accuracy: 0.9952 - val_loss: 0.8837 - val_accuracy: 0.9248\n",
      "Epoch 27/50\n",
      "30/30 [==============================] - 5s 160ms/step - loss: 0.3450 - accuracy: 0.9970 - val_loss: 1.0284 - val_accuracy: 0.9280\n",
      "Epoch 28/50\n",
      "30/30 [==============================] - 5s 160ms/step - loss: 0.3504 - accuracy: 0.9979 - val_loss: 0.7767 - val_accuracy: 0.9272\n",
      "Epoch 29/50\n",
      "30/30 [==============================] - 5s 157ms/step - loss: 0.3485 - accuracy: 0.9972 - val_loss: 0.8258 - val_accuracy: 0.9164\n",
      "Epoch 30/50\n",
      "30/30 [==============================] - 5s 159ms/step - loss: 0.2930 - accuracy: 0.9977 - val_loss: 0.9430 - val_accuracy: 0.8928\n",
      "Epoch 31/50\n",
      "30/30 [==============================] - 5s 159ms/step - loss: 0.2914 - accuracy: 0.9961 - val_loss: 0.7034 - val_accuracy: 0.9252\n",
      "Epoch 32/50\n",
      "30/30 [==============================] - 5s 159ms/step - loss: 0.2504 - accuracy: 0.9969 - val_loss: 0.6977 - val_accuracy: 0.9236\n",
      "Epoch 33/50\n",
      "30/30 [==============================] - 5s 160ms/step - loss: 0.2238 - accuracy: 0.9980 - val_loss: 0.8099 - val_accuracy: 0.8948\n",
      "Epoch 34/50\n",
      "30/30 [==============================] - 5s 159ms/step - loss: 0.2215 - accuracy: 0.9959 - val_loss: 0.6574 - val_accuracy: 0.9232\n",
      "Epoch 35/50\n",
      "30/30 [==============================] - 5s 159ms/step - loss: 0.1841 - accuracy: 0.9978 - val_loss: 0.6489 - val_accuracy: 0.9272\n",
      "Epoch 36/50\n",
      "30/30 [==============================] - 5s 158ms/step - loss: 0.1667 - accuracy: 0.9980 - val_loss: 0.7925 - val_accuracy: 0.9052\n",
      "Epoch 37/50\n",
      "30/30 [==============================] - 5s 159ms/step - loss: 0.1560 - accuracy: 0.9983 - val_loss: 0.6339 - val_accuracy: 0.9200\n",
      "Epoch 38/50\n",
      "30/30 [==============================] - 5s 160ms/step - loss: 0.1467 - accuracy: 0.9984 - val_loss: 0.6106 - val_accuracy: 0.9172\n",
      "Epoch 39/50\n",
      "30/30 [==============================] - 5s 159ms/step - loss: 0.1335 - accuracy: 0.9981 - val_loss: 0.6009 - val_accuracy: 0.9216\n",
      "Epoch 40/50\n",
      "30/30 [==============================] - 5s 158ms/step - loss: 0.1162 - accuracy: 0.9989 - val_loss: 0.6128 - val_accuracy: 0.9216\n",
      "Epoch 41/50\n",
      "30/30 [==============================] - 5s 159ms/step - loss: 0.1086 - accuracy: 0.9977 - val_loss: 0.5596 - val_accuracy: 0.9188\n",
      "Epoch 42/50\n",
      "30/30 [==============================] - 5s 159ms/step - loss: 0.1039 - accuracy: 0.9983 - val_loss: 0.5941 - val_accuracy: 0.9200\n",
      "Epoch 43/50\n",
      "30/30 [==============================] - 5s 158ms/step - loss: 0.0899 - accuracy: 0.9989 - val_loss: 0.5217 - val_accuracy: 0.9268\n",
      "Epoch 44/50\n",
      "30/30 [==============================] - 5s 159ms/step - loss: 0.0787 - accuracy: 0.9991 - val_loss: 0.5435 - val_accuracy: 0.9204\n",
      "Epoch 45/50\n",
      "30/30 [==============================] - 5s 158ms/step - loss: 0.0792 - accuracy: 0.9981 - val_loss: 0.5492 - val_accuracy: 0.9180\n",
      "Epoch 46/50\n",
      "30/30 [==============================] - 5s 159ms/step - loss: 0.0715 - accuracy: 0.9977 - val_loss: 0.5009 - val_accuracy: 0.9224\n",
      "Epoch 47/50\n",
      "30/30 [==============================] - 5s 159ms/step - loss: 0.0612 - accuracy: 0.9980 - val_loss: 0.5949 - val_accuracy: 0.9072\n",
      "Epoch 48/50\n",
      "30/30 [==============================] - 5s 159ms/step - loss: 0.0560 - accuracy: 0.9989 - val_loss: 0.5645 - val_accuracy: 0.9128\n",
      "Epoch 49/50\n",
      "30/30 [==============================] - 5s 160ms/step - loss: 0.0538 - accuracy: 0.9983 - val_loss: 0.6002 - val_accuracy: 0.8944\n",
      "Epoch 50/50\n",
      "30/30 [==============================] - 5s 158ms/step - loss: 0.0514 - accuracy: 0.9986 - val_loss: 0.5131 - val_accuracy: 0.9220\n"
     ]
    }
   ],
   "source": [
    "checkpoint_callback = tf.keras.callbacks.ModelCheckpoint(filepath='weights_64_128/', save_weights_only=True, save_best_only=True, monitor=\"val_accuracy\", mode=\"max\")\n",
    "H = category_prediction_model_64_128.fit([d_train, m_train], y_train, validation_split=0.25, epochs=50, batch_size=256, shuffle=True, callbacks=[checkpoint_callback])"
   ]
  },
  {
   "cell_type": "code",
   "execution_count": 30,
   "metadata": {
    "colab": {
     "base_uri": "https://localhost:8080/",
     "height": 282
    },
    "id": "Ej9lJ2UQIE8r",
    "outputId": "29113aa9-91db-4dbf-b6b3-2eb7e1da114d"
   },
   "outputs": [
    {
     "data": {
      "text/plain": [
       "[<matplotlib.lines.Line2D at 0x7f027e6fa610>]"
      ]
     },
     "execution_count": 30,
     "metadata": {
      "tags": []
     },
     "output_type": "execute_result"
    },
    {
     "data": {
      "image/png": "[encoded data removed]",
      "text/plain": [
       "<Figure size 432x288 with 1 Axes>"
      ]
     },
     "metadata": {
      "needs_background": "light",
      "tags": []
     },
     "output_type": "display_data"
    }
   ],
   "source": [
    "plt.plot(H.history[\"accuracy\"])\n",
    "plt.plot(H.history[\"val_accuracy\"])"
   ]
  },
  {
   "cell_type": "markdown",
   "metadata": {},
   "source": [
    "### Model-5"
   ]
  },
  {
   "cell_type": "code",
   "execution_count": 31,
   "metadata": {
    "id": "JC-AWuSRWHsT"
   },
   "outputs": [],
   "source": [
    "category_prediction_model_64_256 = Model(X_description[0].shape, X_meta[0].shape, embed_size=64, LSTM=256)\n",
    "category_prediction_model_64_256.compile(optimizer=\"rmsprop\", loss=\"sparse_categorical_crossentropy\", metrics=\"accuracy\")"
   ]
  },
  {
   "cell_type": "code",
   "execution_count": 32,
   "metadata": {
    "colab": {
     "base_uri": "https://localhost:8080/"
    },
    "id": "58fmv8LeIE_2",
    "outputId": "dfc5769b-f8f7-4bbd-fe16-f9264a8b641c"
   },
   "outputs": [
    {
     "name": "stdout",
     "output_type": "stream",
     "text": [
      "Epoch 1/50\n",
      "30/30 [==============================] - 17s 317ms/step - loss: 4.5872 - accuracy: 0.3020 - val_loss: 5.4832 - val_accuracy: 0.0724\n",
      "Epoch 2/50\n",
      "30/30 [==============================] - 7s 241ms/step - loss: 3.0306 - accuracy: 0.7978 - val_loss: 5.3174 - val_accuracy: 0.0740\n",
      "Epoch 3/50\n",
      "30/30 [==============================] - 7s 239ms/step - loss: 2.5378 - accuracy: 0.8947 - val_loss: 5.4005 - val_accuracy: 0.0960\n",
      "Epoch 4/50\n",
      "30/30 [==============================] - 7s 240ms/step - loss: 2.2339 - accuracy: 0.9382 - val_loss: 5.3399 - val_accuracy: 0.0348\n",
      "Epoch 5/50\n",
      "30/30 [==============================] - 7s 239ms/step - loss: 1.9705 - accuracy: 0.9666 - val_loss: 5.4472 - val_accuracy: 0.0412\n",
      "Epoch 6/50\n",
      "30/30 [==============================] - 7s 238ms/step - loss: 1.8381 - accuracy: 0.9731 - val_loss: 5.2333 - val_accuracy: 0.0828\n",
      "Epoch 7/50\n",
      "30/30 [==============================] - 7s 239ms/step - loss: 1.7342 - accuracy: 0.9691 - val_loss: 4.2916 - val_accuracy: 0.2908\n",
      "Epoch 8/50\n",
      "30/30 [==============================] - 7s 240ms/step - loss: 1.6324 - accuracy: 0.9834 - val_loss: 5.1148 - val_accuracy: 0.1480\n",
      "Epoch 9/50\n",
      "30/30 [==============================] - 7s 236ms/step - loss: 1.5011 - accuracy: 0.9827 - val_loss: 4.3858 - val_accuracy: 0.2480\n",
      "Epoch 10/50\n",
      "30/30 [==============================] - 7s 237ms/step - loss: 1.3875 - accuracy: 0.9900 - val_loss: 4.6854 - val_accuracy: 0.2960\n",
      "Epoch 11/50\n",
      "30/30 [==============================] - 7s 239ms/step - loss: 1.2852 - accuracy: 0.9911 - val_loss: 4.1722 - val_accuracy: 0.3480\n",
      "Epoch 12/50\n",
      "30/30 [==============================] - 7s 239ms/step - loss: 1.2206 - accuracy: 0.9903 - val_loss: 3.3228 - val_accuracy: 0.5212\n",
      "Epoch 13/50\n",
      "30/30 [==============================] - 7s 238ms/step - loss: 1.1130 - accuracy: 0.9922 - val_loss: 2.2017 - val_accuracy: 0.8188\n",
      "Epoch 14/50\n",
      "30/30 [==============================] - 7s 239ms/step - loss: 1.0867 - accuracy: 0.9928 - val_loss: 2.1114 - val_accuracy: 0.8128\n",
      "Epoch 15/50\n",
      "30/30 [==============================] - 7s 240ms/step - loss: 0.9646 - accuracy: 0.9941 - val_loss: 3.0988 - val_accuracy: 0.5380\n",
      "Epoch 16/50\n",
      "30/30 [==============================] - 7s 240ms/step - loss: 0.9205 - accuracy: 0.9947 - val_loss: 1.5854 - val_accuracy: 0.8908\n",
      "Epoch 17/50\n",
      "30/30 [==============================] - 7s 238ms/step - loss: 0.8573 - accuracy: 0.9954 - val_loss: 1.3185 - val_accuracy: 0.9112\n",
      "Epoch 18/50\n",
      "30/30 [==============================] - 7s 238ms/step - loss: 0.7750 - accuracy: 0.9957 - val_loss: 1.3801 - val_accuracy: 0.9180\n",
      "Epoch 19/50\n",
      "30/30 [==============================] - 7s 238ms/step - loss: 0.7341 - accuracy: 0.9968 - val_loss: 1.2084 - val_accuracy: 0.9240\n",
      "Epoch 20/50\n",
      "30/30 [==============================] - 7s 238ms/step - loss: 0.6805 - accuracy: 0.9973 - val_loss: 1.1306 - val_accuracy: 0.9120\n",
      "Epoch 21/50\n",
      "30/30 [==============================] - 7s 237ms/step - loss: 0.6237 - accuracy: 0.9968 - val_loss: 1.0331 - val_accuracy: 0.9280\n",
      "Epoch 22/50\n",
      "30/30 [==============================] - 7s 239ms/step - loss: 0.5771 - accuracy: 0.9967 - val_loss: 1.2736 - val_accuracy: 0.8988\n",
      "Epoch 23/50\n",
      "30/30 [==============================] - 7s 238ms/step - loss: 0.5390 - accuracy: 0.9978 - val_loss: 1.0445 - val_accuracy: 0.9276\n",
      "Epoch 24/50\n",
      "30/30 [==============================] - 7s 240ms/step - loss: 0.5004 - accuracy: 0.9968 - val_loss: 0.8757 - val_accuracy: 0.9272\n",
      "Epoch 25/50\n",
      "30/30 [==============================] - 7s 239ms/step - loss: 0.4469 - accuracy: 0.9968 - val_loss: 0.8631 - val_accuracy: 0.9212\n",
      "Epoch 26/50\n",
      "30/30 [==============================] - 7s 238ms/step - loss: 0.4053 - accuracy: 0.9968 - val_loss: 0.8876 - val_accuracy: 0.9204\n",
      "Epoch 27/50\n",
      "30/30 [==============================] - 7s 239ms/step - loss: 0.3661 - accuracy: 0.9985 - val_loss: 0.8198 - val_accuracy: 0.9192\n",
      "Epoch 28/50\n",
      "30/30 [==============================] - 7s 236ms/step - loss: 0.3614 - accuracy: 0.9977 - val_loss: 0.8681 - val_accuracy: 0.9156\n",
      "Epoch 29/50\n",
      "30/30 [==============================] - 7s 238ms/step - loss: 0.3495 - accuracy: 0.9886 - val_loss: 0.8125 - val_accuracy: 0.9288\n",
      "Epoch 30/50\n",
      "30/30 [==============================] - 7s 236ms/step - loss: 0.2914 - accuracy: 0.9962 - val_loss: 0.6613 - val_accuracy: 0.9388\n",
      "Epoch 31/50\n",
      "30/30 [==============================] - 7s 238ms/step - loss: 0.2694 - accuracy: 0.9978 - val_loss: 0.7452 - val_accuracy: 0.9176\n",
      "Epoch 32/50\n",
      "30/30 [==============================] - 7s 237ms/step - loss: 0.2420 - accuracy: 0.9969 - val_loss: 0.6680 - val_accuracy: 0.9308\n",
      "Epoch 33/50\n",
      "30/30 [==============================] - 7s 239ms/step - loss: 0.2312 - accuracy: 0.9981 - val_loss: 0.7014 - val_accuracy: 0.9240\n",
      "Epoch 34/50\n",
      "30/30 [==============================] - 7s 239ms/step - loss: 0.2069 - accuracy: 0.9985 - val_loss: 0.6818 - val_accuracy: 0.9288\n",
      "Epoch 35/50\n",
      "30/30 [==============================] - 7s 240ms/step - loss: 0.1896 - accuracy: 0.9987 - val_loss: 0.6443 - val_accuracy: 0.9292\n",
      "Epoch 36/50\n",
      "30/30 [==============================] - 7s 239ms/step - loss: 0.1614 - accuracy: 0.9988 - val_loss: 0.6550 - val_accuracy: 0.9252\n",
      "Epoch 37/50\n",
      "30/30 [==============================] - 7s 238ms/step - loss: 0.1516 - accuracy: 0.9987 - val_loss: 0.5762 - val_accuracy: 0.9276\n",
      "Epoch 38/50\n",
      "30/30 [==============================] - 7s 237ms/step - loss: 0.1322 - accuracy: 0.9987 - val_loss: 0.5354 - val_accuracy: 0.9316\n",
      "Epoch 39/50\n",
      "30/30 [==============================] - 7s 237ms/step - loss: 0.1326 - accuracy: 0.9975 - val_loss: 0.5354 - val_accuracy: 0.9308\n",
      "Epoch 40/50\n",
      "30/30 [==============================] - 7s 239ms/step - loss: 0.1149 - accuracy: 0.9983 - val_loss: 0.6575 - val_accuracy: 0.9116\n",
      "Epoch 41/50\n",
      "30/30 [==============================] - 7s 237ms/step - loss: 0.1275 - accuracy: 0.9943 - val_loss: 0.5040 - val_accuracy: 0.9316\n",
      "Epoch 42/50\n",
      "30/30 [==============================] - 7s 237ms/step - loss: 0.0974 - accuracy: 0.9992 - val_loss: 0.4724 - val_accuracy: 0.9304\n",
      "Epoch 43/50\n",
      "30/30 [==============================] - 7s 237ms/step - loss: 0.0856 - accuracy: 0.9990 - val_loss: 0.4663 - val_accuracy: 0.9380\n",
      "Epoch 44/50\n",
      "30/30 [==============================] - 7s 237ms/step - loss: 0.0853 - accuracy: 0.9975 - val_loss: 0.4947 - val_accuracy: 0.9304\n",
      "Epoch 45/50\n",
      "30/30 [==============================] - 7s 238ms/step - loss: 0.0671 - accuracy: 0.9989 - val_loss: 0.6028 - val_accuracy: 0.9084\n",
      "Epoch 46/50\n",
      "30/30 [==============================] - 7s 238ms/step - loss: 0.0803 - accuracy: 0.9961 - val_loss: 0.4936 - val_accuracy: 0.9248\n",
      "Epoch 47/50\n",
      "30/30 [==============================] - 7s 239ms/step - loss: 0.0590 - accuracy: 0.9988 - val_loss: 0.4588 - val_accuracy: 0.9340\n",
      "Epoch 48/50\n",
      "30/30 [==============================] - 7s 238ms/step - loss: 0.0560 - accuracy: 0.9987 - val_loss: 0.4905 - val_accuracy: 0.9216\n",
      "Epoch 49/50\n",
      "30/30 [==============================] - 7s 239ms/step - loss: 0.0493 - accuracy: 0.9993 - val_loss: 0.4804 - val_accuracy: 0.9276\n",
      "Epoch 50/50\n",
      "30/30 [==============================] - 7s 238ms/step - loss: 0.0557 - accuracy: 0.9975 - val_loss: 0.4962 - val_accuracy: 0.9284\n"
     ]
    }
   ],
   "source": [
    "checkpoint_callback = tf.keras.callbacks.ModelCheckpoint(filepath='weights_64_256/', save_weights_only=True, save_best_only=True, monitor=\"val_accuracy\", mode=\"max\")\n",
    "H = category_prediction_model_64_256.fit([d_train, m_train], y_train, validation_split=0.25, epochs=50, batch_size=256, shuffle=True, callbacks=[checkpoint_callback])"
   ]
  },
  {
   "cell_type": "code",
   "execution_count": 33,
   "metadata": {
    "colab": {
     "base_uri": "https://localhost:8080/",
     "height": 282
    },
    "id": "9nqIzAdFIFDO",
    "outputId": "48d71480-8059-4f6c-9d29-e3ddc0081703"
   },
   "outputs": [
    {
     "data": {
      "text/plain": [
       "[<matplotlib.lines.Line2D at 0x7eff404f3750>]"
      ]
     },
     "execution_count": 33,
     "metadata": {
      "tags": []
     },
     "output_type": "execute_result"
    },
    {
     "data": {
      "image/png": "[encoded data removed]",
      "text/plain": [
       "<Figure size 432x288 with 1 Axes>"
      ]
     },
     "metadata": {
      "needs_background": "light",
      "tags": []
     },
     "output_type": "display_data"
    }
   ],
   "source": [
    "plt.plot(H.history[\"accuracy\"])\n",
    "plt.plot(H.history[\"val_accuracy\"])"
   ]
  },
  {
   "cell_type": "markdown",
   "metadata": {},
   "source": [
    "### Model-6"
   ]
  },
  {
   "cell_type": "code",
   "execution_count": 34,
   "metadata": {
    "id": "lEtt9pgWWK1F"
   },
   "outputs": [],
   "source": [
    "category_prediction_model_64_512 = Model(X_description[0].shape, X_meta[0].shape, embed_size=64, LSTM=512)\n",
    "category_prediction_model_64_512.compile(optimizer=\"rmsprop\", loss=\"sparse_categorical_crossentropy\", metrics=\"accuracy\")"
   ]
  },
  {
   "cell_type": "code",
   "execution_count": 35,
   "metadata": {
    "colab": {
     "base_uri": "https://localhost:8080/"
    },
    "id": "r8T_FgbyIFF6",
    "outputId": "55a96b09-524a-47c3-ea86-a71ed11f3553"
   },
   "outputs": [
    {
     "name": "stdout",
     "output_type": "stream",
     "text": [
      "Epoch 1/50\n",
      "30/30 [==============================] - 25s 569ms/step - loss: 4.8391 - accuracy: 0.1804 - val_loss: 5.4404 - val_accuracy: 0.0748\n",
      "Epoch 2/50\n",
      "30/30 [==============================] - 15s 504ms/step - loss: 3.4167 - accuracy: 0.7196 - val_loss: 4.9659 - val_accuracy: 0.0268\n",
      "Epoch 3/50\n",
      "30/30 [==============================] - 15s 506ms/step - loss: 2.6877 - accuracy: 0.8668 - val_loss: 4.8380 - val_accuracy: 0.0632\n",
      "Epoch 4/50\n",
      "30/30 [==============================] - 15s 495ms/step - loss: 2.3370 - accuracy: 0.9173 - val_loss: 5.2984 - val_accuracy: 0.0440\n",
      "Epoch 5/50\n",
      "30/30 [==============================] - 15s 493ms/step - loss: 2.0733 - accuracy: 0.9493 - val_loss: 4.9332 - val_accuracy: 0.0512\n",
      "Epoch 6/50\n",
      "30/30 [==============================] - 15s 494ms/step - loss: 1.8969 - accuracy: 0.9571 - val_loss: 5.9041 - val_accuracy: 0.0232\n",
      "Epoch 7/50\n",
      "30/30 [==============================] - 15s 498ms/step - loss: 1.7688 - accuracy: 0.9656 - val_loss: 5.4345 - val_accuracy: 0.0664\n",
      "Epoch 8/50\n",
      "30/30 [==============================] - 15s 503ms/step - loss: 1.6052 - accuracy: 0.9727 - val_loss: 5.4003 - val_accuracy: 0.0424\n",
      "Epoch 9/50\n",
      "30/30 [==============================] - 15s 499ms/step - loss: 1.5294 - accuracy: 0.9790 - val_loss: 4.7336 - val_accuracy: 0.1412\n",
      "Epoch 10/50\n",
      "30/30 [==============================] - 15s 496ms/step - loss: 1.4000 - accuracy: 0.9806 - val_loss: 4.8301 - val_accuracy: 0.1588\n",
      "Epoch 11/50\n",
      "30/30 [==============================] - 15s 497ms/step - loss: 1.3433 - accuracy: 0.9783 - val_loss: 4.0144 - val_accuracy: 0.2664\n",
      "Epoch 12/50\n",
      "30/30 [==============================] - 15s 499ms/step - loss: 1.2658 - accuracy: 0.9788 - val_loss: 2.9384 - val_accuracy: 0.4968\n",
      "Epoch 13/50\n",
      "30/30 [==============================] - 15s 498ms/step - loss: 1.1820 - accuracy: 0.9867 - val_loss: 3.4042 - val_accuracy: 0.5872\n",
      "Epoch 14/50\n",
      "30/30 [==============================] - 15s 498ms/step - loss: 1.0773 - accuracy: 0.9870 - val_loss: 1.9510 - val_accuracy: 0.8496\n",
      "Epoch 15/50\n",
      "30/30 [==============================] - 15s 499ms/step - loss: 1.0108 - accuracy: 0.9893 - val_loss: 1.7465 - val_accuracy: 0.8888\n",
      "Epoch 16/50\n",
      "30/30 [==============================] - 15s 498ms/step - loss: 0.9546 - accuracy: 0.9926 - val_loss: 1.6087 - val_accuracy: 0.9032\n",
      "Epoch 17/50\n",
      "30/30 [==============================] - 15s 497ms/step - loss: 0.8717 - accuracy: 0.9952 - val_loss: 1.4168 - val_accuracy: 0.9068\n",
      "Epoch 18/50\n",
      "30/30 [==============================] - 15s 502ms/step - loss: 0.8275 - accuracy: 0.9928 - val_loss: 1.6100 - val_accuracy: 0.8572\n",
      "Epoch 19/50\n",
      "30/30 [==============================] - 15s 499ms/step - loss: 0.7250 - accuracy: 0.9982 - val_loss: 1.3063 - val_accuracy: 0.9168\n",
      "Epoch 20/50\n",
      "30/30 [==============================] - 15s 499ms/step - loss: 0.6944 - accuracy: 0.9916 - val_loss: 1.0482 - val_accuracy: 0.9324\n",
      "Epoch 21/50\n",
      "30/30 [==============================] - 15s 500ms/step - loss: 0.6347 - accuracy: 0.9970 - val_loss: 1.2577 - val_accuracy: 0.9268\n",
      "Epoch 22/50\n",
      "30/30 [==============================] - 15s 502ms/step - loss: 0.5567 - accuracy: 0.9968 - val_loss: 0.9559 - val_accuracy: 0.9224\n",
      "Epoch 23/50\n",
      "30/30 [==============================] - 15s 500ms/step - loss: 0.5531 - accuracy: 0.9976 - val_loss: 0.9994 - val_accuracy: 0.9292\n",
      "Epoch 24/50\n",
      "30/30 [==============================] - 15s 499ms/step - loss: 0.4974 - accuracy: 0.9978 - val_loss: 0.8794 - val_accuracy: 0.9312\n",
      "Epoch 25/50\n",
      "30/30 [==============================] - 15s 499ms/step - loss: 0.4579 - accuracy: 0.9958 - val_loss: 0.8847 - val_accuracy: 0.9264\n",
      "Epoch 26/50\n",
      "30/30 [==============================] - 15s 497ms/step - loss: 0.4164 - accuracy: 0.9973 - val_loss: 0.7486 - val_accuracy: 0.9316\n",
      "Epoch 27/50\n",
      "30/30 [==============================] - 15s 500ms/step - loss: 0.3766 - accuracy: 0.9984 - val_loss: 0.8815 - val_accuracy: 0.9308\n",
      "Epoch 28/50\n",
      "30/30 [==============================] - 15s 499ms/step - loss: 0.3596 - accuracy: 0.9975 - val_loss: 0.7994 - val_accuracy: 0.9340\n",
      "Epoch 29/50\n",
      "30/30 [==============================] - 15s 499ms/step - loss: 0.3177 - accuracy: 0.9974 - val_loss: 0.7700 - val_accuracy: 0.9348\n",
      "Epoch 30/50\n",
      "30/30 [==============================] - 15s 498ms/step - loss: 0.3122 - accuracy: 0.9970 - val_loss: 0.7620 - val_accuracy: 0.9264\n",
      "Epoch 31/50\n",
      "30/30 [==============================] - 15s 502ms/step - loss: 0.2724 - accuracy: 0.9976 - val_loss: 0.8146 - val_accuracy: 0.9340\n",
      "Epoch 32/50\n",
      "30/30 [==============================] - 15s 503ms/step - loss: 0.2441 - accuracy: 0.9981 - val_loss: 0.6686 - val_accuracy: 0.9340\n",
      "Epoch 33/50\n",
      "30/30 [==============================] - 15s 500ms/step - loss: 0.2259 - accuracy: 0.9970 - val_loss: 0.6761 - val_accuracy: 0.9336\n",
      "Epoch 34/50\n",
      "30/30 [==============================] - 15s 498ms/step - loss: 0.2028 - accuracy: 0.9990 - val_loss: 0.6476 - val_accuracy: 0.9356\n",
      "Epoch 35/50\n",
      "30/30 [==============================] - 15s 498ms/step - loss: 0.1864 - accuracy: 0.9981 - val_loss: 0.6284 - val_accuracy: 0.9284\n",
      "Epoch 36/50\n",
      "30/30 [==============================] - 15s 499ms/step - loss: 0.1748 - accuracy: 0.9976 - val_loss: 0.5929 - val_accuracy: 0.9312\n",
      "Epoch 37/50\n",
      "30/30 [==============================] - 15s 503ms/step - loss: 0.1482 - accuracy: 0.9981 - val_loss: 0.5329 - val_accuracy: 0.9380\n",
      "Epoch 38/50\n",
      "30/30 [==============================] - 15s 500ms/step - loss: 0.1408 - accuracy: 0.9991 - val_loss: 0.5352 - val_accuracy: 0.9400\n",
      "Epoch 39/50\n",
      "30/30 [==============================] - 15s 497ms/step - loss: 0.1341 - accuracy: 0.9985 - val_loss: 0.5055 - val_accuracy: 0.9364\n",
      "Epoch 40/50\n",
      "30/30 [==============================] - 15s 497ms/step - loss: 0.1140 - accuracy: 0.9978 - val_loss: 0.4680 - val_accuracy: 0.9396\n",
      "Epoch 41/50\n",
      "30/30 [==============================] - 15s 502ms/step - loss: 0.1041 - accuracy: 0.9996 - val_loss: 0.5485 - val_accuracy: 0.9256\n",
      "Epoch 42/50\n",
      "30/30 [==============================] - 15s 502ms/step - loss: 0.0990 - accuracy: 0.9978 - val_loss: 0.5608 - val_accuracy: 0.9336\n",
      "Epoch 43/50\n",
      "30/30 [==============================] - 15s 500ms/step - loss: 0.0973 - accuracy: 0.9972 - val_loss: 0.5215 - val_accuracy: 0.9388\n",
      "Epoch 44/50\n",
      "30/30 [==============================] - 15s 501ms/step - loss: 0.0800 - accuracy: 0.9991 - val_loss: 0.5520 - val_accuracy: 0.9264\n",
      "Epoch 45/50\n",
      "30/30 [==============================] - 15s 500ms/step - loss: 0.0733 - accuracy: 0.9994 - val_loss: 0.4958 - val_accuracy: 0.9288\n",
      "Epoch 46/50\n",
      "30/30 [==============================] - 15s 501ms/step - loss: 0.0631 - accuracy: 0.9995 - val_loss: 0.5073 - val_accuracy: 0.9288\n",
      "Epoch 47/50\n",
      "30/30 [==============================] - 15s 498ms/step - loss: 0.0633 - accuracy: 0.9988 - val_loss: 0.5799 - val_accuracy: 0.9112\n",
      "Epoch 48/50\n",
      "30/30 [==============================] - 15s 501ms/step - loss: 0.0587 - accuracy: 0.9992 - val_loss: 0.4804 - val_accuracy: 0.9336\n",
      "Epoch 49/50\n",
      "30/30 [==============================] - 15s 497ms/step - loss: 0.0510 - accuracy: 0.9991 - val_loss: 0.4709 - val_accuracy: 0.9328\n",
      "Epoch 50/50\n",
      "30/30 [==============================] - 15s 498ms/step - loss: 0.0474 - accuracy: 0.9992 - val_loss: 0.4704 - val_accuracy: 0.9352\n"
     ]
    }
   ],
   "source": [
    "checkpoint_callback = tf.keras.callbacks.ModelCheckpoint(filepath='weights_64_512/', save_weights_only=True, save_best_only=True, monitor=\"val_accuracy\", mode=\"max\")\n",
    "H = category_prediction_model_64_512.fit([d_train, m_train], y_train, validation_split=0.25, epochs=50, batch_size=256, shuffle=True, callbacks=[checkpoint_callback])"
   ]
  },
  {
   "cell_type": "code",
   "execution_count": 36,
   "metadata": {
    "colab": {
     "base_uri": "https://localhost:8080/",
     "height": 282
    },
    "id": "Feokenk1IFI2",
    "outputId": "a28630a9-4efd-4c03-d68b-b8c3ad684f49"
   },
   "outputs": [
    {
     "data": {
      "text/plain": [
       "[<matplotlib.lines.Line2D at 0x7eff3fc1d050>]"
      ]
     },
     "execution_count": 36,
     "metadata": {
      "tags": []
     },
     "output_type": "execute_result"
    },
    {
     "data": {
      "image/png": "[encoded data removed]",
      "text/plain": [
       "<Figure size 432x288 with 1 Axes>"
      ]
     },
     "metadata": {
      "needs_background": "light",
      "tags": []
     },
     "output_type": "display_data"
    }
   ],
   "source": [
    "plt.plot(H.history[\"accuracy\"])\n",
    "plt.plot(H.history[\"val_accuracy\"])"
   ]
  },
  {
   "cell_type": "markdown",
   "metadata": {},
   "source": [
    "### Load all the models with best weights and evaluate\n"
   ]
  },
  {
   "cell_type": "code",
   "execution_count": 25,
   "metadata": {
    "colab": {
     "base_uri": "https://localhost:8080/"
    },
    "id": "g2cfKQdUIFLR",
    "outputId": "088140fa-45dd-432d-96bb-18367be8be98"
   },
   "outputs": [
    {
     "name": "stdout",
     "output_type": "stream",
     "text": [
      "WARNING:tensorflow:Unresolved object in checkpoint: (root).optimizer.iter\n",
      "WARNING:tensorflow:Unresolved object in checkpoint: (root).optimizer.decay\n",
      "WARNING:tensorflow:Unresolved object in checkpoint: (root).optimizer.learning_rate\n",
      "WARNING:tensorflow:Unresolved object in checkpoint: (root).optimizer.momentum\n",
      "WARNING:tensorflow:Unresolved object in checkpoint: (root).optimizer.rho\n",
      "WARNING:tensorflow:Unresolved object in checkpoint: (root).optimizer's state 'rms' for (root).layer_with_weights-0.embeddings\n",
      "WARNING:tensorflow:Unresolved object in checkpoint: (root).optimizer's state 'rms' for (root).layer_with_weights-2.gamma\n",
      "WARNING:tensorflow:Unresolved object in checkpoint: (root).optimizer's state 'rms' for (root).layer_with_weights-2.beta\n",
      "WARNING:tensorflow:Unresolved object in checkpoint: (root).optimizer's state 'rms' for (root).layer_with_weights-4.gamma\n",
      "WARNING:tensorflow:Unresolved object in checkpoint: (root).optimizer's state 'rms' for (root).layer_with_weights-4.beta\n",
      "WARNING:tensorflow:Unresolved object in checkpoint: (root).optimizer's state 'rms' for (root).layer_with_weights-5.gamma\n",
      "WARNING:tensorflow:Unresolved object in checkpoint: (root).optimizer's state 'rms' for (root).layer_with_weights-5.beta\n",
      "WARNING:tensorflow:Unresolved object in checkpoint: (root).optimizer's state 'rms' for (root).layer_with_weights-6.kernel\n",
      "WARNING:tensorflow:Unresolved object in checkpoint: (root).optimizer's state 'rms' for (root).layer_with_weights-6.bias\n",
      "WARNING:tensorflow:Unresolved object in checkpoint: (root).optimizer's state 'rms' for (root).layer_with_weights-7.gamma\n",
      "WARNING:tensorflow:Unresolved object in checkpoint: (root).optimizer's state 'rms' for (root).layer_with_weights-7.beta\n",
      "WARNING:tensorflow:Unresolved object in checkpoint: (root).optimizer's state 'rms' for (root).layer_with_weights-8.kernel\n",
      "WARNING:tensorflow:Unresolved object in checkpoint: (root).optimizer's state 'rms' for (root).layer_with_weights-8.bias\n",
      "WARNING:tensorflow:Unresolved object in checkpoint: (root).optimizer's state 'rms' for (root).layer_with_weights-9.gamma\n",
      "WARNING:tensorflow:Unresolved object in checkpoint: (root).optimizer's state 'rms' for (root).layer_with_weights-9.beta\n",
      "WARNING:tensorflow:Unresolved object in checkpoint: (root).optimizer's state 'rms' for (root).layer_with_weights-10.kernel\n",
      "WARNING:tensorflow:Unresolved object in checkpoint: (root).optimizer's state 'rms' for (root).layer_with_weights-10.bias\n",
      "WARNING:tensorflow:Unresolved object in checkpoint: (root).optimizer's state 'rms' for (root).layer_with_weights-11.gamma\n",
      "WARNING:tensorflow:Unresolved object in checkpoint: (root).optimizer's state 'rms' for (root).layer_with_weights-11.beta\n",
      "WARNING:tensorflow:Unresolved object in checkpoint: (root).optimizer's state 'rms' for (root).layer_with_weights-1.cell.kernel\n",
      "WARNING:tensorflow:Unresolved object in checkpoint: (root).optimizer's state 'rms' for (root).layer_with_weights-1.cell.recurrent_kernel\n",
      "WARNING:tensorflow:Unresolved object in checkpoint: (root).optimizer's state 'rms' for (root).layer_with_weights-1.cell.bias\n",
      "WARNING:tensorflow:Unresolved object in checkpoint: (root).optimizer's state 'rms' for (root).layer_with_weights-3.cell.kernel\n",
      "WARNING:tensorflow:Unresolved object in checkpoint: (root).optimizer's state 'rms' for (root).layer_with_weights-3.cell.recurrent_kernel\n",
      "WARNING:tensorflow:Unresolved object in checkpoint: (root).optimizer's state 'rms' for (root).layer_with_weights-3.cell.bias\n",
      "WARNING:tensorflow:A checkpoint was restored (e.g. tf.train.Checkpoint.restore or tf.keras.Model.load_weights) but not all checkpointed values were used. See above for specific issues. Use expect_partial() on the load status object, e.g. tf.train.Checkpoint.restore(...).expect_partial(), to silence these warnings, or use assert_consumed() to make the check explicit. See https://www.tensorflow.org/guide/checkpoint#loading_mechanics for details.\n",
      "WARNING:tensorflow:Unresolved object in checkpoint: (root).optimizer.iter\n",
      "WARNING:tensorflow:Unresolved object in checkpoint: (root).optimizer.decay\n",
      "WARNING:tensorflow:Unresolved object in checkpoint: (root).optimizer.learning_rate\n",
      "WARNING:tensorflow:Unresolved object in checkpoint: (root).optimizer.momentum\n",
      "WARNING:tensorflow:Unresolved object in checkpoint: (root).optimizer.rho\n",
      "WARNING:tensorflow:Unresolved object in checkpoint: (root).optimizer's state 'rms' for (root).layer_with_weights-0.embeddings\n",
      "WARNING:tensorflow:Unresolved object in checkpoint: (root).optimizer's state 'rms' for (root).layer_with_weights-2.gamma\n",
      "WARNING:tensorflow:Unresolved object in checkpoint: (root).optimizer's state 'rms' for (root).layer_with_weights-2.beta\n",
      "WARNING:tensorflow:Unresolved object in checkpoint: (root).optimizer's state 'rms' for (root).layer_with_weights-4.gamma\n",
      "WARNING:tensorflow:Unresolved object in checkpoint: (root).optimizer's state 'rms' for (root).layer_with_weights-4.beta\n",
      "WARNING:tensorflow:Unresolved object in checkpoint: (root).optimizer's state 'rms' for (root).layer_with_weights-5.gamma\n",
      "WARNING:tensorflow:Unresolved object in checkpoint: (root).optimizer's state 'rms' for (root).layer_with_weights-5.beta\n",
      "WARNING:tensorflow:Unresolved object in checkpoint: (root).optimizer's state 'rms' for (root).layer_with_weights-6.kernel\n",
      "WARNING:tensorflow:Unresolved object in checkpoint: (root).optimizer's state 'rms' for (root).layer_with_weights-6.bias\n",
      "WARNING:tensorflow:Unresolved object in checkpoint: (root).optimizer's state 'rms' for (root).layer_with_weights-7.gamma\n",
      "WARNING:tensorflow:Unresolved object in checkpoint: (root).optimizer's state 'rms' for (root).layer_with_weights-7.beta\n",
      "WARNING:tensorflow:Unresolved object in checkpoint: (root).optimizer's state 'rms' for (root).layer_with_weights-8.kernel\n",
      "WARNING:tensorflow:Unresolved object in checkpoint: (root).optimizer's state 'rms' for (root).layer_with_weights-8.bias\n",
      "WARNING:tensorflow:Unresolved object in checkpoint: (root).optimizer's state 'rms' for (root).layer_with_weights-9.gamma\n",
      "WARNING:tensorflow:Unresolved object in checkpoint: (root).optimizer's state 'rms' for (root).layer_with_weights-9.beta\n",
      "WARNING:tensorflow:Unresolved object in checkpoint: (root).optimizer's state 'rms' for (root).layer_with_weights-10.kernel\n",
      "WARNING:tensorflow:Unresolved object in checkpoint: (root).optimizer's state 'rms' for (root).layer_with_weights-10.bias\n",
      "WARNING:tensorflow:Unresolved object in checkpoint: (root).optimizer's state 'rms' for (root).layer_with_weights-11.gamma\n",
      "WARNING:tensorflow:Unresolved object in checkpoint: (root).optimizer's state 'rms' for (root).layer_with_weights-11.beta\n",
      "WARNING:tensorflow:Unresolved object in checkpoint: (root).optimizer's state 'rms' for (root).layer_with_weights-1.cell.kernel\n",
      "WARNING:tensorflow:Unresolved object in checkpoint: (root).optimizer's state 'rms' for (root).layer_with_weights-1.cell.recurrent_kernel\n",
      "WARNING:tensorflow:Unresolved object in checkpoint: (root).optimizer's state 'rms' for (root).layer_with_weights-1.cell.bias\n",
      "WARNING:tensorflow:Unresolved object in checkpoint: (root).optimizer's state 'rms' for (root).layer_with_weights-3.cell.kernel\n",
      "WARNING:tensorflow:Unresolved object in checkpoint: (root).optimizer's state 'rms' for (root).layer_with_weights-3.cell.recurrent_kernel\n",
      "WARNING:tensorflow:Unresolved object in checkpoint: (root).optimizer's state 'rms' for (root).layer_with_weights-3.cell.bias\n",
      "WARNING:tensorflow:A checkpoint was restored (e.g. tf.train.Checkpoint.restore or tf.keras.Model.load_weights) but not all checkpointed values were used. See above for specific issues. Use expect_partial() on the load status object, e.g. tf.train.Checkpoint.restore(...).expect_partial(), to silence these warnings, or use assert_consumed() to make the check explicit. See https://www.tensorflow.org/guide/checkpoint#loading_mechanics for details.\n",
      "Embed Size: 32, LSTM: 128\n",
      "\tTrain Accuracy: 0.9726972579956055 Test Accuracy: 0.8950895071029663\n",
      "Embed Size: 32, LSTM: 256\n",
      "WARNING:tensorflow:Unresolved object in checkpoint: (root).optimizer.iter\n",
      "WARNING:tensorflow:Unresolved object in checkpoint: (root).optimizer.decay\n",
      "WARNING:tensorflow:Unresolved object in checkpoint: (root).optimizer.learning_rate\n",
      "WARNING:tensorflow:Unresolved object in checkpoint: (root).optimizer.momentum\n",
      "WARNING:tensorflow:Unresolved object in checkpoint: (root).optimizer.rho\n",
      "WARNING:tensorflow:Unresolved object in checkpoint: (root).optimizer's state 'rms' for (root).layer_with_weights-0.embeddings\n",
      "WARNING:tensorflow:Unresolved object in checkpoint: (root).optimizer's state 'rms' for (root).layer_with_weights-2.gamma\n",
      "WARNING:tensorflow:Unresolved object in checkpoint: (root).optimizer's state 'rms' for (root).layer_with_weights-2.beta\n",
      "WARNING:tensorflow:Unresolved object in checkpoint: (root).optimizer's state 'rms' for (root).layer_with_weights-4.gamma\n",
      "WARNING:tensorflow:Unresolved object in checkpoint: (root).optimizer's state 'rms' for (root).layer_with_weights-4.beta\n",
      "WARNING:tensorflow:Unresolved object in checkpoint: (root).optimizer's state 'rms' for (root).layer_with_weights-5.gamma\n",
      "WARNING:tensorflow:Unresolved object in checkpoint: (root).optimizer's state 'rms' for (root).layer_with_weights-5.beta\n",
      "WARNING:tensorflow:Unresolved object in checkpoint: (root).optimizer's state 'rms' for (root).layer_with_weights-6.kernel\n",
      "WARNING:tensorflow:Unresolved object in checkpoint: (root).optimizer's state 'rms' for (root).layer_with_weights-6.bias\n",
      "WARNING:tensorflow:Unresolved object in checkpoint: (root).optimizer's state 'rms' for (root).layer_with_weights-7.gamma\n",
      "WARNING:tensorflow:Unresolved object in checkpoint: (root).optimizer's state 'rms' for (root).layer_with_weights-7.beta\n",
      "WARNING:tensorflow:Unresolved object in checkpoint: (root).optimizer's state 'rms' for (root).layer_with_weights-8.kernel\n",
      "WARNING:tensorflow:Unresolved object in checkpoint: (root).optimizer's state 'rms' for (root).layer_with_weights-8.bias\n",
      "WARNING:tensorflow:Unresolved object in checkpoint: (root).optimizer's state 'rms' for (root).layer_with_weights-9.gamma\n",
      "WARNING:tensorflow:Unresolved object in checkpoint: (root).optimizer's state 'rms' for (root).layer_with_weights-9.beta\n",
      "WARNING:tensorflow:Unresolved object in checkpoint: (root).optimizer's state 'rms' for (root).layer_with_weights-10.kernel\n",
      "WARNING:tensorflow:Unresolved object in checkpoint: (root).optimizer's state 'rms' for (root).layer_with_weights-10.bias\n",
      "WARNING:tensorflow:Unresolved object in checkpoint: (root).optimizer's state 'rms' for (root).layer_with_weights-11.gamma\n",
      "WARNING:tensorflow:Unresolved object in checkpoint: (root).optimizer's state 'rms' for (root).layer_with_weights-11.beta\n",
      "WARNING:tensorflow:Unresolved object in checkpoint: (root).optimizer's state 'rms' for (root).layer_with_weights-1.cell.kernel\n",
      "WARNING:tensorflow:Unresolved object in checkpoint: (root).optimizer's state 'rms' for (root).layer_with_weights-1.cell.recurrent_kernel\n",
      "WARNING:tensorflow:Unresolved object in checkpoint: (root).optimizer's state 'rms' for (root).layer_with_weights-1.cell.bias\n",
      "WARNING:tensorflow:Unresolved object in checkpoint: (root).optimizer's state 'rms' for (root).layer_with_weights-3.cell.kernel\n",
      "WARNING:tensorflow:Unresolved object in checkpoint: (root).optimizer's state 'rms' for (root).layer_with_weights-3.cell.recurrent_kernel\n",
      "WARNING:tensorflow:Unresolved object in checkpoint: (root).optimizer's state 'rms' for (root).layer_with_weights-3.cell.bias\n",
      "WARNING:tensorflow:A checkpoint was restored (e.g. tf.train.Checkpoint.restore or tf.keras.Model.load_weights) but not all checkpointed values were used. See above for specific issues. Use expect_partial() on the load status object, e.g. tf.train.Checkpoint.restore(...).expect_partial(), to silence these warnings, or use assert_consumed() to make the check explicit. See https://www.tensorflow.org/guide/checkpoint#loading_mechanics for details.\n",
      "\tTrain Accuracy: 0.9765976667404175 Test Accuracy: 0.9155915379524231\n",
      "Embed Size: 32, LSTM: 512\n",
      "\tTrain Accuracy: 0.943994402885437 Test Accuracy: 0.7828782796859741\n",
      "Embed Size: 64, LSTM: 128\n",
      "WARNING:tensorflow:Unresolved object in checkpoint: (root).optimizer.iter\n",
      "WARNING:tensorflow:Unresolved object in checkpoint: (root).optimizer.decay\n",
      "WARNING:tensorflow:Unresolved object in checkpoint: (root).optimizer.learning_rate\n",
      "WARNING:tensorflow:Unresolved object in checkpoint: (root).optimizer.momentum\n",
      "WARNING:tensorflow:Unresolved object in checkpoint: (root).optimizer.rho\n",
      "WARNING:tensorflow:Unresolved object in checkpoint: (root).optimizer's state 'rms' for (root).layer_with_weights-0.embeddings\n",
      "WARNING:tensorflow:Unresolved object in checkpoint: (root).optimizer's state 'rms' for (root).layer_with_weights-2.gamma\n",
      "WARNING:tensorflow:Unresolved object in checkpoint: (root).optimizer's state 'rms' for (root).layer_with_weights-2.beta\n",
      "WARNING:tensorflow:Unresolved object in checkpoint: (root).optimizer's state 'rms' for (root).layer_with_weights-4.gamma\n",
      "WARNING:tensorflow:Unresolved object in checkpoint: (root).optimizer's state 'rms' for (root).layer_with_weights-4.beta\n",
      "WARNING:tensorflow:Unresolved object in checkpoint: (root).optimizer's state 'rms' for (root).layer_with_weights-5.gamma\n",
      "WARNING:tensorflow:Unresolved object in checkpoint: (root).optimizer's state 'rms' for (root).layer_with_weights-5.beta\n",
      "WARNING:tensorflow:Unresolved object in checkpoint: (root).optimizer's state 'rms' for (root).layer_with_weights-6.kernel\n",
      "WARNING:tensorflow:Unresolved object in checkpoint: (root).optimizer's state 'rms' for (root).layer_with_weights-6.bias\n",
      "WARNING:tensorflow:Unresolved object in checkpoint: (root).optimizer's state 'rms' for (root).layer_with_weights-7.gamma\n",
      "WARNING:tensorflow:Unresolved object in checkpoint: (root).optimizer's state 'rms' for (root).layer_with_weights-7.beta\n",
      "WARNING:tensorflow:Unresolved object in checkpoint: (root).optimizer's state 'rms' for (root).layer_with_weights-8.kernel\n",
      "WARNING:tensorflow:Unresolved object in checkpoint: (root).optimizer's state 'rms' for (root).layer_with_weights-8.bias\n",
      "WARNING:tensorflow:Unresolved object in checkpoint: (root).optimizer's state 'rms' for (root).layer_with_weights-9.gamma\n",
      "WARNING:tensorflow:Unresolved object in checkpoint: (root).optimizer's state 'rms' for (root).layer_with_weights-9.beta\n",
      "WARNING:tensorflow:Unresolved object in checkpoint: (root).optimizer's state 'rms' for (root).layer_with_weights-10.kernel\n",
      "WARNING:tensorflow:Unresolved object in checkpoint: (root).optimizer's state 'rms' for (root).layer_with_weights-10.bias\n",
      "WARNING:tensorflow:Unresolved object in checkpoint: (root).optimizer's state 'rms' for (root).layer_with_weights-11.gamma\n",
      "WARNING:tensorflow:Unresolved object in checkpoint: (root).optimizer's state 'rms' for (root).layer_with_weights-11.beta\n",
      "WARNING:tensorflow:Unresolved object in checkpoint: (root).optimizer's state 'rms' for (root).layer_with_weights-1.cell.kernel\n",
      "WARNING:tensorflow:Unresolved object in checkpoint: (root).optimizer's state 'rms' for (root).layer_with_weights-1.cell.recurrent_kernel\n",
      "WARNING:tensorflow:Unresolved object in checkpoint: (root).optimizer's state 'rms' for (root).layer_with_weights-1.cell.bias\n",
      "WARNING:tensorflow:Unresolved object in checkpoint: (root).optimizer's state 'rms' for (root).layer_with_weights-3.cell.kernel\n",
      "WARNING:tensorflow:Unresolved object in checkpoint: (root).optimizer's state 'rms' for (root).layer_with_weights-3.cell.recurrent_kernel\n",
      "WARNING:tensorflow:Unresolved object in checkpoint: (root).optimizer's state 'rms' for (root).layer_with_weights-3.cell.bias\n",
      "WARNING:tensorflow:A checkpoint was restored (e.g. tf.train.Checkpoint.restore or tf.keras.Model.load_weights) but not all checkpointed values were used. See above for specific issues. Use expect_partial() on the load status object, e.g. tf.train.Checkpoint.restore(...).expect_partial(), to silence these warnings, or use assert_consumed() to make the check explicit. See https://www.tensorflow.org/guide/checkpoint#loading_mechanics for details.\n",
      "WARNING:tensorflow:Unresolved object in checkpoint: (root).optimizer.iter\n",
      "WARNING:tensorflow:Unresolved object in checkpoint: (root).optimizer.decay\n",
      "WARNING:tensorflow:Unresolved object in checkpoint: (root).optimizer.learning_rate\n",
      "WARNING:tensorflow:Unresolved object in checkpoint: (root).optimizer.momentum\n",
      "WARNING:tensorflow:Unresolved object in checkpoint: (root).optimizer.rho\n",
      "WARNING:tensorflow:Unresolved object in checkpoint: (root).optimizer's state 'rms' for (root).layer_with_weights-0.embeddings\n",
      "WARNING:tensorflow:Unresolved object in checkpoint: (root).optimizer's state 'rms' for (root).layer_with_weights-2.gamma\n",
      "WARNING:tensorflow:Unresolved object in checkpoint: (root).optimizer's state 'rms' for (root).layer_with_weights-2.beta\n",
      "WARNING:tensorflow:Unresolved object in checkpoint: (root).optimizer's state 'rms' for (root).layer_with_weights-4.gamma\n",
      "WARNING:tensorflow:Unresolved object in checkpoint: (root).optimizer's state 'rms' for (root).layer_with_weights-4.beta\n",
      "WARNING:tensorflow:Unresolved object in checkpoint: (root).optimizer's state 'rms' for (root).layer_with_weights-5.gamma\n",
      "WARNING:tensorflow:Unresolved object in checkpoint: (root).optimizer's state 'rms' for (root).layer_with_weights-5.beta\n",
      "WARNING:tensorflow:Unresolved object in checkpoint: (root).optimizer's state 'rms' for (root).layer_with_weights-6.kernel\n",
      "WARNING:tensorflow:Unresolved object in checkpoint: (root).optimizer's state 'rms' for (root).layer_with_weights-6.bias\n",
      "WARNING:tensorflow:Unresolved object in checkpoint: (root).optimizer's state 'rms' for (root).layer_with_weights-7.gamma\n",
      "WARNING:tensorflow:Unresolved object in checkpoint: (root).optimizer's state 'rms' for (root).layer_with_weights-7.beta\n",
      "WARNING:tensorflow:Unresolved object in checkpoint: (root).optimizer's state 'rms' for (root).layer_with_weights-8.kernel\n",
      "WARNING:tensorflow:Unresolved object in checkpoint: (root).optimizer's state 'rms' for (root).layer_with_weights-8.bias\n",
      "WARNING:tensorflow:Unresolved object in checkpoint: (root).optimizer's state 'rms' for (root).layer_with_weights-9.gamma\n",
      "WARNING:tensorflow:Unresolved object in checkpoint: (root).optimizer's state 'rms' for (root).layer_with_weights-9.beta\n",
      "WARNING:tensorflow:Unresolved object in checkpoint: (root).optimizer's state 'rms' for (root).layer_with_weights-10.kernel\n",
      "WARNING:tensorflow:Unresolved object in checkpoint: (root).optimizer's state 'rms' for (root).layer_with_weights-10.bias\n",
      "WARNING:tensorflow:Unresolved object in checkpoint: (root).optimizer's state 'rms' for (root).layer_with_weights-11.gamma\n",
      "WARNING:tensorflow:Unresolved object in checkpoint: (root).optimizer's state 'rms' for (root).layer_with_weights-11.beta\n",
      "WARNING:tensorflow:Unresolved object in checkpoint: (root).optimizer's state 'rms' for (root).layer_with_weights-1.cell.kernel\n",
      "WARNING:tensorflow:Unresolved object in checkpoint: (root).optimizer's state 'rms' for (root).layer_with_weights-1.cell.recurrent_kernel\n",
      "WARNING:tensorflow:Unresolved object in checkpoint: (root).optimizer's state 'rms' for (root).layer_with_weights-1.cell.bias\n",
      "WARNING:tensorflow:Unresolved object in checkpoint: (root).optimizer's state 'rms' for (root).layer_with_weights-3.cell.kernel\n",
      "WARNING:tensorflow:Unresolved object in checkpoint: (root).optimizer's state 'rms' for (root).layer_with_weights-3.cell.recurrent_kernel\n",
      "WARNING:tensorflow:Unresolved object in checkpoint: (root).optimizer's state 'rms' for (root).layer_with_weights-3.cell.bias\n",
      "WARNING:tensorflow:A checkpoint was restored (e.g. tf.train.Checkpoint.restore or tf.keras.Model.load_weights) but not all checkpointed values were used. See above for specific issues. Use expect_partial() on the load status object, e.g. tf.train.Checkpoint.restore(...).expect_partial(), to silence these warnings, or use assert_consumed() to make the check explicit. See https://www.tensorflow.org/guide/checkpoint#loading_mechanics for details.\n",
      "\tTrain Accuracy: 0.9804980754852295 Test Accuracy: 0.9315931797027588\n",
      "Embed Size: 64, LSTM: 256\n",
      "WARNING:tensorflow:Unresolved object in checkpoint: (root).optimizer.iter\n",
      "WARNING:tensorflow:Unresolved object in checkpoint: (root).optimizer.decay\n",
      "WARNING:tensorflow:Unresolved object in checkpoint: (root).optimizer.learning_rate\n",
      "WARNING:tensorflow:Unresolved object in checkpoint: (root).optimizer.momentum\n",
      "WARNING:tensorflow:Unresolved object in checkpoint: (root).optimizer.rho\n",
      "WARNING:tensorflow:Unresolved object in checkpoint: (root).optimizer's state 'rms' for (root).layer_with_weights-0.embeddings\n",
      "WARNING:tensorflow:Unresolved object in checkpoint: (root).optimizer's state 'rms' for (root).layer_with_weights-2.gamma\n",
      "WARNING:tensorflow:Unresolved object in checkpoint: (root).optimizer's state 'rms' for (root).layer_with_weights-2.beta\n",
      "WARNING:tensorflow:Unresolved object in checkpoint: (root).optimizer's state 'rms' for (root).layer_with_weights-4.gamma\n",
      "WARNING:tensorflow:Unresolved object in checkpoint: (root).optimizer's state 'rms' for (root).layer_with_weights-4.beta\n",
      "WARNING:tensorflow:Unresolved object in checkpoint: (root).optimizer's state 'rms' for (root).layer_with_weights-5.gamma\n",
      "WARNING:tensorflow:Unresolved object in checkpoint: (root).optimizer's state 'rms' for (root).layer_with_weights-5.beta\n",
      "WARNING:tensorflow:Unresolved object in checkpoint: (root).optimizer's state 'rms' for (root).layer_with_weights-6.kernel\n",
      "WARNING:tensorflow:Unresolved object in checkpoint: (root).optimizer's state 'rms' for (root).layer_with_weights-6.bias\n",
      "WARNING:tensorflow:Unresolved object in checkpoint: (root).optimizer's state 'rms' for (root).layer_with_weights-7.gamma\n",
      "WARNING:tensorflow:Unresolved object in checkpoint: (root).optimizer's state 'rms' for (root).layer_with_weights-7.beta\n",
      "WARNING:tensorflow:Unresolved object in checkpoint: (root).optimizer's state 'rms' for (root).layer_with_weights-8.kernel\n",
      "WARNING:tensorflow:Unresolved object in checkpoint: (root).optimizer's state 'rms' for (root).layer_with_weights-8.bias\n",
      "WARNING:tensorflow:Unresolved object in checkpoint: (root).optimizer's state 'rms' for (root).layer_with_weights-9.gamma\n",
      "WARNING:tensorflow:Unresolved object in checkpoint: (root).optimizer's state 'rms' for (root).layer_with_weights-9.beta\n",
      "WARNING:tensorflow:Unresolved object in checkpoint: (root).optimizer's state 'rms' for (root).layer_with_weights-10.kernel\n",
      "WARNING:tensorflow:Unresolved object in checkpoint: (root).optimizer's state 'rms' for (root).layer_with_weights-10.bias\n",
      "WARNING:tensorflow:Unresolved object in checkpoint: (root).optimizer's state 'rms' for (root).layer_with_weights-11.gamma\n",
      "WARNING:tensorflow:Unresolved object in checkpoint: (root).optimizer's state 'rms' for (root).layer_with_weights-11.beta\n",
      "WARNING:tensorflow:Unresolved object in checkpoint: (root).optimizer's state 'rms' for (root).layer_with_weights-1.cell.kernel\n",
      "WARNING:tensorflow:Unresolved object in checkpoint: (root).optimizer's state 'rms' for (root).layer_with_weights-1.cell.recurrent_kernel\n",
      "WARNING:tensorflow:Unresolved object in checkpoint: (root).optimizer's state 'rms' for (root).layer_with_weights-1.cell.bias\n",
      "WARNING:tensorflow:Unresolved object in checkpoint: (root).optimizer's state 'rms' for (root).layer_with_weights-3.cell.kernel\n",
      "WARNING:tensorflow:Unresolved object in checkpoint: (root).optimizer's state 'rms' for (root).layer_with_weights-3.cell.recurrent_kernel\n",
      "WARNING:tensorflow:Unresolved object in checkpoint: (root).optimizer's state 'rms' for (root).layer_with_weights-3.cell.bias\n",
      "WARNING:tensorflow:A checkpoint was restored (e.g. tf.train.Checkpoint.restore or tf.keras.Model.load_weights) but not all checkpointed values were used. See above for specific issues. Use expect_partial() on the load status object, e.g. tf.train.Checkpoint.restore(...).expect_partial(), to silence these warnings, or use assert_consumed() to make the check explicit. See https://www.tensorflow.org/guide/checkpoint#loading_mechanics for details.\n",
      "\tTrain Accuracy: 0.9830983281135559 Test Accuracy: 0.9399939775466919\n",
      "Embed Size: 64, LSTM: 512\n",
      "\tTrain Accuracy: 0.9840984344482422 Test Accuracy: 0.9441944360733032\n"
     ]
    }
   ],
   "source": [
    "category_prediction_model_32_128 = Model(X_description[0].shape, X_meta[0].shape, LSTM=128)\n",
    "category_prediction_model_32_128.load_weights('weights_32_128/')\n",
    "category_prediction_model_32_128.compile(optimizer=\"rmsprop\", loss=\"sparse_categorical_crossentropy\", metrics=[\"accuracy\"])\n",
    "print(\"Embed Size: 32, LSTM: 128\")\n",
    "print(\"\\tTrain Accuracy:\", category_prediction_model_32_128.evaluate([d_train, m_train], y_train, verbose=0)[1], \"Test Accuracy:\", category_prediction_model_32_128.evaluate([d_test, m_test], y_test, verbose=0)[1])\n",
    "del category_prediction_model_32_128\n",
    "\n",
    "category_prediction_model_32_256 = Model(X_description[0].shape, X_meta[0].shape, LSTM=256)\n",
    "category_prediction_model_32_256.load_weights('weights_32_256/')\n",
    "category_prediction_model_32_256.compile(optimizer=\"rmsprop\", loss=\"sparse_categorical_crossentropy\", metrics=[\"accuracy\"])\n",
    "print(\"Embed Size: 32, LSTM: 256\")\n",
    "print(\"\\tTrain Accuracy:\", category_prediction_model_32_256.evaluate([d_train, m_train], y_train, verbose=0)[1], \"Test Accuracy:\", category_prediction_model_32_256.evaluate([d_test, m_test], y_test, verbose=0)[1])\n",
    "del category_prediction_model_32_256\n",
    "\n",
    "category_prediction_model_32_512 = Model(X_description[0].shape, X_meta[0].shape, LSTM=512)\n",
    "category_prediction_model_32_512.load_weights('weights_32_512/')\n",
    "category_prediction_model_32_512.compile(optimizer=\"rmsprop\", loss=\"sparse_categorical_crossentropy\", metrics=[\"accuracy\"])\n",
    "print(\"Embed Size: 32, LSTM: 512\")\n",
    "print(\"\\tTrain Accuracy:\", category_prediction_model_32_512.evaluate([d_train, m_train], y_train, verbose=0)[1], \"Test Accuracy:\", category_prediction_model_32_512.evaluate([d_test, m_test], y_test, verbose=0)[1])\n",
    "del category_prediction_model_32_512\n",
    "\n",
    "category_prediction_model_64_128 = Model(X_description[0].shape, X_meta[0].shape, embed_size=64, LSTM=128)\n",
    "category_prediction_model_64_128.load_weights('weights_64_128/')\n",
    "category_prediction_model_64_128.compile(optimizer=\"rmsprop\", loss=\"sparse_categorical_crossentropy\", metrics=[\"accuracy\"])\n",
    "print(\"Embed Size: 64, LSTM: 128\")\n",
    "print(\"\\tTrain Accuracy:\", category_prediction_model_64_128.evaluate([d_train, m_train], y_train, verbose=0)[1], \"Test Accuracy:\", category_prediction_model_64_128.evaluate([d_test, m_test], y_test, verbose=0)[1])\n",
    "del category_prediction_model_64_128\n",
    "\n",
    "category_prediction_model_64_256 = Model(X_description[0].shape, X_meta[0].shape, embed_size=64, LSTM=256)\n",
    "category_prediction_model_64_256.load_weights('weights_64_256/')\n",
    "category_prediction_model_64_256.compile(optimizer=\"rmsprop\", loss=\"sparse_categorical_crossentropy\", metrics=[\"accuracy\"])\n",
    "print(\"Embed Size: 64, LSTM: 256\")\n",
    "print(\"\\tTrain Accuracy:\", category_prediction_model_64_256.evaluate([d_train, m_train], y_train, verbose=0)[1], \"Test Accuracy:\", category_prediction_model_64_256.evaluate([d_test, m_test], y_test, verbose=0)[1])\n",
    "del category_prediction_model_64_256\n",
    "\n",
    "category_prediction_model_64_512 = Model(X_description[0].shape, X_meta[0].shape, embed_size=64, LSTM=512)\n",
    "category_prediction_model_64_512.load_weights('weights_64_512/')\n",
    "category_prediction_model_64_512.compile(loss=\"sparse_categorical_crossentropy\", metrics=[\"accuracy\"])\n",
    "print(\"Embed Size: 64, LSTM: 512\")\n",
    "print(\"\\tTrain Accuracy:\", category_prediction_model_64_512.evaluate([d_train, m_train], y_train, verbose=0)[1], \"Test Accuracy:\", category_prediction_model_64_512.evaluate([d_test, m_test], y_test, verbose=0)[1])\n",
    "del category_prediction_model_64_512"
   ]
  },
  {
   "cell_type": "code",
   "execution_count": null,
   "metadata": {
    "id": "O9IiId_6IFdo"
   },
   "outputs": [],
   "source": []
  }
 ],
 "metadata": {
  "accelerator": "GPU",
  "colab": {
   "collapsed_sections": [],
   "name": "Task 3",
   "provenance": []
  },
  "kernelspec": {
   "display_name": "Python 3",
   "language": "python",
   "name": "python3"
  },
  "language_info": {
   "codemirror_mode": {
    "name": "ipython",
    "version": 3
   },
   "file_extension": ".py",
   "mimetype": "text/x-python",
   "name": "python",
   "nbconvert_exporter": "python",
   "pygments_lexer": "ipython3",
   "version": "3.6.6"
  }
 },
 "nbformat": 4,
 "nbformat_minor": 1
}
