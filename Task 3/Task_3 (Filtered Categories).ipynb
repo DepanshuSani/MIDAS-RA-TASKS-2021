{
 "cells": [
  {
   "cell_type": "markdown",
   "metadata": {},
   "source": [
    "### Load necessary files and packages"
   ]
  },
  {
   "cell_type": "code",
   "execution_count": 1,
   "metadata": {
    "colab": {
     "base_uri": "https://localhost:8080/",
     "height": 90,
     "resources": {
      "http://localhost:8080/nbextensions/google.colab/files.js": {
       "data": "Ly8gQ29weXJpZ2h0IDIwMTcgR29vZ2xlIExMQwovLwovLyBMaWNlbnNlZCB1bmRlciB0aGUgQXBhY2hlIExpY2Vuc2UsIFZlcnNpb24gMi4wICh0aGUgIkxpY2Vuc2UiKTsKLy8geW91IG1heSBub3QgdXNlIHRoaXMgZmlsZSBleGNlcHQgaW4gY29tcGxpYW5jZSB3aXRoIHRoZSBMaWNlbnNlLgovLyBZb3UgbWF5IG9idGFpbiBhIGNvcHkgb2YgdGhlIExpY2Vuc2UgYXQKLy8KLy8gICAgICBodHRwOi8vd3d3LmFwYWNoZS5vcmcvbGljZW5zZXMvTElDRU5TRS0yLjAKLy8KLy8gVW5sZXNzIHJlcXVpcmVkIGJ5IGFwcGxpY2FibGUgbGF3IG9yIGFncmVlZCB0byBpbiB3cml0aW5nLCBzb2Z0d2FyZQovLyBkaXN0cmlidXRlZCB1bmRlciB0aGUgTGljZW5zZSBpcyBkaXN0cmlidXRlZCBvbiBhbiAiQVMgSVMiIEJBU0lTLAovLyBXSVRIT1VUIFdBUlJBTlRJRVMgT1IgQ09ORElUSU9OUyBPRiBBTlkgS0lORCwgZWl0aGVyIGV4cHJlc3Mgb3IgaW1wbGllZC4KLy8gU2VlIHRoZSBMaWNlbnNlIGZvciB0aGUgc3BlY2lmaWMgbGFuZ3VhZ2UgZ292ZXJuaW5nIHBlcm1pc3Npb25zIGFuZAovLyBsaW1pdGF0aW9ucyB1bmRlciB0aGUgTGljZW5zZS4KCi8qKgogKiBAZmlsZW92ZXJ2aWV3IEhlbHBlcnMgZm9yIGdvb2dsZS5jb2xhYiBQeXRob24gbW9kdWxlLgogKi8KKGZ1bmN0aW9uKHNjb3BlKSB7CmZ1bmN0aW9uIHNwYW4odGV4dCwgc3R5bGVBdHRyaWJ1dGVzID0ge30pIHsKICBjb25zdCBlbGVtZW50ID0gZG9jdW1lbnQuY3JlYXRlRWxlbWVudCgnc3BhbicpOwogIGVsZW1lbnQudGV4dENvbnRlbnQgPSB0ZXh0OwogIGZvciAoY29uc3Qga2V5IG9mIE9iamVjdC5rZXlzKHN0eWxlQXR0cmlidXRlcykpIHsKICAgIGVsZW1lbnQuc3R5bGVba2V5XSA9IHN0eWxlQXR0cmlidXRlc1trZXldOwogIH0KICByZXR1cm4gZWxlbWVudDsKfQoKLy8gTWF4IG51bWJlciBvZiBieXRlcyB3aGljaCB3aWxsIGJlIHVwbG9hZGVkIGF0IGEgdGltZS4KY29uc3QgTUFYX1BBWUxPQURfU0laRSA9IDEwMCAqIDEwMjQ7CgpmdW5jdGlvbiBfdXBsb2FkRmlsZXMoaW5wdXRJZCwgb3V0cHV0SWQpIHsKICBjb25zdCBzdGVwcyA9IHVwbG9hZEZpbGVzU3RlcChpbnB1dElkLCBvdXRwdXRJZCk7CiAgY29uc3Qgb3V0cHV0RWxlbWVudCA9IGRvY3VtZW50LmdldEVsZW1lbnRCeUlkKG91dHB1dElkKTsKICAvLyBDYWNoZSBzdGVwcyBvbiB0aGUgb3V0cHV0RWxlbWVudCB0byBtYWtlIGl0IGF2YWlsYWJsZSBmb3IgdGhlIG5leHQgY2FsbAogIC8vIHRvIHVwbG9hZEZpbGVzQ29udGludWUgZnJvbSBQeXRob24uCiAgb3V0cHV0RWxlbWVudC5zdGVwcyA9IHN0ZXBzOwoKICByZXR1cm4gX3VwbG9hZEZpbGVzQ29udGludWUob3V0cHV0SWQpOwp9CgovLyBUaGlzIGlzIHJvdWdobHkgYW4gYXN5bmMgZ2VuZXJhdG9yIChub3Qgc3VwcG9ydGVkIGluIHRoZSBicm93c2VyIHlldCksCi8vIHdoZXJlIHRoZXJlIGFyZSBtdWx0aXBsZSBhc3luY2hyb25vdXMgc3RlcHMgYW5kIHRoZSBQeXRob24gc2lkZSBpcyBnb2luZwovLyB0byBwb2xsIGZvciBjb21wbGV0aW9uIG9mIGVhY2ggc3RlcC4KLy8gVGhpcyB1c2VzIGEgUHJvbWlzZSB0byBibG9jayB0aGUgcHl0aG9uIHNpZGUgb24gY29tcGxldGlvbiBvZiBlYWNoIHN0ZXAsCi8vIHRoZW4gcGFzc2VzIHRoZSByZXN1bHQgb2YgdGhlIHByZXZpb3VzIHN0ZXAgYXMgdGhlIGlucHV0IHRvIHRoZSBuZXh0IHN0ZXAuCmZ1bmN0aW9uIF91cGxvYWRGaWxlc0NvbnRpbnVlKG91dHB1dElkKSB7CiAgY29uc3Qgb3V0cHV0RWxlbWVudCA9IGRvY3VtZW50LmdldEVsZW1lbnRCeUlkKG91dHB1dElkKTsKICBjb25zdCBzdGVwcyA9IG91dHB1dEVsZW1lbnQuc3RlcHM7CgogIGNvbnN0IG5leHQgPSBzdGVwcy5uZXh0KG91dHB1dEVsZW1lbnQubGFzdFByb21pc2VWYWx1ZSk7CiAgcmV0dXJuIFByb21pc2UucmVzb2x2ZShuZXh0LnZhbHVlLnByb21pc2UpLnRoZW4oKHZhbHVlKSA9PiB7CiAgICAvLyBDYWNoZSB0aGUgbGFzdCBwcm9taXNlIHZhbHVlIHRvIG1ha2UgaXQgYXZhaWxhYmxlIHRvIHRoZSBuZXh0CiAgICAvLyBzdGVwIG9mIHRoZSBnZW5lcmF0b3IuCiAgICBvdXRwdXRFbGVtZW50Lmxhc3RQcm9taXNlVmFsdWUgPSB2YWx1ZTsKICAgIHJldHVybiBuZXh0LnZhbHVlLnJlc3BvbnNlOwogIH0pOwp9CgovKioKICogR2VuZXJhdG9yIGZ1bmN0aW9uIHdoaWNoIGlzIGNhbGxlZCBiZXR3ZWVuIGVhY2ggYXN5bmMgc3RlcCBvZiB0aGUgdXBsb2FkCiAqIHByb2Nlc3MuCiAqIEBwYXJhbSB7c3RyaW5nfSBpbnB1dElkIEVsZW1lbnQgSUQgb2YgdGhlIGlucHV0IGZpbGUgcGlja2VyIGVsZW1lbnQuCiAqIEBwYXJhbSB7c3RyaW5nfSBvdXRwdXRJZCBFbGVtZW50IElEIG9mIHRoZSBvdXRwdXQgZGlzcGxheS4KICogQHJldHVybiB7IUl0ZXJhYmxlPCFPYmplY3Q+fSBJdGVyYWJsZSBvZiBuZXh0IHN0ZXBzLgogKi8KZnVuY3Rpb24qIHVwbG9hZEZpbGVzU3RlcChpbnB1dElkLCBvdXRwdXRJZCkgewogIGNvbnN0IGlucHV0RWxlbWVudCA9IGRvY3VtZW50LmdldEVsZW1lbnRCeUlkKGlucHV0SWQpOwogIGlucHV0RWxlbWVudC5kaXNhYmxlZCA9IGZhbHNlOwoKICBjb25zdCBvdXRwdXRFbGVtZW50ID0gZG9jdW1lbnQuZ2V0RWxlbWVudEJ5SWQob3V0cHV0SWQpOwogIG91dHB1dEVsZW1lbnQuaW5uZXJIVE1MID0gJyc7CgogIGNvbnN0IHBpY2tlZFByb21pc2UgPSBuZXcgUHJvbWlzZSgocmVzb2x2ZSkgPT4gewogICAgaW5wdXRFbGVtZW50LmFkZEV2ZW50TGlzdGVuZXIoJ2NoYW5nZScsIChlKSA9PiB7CiAgICAgIHJlc29sdmUoZS50YXJnZXQuZmlsZXMpOwogICAgfSk7CiAgfSk7CgogIGNvbnN0IGNhbmNlbCA9IGRvY3VtZW50LmNyZWF0ZUVsZW1lbnQoJ2J1dHRvbicpOwogIGlucHV0RWxlbWVudC5wYXJlbnRFbGVtZW50LmFwcGVuZENoaWxkKGNhbmNlbCk7CiAgY2FuY2VsLnRleHRDb250ZW50ID0gJ0NhbmNlbCB1cGxvYWQnOwogIGNvbnN0IGNhbmNlbFByb21pc2UgPSBuZXcgUHJvbWlzZSgocmVzb2x2ZSkgPT4gewogICAgY2FuY2VsLm9uY2xpY2sgPSAoKSA9PiB7CiAgICAgIHJlc29sdmUobnVsbCk7CiAgICB9OwogIH0pOwoKICAvLyBXYWl0IGZvciB0aGUgdXNlciB0byBwaWNrIHRoZSBmaWxlcy4KICBjb25zdCBmaWxlcyA9IHlpZWxkIHsKICAgIHByb21pc2U6IFByb21pc2UucmFjZShbcGlja2VkUHJvbWlzZSwgY2FuY2VsUHJvbWlzZV0pLAogICAgcmVzcG9uc2U6IHsKICAgICAgYWN0aW9uOiAnc3RhcnRpbmcnLAogICAgfQogIH07CgogIGNhbmNlbC5yZW1vdmUoKTsKCiAgLy8gRGlzYWJsZSB0aGUgaW5wdXQgZWxlbWVudCBzaW5jZSBmdXJ0aGVyIHBpY2tzIGFyZSBub3QgYWxsb3dlZC4KICBpbnB1dEVsZW1lbnQuZGlzYWJsZWQgPSB0cnVlOwoKICBpZiAoIWZpbGVzKSB7CiAgICByZXR1cm4gewogICAgICByZXNwb25zZTogewogICAgICAgIGFjdGlvbjogJ2NvbXBsZXRlJywKICAgICAgfQogICAgfTsKICB9CgogIGZvciAoY29uc3QgZmlsZSBvZiBmaWxlcykgewogICAgY29uc3QgbGkgPSBkb2N1bWVudC5jcmVhdGVFbGVtZW50KCdsaScpOwogICAgbGkuYXBwZW5kKHNwYW4oZmlsZS5uYW1lLCB7Zm9udFdlaWdodDogJ2JvbGQnfSkpOwogICAgbGkuYXBwZW5kKHNwYW4oCiAgICAgICAgYCgke2ZpbGUudHlwZSB8fCAnbi9hJ30pIC0gJHtmaWxlLnNpemV9IGJ5dGVzLCBgICsKICAgICAgICBgbGFzdCBtb2RpZmllZDogJHsKICAgICAgICAgICAgZmlsZS5sYXN0TW9kaWZpZWREYXRlID8gZmlsZS5sYXN0TW9kaWZpZWREYXRlLnRvTG9jYWxlRGF0ZVN0cmluZygpIDoKICAgICAgICAgICAgICAgICAgICAgICAgICAgICAgICAgICAgJ24vYSd9IC0gYCkpOwogICAgY29uc3QgcGVyY2VudCA9IHNwYW4oJzAlIGRvbmUnKTsKICAgIGxpLmFwcGVuZENoaWxkKHBlcmNlbnQpOwoKICAgIG91dHB1dEVsZW1lbnQuYXBwZW5kQ2hpbGQobGkpOwoKICAgIGNvbnN0IGZpbGVEYXRhUHJvbWlzZSA9IG5ldyBQcm9taXNlKChyZXNvbHZlKSA9PiB7CiAgICAgIGNvbnN0IHJlYWRlciA9IG5ldyBGaWxlUmVhZGVyKCk7CiAgICAgIHJlYWRlci5vbmxvYWQgPSAoZSkgPT4gewogICAgICAgIHJlc29sdmUoZS50YXJnZXQucmVzdWx0KTsKICAgICAgfTsKICAgICAgcmVhZGVyLnJlYWRBc0FycmF5QnVmZmVyKGZpbGUpOwogICAgfSk7CiAgICAvLyBXYWl0IGZvciB0aGUgZGF0YSB0byBiZSByZWFkeS4KICAgIGxldCBmaWxlRGF0YSA9IHlpZWxkIHsKICAgICAgcHJvbWlzZTogZmlsZURhdGFQcm9taXNlLAogICAgICByZXNwb25zZTogewogICAgICAgIGFjdGlvbjogJ2NvbnRpbnVlJywKICAgICAgfQogICAgfTsKCiAgICAvLyBVc2UgYSBjaHVua2VkIHNlbmRpbmcgdG8gYXZvaWQgbWVzc2FnZSBzaXplIGxpbWl0cy4gU2VlIGIvNjIxMTU2NjAuCiAgICBsZXQgcG9zaXRpb24gPSAwOwogICAgd2hpbGUgKHBvc2l0aW9uIDwgZmlsZURhdGEuYnl0ZUxlbmd0aCkgewogICAgICBjb25zdCBsZW5ndGggPSBNYXRoLm1pbihmaWxlRGF0YS5ieXRlTGVuZ3RoIC0gcG9zaXRpb24sIE1BWF9QQVlMT0FEX1NJWkUpOwogICAgICBjb25zdCBjaHVuayA9IG5ldyBVaW50OEFycmF5KGZpbGVEYXRhLCBwb3NpdGlvbiwgbGVuZ3RoKTsKICAgICAgcG9zaXRpb24gKz0gbGVuZ3RoOwoKICAgICAgY29uc3QgYmFzZTY0ID0gYnRvYShTdHJpbmcuZnJvbUNoYXJDb2RlLmFwcGx5KG51bGwsIGNodW5rKSk7CiAgICAgIHlpZWxkIHsKICAgICAgICByZXNwb25zZTogewogICAgICAgICAgYWN0aW9uOiAnYXBwZW5kJywKICAgICAgICAgIGZpbGU6IGZpbGUubmFtZSwKICAgICAgICAgIGRhdGE6IGJhc2U2NCwKICAgICAgICB9LAogICAgICB9OwogICAgICBwZXJjZW50LnRleHRDb250ZW50ID0KICAgICAgICAgIGAke01hdGgucm91bmQoKHBvc2l0aW9uIC8gZmlsZURhdGEuYnl0ZUxlbmd0aCkgKiAxMDApfSUgZG9uZWA7CiAgICB9CiAgfQoKICAvLyBBbGwgZG9uZS4KICB5aWVsZCB7CiAgICByZXNwb25zZTogewogICAgICBhY3Rpb246ICdjb21wbGV0ZScsCiAgICB9CiAgfTsKfQoKc2NvcGUuZ29vZ2xlID0gc2NvcGUuZ29vZ2xlIHx8IHt9OwpzY29wZS5nb29nbGUuY29sYWIgPSBzY29wZS5nb29nbGUuY29sYWIgfHwge307CnNjb3BlLmdvb2dsZS5jb2xhYi5fZmlsZXMgPSB7CiAgX3VwbG9hZEZpbGVzLAogIF91cGxvYWRGaWxlc0NvbnRpbnVlLAp9Owp9KShzZWxmKTsK",
       "headers": [
        [
         "content-type",
         "application/javascript"
        ]
       ],
       "ok": true,
       "status": 200,
       "status_text": ""
      }
     }
    },
    "id": "eYZ3PBSBrkqo",
    "outputId": "7fe2fda7-92dc-4617-c423-966a8878345b"
   },
   "outputs": [
    {
     "data": {
      "text/html": [
       "\n",
       "     <input type=\"file\" id=\"files-7fb6db2c-6001-480a-99c2-dd1cd4b92e76\" name=\"files[]\" multiple disabled\n",
       "        style=\"border:none\" />\n",
       "     <output id=\"result-7fb6db2c-6001-480a-99c2-dd1cd4b92e76\">\n",
       "      Upload widget is only available when the cell has been executed in the\n",
       "      current browser session. Please rerun this cell to enable.\n",
       "      </output>\n",
       "      <script src=\"/nbextensions/google.colab/files.js\"></script> "
      ],
      "text/plain": [
       "<IPython.core.display.HTML object>"
      ]
     },
     "metadata": {
      "tags": []
     },
     "output_type": "display_data"
    },
    {
     "name": "stdout",
     "output_type": "stream",
     "text": [
      "Saving flipkart_com-ecommerce_sample - flipkart_com-ecommerce_sample.xlsx to flipkart_com-ecommerce_sample - flipkart_com-ecommerce_sample.xlsx\n"
     ]
    }
   ],
   "source": [
    "from google.colab import files\n",
    "uploaded = files.upload()"
   ]
  },
  {
   "cell_type": "code",
   "execution_count": 1,
   "metadata": {
    "id": "9BTWebEktT3x"
   },
   "outputs": [],
   "source": [
    "import pandas as pd\n",
    "import numpy as np\n",
    "from sklearn.model_selection import train_test_split\n",
    "from sklearn.preprocessing import LabelEncoder\n",
    "from sklearn.preprocessing import OneHotEncoder\n",
    "from sklearn.impute import KNNImputer\n",
    "import matplotlib.pyplot as plt\n",
    "import seaborn as sns\n",
    "import tensorflow as tf\n",
    "import nltk\n",
    "\n",
    "# nltk.download('wordnet')\n",
    "# nltk.download('stopwords')"
   ]
  },
  {
   "cell_type": "markdown",
   "metadata": {},
   "source": [
    "Objects that will be used later in the code"
   ]
  },
  {
   "cell_type": "code",
   "execution_count": 2,
   "metadata": {
    "id": "UWSaOg-XQYUQ"
   },
   "outputs": [],
   "source": [
    "Tokenizer = nltk.tokenize.TweetTokenizer()\n",
    "Lemmatizer = nltk.stem.WordNetLemmatizer()\n",
    "\n",
    "Imputer = KNNImputer()\n",
    "\n",
    "ohe_name = OneHotEncoder(sparse=False)\n",
    "\n",
    "name_le = LabelEncoder()\n",
    "brand_le = LabelEncoder()\n",
    "cat_le = LabelEncoder()"
   ]
  },
  {
   "cell_type": "markdown",
   "metadata": {},
   "source": [
    "### Load the Dataset"
   ]
  },
  {
   "cell_type": "code",
   "execution_count": 3,
   "metadata": {
    "colab": {
     "base_uri": "https://localhost:8080/",
     "height": 467
    },
    "id": "ymkVJxlyGjyL",
    "outputId": "6dc8dcef-eed9-4e78-91b4-0da6327b041f"
   },
   "outputs": [
    {
     "data": {
      "text/html": [
       "<div>\n",
       "<style scoped>\n",
       "    .dataframe tbody tr th:only-of-type {\n",
       "        vertical-align: middle;\n",
       "    }\n",
       "\n",
       "    .dataframe tbody tr th {\n",
       "        vertical-align: top;\n",
       "    }\n",
       "\n",
       "    .dataframe thead th {\n",
       "        text-align: right;\n",
       "    }\n",
       "</style>\n",
       "<table border=\"1\" class=\"dataframe\">\n",
       "  <thead>\n",
       "    <tr style=\"text-align: right;\">\n",
       "      <th></th>\n",
       "      <th>product_name</th>\n",
       "      <th>product_category_tree</th>\n",
       "      <th>retail_price</th>\n",
       "      <th>discounted_price</th>\n",
       "      <th>is_FK_Advantage_product</th>\n",
       "      <th>description</th>\n",
       "      <th>product_rating</th>\n",
       "      <th>overall_rating</th>\n",
       "      <th>brand</th>\n",
       "    </tr>\n",
       "  </thead>\n",
       "  <tbody>\n",
       "    <tr>\n",
       "      <th>0</th>\n",
       "      <td>Alisha Solid Women's Cycling Shorts</td>\n",
       "      <td>[\"Clothing &gt;&gt; Women's Clothing &gt;&gt; Lingerie, Sl...</td>\n",
       "      <td>999.0</td>\n",
       "      <td>379.0</td>\n",
       "      <td>False</td>\n",
       "      <td>Key Features of Alisha Solid Women's Cycling S...</td>\n",
       "      <td>No rating available</td>\n",
       "      <td>No rating available</td>\n",
       "      <td>Alisha</td>\n",
       "    </tr>\n",
       "    <tr>\n",
       "      <th>1</th>\n",
       "      <td>FabHomeDecor Fabric Double Sofa Bed</td>\n",
       "      <td>[\"Furniture &gt;&gt; Living Room Furniture &gt;&gt; Sofa B...</td>\n",
       "      <td>32157.0</td>\n",
       "      <td>22646.0</td>\n",
       "      <td>False</td>\n",
       "      <td>FabHomeDecor Fabric Double Sofa Bed (Finish Co...</td>\n",
       "      <td>No rating available</td>\n",
       "      <td>No rating available</td>\n",
       "      <td>FabHomeDecor</td>\n",
       "    </tr>\n",
       "    <tr>\n",
       "      <th>2</th>\n",
       "      <td>AW Bellies</td>\n",
       "      <td>[\"Footwear &gt;&gt; Women's Footwear &gt;&gt; Ballerinas &gt;...</td>\n",
       "      <td>999.0</td>\n",
       "      <td>499.0</td>\n",
       "      <td>False</td>\n",
       "      <td>Key Features of AW Bellies Sandals Wedges Heel...</td>\n",
       "      <td>No rating available</td>\n",
       "      <td>No rating available</td>\n",
       "      <td>AW</td>\n",
       "    </tr>\n",
       "    <tr>\n",
       "      <th>3</th>\n",
       "      <td>Alisha Solid Women's Cycling Shorts</td>\n",
       "      <td>[\"Clothing &gt;&gt; Women's Clothing &gt;&gt; Lingerie, Sl...</td>\n",
       "      <td>699.0</td>\n",
       "      <td>267.0</td>\n",
       "      <td>False</td>\n",
       "      <td>Key Features of Alisha Solid Women's Cycling S...</td>\n",
       "      <td>No rating available</td>\n",
       "      <td>No rating available</td>\n",
       "      <td>Alisha</td>\n",
       "    </tr>\n",
       "    <tr>\n",
       "      <th>4</th>\n",
       "      <td>Sicons All Purpose Arnica Dog Shampoo</td>\n",
       "      <td>[\"Pet Supplies &gt;&gt; Grooming &gt;&gt; Skin &amp; Coat Care...</td>\n",
       "      <td>220.0</td>\n",
       "      <td>210.0</td>\n",
       "      <td>False</td>\n",
       "      <td>Specifications of Sicons All Purpose Arnica Do...</td>\n",
       "      <td>No rating available</td>\n",
       "      <td>No rating available</td>\n",
       "      <td>Sicons</td>\n",
       "    </tr>\n",
       "  </tbody>\n",
       "</table>\n",
       "</div>"
      ],
      "text/plain": [
       "                            product_name  ...         brand\n",
       "0    Alisha Solid Women's Cycling Shorts  ...        Alisha\n",
       "1    FabHomeDecor Fabric Double Sofa Bed  ...  FabHomeDecor\n",
       "2                             AW Bellies  ...            AW\n",
       "3    Alisha Solid Women's Cycling Shorts  ...        Alisha\n",
       "4  Sicons All Purpose Arnica Dog Shampoo  ...        Sicons\n",
       "\n",
       "[5 rows x 9 columns]"
      ]
     },
     "execution_count": 3,
     "metadata": {
      "tags": []
     },
     "output_type": "execute_result"
    }
   ],
   "source": [
    "dataset = pd.read_excel(\"flipkart_com-ecommerce_sample - flipkart_com-ecommerce_sample.xlsx\")\n",
    "dataset = dataset.drop(columns=[\"uniq_id\", \"crawl_timestamp\", \"image\", \"product_url\", \"pid\", \"product_specifications\"])\n",
    "dataset = dataset[dataset[\"description\"].notna()]\n",
    "dataset.head()"
   ]
  },
  {
   "cell_type": "markdown",
   "metadata": {},
   "source": [
    "### Data Analysis & Cleaning\n"
   ]
  },
  {
   "cell_type": "code",
   "execution_count": 4,
   "metadata": {
    "colab": {
     "base_uri": "https://localhost:8080/"
    },
    "id": "pB6KsjCcYxhk",
    "outputId": "3de882e3-4cd9-4ff3-cd9d-d42b06590518"
   },
   "outputs": [
    {
     "name": "stdout",
     "output_type": "stream",
     "text": [
      "<class 'pandas.core.frame.DataFrame'>\n",
      "Int64Index: 19998 entries, 0 to 19999\n",
      "Data columns (total 9 columns):\n",
      " #   Column                   Non-Null Count  Dtype  \n",
      "---  ------                   --------------  -----  \n",
      " 0   product_name             19998 non-null  object \n",
      " 1   product_category_tree    19998 non-null  object \n",
      " 2   retail_price             19920 non-null  float64\n",
      " 3   discounted_price         19920 non-null  float64\n",
      " 4   is_FK_Advantage_product  19998 non-null  bool   \n",
      " 5   description              19998 non-null  object \n",
      " 6   product_rating           19998 non-null  object \n",
      " 7   overall_rating           19998 non-null  object \n",
      " 8   brand                    14135 non-null  object \n",
      "dtypes: bool(1), float64(2), object(6)\n",
      "memory usage: 1.4+ MB\n"
     ]
    }
   ],
   "source": [
    "dataset.info()"
   ]
  },
  {
   "cell_type": "markdown",
   "metadata": {},
   "source": [
    "Create column <b><i>PRODUCT CATEGORY</i></b> from product_category_tree"
   ]
  },
  {
   "cell_type": "code",
   "execution_count": 5,
   "metadata": {
    "id": "2jbPfhdOxKq4"
   },
   "outputs": [],
   "source": [
    "dataset[\"product_category\"] = dataset[\"product_category_tree\"].str.split(\" >>\", 1).str[0].str.split(\"\\\"\").str[1]"
   ]
  },
  {
   "cell_type": "markdown",
   "metadata": {},
   "source": [
    "Get the mean number of samples for each product category"
   ]
  },
  {
   "cell_type": "code",
   "execution_count": 6,
   "metadata": {
    "colab": {
     "base_uri": "https://localhost:8080/"
    },
    "id": "yB0t6soisK7I",
    "outputId": "f8875a11-9687-42b5-8e2c-9dfee9b249e0"
   },
   "outputs": [
    {
     "name": "stdout",
     "output_type": "stream",
     "text": [
      "Min Count: 1\n",
      "Mean count: 75.46415094339622\n"
     ]
    }
   ],
   "source": [
    "print(\"Min Count:\", dataset[\"product_category\"].value_counts().min())\n",
    "print(\"Mean count:\", dataset[\"product_category\"].value_counts().mean())"
   ]
  },
  {
   "cell_type": "markdown",
   "metadata": {},
   "source": [
    "Drop the product categories with number of samples < 100"
   ]
  },
  {
   "cell_type": "code",
   "execution_count": 7,
   "metadata": {
    "id": "G4w9BiBrrRDi"
   },
   "outputs": [],
   "source": [
    "dataset = dataset.groupby(\"product_category\").filter(lambda x: len(x)>=100)"
   ]
  },
  {
   "cell_type": "code",
   "execution_count": 8,
   "metadata": {
    "colab": {
     "base_uri": "https://localhost:8080/"
    },
    "id": "-SqJWb3xwqah",
    "outputId": "9d1b0bec-eede-488b-c939-4f76e84dac53"
   },
   "outputs": [
    {
     "name": "stdout",
     "output_type": "stream",
     "text": [
      "Min Count: 166\n",
      "Unique Categories: 18\n"
     ]
    }
   ],
   "source": [
    "print(\"Min Count:\", dataset[\"product_category\"].value_counts().min())\n",
    "print(\"Unique Categories:\", len(dataset[\"product_category\"].unique()))"
   ]
  },
  {
   "cell_type": "markdown",
   "metadata": {},
   "source": [
    "Label encode the columns"
   ]
  },
  {
   "cell_type": "code",
   "execution_count": 9,
   "metadata": {
    "colab": {
     "base_uri": "https://localhost:8080/"
    },
    "id": "Ya8xLH-2ZOe9",
    "outputId": "bbc3b673-7b51-46b4-ebea-c96115c0da4e"
   },
   "outputs": [
    {
     "name": "stdout",
     "output_type": "stream",
     "text": [
      "<class 'pandas.core.frame.DataFrame'>\n",
      "Int64Index: 19287 entries, 0 to 19999\n",
      "Data columns (total 10 columns):\n",
      " #   Column                   Non-Null Count  Dtype  \n",
      "---  ------                   --------------  -----  \n",
      " 0   product_name             19287 non-null  int64  \n",
      " 1   product_category_tree    19287 non-null  object \n",
      " 2   retail_price             19225 non-null  float64\n",
      " 3   discounted_price         19225 non-null  float64\n",
      " 4   is_FK_Advantage_product  19287 non-null  bool   \n",
      " 5   description              19287 non-null  object \n",
      " 6   product_rating           1797 non-null   float64\n",
      " 7   overall_rating           1797 non-null   float64\n",
      " 8   brand                    19287 non-null  int64  \n",
      " 9   product_category         19287 non-null  int64  \n",
      "dtypes: bool(1), float64(4), int64(3), object(2)\n",
      "memory usage: 1.5+ MB\n"
     ]
    }
   ],
   "source": [
    "dataset[\"product_name\"] = name_le.fit_transform(dataset[\"product_name\"])\n",
    "\n",
    "dataset[\"product_category\"] = cat_le.fit_transform(dataset[\"product_category\"])\n",
    "\n",
    "dataset[\"is_FK_Advantage_product\"] = pd.to_numeric(dataset[\"is_FK_Advantage_product\"], errors='coerce')\n",
    "\n",
    "dataset[\"product_rating\"] = pd.to_numeric(dataset[\"product_rating\"], errors='coerce')\n",
    "\n",
    "dataset[\"overall_rating\"] = pd.to_numeric(dataset[\"overall_rating\"], errors='coerce')\n",
    "\n",
    "dataset[\"brand\"] = dataset[\"brand\"].astype(\"str\")\n",
    "dataset[\"brand\"] = brand_le.fit_transform(dataset[\"brand\"])\n",
    "\n",
    "dataset.info()"
   ]
  },
  {
   "cell_type": "markdown",
   "metadata": {},
   "source": [
    "Drop the columns which are unnecessary"
   ]
  },
  {
   "cell_type": "code",
   "execution_count": 10,
   "metadata": {
    "colab": {
     "base_uri": "https://localhost:8080/"
    },
    "id": "FzWRdRDjjeGa",
    "outputId": "953798c2-2709-4857-a898-a69ea0e9a615"
   },
   "outputs": [
    {
     "name": "stdout",
     "output_type": "stream",
     "text": [
      "<class 'pandas.core.frame.DataFrame'>\n",
      "Int64Index: 19287 entries, 0 to 19999\n",
      "Data columns (total 7 columns):\n",
      " #   Column                   Non-Null Count  Dtype  \n",
      "---  ------                   --------------  -----  \n",
      " 0   product_name             19287 non-null  int64  \n",
      " 1   retail_price             19287 non-null  float64\n",
      " 2   discounted_price         19287 non-null  float64\n",
      " 3   is_FK_Advantage_product  19287 non-null  bool   \n",
      " 4   description              19287 non-null  object \n",
      " 5   brand                    19287 non-null  int64  \n",
      " 6   product_category         19287 non-null  int64  \n",
      "dtypes: bool(1), float64(2), int64(3), object(1)\n",
      "memory usage: 1.0+ MB\n"
     ]
    }
   ],
   "source": [
    "dataset = dataset.drop(columns=[\"product_rating\", \"overall_rating\", \"product_category_tree\"])\n",
    "dataset[[\"retail_price\"]] = Imputer.fit_transform(dataset[[\"retail_price\"]])\n",
    "dataset[[\"discounted_price\"]] = Imputer.fit_transform(dataset[[\"discounted_price\"]])\n",
    "dataset.info()"
   ]
  },
  {
   "cell_type": "markdown",
   "metadata": {},
   "source": [
    "###### Visualize the data"
   ]
  },
  {
   "cell_type": "code",
   "execution_count": 11,
   "metadata": {
    "colab": {
     "base_uri": "https://localhost:8080/",
     "height": 405
    },
    "id": "QWrQvI_tjteg",
    "outputId": "3320a9d7-6732-4931-9e81-84f0d0077d4d"
   },
   "outputs": [
    {
     "data": {
      "text/plain": [
       "<matplotlib.axes._subplots.AxesSubplot at 0x7f278c8b3f50>"
      ]
     },
     "execution_count": 11,
     "metadata": {
      "tags": []
     },
     "output_type": "execute_result"
    },
    {
     "data": {
      "image/png": "[encoded data removed]",
      "text/plain": [
       "<Figure size 432x288 with 2 Axes>"
      ]
     },
     "metadata": {
      "needs_background": "light",
      "tags": []
     },
     "output_type": "display_data"
    }
   ],
   "source": [
    "sns.heatmap(dataset.corr())"
   ]
  },
  {
   "cell_type": "markdown",
   "metadata": {},
   "source": [
    "If some columns have very high correlation, then only one of them is required. For example: in this case retail price and discounted price are highly correlated. Similary, product name and brand are also highly correlated. Hence only of the highly correlated columns is kept for the input dataset"
   ]
  },
  {
   "cell_type": "code",
   "execution_count": 12,
   "metadata": {
    "colab": {
     "base_uri": "https://localhost:8080/",
     "height": 282
    },
    "id": "9iec75szjti1",
    "outputId": "610d51b6-8e72-452a-a3d3-0c0c910f8f2b"
   },
   "outputs": [
    {
     "data": {
      "text/plain": [
       "<matplotlib.collections.PathCollection at 0x7f278bf16710>"
      ]
     },
     "execution_count": 12,
     "metadata": {
      "tags": []
     },
     "output_type": "execute_result"
    },
    {
     "data": {
      "image/png": "[encoded data removed]",
      "text/plain": [
       "<Figure size 432x288 with 1 Axes>"
      ]
     },
     "metadata": {
      "needs_background": "light",
      "tags": []
     },
     "output_type": "display_data"
    }
   ],
   "source": [
    "plt.scatter(dataset[\"product_name\"], dataset[\"product_category\"])"
   ]
  },
  {
   "cell_type": "code",
   "execution_count": 13,
   "metadata": {
    "colab": {
     "base_uri": "https://localhost:8080/",
     "height": 282
    },
    "id": "IEzLqAWCk5dK",
    "outputId": "a5b4e926-ce47-4c43-fe9e-97db2cbb539f"
   },
   "outputs": [
    {
     "data": {
      "text/plain": [
       "<matplotlib.collections.PathCollection at 0x7f278c192910>"
      ]
     },
     "execution_count": 13,
     "metadata": {
      "tags": []
     },
     "output_type": "execute_result"
    },
    {
     "data": {
      "image/png": "[encoded data removed]",
      "text/plain": [
       "<Figure size 432x288 with 1 Axes>"
      ]
     },
     "metadata": {
      "needs_background": "light",
      "tags": []
     },
     "output_type": "display_data"
    }
   ],
   "source": [
    "plt.scatter(dataset[\"is_FK_Advantage_product\"], dataset[\"product_category\"])"
   ]
  },
  {
   "cell_type": "code",
   "execution_count": 14,
   "metadata": {
    "colab": {
     "base_uri": "https://localhost:8080/",
     "height": 282
    },
    "id": "1s6VjALejtnq",
    "outputId": "1c838b9e-c533-43cf-ef83-c69cf04266f6"
   },
   "outputs": [
    {
     "data": {
      "text/plain": [
       "<matplotlib.collections.PathCollection at 0x7f278c2c1c10>"
      ]
     },
     "execution_count": 14,
     "metadata": {
      "tags": []
     },
     "output_type": "execute_result"
    },
    {
     "data": {
      "image/png": "[encoded data removed]",
      "text/plain": [
       "<Figure size 432x288 with 1 Axes>"
      ]
     },
     "metadata": {
      "needs_background": "light",
      "tags": []
     },
     "output_type": "display_data"
    }
   ],
   "source": [
    "plt.scatter(dataset[\"retail_price\"], dataset[\"product_category\"])"
   ]
  },
  {
   "cell_type": "markdown",
   "metadata": {},
   "source": [
    "### Choose the columns (other than product descrption) as input columns and pre-process them"
   ]
  },
  {
   "cell_type": "code",
   "execution_count": 15,
   "metadata": {
    "id": "W6xViZsfjtsL"
   },
   "outputs": [],
   "source": [
    "prod_name = ohe_name.fit_transform(dataset[[\"product_name\"]])\n",
    "retail_price = np.asarray(dataset[[\"retail_price\"]])\n",
    "advantage_product = np.asarray(dataset[[\"is_FK_Advantage_product\"]])"
   ]
  },
  {
   "cell_type": "code",
   "execution_count": 16,
   "metadata": {
    "colab": {
     "base_uri": "https://localhost:8080/"
    },
    "id": "U8J9VtmUjtvn",
    "outputId": "b71bd1c5-76c4-42a7-99e9-8a99f0b28b61"
   },
   "outputs": [
    {
     "data": {
      "text/plain": [
       "((19287, 12136), (19287, 1), (19287, 1))"
      ]
     },
     "execution_count": 16,
     "metadata": {
      "tags": []
     },
     "output_type": "execute_result"
    }
   ],
   "source": [
    "prod_name.shape, retail_price.shape, advantage_product.shape"
   ]
  },
  {
   "cell_type": "markdown",
   "metadata": {},
   "source": [
    "#### Create input samples for product description\n",
    "The maximum input length is chosen by calculating the mean length of the product description.<br />\n",
    "The product description is pre-processed. Pre-processing includes: Tokenization, Stop Word Removal and Lemmatization <br />\n",
    "The description having length < max_input_len are padded with 0's and for description having length > max_input_len, only the latest max_input_len words are taken."
   ]
  },
  {
   "cell_type": "code",
   "execution_count": 17,
   "metadata": {
    "id": "K99cwN6RGj5T"
   },
   "outputs": [],
   "source": [
    "bow = set()\n",
    "word_to_id = {\"PADDING\": 0}\n",
    "id_to_word = {0: \"PADDING\"}\n",
    "id = 1\n",
    "\n",
    "lengths = []\n",
    "input_len = int(dataset[\"description\"].str.len().mean())\n",
    "description_trans = []\n",
    "for i, row in dataset.iterrows():\n",
    "  description = row[\"description\"]\n",
    "  word = Tokenizer.tokenize(description)\n",
    "  stop_words = nltk.corpus.stopwords.words(\"english\")\n",
    "  filtered_sent = []\n",
    "  lengths.append(len(word))\n",
    "  for w in word:\n",
    "    if w not in stop_words:\n",
    "      w = Lemmatizer.lemmatize(w)\n",
    "      bow.add(w)\n",
    "      if word_to_id.get(w) is None:\n",
    "        word_to_id[w] = id\n",
    "        id_to_word[id] = w\n",
    "        id += 1\n",
    "      filtered_sent.append(word_to_id[w])\n",
    "  filtered_sent = filtered_sent[:input_len]\n",
    "  filtered_sent = np.pad(filtered_sent, (0,input_len-len(filtered_sent)), \"constant\", constant_values=0)\n",
    "  description_trans.append(filtered_sent)\n",
    "description_trans = np.asarray(description_trans)"
   ]
  },
  {
   "cell_type": "markdown",
   "metadata": {},
   "source": [
    "### Create Input Dataset"
   ]
  },
  {
   "cell_type": "code",
   "execution_count": 18,
   "metadata": {
    "id": "x2gBacmGvEUe"
   },
   "outputs": [],
   "source": [
    "X_description = description_trans\n",
    "X_meta = np.hstack([prod_name, retail_price, advantage_product])\n",
    "Y = np.asarray(dataset[[\"product_category\"]])"
   ]
  },
  {
   "cell_type": "code",
   "execution_count": 19,
   "metadata": {
    "colab": {
     "base_uri": "https://localhost:8080/"
    },
    "id": "PkEXGPOOGj-f",
    "outputId": "02697469-56ad-4a85-833d-ced34198876c"
   },
   "outputs": [
    {
     "data": {
      "text/plain": [
       "((19287, 422), (19287, 12138), (19287, 1))"
      ]
     },
     "execution_count": 19,
     "metadata": {
      "tags": []
     },
     "output_type": "execute_result"
    }
   ],
   "source": [
    "X_description.shape, X_meta.shape, Y.shape"
   ]
  },
  {
   "cell_type": "markdown",
   "metadata": {},
   "source": [
    "### Train-Test Split"
   ]
  },
  {
   "cell_type": "code",
   "execution_count": 20,
   "metadata": {
    "id": "qwE7u-TAGcMm"
   },
   "outputs": [],
   "source": [
    "d_train, d_test, m_train, m_test, y_train, y_test = train_test_split(X_description, X_meta, Y, test_size=0.50, random_state=42)"
   ]
  },
  {
   "cell_type": "code",
   "execution_count": 21,
   "metadata": {
    "colab": {
     "base_uri": "https://localhost:8080/"
    },
    "id": "Tsmw6007yu-9",
    "outputId": "8d958704-7a6b-40fc-92e0-b6450fc16153"
   },
   "outputs": [
    {
     "name": "stdout",
     "output_type": "stream",
     "text": [
      "Vocabulary Size: 33842\n"
     ]
    }
   ],
   "source": [
    "print(\"Vocabulary Size:\", id)"
   ]
  },
  {
   "cell_type": "markdown",
   "metadata": {},
   "source": [
    "# Experiments with different models"
   ]
  },
  {
   "cell_type": "markdown",
   "metadata": {},
   "source": [
    "### Method for creating model"
   ]
  },
  {
   "cell_type": "code",
   "execution_count": 22,
   "metadata": {
    "id": "89k-4SPRwZTN"
   },
   "outputs": [],
   "source": [
    "def Model(x_description, x_meta, embed_size=32, LSTM=128, dropout=0.25):\n",
    "  input_description = tf.keras.layers.Input(shape=x_description)\n",
    "  x = tf.keras.layers.Embedding(id, embed_size, mask_zero=True, input_length=input_len)(input_description)\n",
    "  x = tf.keras.layers.Dropout(dropout)(x)\n",
    "\n",
    "  x = tf.keras.layers.LSTM(LSTM, return_sequences=True)(x)\n",
    "  x = tf.keras.layers.BatchNormalization()(x)\n",
    "  x = tf.keras.layers.Dropout(dropout)(x)\n",
    "\n",
    "  x = tf.keras.layers.LSTM(LSTM*2)(x)\n",
    "  x = tf.keras.layers.BatchNormalization()(x)\n",
    "  x = tf.keras.layers.Dropout(dropout)(x)\n",
    "\n",
    "  input_meta = tf.keras.layers.Input(shape=x_meta)\n",
    "  x = tf.keras.layers.Concatenate()([x, input_meta])\n",
    "  x = tf.keras.layers.BatchNormalization()(x)\n",
    "\n",
    "  x = tf.keras.layers.Dense(4086)(x)\n",
    "  x = tf.keras.layers.BatchNormalization()(x)\n",
    "  x = tf.keras.layers.Activation(tf.nn.leaky_relu)(x)\n",
    "  x = tf.keras.layers.Dropout(dropout)(x)\n",
    "\n",
    "  x = tf.keras.layers.Dense(1024)(x)\n",
    "  x = tf.keras.layers.BatchNormalization()(x)\n",
    "  x = tf.keras.layers.Activation(tf.nn.leaky_relu)(x)\n",
    "  x = tf.keras.layers.Dropout(dropout)(x)\n",
    "  \n",
    "  x = tf.keras.layers.Dense(len(dataset[\"product_category\"].unique()))(x)\n",
    "  x = tf.keras.layers.BatchNormalization()(x)\n",
    "  x = tf.keras.layers.Activation(tf.nn.softmax)(x)\n",
    "  return tf.keras.Model([input_description, input_meta], x)"
   ]
  },
  {
   "cell_type": "markdown",
   "metadata": {},
   "source": [
    "### Model-1"
   ]
  },
  {
   "cell_type": "code",
   "execution_count": 24,
   "metadata": {
    "colab": {
     "base_uri": "https://localhost:8080/"
    },
    "id": "gwahwxnbwZWz",
    "outputId": "aadf6400-e7eb-422a-9ebf-5bdbfcecacf8"
   },
   "outputs": [
    {
     "name": "stdout",
     "output_type": "stream",
     "text": [
      "Model: \"model\"\n",
      "__________________________________________________________________________________________________\n",
      "Layer (type)                    Output Shape         Param #     Connected to                     \n",
      "==================================================================================================\n",
      "input_1 (InputLayer)            [(None, 422)]        0                                            \n",
      "__________________________________________________________________________________________________\n",
      "embedding (Embedding)           (None, 422, 32)      1082944     input_1[0][0]                    \n",
      "__________________________________________________________________________________________________\n",
      "dropout (Dropout)               (None, 422, 32)      0           embedding[0][0]                  \n",
      "__________________________________________________________________________________________________\n",
      "lstm (LSTM)                     (None, 422, 128)     82432       dropout[0][0]                    \n",
      "__________________________________________________________________________________________________\n",
      "batch_normalization (BatchNorma (None, 422, 128)     512         lstm[0][0]                       \n",
      "__________________________________________________________________________________________________\n",
      "dropout_1 (Dropout)             (None, 422, 128)     0           batch_normalization[0][0]        \n",
      "__________________________________________________________________________________________________\n",
      "lstm_1 (LSTM)                   (None, 256)          394240      dropout_1[0][0]                  \n",
      "__________________________________________________________________________________________________\n",
      "batch_normalization_1 (BatchNor (None, 256)          1024        lstm_1[0][0]                     \n",
      "__________________________________________________________________________________________________\n",
      "dropout_2 (Dropout)             (None, 256)          0           batch_normalization_1[0][0]      \n",
      "__________________________________________________________________________________________________\n",
      "input_2 (InputLayer)            [(None, 12138)]      0                                            \n",
      "__________________________________________________________________________________________________\n",
      "concatenate (Concatenate)       (None, 12394)        0           dropout_2[0][0]                  \n",
      "                                                                 input_2[0][0]                    \n",
      "__________________________________________________________________________________________________\n",
      "batch_normalization_2 (BatchNor (None, 12394)        49576       concatenate[0][0]                \n",
      "__________________________________________________________________________________________________\n",
      "dense (Dense)                   (None, 4086)         50645970    batch_normalization_2[0][0]      \n",
      "__________________________________________________________________________________________________\n",
      "batch_normalization_3 (BatchNor (None, 4086)         16344       dense[0][0]                      \n",
      "__________________________________________________________________________________________________\n",
      "activation (Activation)         (None, 4086)         0           batch_normalization_3[0][0]      \n",
      "__________________________________________________________________________________________________\n",
      "dropout_3 (Dropout)             (None, 4086)         0           activation[0][0]                 \n",
      "__________________________________________________________________________________________________\n",
      "dense_1 (Dense)                 (None, 1024)         4185088     dropout_3[0][0]                  \n",
      "__________________________________________________________________________________________________\n",
      "batch_normalization_4 (BatchNor (None, 1024)         4096        dense_1[0][0]                    \n",
      "__________________________________________________________________________________________________\n",
      "activation_1 (Activation)       (None, 1024)         0           batch_normalization_4[0][0]      \n",
      "__________________________________________________________________________________________________\n",
      "dropout_4 (Dropout)             (None, 1024)         0           activation_1[0][0]               \n",
      "__________________________________________________________________________________________________\n",
      "dense_2 (Dense)                 (None, 18)           18450       dropout_4[0][0]                  \n",
      "__________________________________________________________________________________________________\n",
      "batch_normalization_5 (BatchNor (None, 18)           72          dense_2[0][0]                    \n",
      "__________________________________________________________________________________________________\n",
      "activation_2 (Activation)       (None, 18)           0           batch_normalization_5[0][0]      \n",
      "==================================================================================================\n",
      "Total params: 56,480,748\n",
      "Trainable params: 56,444,936\n",
      "Non-trainable params: 35,812\n",
      "__________________________________________________________________________________________________\n"
     ]
    }
   ],
   "source": [
    "category_prediction_model_32_128 = Model(X_description[0].shape, X_meta[0].shape)\n",
    "category_prediction_model_32_128.compile(optimizer=\"rmsprop\", loss=\"sparse_categorical_crossentropy\", metrics=\"accuracy\")\n",
    "category_prediction_model_32_128.summary()"
   ]
  },
  {
   "cell_type": "code",
   "execution_count": 25,
   "metadata": {
    "colab": {
     "base_uri": "https://localhost:8080/"
    },
    "id": "KRQam2HkwZZW",
    "outputId": "9c1ee3d7-9338-43b4-a9b1-9e10de88fe7f"
   },
   "outputs": [
    {
     "name": "stdout",
     "output_type": "stream",
     "text": [
      "Epoch 1/50\n",
      "29/29 [==============================] - 52s 462ms/step - loss: 2.0925 - accuracy: 0.4627 - val_loss: 2.7990 - val_accuracy: 0.1431\n",
      "Epoch 2/50\n",
      "29/29 [==============================] - 10s 343ms/step - loss: 1.0312 - accuracy: 0.8985 - val_loss: 2.8274 - val_accuracy: 0.0651\n",
      "Epoch 3/50\n",
      "29/29 [==============================] - 10s 341ms/step - loss: 0.7189 - accuracy: 0.9794 - val_loss: 2.7398 - val_accuracy: 0.0303\n",
      "Epoch 4/50\n",
      "29/29 [==============================] - 10s 339ms/step - loss: 0.6013 - accuracy: 0.9920 - val_loss: 2.6209 - val_accuracy: 0.0601\n",
      "Epoch 5/50\n",
      "29/29 [==============================] - 10s 344ms/step - loss: 0.5381 - accuracy: 0.9926 - val_loss: 2.4432 - val_accuracy: 0.2360\n",
      "Epoch 6/50\n",
      "29/29 [==============================] - 10s 340ms/step - loss: 0.4891 - accuracy: 0.9977 - val_loss: 2.3098 - val_accuracy: 0.5384\n",
      "Epoch 7/50\n",
      "29/29 [==============================] - 10s 341ms/step - loss: 0.4900 - accuracy: 0.9857 - val_loss: 1.9668 - val_accuracy: 0.6537\n",
      "Epoch 8/50\n",
      "29/29 [==============================] - 10s 338ms/step - loss: 0.3996 - accuracy: 0.9973 - val_loss: 1.7951 - val_accuracy: 0.5819\n",
      "Epoch 9/50\n",
      "29/29 [==============================] - 10s 341ms/step - loss: 0.3626 - accuracy: 0.9972 - val_loss: 1.6421 - val_accuracy: 0.7744\n",
      "Epoch 10/50\n",
      "29/29 [==============================] - 10s 339ms/step - loss: 0.3368 - accuracy: 0.9983 - val_loss: 1.1929 - val_accuracy: 0.8582\n",
      "Epoch 11/50\n",
      "29/29 [==============================] - 10s 341ms/step - loss: 0.2996 - accuracy: 0.9994 - val_loss: 1.6292 - val_accuracy: 0.5471\n",
      "Epoch 12/50\n",
      "29/29 [==============================] - 10s 338ms/step - loss: 0.2786 - accuracy: 0.9976 - val_loss: 1.0865 - val_accuracy: 0.7789\n",
      "Epoch 13/50\n",
      "29/29 [==============================] - 10s 341ms/step - loss: 0.2488 - accuracy: 0.9994 - val_loss: 0.8070 - val_accuracy: 0.8942\n",
      "Epoch 14/50\n",
      "29/29 [==============================] - 10s 338ms/step - loss: 0.2357 - accuracy: 0.9976 - val_loss: 0.6136 - val_accuracy: 0.8959\n",
      "Epoch 15/50\n",
      "29/29 [==============================] - 10s 342ms/step - loss: 0.2071 - accuracy: 0.9988 - val_loss: 0.6091 - val_accuracy: 0.8980\n",
      "Epoch 16/50\n",
      "29/29 [==============================] - 10s 337ms/step - loss: 0.1942 - accuracy: 0.9992 - val_loss: 0.6459 - val_accuracy: 0.8739\n",
      "Epoch 17/50\n",
      "29/29 [==============================] - 10s 343ms/step - loss: 0.1803 - accuracy: 0.9995 - val_loss: 0.5847 - val_accuracy: 0.9046\n",
      "Epoch 18/50\n",
      "29/29 [==============================] - 10s 339ms/step - loss: 0.1717 - accuracy: 0.9978 - val_loss: 0.6014 - val_accuracy: 0.8797\n",
      "Epoch 19/50\n",
      "29/29 [==============================] - 10s 339ms/step - loss: 0.1569 - accuracy: 0.9964 - val_loss: 0.5272 - val_accuracy: 0.9129\n",
      "Epoch 20/50\n",
      "29/29 [==============================] - 10s 343ms/step - loss: 0.1428 - accuracy: 0.9989 - val_loss: 0.3774 - val_accuracy: 0.9320\n",
      "Epoch 21/50\n",
      "29/29 [==============================] - 10s 342ms/step - loss: 0.1247 - accuracy: 0.9996 - val_loss: 0.3404 - val_accuracy: 0.9382\n",
      "Epoch 22/50\n",
      "29/29 [==============================] - 10s 340ms/step - loss: 0.1201 - accuracy: 0.9991 - val_loss: 0.3945 - val_accuracy: 0.9307\n",
      "Epoch 23/50\n",
      "29/29 [==============================] - 10s 343ms/step - loss: 0.1005 - accuracy: 0.9998 - val_loss: 0.8848 - val_accuracy: 0.7997\n",
      "Epoch 24/50\n",
      "29/29 [==============================] - 10s 336ms/step - loss: 0.1240 - accuracy: 0.9937 - val_loss: 0.3747 - val_accuracy: 0.9345\n",
      "Epoch 25/50\n",
      "29/29 [==============================] - 10s 343ms/step - loss: 0.0901 - accuracy: 0.9994 - val_loss: 0.3760 - val_accuracy: 0.9266\n",
      "Epoch 26/50\n",
      "29/29 [==============================] - 10s 342ms/step - loss: 0.0804 - accuracy: 0.9990 - val_loss: 0.3527 - val_accuracy: 0.9311\n",
      "Epoch 27/50\n",
      "29/29 [==============================] - 10s 338ms/step - loss: 0.0747 - accuracy: 0.9995 - val_loss: 0.3152 - val_accuracy: 0.9386\n",
      "Epoch 28/50\n",
      "29/29 [==============================] - 10s 340ms/step - loss: 0.0670 - accuracy: 0.9994 - val_loss: 0.5024 - val_accuracy: 0.9013\n",
      "Epoch 29/50\n",
      "29/29 [==============================] - 10s 341ms/step - loss: 0.0661 - accuracy: 0.9993 - val_loss: 0.3287 - val_accuracy: 0.9324\n",
      "Epoch 30/50\n",
      "29/29 [==============================] - 10s 337ms/step - loss: 0.0604 - accuracy: 0.9983 - val_loss: 0.2938 - val_accuracy: 0.9382\n",
      "Epoch 31/50\n",
      "29/29 [==============================] - 10s 340ms/step - loss: 0.0516 - accuracy: 0.9993 - val_loss: 0.2960 - val_accuracy: 0.9341\n",
      "Epoch 32/50\n",
      "29/29 [==============================] - 10s 339ms/step - loss: 0.0527 - accuracy: 0.9992 - val_loss: 0.4340 - val_accuracy: 0.9117\n",
      "Epoch 33/50\n",
      "29/29 [==============================] - 10s 343ms/step - loss: 0.0537 - accuracy: 0.9975 - val_loss: 0.2949 - val_accuracy: 0.9291\n",
      "Epoch 34/50\n",
      "29/29 [==============================] - 10s 340ms/step - loss: 0.0473 - accuracy: 0.9973 - val_loss: 0.2862 - val_accuracy: 0.9390\n",
      "Epoch 35/50\n",
      "29/29 [==============================] - 10s 341ms/step - loss: 0.0405 - accuracy: 0.9984 - val_loss: 0.2733 - val_accuracy: 0.9349\n",
      "Epoch 36/50\n",
      "29/29 [==============================] - 10s 341ms/step - loss: 0.0374 - accuracy: 0.9996 - val_loss: 0.2730 - val_accuracy: 0.9399\n",
      "Epoch 37/50\n",
      "29/29 [==============================] - 10s 341ms/step - loss: 0.0348 - accuracy: 0.9993 - val_loss: 0.3016 - val_accuracy: 0.9353\n",
      "Epoch 38/50\n",
      "29/29 [==============================] - 10s 339ms/step - loss: 0.0307 - accuracy: 0.9994 - val_loss: 0.3754 - val_accuracy: 0.9166\n",
      "Epoch 39/50\n",
      "29/29 [==============================] - 10s 341ms/step - loss: 0.0290 - accuracy: 0.9995 - val_loss: 0.2868 - val_accuracy: 0.9394\n",
      "Epoch 40/50\n",
      "29/29 [==============================] - 10s 343ms/step - loss: 0.0291 - accuracy: 0.9991 - val_loss: 0.3294 - val_accuracy: 0.9229\n",
      "Epoch 41/50\n",
      "29/29 [==============================] - 10s 341ms/step - loss: 0.0265 - accuracy: 0.9990 - val_loss: 0.2534 - val_accuracy: 0.9448\n",
      "Epoch 42/50\n",
      "29/29 [==============================] - 10s 340ms/step - loss: 0.0211 - accuracy: 0.9998 - val_loss: 0.2814 - val_accuracy: 0.9349\n",
      "Epoch 43/50\n",
      "29/29 [==============================] - 10s 340ms/step - loss: 0.0222 - accuracy: 0.9988 - val_loss: 0.3180 - val_accuracy: 0.9258\n",
      "Epoch 44/50\n",
      "29/29 [==============================] - 10s 339ms/step - loss: 0.0197 - accuracy: 0.9993 - val_loss: 0.3353 - val_accuracy: 0.9282\n",
      "Epoch 45/50\n",
      "29/29 [==============================] - 10s 339ms/step - loss: 0.0192 - accuracy: 0.9988 - val_loss: 0.3021 - val_accuracy: 0.9357\n",
      "Epoch 46/50\n",
      "29/29 [==============================] - 10s 340ms/step - loss: 0.0169 - accuracy: 0.9995 - val_loss: 0.3681 - val_accuracy: 0.9092\n",
      "Epoch 47/50\n",
      "29/29 [==============================] - 10s 340ms/step - loss: 0.0176 - accuracy: 0.9993 - val_loss: 0.3260 - val_accuracy: 0.9245\n",
      "Epoch 48/50\n",
      "29/29 [==============================] - 10s 342ms/step - loss: 0.0160 - accuracy: 0.9991 - val_loss: 0.3497 - val_accuracy: 0.9224\n",
      "Epoch 49/50\n",
      "29/29 [==============================] - 10s 344ms/step - loss: 0.0182 - accuracy: 0.9979 - val_loss: 0.3260 - val_accuracy: 0.9307\n",
      "Epoch 50/50\n",
      "29/29 [==============================] - 10s 340ms/step - loss: 0.0132 - accuracy: 0.9992 - val_loss: 0.3496 - val_accuracy: 0.9220\n"
     ]
    }
   ],
   "source": [
    "checkpoint_callback =   tf.keras.callbacks.ModelCheckpoint(filepath='weights_32_128/', save_weights_only=True, save_best_only=True, monitor=\"val_accuracy\", mode=\"max\")\n",
    "H = category_prediction_model_32_128.fit([d_train, m_train], y_train, validation_split=0.25, epochs=50, batch_size=256, shuffle=True, callbacks=[checkpoint_callback])"
   ]
  },
  {
   "cell_type": "code",
   "execution_count": 26,
   "metadata": {
    "colab": {
     "base_uri": "https://localhost:8080/",
     "height": 282
    },
    "id": "yPzB2sMewZcw",
    "outputId": "b370baee-8f17-4eba-fe80-0e79d082734d"
   },
   "outputs": [
    {
     "data": {
      "text/plain": [
       "[<matplotlib.lines.Line2D at 0x7f77b4695790>]"
      ]
     },
     "execution_count": 26,
     "metadata": {
      "tags": []
     },
     "output_type": "execute_result"
    },
    {
     "data": {
      "image/png": "[encoded data removed]",
      "text/plain": [
       "<Figure size 432x288 with 1 Axes>"
      ]
     },
     "metadata": {
      "needs_background": "light",
      "tags": []
     },
     "output_type": "display_data"
    }
   ],
   "source": [
    "plt.plot(H.history[\"accuracy\"])\n",
    "plt.plot(H.history[\"val_accuracy\"])"
   ]
  },
  {
   "cell_type": "markdown",
   "metadata": {},
   "source": [
    "### Model-2"
   ]
  },
  {
   "cell_type": "code",
   "execution_count": 27,
   "metadata": {
    "id": "-IOyBP7hV9el"
   },
   "outputs": [],
   "source": [
    "category_prediction_model_32_256 = Model(X_description[0].shape, X_meta[0].shape, LSTM=256)\n",
    "category_prediction_model_32_256.compile(optimizer=\"rmsprop\", loss=\"sparse_categorical_crossentropy\", metrics=\"accuracy\")"
   ]
  },
  {
   "cell_type": "code",
   "execution_count": 28,
   "metadata": {
    "colab": {
     "base_uri": "https://localhost:8080/"
    },
    "id": "cmBCWzpFIEvk",
    "outputId": "ea193e26-1f4a-4f0e-8b98-86142358e944"
   },
   "outputs": [
    {
     "name": "stdout",
     "output_type": "stream",
     "text": [
      "Epoch 1/50\n",
      "29/29 [==============================] - 28s 615ms/step - loss: 2.1268 - accuracy: 0.4583 - val_loss: 2.7384 - val_accuracy: 0.2335\n",
      "Epoch 2/50\n",
      "29/29 [==============================] - 15s 515ms/step - loss: 1.1567 - accuracy: 0.8472 - val_loss: 2.7807 - val_accuracy: 0.2655\n",
      "Epoch 3/50\n",
      "29/29 [==============================] - 15s 510ms/step - loss: 0.8627 - accuracy: 0.9347 - val_loss: 2.8599 - val_accuracy: 0.0904\n",
      "Epoch 4/50\n",
      "29/29 [==============================] - 15s 509ms/step - loss: 0.6870 - accuracy: 0.9683 - val_loss: 2.7844 - val_accuracy: 0.1012\n",
      "Epoch 5/50\n",
      "29/29 [==============================] - 15s 508ms/step - loss: 0.6024 - accuracy: 0.9851 - val_loss: 2.4966 - val_accuracy: 0.3924\n",
      "Epoch 6/50\n",
      "29/29 [==============================] - 15s 515ms/step - loss: 0.5111 - accuracy: 0.9944 - val_loss: 2.8195 - val_accuracy: 0.1377\n",
      "Epoch 7/50\n",
      "29/29 [==============================] - 15s 513ms/step - loss: 0.4798 - accuracy: 0.9951 - val_loss: 2.6913 - val_accuracy: 0.2248\n",
      "Epoch 8/50\n",
      "29/29 [==============================] - 15s 511ms/step - loss: 0.4024 - accuracy: 0.9980 - val_loss: 2.6366 - val_accuracy: 0.1145\n",
      "Epoch 9/50\n",
      "29/29 [==============================] - 15s 512ms/step - loss: 0.4326 - accuracy: 0.9895 - val_loss: 2.9631 - val_accuracy: 0.1842\n",
      "Epoch 10/50\n",
      "29/29 [==============================] - 15s 515ms/step - loss: 0.3557 - accuracy: 0.9962 - val_loss: 2.4680 - val_accuracy: 0.2240\n",
      "Epoch 11/50\n",
      "29/29 [==============================] - 15s 516ms/step - loss: 0.3228 - accuracy: 0.9966 - val_loss: 2.4680 - val_accuracy: 0.2364\n",
      "Epoch 12/50\n",
      "29/29 [==============================] - 15s 514ms/step - loss: 0.3265 - accuracy: 0.9887 - val_loss: 1.8560 - val_accuracy: 0.5475\n",
      "Epoch 13/50\n",
      "29/29 [==============================] - 15s 515ms/step - loss: 0.2763 - accuracy: 0.9955 - val_loss: 2.0789 - val_accuracy: 0.3592\n",
      "Epoch 14/50\n",
      "29/29 [==============================] - 15s 514ms/step - loss: 0.2545 - accuracy: 0.9935 - val_loss: 1.0277 - val_accuracy: 0.7499\n",
      "Epoch 15/50\n",
      "29/29 [==============================] - 15s 515ms/step - loss: 0.2118 - accuracy: 0.9997 - val_loss: 1.0082 - val_accuracy: 0.8187\n",
      "Epoch 16/50\n",
      "29/29 [==============================] - 15s 514ms/step - loss: 0.2029 - accuracy: 0.9989 - val_loss: 0.7462 - val_accuracy: 0.8523\n",
      "Epoch 17/50\n",
      "29/29 [==============================] - 15s 513ms/step - loss: 0.1869 - accuracy: 0.9972 - val_loss: 1.6349 - val_accuracy: 0.6566\n",
      "Epoch 18/50\n",
      "29/29 [==============================] - 15s 509ms/step - loss: 0.1973 - accuracy: 0.9927 - val_loss: 0.4670 - val_accuracy: 0.9183\n",
      "Epoch 19/50\n",
      "29/29 [==============================] - 15s 509ms/step - loss: 0.1467 - accuracy: 0.9990 - val_loss: 0.8818 - val_accuracy: 0.7976\n",
      "Epoch 20/50\n",
      "29/29 [==============================] - 15s 518ms/step - loss: 0.1513 - accuracy: 0.9966 - val_loss: 0.5217 - val_accuracy: 0.9121\n",
      "Epoch 21/50\n",
      "29/29 [==============================] - 15s 512ms/step - loss: 0.1468 - accuracy: 0.9950 - val_loss: 0.3642 - val_accuracy: 0.9341\n",
      "Epoch 22/50\n",
      "29/29 [==============================] - 15s 514ms/step - loss: 0.1155 - accuracy: 0.9988 - val_loss: 0.7121 - val_accuracy: 0.8532\n",
      "Epoch 23/50\n",
      "29/29 [==============================] - 15s 512ms/step - loss: 0.1209 - accuracy: 0.9979 - val_loss: 0.3821 - val_accuracy: 0.9183\n",
      "Epoch 24/50\n",
      "29/29 [==============================] - 15s 516ms/step - loss: 0.1050 - accuracy: 0.9979 - val_loss: 0.3853 - val_accuracy: 0.9245\n",
      "Epoch 25/50\n",
      "29/29 [==============================] - 15s 513ms/step - loss: 0.0949 - accuracy: 0.9981 - val_loss: 0.3067 - val_accuracy: 0.9453\n",
      "Epoch 26/50\n",
      "29/29 [==============================] - 15s 517ms/step - loss: 0.0893 - accuracy: 0.9977 - val_loss: 0.4223 - val_accuracy: 0.8843\n",
      "Epoch 27/50\n",
      "29/29 [==============================] - 15s 513ms/step - loss: 0.0912 - accuracy: 0.9950 - val_loss: 0.2617 - val_accuracy: 0.9511\n",
      "Epoch 28/50\n",
      "29/29 [==============================] - 15s 516ms/step - loss: 0.0657 - accuracy: 0.9996 - val_loss: 0.2638 - val_accuracy: 0.9482\n",
      "Epoch 29/50\n",
      "29/29 [==============================] - 15s 513ms/step - loss: 0.0621 - accuracy: 0.9990 - val_loss: 0.2260 - val_accuracy: 0.9577\n",
      "Epoch 30/50\n",
      "29/29 [==============================] - 15s 517ms/step - loss: 0.0645 - accuracy: 0.9971 - val_loss: 0.2257 - val_accuracy: 0.9523\n",
      "Epoch 31/50\n",
      "29/29 [==============================] - 15s 512ms/step - loss: 0.0537 - accuracy: 0.9992 - val_loss: 0.3673 - val_accuracy: 0.9233\n",
      "Epoch 32/50\n",
      "29/29 [==============================] - 15s 517ms/step - loss: 0.0608 - accuracy: 0.9966 - val_loss: 0.2252 - val_accuracy: 0.9523\n",
      "Epoch 33/50\n",
      "29/29 [==============================] - 15s 513ms/step - loss: 0.0442 - accuracy: 0.9998 - val_loss: 0.2241 - val_accuracy: 0.9544\n",
      "Epoch 34/50\n",
      "29/29 [==============================] - 15s 516ms/step - loss: 0.0457 - accuracy: 0.9978 - val_loss: 0.2064 - val_accuracy: 0.9589\n",
      "Epoch 35/50\n",
      "29/29 [==============================] - 15s 508ms/step - loss: 0.0440 - accuracy: 0.9980 - val_loss: 0.2412 - val_accuracy: 0.9432\n",
      "Epoch 36/50\n",
      "29/29 [==============================] - 15s 518ms/step - loss: 0.0356 - accuracy: 0.9991 - val_loss: 0.2140 - val_accuracy: 0.9577\n",
      "Epoch 37/50\n",
      "29/29 [==============================] - 15s 513ms/step - loss: 0.0398 - accuracy: 0.9971 - val_loss: 0.3370 - val_accuracy: 0.9303\n",
      "Epoch 38/50\n",
      "29/29 [==============================] - 15s 513ms/step - loss: 0.0328 - accuracy: 0.9997 - val_loss: 0.2436 - val_accuracy: 0.9502\n",
      "Epoch 39/50\n",
      "29/29 [==============================] - 15s 514ms/step - loss: 0.0362 - accuracy: 0.9976 - val_loss: 0.2384 - val_accuracy: 0.9436\n",
      "Epoch 40/50\n",
      "29/29 [==============================] - 15s 518ms/step - loss: 0.0279 - accuracy: 0.9991 - val_loss: 0.2688 - val_accuracy: 0.9419\n",
      "Epoch 41/50\n",
      "29/29 [==============================] - 15s 516ms/step - loss: 0.0238 - accuracy: 0.9997 - val_loss: 0.2249 - val_accuracy: 0.9465\n",
      "Epoch 42/50\n",
      "29/29 [==============================] - 15s 519ms/step - loss: 0.0246 - accuracy: 0.9989 - val_loss: 0.2356 - val_accuracy: 0.9473\n",
      "Epoch 43/50\n",
      "29/29 [==============================] - 15s 512ms/step - loss: 0.0208 - accuracy: 0.9993 - val_loss: 0.2772 - val_accuracy: 0.9378\n",
      "Epoch 44/50\n",
      "29/29 [==============================] - 15s 517ms/step - loss: 0.0198 - accuracy: 0.9991 - val_loss: 0.2576 - val_accuracy: 0.9428\n",
      "Epoch 45/50\n",
      "29/29 [==============================] - 15s 518ms/step - loss: 0.0197 - accuracy: 0.9998 - val_loss: 0.3686 - val_accuracy: 0.9208\n",
      "Epoch 46/50\n",
      "29/29 [==============================] - 15s 514ms/step - loss: 0.0287 - accuracy: 0.9953 - val_loss: 0.2094 - val_accuracy: 0.9540\n",
      "Epoch 47/50\n",
      "29/29 [==============================] - 15s 519ms/step - loss: 0.0156 - accuracy: 0.9995 - val_loss: 0.2130 - val_accuracy: 0.9515\n",
      "Epoch 48/50\n",
      "29/29 [==============================] - 15s 511ms/step - loss: 0.0135 - accuracy: 0.9998 - val_loss: 0.2592 - val_accuracy: 0.9432\n",
      "Epoch 49/50\n",
      "29/29 [==============================] - 15s 516ms/step - loss: 0.0201 - accuracy: 0.9981 - val_loss: 0.2794 - val_accuracy: 0.9357\n",
      "Epoch 50/50\n",
      "29/29 [==============================] - 15s 511ms/step - loss: 0.0140 - accuracy: 0.9996 - val_loss: 0.2263 - val_accuracy: 0.9490\n"
     ]
    }
   ],
   "source": [
    "checkpoint_callback = tf.keras.callbacks.ModelCheckpoint(filepath='weights_32_256/', save_weights_only=True, save_best_only=True, monitor=\"val_accuracy\", mode=\"max\")\n",
    "H = category_prediction_model_32_256.fit([d_train, m_train], y_train, validation_split=0.25, epochs=50, batch_size=256, shuffle=True, callbacks=[checkpoint_callback])"
   ]
  },
  {
   "cell_type": "code",
   "execution_count": 29,
   "metadata": {
    "colab": {
     "base_uri": "https://localhost:8080/",
     "height": 282
    },
    "id": "i1kj8yb0IEys",
    "outputId": "888154e9-8083-49b6-e9f6-4a27fec4baab"
   },
   "outputs": [
    {
     "data": {
      "text/plain": [
       "[<matplotlib.lines.Line2D at 0x7f77b2ad5890>]"
      ]
     },
     "execution_count": 29,
     "metadata": {
      "tags": []
     },
     "output_type": "execute_result"
    },
    {
     "data": {
      "image/png": "[encoded data removed]",
      "text/plain": [
       "<Figure size 432x288 with 1 Axes>"
      ]
     },
     "metadata": {
      "needs_background": "light",
      "tags": []
     },
     "output_type": "display_data"
    }
   ],
   "source": [
    "plt.plot(H.history[\"accuracy\"])\n",
    "plt.plot(H.history[\"val_accuracy\"])"
   ]
  },
  {
   "cell_type": "markdown",
   "metadata": {},
   "source": [
    "### Model-3"
   ]
  },
  {
   "cell_type": "code",
   "execution_count": 30,
   "metadata": {
    "id": "jxcBs2Z6WBDv"
   },
   "outputs": [],
   "source": [
    "category_prediction_model_32_512 = Model(X_description[0].shape, X_meta[0].shape, LSTM=512)\n",
    "category_prediction_model_32_512.compile(optimizer=\"rmsprop\", loss=\"sparse_categorical_crossentropy\", metrics=\"accuracy\")"
   ]
  },
  {
   "cell_type": "code",
   "execution_count": 31,
   "metadata": {
    "colab": {
     "base_uri": "https://localhost:8080/"
    },
    "id": "zEYSE5RvIE0z",
    "outputId": "9a60cd34-ab1c-46dd-8450-843c0835e43f"
   },
   "outputs": [
    {
     "name": "stdout",
     "output_type": "stream",
     "text": [
      "Epoch 1/50\n",
      "29/29 [==============================] - 45s 1s/step - loss: 2.2280 - accuracy: 0.4253 - val_loss: 2.7410 - val_accuracy: 0.3621\n",
      "Epoch 2/50\n",
      "29/29 [==============================] - 32s 1s/step - loss: 1.4239 - accuracy: 0.7435 - val_loss: 2.6800 - val_accuracy: 0.2107\n",
      "Epoch 3/50\n",
      "29/29 [==============================] - 32s 1s/step - loss: 1.0311 - accuracy: 0.8847 - val_loss: 2.9497 - val_accuracy: 0.0755\n",
      "Epoch 4/50\n",
      "29/29 [==============================] - 32s 1s/step - loss: 0.7900 - accuracy: 0.9477 - val_loss: 3.0257 - val_accuracy: 0.0879\n",
      "Epoch 5/50\n",
      "29/29 [==============================] - 32s 1s/step - loss: 0.6393 - accuracy: 0.9793 - val_loss: 3.0675 - val_accuracy: 0.1107\n",
      "Epoch 6/50\n",
      "29/29 [==============================] - 32s 1s/step - loss: 0.5642 - accuracy: 0.9873 - val_loss: 2.5663 - val_accuracy: 0.2045\n",
      "Epoch 7/50\n",
      "29/29 [==============================] - 32s 1s/step - loss: 0.4930 - accuracy: 0.9893 - val_loss: 2.8830 - val_accuracy: 0.1837\n",
      "Epoch 8/50\n",
      "29/29 [==============================] - 32s 1s/step - loss: 0.4396 - accuracy: 0.9933 - val_loss: 2.8264 - val_accuracy: 0.2306\n",
      "Epoch 9/50\n",
      "29/29 [==============================] - 32s 1s/step - loss: 0.3891 - accuracy: 0.9952 - val_loss: 3.0801 - val_accuracy: 0.0299\n",
      "Epoch 10/50\n",
      "29/29 [==============================] - 32s 1s/step - loss: 0.3482 - accuracy: 0.9985 - val_loss: 2.4193 - val_accuracy: 0.2721\n",
      "Epoch 11/50\n",
      "29/29 [==============================] - 32s 1s/step - loss: 0.3190 - accuracy: 0.9982 - val_loss: 2.1422 - val_accuracy: 0.2178\n",
      "Epoch 12/50\n",
      "29/29 [==============================] - 32s 1s/step - loss: 0.3047 - accuracy: 0.9972 - val_loss: 1.9374 - val_accuracy: 0.2899\n",
      "Epoch 13/50\n",
      "29/29 [==============================] - 32s 1s/step - loss: 0.2544 - accuracy: 0.9996 - val_loss: 1.8495 - val_accuracy: 0.6939\n",
      "Epoch 14/50\n",
      "29/29 [==============================] - 32s 1s/step - loss: 0.2486 - accuracy: 0.9975 - val_loss: 1.5695 - val_accuracy: 0.6657\n",
      "Epoch 15/50\n",
      "29/29 [==============================] - 32s 1s/step - loss: 0.2126 - accuracy: 0.9996 - val_loss: 1.8298 - val_accuracy: 0.5010\n",
      "Epoch 16/50\n",
      "29/29 [==============================] - 32s 1s/step - loss: 0.2230 - accuracy: 0.9921 - val_loss: 0.7894 - val_accuracy: 0.8897\n",
      "Epoch 17/50\n",
      "29/29 [==============================] - 32s 1s/step - loss: 0.1868 - accuracy: 0.9977 - val_loss: 0.7804 - val_accuracy: 0.8465\n",
      "Epoch 18/50\n",
      "29/29 [==============================] - 32s 1s/step - loss: 0.1673 - accuracy: 0.9997 - val_loss: 0.4716 - val_accuracy: 0.9241\n",
      "Epoch 19/50\n",
      "29/29 [==============================] - 32s 1s/step - loss: 0.1527 - accuracy: 0.9979 - val_loss: 0.5863 - val_accuracy: 0.9258\n",
      "Epoch 20/50\n",
      "29/29 [==============================] - 32s 1s/step - loss: 0.1456 - accuracy: 0.9988 - val_loss: 0.5482 - val_accuracy: 0.8872\n",
      "Epoch 21/50\n",
      "29/29 [==============================] - 32s 1s/step - loss: 0.1351 - accuracy: 0.9986 - val_loss: 0.3746 - val_accuracy: 0.9440\n",
      "Epoch 22/50\n",
      "29/29 [==============================] - 32s 1s/step - loss: 0.1201 - accuracy: 0.9992 - val_loss: 0.4626 - val_accuracy: 0.9025\n",
      "Epoch 23/50\n",
      "29/29 [==============================] - 32s 1s/step - loss: 0.1055 - accuracy: 0.9993 - val_loss: 0.4839 - val_accuracy: 0.9050\n",
      "Epoch 24/50\n",
      "29/29 [==============================] - 32s 1s/step - loss: 0.0970 - accuracy: 0.9990 - val_loss: 0.3843 - val_accuracy: 0.9183\n",
      "Epoch 25/50\n",
      "29/29 [==============================] - 32s 1s/step - loss: 0.0877 - accuracy: 0.9995 - val_loss: 0.5534 - val_accuracy: 0.8797\n",
      "Epoch 26/50\n",
      "29/29 [==============================] - 32s 1s/step - loss: 0.0941 - accuracy: 0.9960 - val_loss: 0.2690 - val_accuracy: 0.9515\n",
      "Epoch 27/50\n",
      "29/29 [==============================] - 32s 1s/step - loss: 0.0749 - accuracy: 0.9994 - val_loss: 0.2584 - val_accuracy: 0.9606\n",
      "Epoch 28/50\n",
      "29/29 [==============================] - 32s 1s/step - loss: 0.0699 - accuracy: 0.9993 - val_loss: 0.2796 - val_accuracy: 0.9564\n",
      "Epoch 29/50\n",
      "29/29 [==============================] - 32s 1s/step - loss: 0.0745 - accuracy: 0.9974 - val_loss: 0.3273 - val_accuracy: 0.9399\n",
      "Epoch 30/50\n",
      "29/29 [==============================] - 32s 1s/step - loss: 0.0609 - accuracy: 0.9979 - val_loss: 0.4800 - val_accuracy: 0.8801\n",
      "Epoch 31/50\n",
      "29/29 [==============================] - 32s 1s/step - loss: 0.0664 - accuracy: 0.9957 - val_loss: 0.2260 - val_accuracy: 0.9573\n",
      "Epoch 32/50\n",
      "29/29 [==============================] - 32s 1s/step - loss: 0.0495 - accuracy: 0.9992 - val_loss: 0.4069 - val_accuracy: 0.9050\n",
      "Epoch 33/50\n",
      "29/29 [==============================] - 32s 1s/step - loss: 0.0579 - accuracy: 0.9972 - val_loss: 0.2407 - val_accuracy: 0.9419\n",
      "Epoch 34/50\n",
      "29/29 [==============================] - 32s 1s/step - loss: 0.0433 - accuracy: 0.9991 - val_loss: 0.2604 - val_accuracy: 0.9345\n",
      "Epoch 35/50\n",
      "29/29 [==============================] - 31s 1s/step - loss: 0.0485 - accuracy: 0.9958 - val_loss: 0.2494 - val_accuracy: 0.9482\n",
      "Epoch 36/50\n",
      "29/29 [==============================] - 32s 1s/step - loss: 0.0366 - accuracy: 0.9989 - val_loss: 0.4594 - val_accuracy: 0.8951\n",
      "Epoch 37/50\n",
      "29/29 [==============================] - 32s 1s/step - loss: 0.0418 - accuracy: 0.9979 - val_loss: 0.1846 - val_accuracy: 0.9631\n",
      "Epoch 38/50\n",
      "29/29 [==============================] - 32s 1s/step - loss: 0.0303 - accuracy: 0.9997 - val_loss: 0.7248 - val_accuracy: 0.8482\n",
      "Epoch 39/50\n",
      "29/29 [==============================] - 32s 1s/step - loss: 0.0331 - accuracy: 0.9983 - val_loss: 0.2528 - val_accuracy: 0.9382\n",
      "Epoch 40/50\n",
      "29/29 [==============================] - 32s 1s/step - loss: 0.0260 - accuracy: 0.9994 - val_loss: 0.1897 - val_accuracy: 0.9581\n",
      "Epoch 41/50\n",
      "29/29 [==============================] - 32s 1s/step - loss: 0.0232 - accuracy: 0.9995 - val_loss: 0.2485 - val_accuracy: 0.9482\n",
      "Epoch 42/50\n",
      "29/29 [==============================] - 32s 1s/step - loss: 0.0224 - accuracy: 0.9994 - val_loss: 0.1982 - val_accuracy: 0.9585\n",
      "Epoch 43/50\n",
      "29/29 [==============================] - 32s 1s/step - loss: 0.0262 - accuracy: 0.9971 - val_loss: 0.2502 - val_accuracy: 0.9448\n",
      "Epoch 44/50\n",
      "29/29 [==============================] - 32s 1s/step - loss: 0.0225 - accuracy: 0.9986 - val_loss: 0.1710 - val_accuracy: 0.9631\n",
      "Epoch 45/50\n",
      "29/29 [==============================] - 32s 1s/step - loss: 0.0236 - accuracy: 0.9984 - val_loss: 0.2039 - val_accuracy: 0.9577\n",
      "Epoch 46/50\n",
      "29/29 [==============================] - 32s 1s/step - loss: 0.0171 - accuracy: 0.9995 - val_loss: 0.1799 - val_accuracy: 0.9639\n",
      "Epoch 47/50\n",
      "29/29 [==============================] - 32s 1s/step - loss: 0.0160 - accuracy: 0.9993 - val_loss: 0.2007 - val_accuracy: 0.9527\n",
      "Epoch 48/50\n",
      "29/29 [==============================] - 32s 1s/step - loss: 0.0147 - accuracy: 0.9989 - val_loss: 0.3642 - val_accuracy: 0.9154\n",
      "Epoch 49/50\n",
      "29/29 [==============================] - 32s 1s/step - loss: 0.0206 - accuracy: 0.9964 - val_loss: 0.2119 - val_accuracy: 0.9564\n",
      "Epoch 50/50\n",
      "29/29 [==============================] - 32s 1s/step - loss: 0.0130 - accuracy: 0.9998 - val_loss: 0.4067 - val_accuracy: 0.9129\n"
     ]
    }
   ],
   "source": [
    "checkpoint_callback = tf.keras.callbacks.ModelCheckpoint(filepath='weights_32_512/', save_weights_only=True, save_best_only=True, monitor=\"val_accuracy\", mode=\"max\")\n",
    "H = category_prediction_model_32_512.fit([d_train, m_train], y_train, validation_split=0.25, epochs=50, batch_size=256, shuffle=True, callbacks=[checkpoint_callback])"
   ]
  },
  {
   "cell_type": "code",
   "execution_count": 32,
   "metadata": {
    "colab": {
     "base_uri": "https://localhost:8080/",
     "height": 282
    },
    "id": "3VLRShjlIE3f",
    "outputId": "b79a2327-7fa2-4b57-b4e4-fd965fc25371"
   },
   "outputs": [
    {
     "data": {
      "text/plain": [
       "[<matplotlib.lines.Line2D at 0x7f77aef7bd50>]"
      ]
     },
     "execution_count": 32,
     "metadata": {
      "tags": []
     },
     "output_type": "execute_result"
    },
    {
     "data": {
      "image/png": "[encoded data removed]",
      "text/plain": [
       "<Figure size 432x288 with 1 Axes>"
      ]
     },
     "metadata": {
      "needs_background": "light",
      "tags": []
     },
     "output_type": "display_data"
    }
   ],
   "source": [
    "plt.plot(H.history[\"accuracy\"])\n",
    "plt.plot(H.history[\"val_accuracy\"])"
   ]
  },
  {
   "cell_type": "markdown",
   "metadata": {},
   "source": [
    "### Model-4"
   ]
  },
  {
   "cell_type": "code",
   "execution_count": 33,
   "metadata": {
    "id": "WjCVxlCaWCm7"
   },
   "outputs": [],
   "source": [
    "category_prediction_model_64_128 = Model(X_description[0].shape, X_meta[0].shape, embed_size=64)\n",
    "category_prediction_model_64_128.compile(optimizer=\"rmsprop\", loss=\"sparse_categorical_crossentropy\", metrics=\"accuracy\")"
   ]
  },
  {
   "cell_type": "code",
   "execution_count": 34,
   "metadata": {
    "colab": {
     "base_uri": "https://localhost:8080/"
    },
    "id": "zKETiK86IE6D",
    "outputId": "265071bd-6d7e-4a32-d9ed-6a92616c8341"
   },
   "outputs": [
    {
     "name": "stdout",
     "output_type": "stream",
     "text": [
      "Epoch 1/50\n",
      "29/29 [==============================] - 23s 453ms/step - loss: 2.0114 - accuracy: 0.5165 - val_loss: 2.8592 - val_accuracy: 0.0784\n",
      "Epoch 2/50\n",
      "29/29 [==============================] - 10s 352ms/step - loss: 0.9297 - accuracy: 0.9224 - val_loss: 2.8583 - val_accuracy: 0.0606\n",
      "Epoch 3/50\n",
      "29/29 [==============================] - 10s 355ms/step - loss: 0.6708 - accuracy: 0.9835 - val_loss: 2.7920 - val_accuracy: 0.0659\n",
      "Epoch 4/50\n",
      "29/29 [==============================] - 10s 356ms/step - loss: 0.5926 - accuracy: 0.9866 - val_loss: 2.5777 - val_accuracy: 0.2559\n",
      "Epoch 5/50\n",
      "29/29 [==============================] - 10s 359ms/step - loss: 0.5170 - accuracy: 0.9953 - val_loss: 2.5779 - val_accuracy: 0.2173\n",
      "Epoch 6/50\n",
      "29/29 [==============================] - 10s 354ms/step - loss: 0.5225 - accuracy: 0.9863 - val_loss: 2.1999 - val_accuracy: 0.4421\n",
      "Epoch 7/50\n",
      "29/29 [==============================] - 10s 358ms/step - loss: 0.4311 - accuracy: 0.9960 - val_loss: 1.6286 - val_accuracy: 0.7536\n",
      "Epoch 8/50\n",
      "29/29 [==============================] - 10s 355ms/step - loss: 0.4009 - accuracy: 0.9954 - val_loss: 1.6126 - val_accuracy: 0.8743\n",
      "Epoch 9/50\n",
      "29/29 [==============================] - 10s 354ms/step - loss: 0.3562 - accuracy: 0.9984 - val_loss: 1.1670 - val_accuracy: 0.8901\n",
      "Epoch 10/50\n",
      "29/29 [==============================] - 10s 358ms/step - loss: 0.3375 - accuracy: 0.9973 - val_loss: 1.1572 - val_accuracy: 0.8071\n",
      "Epoch 11/50\n",
      "29/29 [==============================] - 10s 356ms/step - loss: 0.3114 - accuracy: 0.9945 - val_loss: 1.5685 - val_accuracy: 0.6993\n",
      "Epoch 12/50\n",
      "29/29 [==============================] - 10s 354ms/step - loss: 0.2826 - accuracy: 0.9967 - val_loss: 0.8760 - val_accuracy: 0.8237\n",
      "Epoch 13/50\n",
      "29/29 [==============================] - 10s 356ms/step - loss: 0.2511 - accuracy: 0.9984 - val_loss: 0.6121 - val_accuracy: 0.9245\n",
      "Epoch 14/50\n",
      "29/29 [==============================] - 10s 351ms/step - loss: 0.2217 - accuracy: 0.9990 - val_loss: 0.4800 - val_accuracy: 0.9407\n",
      "Epoch 15/50\n",
      "29/29 [==============================] - 10s 356ms/step - loss: 0.2084 - accuracy: 0.9981 - val_loss: 0.5722 - val_accuracy: 0.8843\n",
      "Epoch 16/50\n",
      "29/29 [==============================] - 10s 353ms/step - loss: 0.1927 - accuracy: 0.9969 - val_loss: 0.5821 - val_accuracy: 0.8839\n",
      "Epoch 17/50\n",
      "29/29 [==============================] - 10s 355ms/step - loss: 0.1847 - accuracy: 0.9985 - val_loss: 0.3992 - val_accuracy: 0.9353\n",
      "Epoch 18/50\n",
      "29/29 [==============================] - 10s 360ms/step - loss: 0.1688 - accuracy: 0.9997 - val_loss: 1.0255 - val_accuracy: 0.8229\n",
      "Epoch 19/50\n",
      "29/29 [==============================] - 10s 358ms/step - loss: 0.1566 - accuracy: 0.9982 - val_loss: 0.4190 - val_accuracy: 0.9104\n",
      "Epoch 20/50\n",
      "29/29 [==============================] - 10s 358ms/step - loss: 0.1373 - accuracy: 0.9994 - val_loss: 0.4620 - val_accuracy: 0.9067\n",
      "Epoch 21/50\n",
      "29/29 [==============================] - 10s 356ms/step - loss: 0.1463 - accuracy: 0.9921 - val_loss: 0.3296 - val_accuracy: 0.9486\n",
      "Epoch 22/50\n",
      "29/29 [==============================] - 10s 352ms/step - loss: 0.1175 - accuracy: 0.9974 - val_loss: 0.2774 - val_accuracy: 0.9527\n",
      "Epoch 23/50\n",
      "29/29 [==============================] - 10s 355ms/step - loss: 0.1029 - accuracy: 0.9995 - val_loss: 0.2720 - val_accuracy: 0.9486\n",
      "Epoch 24/50\n",
      "29/29 [==============================] - 10s 355ms/step - loss: 0.1033 - accuracy: 0.9971 - val_loss: 0.3349 - val_accuracy: 0.9419\n",
      "Epoch 25/50\n",
      "29/29 [==============================] - 10s 354ms/step - loss: 0.0891 - accuracy: 0.9988 - val_loss: 0.2845 - val_accuracy: 0.9457\n",
      "Epoch 26/50\n",
      "29/29 [==============================] - 10s 353ms/step - loss: 0.0779 - accuracy: 0.9993 - val_loss: 0.4999 - val_accuracy: 0.8723\n",
      "Epoch 27/50\n",
      "29/29 [==============================] - 10s 354ms/step - loss: 0.0864 - accuracy: 0.9934 - val_loss: 0.2946 - val_accuracy: 0.9457\n",
      "Epoch 28/50\n",
      "29/29 [==============================] - 10s 356ms/step - loss: 0.0731 - accuracy: 0.9977 - val_loss: 0.2805 - val_accuracy: 0.9465\n",
      "Epoch 29/50\n",
      "29/29 [==============================] - 10s 355ms/step - loss: 0.0625 - accuracy: 0.9996 - val_loss: 0.2339 - val_accuracy: 0.9548\n",
      "Epoch 30/50\n",
      "29/29 [==============================] - 10s 355ms/step - loss: 0.0599 - accuracy: 0.9990 - val_loss: 0.2296 - val_accuracy: 0.9556\n",
      "Epoch 31/50\n",
      "29/29 [==============================] - 10s 358ms/step - loss: 0.0503 - accuracy: 0.9995 - val_loss: 0.2944 - val_accuracy: 0.9407\n",
      "Epoch 32/50\n",
      "29/29 [==============================] - 10s 357ms/step - loss: 0.0512 - accuracy: 0.9984 - val_loss: 0.2919 - val_accuracy: 0.9382\n",
      "Epoch 33/50\n",
      "29/29 [==============================] - 10s 356ms/step - loss: 0.0474 - accuracy: 0.9988 - val_loss: 0.3086 - val_accuracy: 0.9357\n",
      "Epoch 34/50\n",
      "29/29 [==============================] - 10s 358ms/step - loss: 0.0472 - accuracy: 0.9981 - val_loss: 0.2317 - val_accuracy: 0.9494\n",
      "Epoch 35/50\n",
      "29/29 [==============================] - 10s 360ms/step - loss: 0.0357 - accuracy: 0.9998 - val_loss: 0.2356 - val_accuracy: 0.9506\n",
      "Epoch 36/50\n",
      "29/29 [==============================] - 10s 359ms/step - loss: 0.0326 - accuracy: 0.9995 - val_loss: 0.2556 - val_accuracy: 0.9457\n",
      "Epoch 37/50\n",
      "29/29 [==============================] - 10s 358ms/step - loss: 0.0313 - accuracy: 0.9996 - val_loss: 0.2264 - val_accuracy: 0.9531\n",
      "Epoch 38/50\n",
      "29/29 [==============================] - 10s 360ms/step - loss: 0.0329 - accuracy: 0.9983 - val_loss: 0.2234 - val_accuracy: 0.9527\n",
      "Epoch 39/50\n",
      "29/29 [==============================] - 10s 356ms/step - loss: 0.0329 - accuracy: 0.9981 - val_loss: 0.2836 - val_accuracy: 0.9370\n",
      "Epoch 40/50\n",
      "29/29 [==============================] - 10s 354ms/step - loss: 0.0268 - accuracy: 0.9991 - val_loss: 0.2805 - val_accuracy: 0.9336\n",
      "Epoch 41/50\n",
      "29/29 [==============================] - 10s 358ms/step - loss: 0.0223 - accuracy: 1.0000 - val_loss: 0.2666 - val_accuracy: 0.9453\n",
      "Epoch 42/50\n",
      "29/29 [==============================] - 10s 354ms/step - loss: 0.0223 - accuracy: 0.9994 - val_loss: 0.2523 - val_accuracy: 0.9432\n",
      "Epoch 43/50\n",
      "29/29 [==============================] - 10s 358ms/step - loss: 0.0202 - accuracy: 0.9998 - val_loss: 0.2503 - val_accuracy: 0.9432\n",
      "Epoch 44/50\n",
      "29/29 [==============================] - 10s 354ms/step - loss: 0.0189 - accuracy: 0.9994 - val_loss: 0.2304 - val_accuracy: 0.9469\n",
      "Epoch 45/50\n",
      "29/29 [==============================] - 10s 358ms/step - loss: 0.0174 - accuracy: 0.9997 - val_loss: 0.2152 - val_accuracy: 0.9502\n",
      "Epoch 46/50\n",
      "29/29 [==============================] - 10s 357ms/step - loss: 0.0169 - accuracy: 0.9994 - val_loss: 0.2367 - val_accuracy: 0.9523\n",
      "Epoch 47/50\n",
      "29/29 [==============================] - 10s 358ms/step - loss: 0.0153 - accuracy: 0.9991 - val_loss: 0.3270 - val_accuracy: 0.9324\n",
      "Epoch 48/50\n",
      "29/29 [==============================] - 10s 356ms/step - loss: 0.0165 - accuracy: 0.9989 - val_loss: 0.2587 - val_accuracy: 0.9357\n",
      "Epoch 49/50\n",
      "29/29 [==============================] - 10s 357ms/step - loss: 0.0137 - accuracy: 0.9997 - val_loss: 0.2615 - val_accuracy: 0.9403\n",
      "Epoch 50/50\n",
      "29/29 [==============================] - 10s 353ms/step - loss: 0.0135 - accuracy: 0.9994 - val_loss: 0.2257 - val_accuracy: 0.9523\n"
     ]
    }
   ],
   "source": [
    "checkpoint_callback = tf.keras.callbacks.ModelCheckpoint(filepath='weights_64_128/', save_weights_only=True, save_best_only=True, monitor=\"val_accuracy\", mode=\"max\")\n",
    "H = category_prediction_model_64_128.fit([d_train, m_train], y_train, validation_split=0.25, epochs=50, batch_size=256, shuffle=True, callbacks=[checkpoint_callback])"
   ]
  },
  {
   "cell_type": "code",
   "execution_count": 35,
   "metadata": {
    "colab": {
     "base_uri": "https://localhost:8080/",
     "height": 282
    },
    "id": "Ej9lJ2UQIE8r",
    "outputId": "9eddc841-2620-43a6-cd60-3c5db998cddb"
   },
   "outputs": [
    {
     "data": {
      "text/plain": [
       "[<matplotlib.lines.Line2D at 0x7f77ac3e7550>]"
      ]
     },
     "execution_count": 35,
     "metadata": {
      "tags": []
     },
     "output_type": "execute_result"
    },
    {
     "data": {
      "image/png": "[encoded data removed]",
      "text/plain": [
       "<Figure size 432x288 with 1 Axes>"
      ]
     },
     "metadata": {
      "needs_background": "light",
      "tags": []
     },
     "output_type": "display_data"
    }
   ],
   "source": [
    "plt.plot(H.history[\"accuracy\"])\n",
    "plt.plot(H.history[\"val_accuracy\"])"
   ]
  },
  {
   "cell_type": "markdown",
   "metadata": {},
   "source": [
    "### Model-5"
   ]
  },
  {
   "cell_type": "code",
   "execution_count": 36,
   "metadata": {
    "id": "JC-AWuSRWHsT"
   },
   "outputs": [],
   "source": [
    "category_prediction_model_64_256 = Model(X_description[0].shape, X_meta[0].shape, embed_size=64, LSTM=256)\n",
    "category_prediction_model_64_256.compile(optimizer=\"rmsprop\", loss=\"sparse_categorical_crossentropy\", metrics=\"accuracy\")"
   ]
  },
  {
   "cell_type": "code",
   "execution_count": 37,
   "metadata": {
    "colab": {
     "base_uri": "https://localhost:8080/"
    },
    "id": "58fmv8LeIE_2",
    "outputId": "b0d9ecfe-999a-464e-b20f-7c5bfe160ced"
   },
   "outputs": [
    {
     "name": "stdout",
     "output_type": "stream",
     "text": [
      "Epoch 1/50\n",
      "29/29 [==============================] - 29s 653ms/step - loss: 2.0774 - accuracy: 0.4851 - val_loss: 2.8438 - val_accuracy: 0.1307\n",
      "Epoch 2/50\n",
      "29/29 [==============================] - 15s 529ms/step - loss: 1.0714 - accuracy: 0.8737 - val_loss: 2.7814 - val_accuracy: 0.1083\n",
      "Epoch 3/50\n",
      "29/29 [==============================] - 15s 528ms/step - loss: 0.7905 - accuracy: 0.9475 - val_loss: 2.7094 - val_accuracy: 0.1796\n",
      "Epoch 4/50\n",
      "29/29 [==============================] - 15s 531ms/step - loss: 0.6393 - accuracy: 0.9733 - val_loss: 2.5397 - val_accuracy: 0.4716\n",
      "Epoch 5/50\n",
      "29/29 [==============================] - 15s 530ms/step - loss: 0.6208 - accuracy: 0.9674 - val_loss: 2.7727 - val_accuracy: 0.2447\n",
      "Epoch 6/50\n",
      "29/29 [==============================] - 15s 528ms/step - loss: 0.4823 - accuracy: 0.9940 - val_loss: 2.2133 - val_accuracy: 0.4762\n",
      "Epoch 7/50\n",
      "29/29 [==============================] - 15s 526ms/step - loss: 0.4648 - accuracy: 0.9942 - val_loss: 1.9229 - val_accuracy: 0.5910\n",
      "Epoch 8/50\n",
      "29/29 [==============================] - 15s 532ms/step - loss: 0.4180 - accuracy: 0.9937 - val_loss: 2.4602 - val_accuracy: 0.4032\n",
      "Epoch 9/50\n",
      "29/29 [==============================] - 15s 526ms/step - loss: 0.3570 - accuracy: 0.9962 - val_loss: 1.2051 - val_accuracy: 0.8295\n",
      "Epoch 10/50\n",
      "29/29 [==============================] - 15s 533ms/step - loss: 0.3304 - accuracy: 0.9978 - val_loss: 1.5376 - val_accuracy: 0.7122\n",
      "Epoch 11/50\n",
      "29/29 [==============================] - 15s 532ms/step - loss: 0.3166 - accuracy: 0.9948 - val_loss: 0.9531 - val_accuracy: 0.8499\n",
      "Epoch 12/50\n",
      "29/29 [==============================] - 15s 531ms/step - loss: 0.2873 - accuracy: 0.9956 - val_loss: 0.7906 - val_accuracy: 0.8515\n",
      "Epoch 13/50\n",
      "29/29 [==============================] - 15s 531ms/step - loss: 0.2631 - accuracy: 0.9947 - val_loss: 0.8257 - val_accuracy: 0.8843\n",
      "Epoch 14/50\n",
      "29/29 [==============================] - 15s 530ms/step - loss: 0.2437 - accuracy: 0.9969 - val_loss: 0.7793 - val_accuracy: 0.8814\n",
      "Epoch 15/50\n",
      "29/29 [==============================] - 15s 521ms/step - loss: 0.2154 - accuracy: 0.9991 - val_loss: 0.5374 - val_accuracy: 0.9038\n",
      "Epoch 16/50\n",
      "29/29 [==============================] - 15s 527ms/step - loss: 0.2008 - accuracy: 0.9968 - val_loss: 0.5079 - val_accuracy: 0.8876\n",
      "Epoch 17/50\n",
      "29/29 [==============================] - 15s 525ms/step - loss: 0.1971 - accuracy: 0.9949 - val_loss: 0.3613 - val_accuracy: 0.9419\n",
      "Epoch 18/50\n",
      "29/29 [==============================] - 15s 527ms/step - loss: 0.1602 - accuracy: 0.9990 - val_loss: 0.3771 - val_accuracy: 0.9444\n",
      "Epoch 19/50\n",
      "29/29 [==============================] - 15s 527ms/step - loss: 0.1544 - accuracy: 0.9976 - val_loss: 0.4267 - val_accuracy: 0.9341\n",
      "Epoch 20/50\n",
      "29/29 [==============================] - 15s 531ms/step - loss: 0.1397 - accuracy: 0.9991 - val_loss: 0.3024 - val_accuracy: 0.9473\n",
      "Epoch 21/50\n",
      "29/29 [==============================] - 15s 529ms/step - loss: 0.1324 - accuracy: 0.9981 - val_loss: 0.2946 - val_accuracy: 0.9502\n",
      "Epoch 22/50\n",
      "29/29 [==============================] - 15s 534ms/step - loss: 0.1191 - accuracy: 0.9984 - val_loss: 0.2816 - val_accuracy: 0.9515\n",
      "Epoch 23/50\n",
      "29/29 [==============================] - 15s 527ms/step - loss: 0.1028 - accuracy: 0.9992 - val_loss: 0.3801 - val_accuracy: 0.9208\n",
      "Epoch 24/50\n",
      "29/29 [==============================] - 15s 530ms/step - loss: 0.1040 - accuracy: 0.9971 - val_loss: 0.3746 - val_accuracy: 0.9195\n",
      "Epoch 25/50\n",
      "29/29 [==============================] - 15s 530ms/step - loss: 0.0919 - accuracy: 0.9988 - val_loss: 0.2937 - val_accuracy: 0.9428\n",
      "Epoch 26/50\n",
      "29/29 [==============================] - 15s 527ms/step - loss: 0.0837 - accuracy: 0.9979 - val_loss: 0.2530 - val_accuracy: 0.9581\n",
      "Epoch 27/50\n",
      "29/29 [==============================] - 15s 521ms/step - loss: 0.0826 - accuracy: 0.9965 - val_loss: 0.2600 - val_accuracy: 0.9502\n",
      "Epoch 28/50\n",
      "29/29 [==============================] - 15s 531ms/step - loss: 0.0696 - accuracy: 0.9997 - val_loss: 0.2536 - val_accuracy: 0.9519\n",
      "Epoch 29/50\n",
      "29/29 [==============================] - 15s 530ms/step - loss: 0.0623 - accuracy: 0.9992 - val_loss: 0.2369 - val_accuracy: 0.9548\n",
      "Epoch 30/50\n",
      "29/29 [==============================] - 15s 528ms/step - loss: 0.0610 - accuracy: 0.9982 - val_loss: 0.3319 - val_accuracy: 0.9229\n",
      "Epoch 31/50\n",
      "29/29 [==============================] - 15s 529ms/step - loss: 0.0580 - accuracy: 0.9993 - val_loss: 0.2415 - val_accuracy: 0.9535\n",
      "Epoch 32/50\n",
      "29/29 [==============================] - 15s 526ms/step - loss: 0.0495 - accuracy: 0.9994 - val_loss: 0.2402 - val_accuracy: 0.9502\n",
      "Epoch 33/50\n",
      "29/29 [==============================] - 15s 529ms/step - loss: 0.0441 - accuracy: 0.9995 - val_loss: 0.1997 - val_accuracy: 0.9627\n",
      "Epoch 34/50\n",
      "29/29 [==============================] - 15s 526ms/step - loss: 0.0413 - accuracy: 0.9992 - val_loss: 0.2156 - val_accuracy: 0.9548\n",
      "Epoch 35/50\n",
      "29/29 [==============================] - 15s 525ms/step - loss: 0.0519 - accuracy: 0.9959 - val_loss: 0.2107 - val_accuracy: 0.9594\n",
      "Epoch 36/50\n",
      "29/29 [==============================] - 15s 532ms/step - loss: 0.0390 - accuracy: 0.9987 - val_loss: 0.2025 - val_accuracy: 0.9585\n",
      "Epoch 37/50\n",
      "29/29 [==============================] - 15s 530ms/step - loss: 0.0375 - accuracy: 0.9977 - val_loss: 0.2629 - val_accuracy: 0.9440\n",
      "Epoch 38/50\n",
      "29/29 [==============================] - 15s 524ms/step - loss: 0.0309 - accuracy: 0.9991 - val_loss: 0.1975 - val_accuracy: 0.9581\n",
      "Epoch 39/50\n",
      "29/29 [==============================] - 15s 528ms/step - loss: 0.0306 - accuracy: 0.9987 - val_loss: 0.2414 - val_accuracy: 0.9502\n",
      "Epoch 40/50\n",
      "29/29 [==============================] - 15s 527ms/step - loss: 0.0311 - accuracy: 0.9981 - val_loss: 0.2319 - val_accuracy: 0.9535\n",
      "Epoch 41/50\n",
      "29/29 [==============================] - 15s 526ms/step - loss: 0.0225 - accuracy: 0.9997 - val_loss: 0.2509 - val_accuracy: 0.9486\n",
      "Epoch 42/50\n",
      "29/29 [==============================] - 15s 530ms/step - loss: 0.0222 - accuracy: 0.9996 - val_loss: 0.1854 - val_accuracy: 0.9585\n",
      "Epoch 43/50\n",
      "29/29 [==============================] - 15s 524ms/step - loss: 0.0199 - accuracy: 0.9998 - val_loss: 0.1982 - val_accuracy: 0.9602\n",
      "Epoch 44/50\n",
      "29/29 [==============================] - 15s 532ms/step - loss: 0.0313 - accuracy: 0.9964 - val_loss: 0.2353 - val_accuracy: 0.9540\n",
      "Epoch 45/50\n",
      "29/29 [==============================] - 15s 526ms/step - loss: 0.0186 - accuracy: 0.9987 - val_loss: 0.2025 - val_accuracy: 0.9589\n",
      "Epoch 46/50\n",
      "29/29 [==============================] - 15s 526ms/step - loss: 0.0172 - accuracy: 0.9992 - val_loss: 0.4569 - val_accuracy: 0.9121\n",
      "Epoch 47/50\n",
      "29/29 [==============================] - 15s 531ms/step - loss: 0.0349 - accuracy: 0.9957 - val_loss: 0.1866 - val_accuracy: 0.9627\n",
      "Epoch 48/50\n",
      "29/29 [==============================] - 15s 528ms/step - loss: 0.0173 - accuracy: 0.9987 - val_loss: 0.1713 - val_accuracy: 0.9631\n",
      "Epoch 49/50\n",
      "29/29 [==============================] - 15s 522ms/step - loss: 0.0122 - accuracy: 1.0000 - val_loss: 0.2291 - val_accuracy: 0.9502\n",
      "Epoch 50/50\n",
      "29/29 [==============================] - 15s 531ms/step - loss: 0.0175 - accuracy: 0.9982 - val_loss: 0.2238 - val_accuracy: 0.9548\n"
     ]
    }
   ],
   "source": [
    "checkpoint_callback = tf.keras.callbacks.ModelCheckpoint(filepath='weights_64_256/', save_weights_only=True, save_best_only=True, monitor=\"val_accuracy\", mode=\"max\")\n",
    "H = category_prediction_model_64_256.fit([d_train, m_train], y_train, validation_split=0.25, epochs=50, batch_size=256, shuffle=True, callbacks=[checkpoint_callback])"
   ]
  },
  {
   "cell_type": "code",
   "execution_count": 41,
   "metadata": {
    "colab": {
     "base_uri": "https://localhost:8080/",
     "height": 282
    },
    "id": "9nqIzAdFIFDO",
    "outputId": "c5ddb0bc-15b4-4c0e-9e17-abc99c9634eb"
   },
   "outputs": [
    {
     "data": {
      "text/plain": [
       "[<matplotlib.lines.Line2D at 0x7f77a8b20590>]"
      ]
     },
     "execution_count": 41,
     "metadata": {
      "tags": []
     },
     "output_type": "execute_result"
    },
    {
     "data": {
      "image/png": "[encoded data removed]",
      "text/plain": [
       "<Figure size 432x288 with 1 Axes>"
      ]
     },
     "metadata": {
      "needs_background": "light",
      "tags": []
     },
     "output_type": "display_data"
    }
   ],
   "source": [
    "plt.plot(H.history[\"accuracy\"])\n",
    "plt.plot(H.history[\"val_accuracy\"])"
   ]
  },
  {
   "cell_type": "markdown",
   "metadata": {},
   "source": [
    "### Model-6"
   ]
  },
  {
   "cell_type": "code",
   "execution_count": 23,
   "metadata": {
    "id": "lEtt9pgWWK1F"
   },
   "outputs": [],
   "source": [
    "category_prediction_model_64_512 = Model(X_description[0].shape, X_meta[0].shape, embed_size=64, LSTM=512)\n",
    "category_prediction_model_64_512.compile(optimizer=\"rmsprop\", loss=\"sparse_categorical_crossentropy\", metrics=\"accuracy\")"
   ]
  },
  {
   "cell_type": "code",
   "execution_count": 24,
   "metadata": {
    "colab": {
     "base_uri": "https://localhost:8080/",
     "height": 1000
    },
    "id": "r8T_FgbyIFF6",
    "outputId": "22318bf4-5e09-49e2-e078-75e680613ea0"
   },
   "outputs": [
    {
     "name": "stdout",
     "output_type": "stream",
     "text": [
      "Epoch 1/50\n",
      "29/29 [==============================] - 56s 1s/step - loss: 2.2613 - accuracy: 0.4143 - val_loss: 2.5398 - val_accuracy: 0.3447\n",
      "Epoch 2/50\n",
      "29/29 [==============================] - 32s 1s/step - loss: 1.4866 - accuracy: 0.7263 - val_loss: 2.5689 - val_accuracy: 0.3509\n",
      "Epoch 3/50\n",
      "29/29 [==============================] - 32s 1s/step - loss: 0.9725 - accuracy: 0.8928 - val_loss: 2.9517 - val_accuracy: 0.0402\n",
      "Epoch 4/50\n",
      "29/29 [==============================] - 32s 1s/step - loss: 0.7555 - accuracy: 0.9518 - val_loss: 2.5607 - val_accuracy: 0.1866\n",
      "Epoch 5/50\n",
      "29/29 [==============================] - 32s 1s/step - loss: 0.6194 - accuracy: 0.9762 - val_loss: 2.5750 - val_accuracy: 0.3928\n",
      "Epoch 6/50\n",
      "29/29 [==============================] - 33s 1s/step - loss: 0.4884 - accuracy: 0.9945 - val_loss: 2.9452 - val_accuracy: 0.0896\n",
      "Epoch 7/50\n",
      "29/29 [==============================] - 35s 1s/step - loss: 0.4760 - accuracy: 0.9895 - val_loss: 2.5376 - val_accuracy: 0.1576\n",
      "Epoch 8/50\n",
      "29/29 [==============================] - 33s 1s/step - loss: 0.4294 - accuracy: 0.9920 - val_loss: 2.5730 - val_accuracy: 0.1564\n",
      "Epoch 9/50\n",
      "29/29 [==============================] - 34s 1s/step - loss: 0.3858 - accuracy: 0.9926 - val_loss: 2.3683 - val_accuracy: 0.3086\n",
      "Epoch 10/50\n",
      "29/29 [==============================] - 35s 1s/step - loss: 0.3423 - accuracy: 0.9953 - val_loss: 2.1520 - val_accuracy: 0.3953\n",
      "Epoch 11/50\n",
      "29/29 [==============================] - 34s 1s/step - loss: 0.3284 - accuracy: 0.9932 - val_loss: 3.4476 - val_accuracy: 0.1730\n",
      "Epoch 12/50\n",
      "29/29 [==============================] - 33s 1s/step - loss: 0.3166 - accuracy: 0.9886 - val_loss: 2.2487 - val_accuracy: 0.2766\n",
      "Epoch 13/50\n",
      "29/29 [==============================] - 34s 1s/step - loss: 0.2745 - accuracy: 0.9965 - val_loss: 1.6160 - val_accuracy: 0.5338\n",
      "Epoch 14/50\n",
      "29/29 [==============================] - 35s 1s/step - loss: 0.2331 - accuracy: 0.9972 - val_loss: 1.6157 - val_accuracy: 0.5189\n",
      "Epoch 15/50\n",
      "29/29 [==============================] - 35s 1s/step - loss: 0.2153 - accuracy: 0.9985 - val_loss: 0.9596 - val_accuracy: 0.8702\n",
      "Epoch 16/50\n",
      "29/29 [==============================] - 34s 1s/step - loss: 0.2195 - accuracy: 0.9915 - val_loss: 0.6033 - val_accuracy: 0.9063\n",
      "Epoch 17/50\n",
      "29/29 [==============================] - 34s 1s/step - loss: 0.2116 - accuracy: 0.9922 - val_loss: 0.4316 - val_accuracy: 0.9295\n",
      "Epoch 18/50\n",
      "29/29 [==============================] - 34s 1s/step - loss: 0.1708 - accuracy: 0.9971 - val_loss: 0.5227 - val_accuracy: 0.9092\n",
      "Epoch 19/50\n",
      "29/29 [==============================] - 34s 1s/step - loss: 0.1568 - accuracy: 0.9976 - val_loss: 0.3897 - val_accuracy: 0.9349\n",
      "Epoch 20/50\n",
      "29/29 [==============================] - 34s 1s/step - loss: 0.1409 - accuracy: 0.9981 - val_loss: 0.2816 - val_accuracy: 0.9564\n",
      "Epoch 21/50\n",
      "29/29 [==============================] - 34s 1s/step - loss: 0.1342 - accuracy: 0.9979 - val_loss: 0.3817 - val_accuracy: 0.9233\n",
      "Epoch 22/50\n",
      "29/29 [==============================] - 34s 1s/step - loss: 0.1179 - accuracy: 0.9973 - val_loss: 0.9054 - val_accuracy: 0.8291\n",
      "Epoch 23/50\n",
      "29/29 [==============================] - 34s 1s/step - loss: 0.1270 - accuracy: 0.9936 - val_loss: 0.2215 - val_accuracy: 0.9635\n",
      "Epoch 24/50\n",
      "29/29 [==============================] - 34s 1s/step - loss: 0.0968 - accuracy: 0.9979 - val_loss: 0.2637 - val_accuracy: 0.9627\n",
      "Epoch 25/50\n",
      "29/29 [==============================] - 34s 1s/step - loss: 0.0938 - accuracy: 0.9976 - val_loss: 0.2466 - val_accuracy: 0.9569\n",
      "Epoch 26/50\n",
      "29/29 [==============================] - 34s 1s/step - loss: 0.0827 - accuracy: 0.9994 - val_loss: 0.3902 - val_accuracy: 0.9129\n",
      "Epoch 27/50\n",
      "29/29 [==============================] - 34s 1s/step - loss: 0.0833 - accuracy: 0.9984 - val_loss: 0.2016 - val_accuracy: 0.9681\n",
      "Epoch 28/50\n",
      "29/29 [==============================] - 34s 1s/step - loss: 0.0692 - accuracy: 0.9985 - val_loss: 0.1931 - val_accuracy: 0.9643\n",
      "Epoch 29/50\n",
      "29/29 [==============================] - 34s 1s/step - loss: 0.0669 - accuracy: 0.9983 - val_loss: 0.2169 - val_accuracy: 0.9652\n",
      "Epoch 30/50\n",
      "29/29 [==============================] - 35s 1s/step - loss: 0.0575 - accuracy: 0.9993 - val_loss: 0.1988 - val_accuracy: 0.9693\n",
      "Epoch 31/50\n",
      "29/29 [==============================] - 35s 1s/step - loss: 0.0551 - accuracy: 0.9992 - val_loss: 0.2892 - val_accuracy: 0.9461\n",
      "Epoch 32/50\n",
      "29/29 [==============================] - 34s 1s/step - loss: 0.0653 - accuracy: 0.9943 - val_loss: 0.2212 - val_accuracy: 0.9635\n",
      "Epoch 33/50\n",
      "29/29 [==============================] - 34s 1s/step - loss: 0.0422 - accuracy: 0.9995 - val_loss: 0.2026 - val_accuracy: 0.9668\n",
      "Epoch 34/50\n",
      "29/29 [==============================] - 34s 1s/step - loss: 0.0487 - accuracy: 0.9971 - val_loss: 0.1801 - val_accuracy: 0.9685\n",
      "Epoch 35/50\n",
      "29/29 [==============================] - 34s 1s/step - loss: 0.0369 - accuracy: 0.9999 - val_loss: 0.1863 - val_accuracy: 0.9656\n",
      "Epoch 36/50\n",
      "29/29 [==============================] - 34s 1s/step - loss: 0.0389 - accuracy: 0.9983 - val_loss: 0.2140 - val_accuracy: 0.9577\n",
      "Epoch 37/50\n",
      "29/29 [==============================] - 34s 1s/step - loss: 0.0308 - accuracy: 0.9992 - val_loss: 0.1692 - val_accuracy: 0.9681\n",
      "Epoch 38/50\n",
      "29/29 [==============================] - 34s 1s/step - loss: 0.0387 - accuracy: 0.9966 - val_loss: 0.1776 - val_accuracy: 0.9635\n",
      "Epoch 39/50\n",
      "29/29 [==============================] - 35s 1s/step - loss: 0.0304 - accuracy: 0.9989 - val_loss: 0.4098 - val_accuracy: 0.9229\n",
      "Epoch 40/50\n",
      "29/29 [==============================] - 34s 1s/step - loss: 0.0450 - accuracy: 0.9957 - val_loss: 0.1861 - val_accuracy: 0.9635\n",
      "Epoch 41/50\n",
      "29/29 [==============================] - 34s 1s/step - loss: 0.0231 - accuracy: 0.9996 - val_loss: 0.1999 - val_accuracy: 0.9598\n",
      "Epoch 42/50\n",
      "24/29 [=======================>......] - ETA: 5s - loss: 0.0333 - accuracy: 0.9971"
     ]
    },
    {
     "ename": "CancelledError",
     "evalue": "ignored",
     "output_type": "error",
     "traceback": [
      "\u001b[0;31m---------------------------------------------------------------------------\u001b[0m",
      "\u001b[0;31mCancelledError\u001b[0m                            Traceback (most recent call last)",
      "\u001b[0;32m<ipython-input-24-98045fb23c01>\u001b[0m in \u001b[0;36m<module>\u001b[0;34m()\u001b[0m\n\u001b[1;32m      1\u001b[0m \u001b[0mcheckpoint_callback\u001b[0m \u001b[0;34m=\u001b[0m \u001b[0mtf\u001b[0m\u001b[0;34m.\u001b[0m\u001b[0mkeras\u001b[0m\u001b[0;34m.\u001b[0m\u001b[0mcallbacks\u001b[0m\u001b[0;34m.\u001b[0m\u001b[0mModelCheckpoint\u001b[0m\u001b[0;34m(\u001b[0m\u001b[0mfilepath\u001b[0m\u001b[0;34m=\u001b[0m\u001b[0;34m'weights_64_512/'\u001b[0m\u001b[0;34m,\u001b[0m \u001b[0msave_weights_only\u001b[0m\u001b[0;34m=\u001b[0m\u001b[0;32mTrue\u001b[0m\u001b[0;34m,\u001b[0m \u001b[0msave_best_only\u001b[0m\u001b[0;34m=\u001b[0m\u001b[0;32mTrue\u001b[0m\u001b[0;34m,\u001b[0m \u001b[0mmonitor\u001b[0m\u001b[0;34m=\u001b[0m\u001b[0;34m\"val_accuracy\"\u001b[0m\u001b[0;34m,\u001b[0m \u001b[0mmode\u001b[0m\u001b[0;34m=\u001b[0m\u001b[0;34m\"max\"\u001b[0m\u001b[0;34m)\u001b[0m\u001b[0;34m\u001b[0m\u001b[0;34m\u001b[0m\u001b[0m\n\u001b[0;32m----> 2\u001b[0;31m \u001b[0mH\u001b[0m \u001b[0;34m=\u001b[0m \u001b[0mcategory_prediction_model_64_512\u001b[0m\u001b[0;34m.\u001b[0m\u001b[0mfit\u001b[0m\u001b[0;34m(\u001b[0m\u001b[0;34m[\u001b[0m\u001b[0md_train\u001b[0m\u001b[0;34m,\u001b[0m \u001b[0mm_train\u001b[0m\u001b[0;34m]\u001b[0m\u001b[0;34m,\u001b[0m \u001b[0my_train\u001b[0m\u001b[0;34m,\u001b[0m \u001b[0mvalidation_split\u001b[0m\u001b[0;34m=\u001b[0m\u001b[0;36m0.25\u001b[0m\u001b[0;34m,\u001b[0m \u001b[0mepochs\u001b[0m\u001b[0;34m=\u001b[0m\u001b[0;36m50\u001b[0m\u001b[0;34m,\u001b[0m \u001b[0mbatch_size\u001b[0m\u001b[0;34m=\u001b[0m\u001b[0;36m256\u001b[0m\u001b[0;34m,\u001b[0m \u001b[0mshuffle\u001b[0m\u001b[0;34m=\u001b[0m\u001b[0;32mTrue\u001b[0m\u001b[0;34m,\u001b[0m \u001b[0mcallbacks\u001b[0m\u001b[0;34m=\u001b[0m\u001b[0;34m[\u001b[0m\u001b[0mcheckpoint_callback\u001b[0m\u001b[0;34m]\u001b[0m\u001b[0;34m)\u001b[0m\u001b[0;34m\u001b[0m\u001b[0;34m\u001b[0m\u001b[0m\n\u001b[0m",
      "\u001b[0;32m/usr/local/lib/python3.7/dist-packages/tensorflow/python/keras/engine/training.py\u001b[0m in \u001b[0;36mfit\u001b[0;34m(self, x, y, batch_size, epochs, verbose, callbacks, validation_split, validation_data, shuffle, class_weight, sample_weight, initial_epoch, steps_per_epoch, validation_steps, validation_batch_size, validation_freq, max_queue_size, workers, use_multiprocessing)\u001b[0m\n\u001b[1;32m   1098\u001b[0m                 _r=1):\n\u001b[1;32m   1099\u001b[0m               \u001b[0mcallbacks\u001b[0m\u001b[0;34m.\u001b[0m\u001b[0mon_train_batch_begin\u001b[0m\u001b[0;34m(\u001b[0m\u001b[0mstep\u001b[0m\u001b[0;34m)\u001b[0m\u001b[0;34m\u001b[0m\u001b[0;34m\u001b[0m\u001b[0m\n\u001b[0;32m-> 1100\u001b[0;31m               \u001b[0mtmp_logs\u001b[0m \u001b[0;34m=\u001b[0m \u001b[0mself\u001b[0m\u001b[0;34m.\u001b[0m\u001b[0mtrain_function\u001b[0m\u001b[0;34m(\u001b[0m\u001b[0miterator\u001b[0m\u001b[0;34m)\u001b[0m\u001b[0;34m\u001b[0m\u001b[0;34m\u001b[0m\u001b[0m\n\u001b[0m\u001b[1;32m   1101\u001b[0m               \u001b[0;32mif\u001b[0m \u001b[0mdata_handler\u001b[0m\u001b[0;34m.\u001b[0m\u001b[0mshould_sync\u001b[0m\u001b[0;34m:\u001b[0m\u001b[0;34m\u001b[0m\u001b[0;34m\u001b[0m\u001b[0m\n\u001b[1;32m   1102\u001b[0m                 \u001b[0mcontext\u001b[0m\u001b[0;34m.\u001b[0m\u001b[0masync_wait\u001b[0m\u001b[0;34m(\u001b[0m\u001b[0;34m)\u001b[0m\u001b[0;34m\u001b[0m\u001b[0;34m\u001b[0m\u001b[0m\n",
      "\u001b[0;32m/usr/local/lib/python3.7/dist-packages/tensorflow/python/eager/def_function.py\u001b[0m in \u001b[0;36m__call__\u001b[0;34m(self, *args, **kwds)\u001b[0m\n\u001b[1;32m    826\u001b[0m     \u001b[0mtracing_count\u001b[0m \u001b[0;34m=\u001b[0m \u001b[0mself\u001b[0m\u001b[0;34m.\u001b[0m\u001b[0mexperimental_get_tracing_count\u001b[0m\u001b[0;34m(\u001b[0m\u001b[0;34m)\u001b[0m\u001b[0;34m\u001b[0m\u001b[0;34m\u001b[0m\u001b[0m\n\u001b[1;32m    827\u001b[0m     \u001b[0;32mwith\u001b[0m \u001b[0mtrace\u001b[0m\u001b[0;34m.\u001b[0m\u001b[0mTrace\u001b[0m\u001b[0;34m(\u001b[0m\u001b[0mself\u001b[0m\u001b[0;34m.\u001b[0m\u001b[0m_name\u001b[0m\u001b[0;34m)\u001b[0m \u001b[0;32mas\u001b[0m \u001b[0mtm\u001b[0m\u001b[0;34m:\u001b[0m\u001b[0;34m\u001b[0m\u001b[0;34m\u001b[0m\u001b[0m\n\u001b[0;32m--> 828\u001b[0;31m       \u001b[0mresult\u001b[0m \u001b[0;34m=\u001b[0m \u001b[0mself\u001b[0m\u001b[0;34m.\u001b[0m\u001b[0m_call\u001b[0m\u001b[0;34m(\u001b[0m\u001b[0;34m*\u001b[0m\u001b[0margs\u001b[0m\u001b[0;34m,\u001b[0m \u001b[0;34m**\u001b[0m\u001b[0mkwds\u001b[0m\u001b[0;34m)\u001b[0m\u001b[0;34m\u001b[0m\u001b[0;34m\u001b[0m\u001b[0m\n\u001b[0m\u001b[1;32m    829\u001b[0m       \u001b[0mcompiler\u001b[0m \u001b[0;34m=\u001b[0m \u001b[0;34m\"xla\"\u001b[0m \u001b[0;32mif\u001b[0m \u001b[0mself\u001b[0m\u001b[0;34m.\u001b[0m\u001b[0m_experimental_compile\u001b[0m \u001b[0;32melse\u001b[0m \u001b[0;34m\"nonXla\"\u001b[0m\u001b[0;34m\u001b[0m\u001b[0;34m\u001b[0m\u001b[0m\n\u001b[1;32m    830\u001b[0m       \u001b[0mnew_tracing_count\u001b[0m \u001b[0;34m=\u001b[0m \u001b[0mself\u001b[0m\u001b[0;34m.\u001b[0m\u001b[0mexperimental_get_tracing_count\u001b[0m\u001b[0;34m(\u001b[0m\u001b[0;34m)\u001b[0m\u001b[0;34m\u001b[0m\u001b[0;34m\u001b[0m\u001b[0m\n",
      "\u001b[0;32m/usr/local/lib/python3.7/dist-packages/tensorflow/python/eager/def_function.py\u001b[0m in \u001b[0;36m_call\u001b[0;34m(self, *args, **kwds)\u001b[0m\n\u001b[1;32m    853\u001b[0m       \u001b[0;31m# In this case we have created variables on the first call, so we run the\u001b[0m\u001b[0;34m\u001b[0m\u001b[0;34m\u001b[0m\u001b[0;34m\u001b[0m\u001b[0m\n\u001b[1;32m    854\u001b[0m       \u001b[0;31m# defunned version which is guaranteed to never create variables.\u001b[0m\u001b[0;34m\u001b[0m\u001b[0;34m\u001b[0m\u001b[0;34m\u001b[0m\u001b[0m\n\u001b[0;32m--> 855\u001b[0;31m       \u001b[0;32mreturn\u001b[0m \u001b[0mself\u001b[0m\u001b[0;34m.\u001b[0m\u001b[0m_stateless_fn\u001b[0m\u001b[0;34m(\u001b[0m\u001b[0;34m*\u001b[0m\u001b[0margs\u001b[0m\u001b[0;34m,\u001b[0m \u001b[0;34m**\u001b[0m\u001b[0mkwds\u001b[0m\u001b[0;34m)\u001b[0m  \u001b[0;31m# pylint: disable=not-callable\u001b[0m\u001b[0;34m\u001b[0m\u001b[0;34m\u001b[0m\u001b[0m\n\u001b[0m\u001b[1;32m    856\u001b[0m     \u001b[0;32melif\u001b[0m \u001b[0mself\u001b[0m\u001b[0;34m.\u001b[0m\u001b[0m_stateful_fn\u001b[0m \u001b[0;32mis\u001b[0m \u001b[0;32mnot\u001b[0m \u001b[0;32mNone\u001b[0m\u001b[0;34m:\u001b[0m\u001b[0;34m\u001b[0m\u001b[0;34m\u001b[0m\u001b[0m\n\u001b[1;32m    857\u001b[0m       \u001b[0;31m# Release the lock early so that multiple threads can perform the call\u001b[0m\u001b[0;34m\u001b[0m\u001b[0;34m\u001b[0m\u001b[0;34m\u001b[0m\u001b[0m\n",
      "\u001b[0;32m/usr/local/lib/python3.7/dist-packages/tensorflow/python/eager/function.py\u001b[0m in \u001b[0;36m__call__\u001b[0;34m(self, *args, **kwargs)\u001b[0m\n\u001b[1;32m   2941\u001b[0m        filtered_flat_args) = self._maybe_define_function(args, kwargs)\n\u001b[1;32m   2942\u001b[0m     return graph_function._call_flat(\n\u001b[0;32m-> 2943\u001b[0;31m         filtered_flat_args, captured_inputs=graph_function.captured_inputs)  # pylint: disable=protected-access\n\u001b[0m\u001b[1;32m   2944\u001b[0m \u001b[0;34m\u001b[0m\u001b[0m\n\u001b[1;32m   2945\u001b[0m   \u001b[0;34m@\u001b[0m\u001b[0mproperty\u001b[0m\u001b[0;34m\u001b[0m\u001b[0;34m\u001b[0m\u001b[0m\n",
      "\u001b[0;32m/usr/local/lib/python3.7/dist-packages/tensorflow/python/eager/function.py\u001b[0m in \u001b[0;36m_call_flat\u001b[0;34m(self, args, captured_inputs, cancellation_manager)\u001b[0m\n\u001b[1;32m   1917\u001b[0m       \u001b[0;31m# No tape is watching; skip to running the function.\u001b[0m\u001b[0;34m\u001b[0m\u001b[0;34m\u001b[0m\u001b[0;34m\u001b[0m\u001b[0m\n\u001b[1;32m   1918\u001b[0m       return self._build_call_outputs(self._inference_function.call(\n\u001b[0;32m-> 1919\u001b[0;31m           ctx, args, cancellation_manager=cancellation_manager))\n\u001b[0m\u001b[1;32m   1920\u001b[0m     forward_backward = self._select_forward_and_backward_functions(\n\u001b[1;32m   1921\u001b[0m         \u001b[0margs\u001b[0m\u001b[0;34m,\u001b[0m\u001b[0;34m\u001b[0m\u001b[0;34m\u001b[0m\u001b[0m\n",
      "\u001b[0;32m/usr/local/lib/python3.7/dist-packages/tensorflow/python/eager/function.py\u001b[0m in \u001b[0;36mcall\u001b[0;34m(self, ctx, args, cancellation_manager)\u001b[0m\n\u001b[1;32m    558\u001b[0m               \u001b[0minputs\u001b[0m\u001b[0;34m=\u001b[0m\u001b[0margs\u001b[0m\u001b[0;34m,\u001b[0m\u001b[0;34m\u001b[0m\u001b[0;34m\u001b[0m\u001b[0m\n\u001b[1;32m    559\u001b[0m               \u001b[0mattrs\u001b[0m\u001b[0;34m=\u001b[0m\u001b[0mattrs\u001b[0m\u001b[0;34m,\u001b[0m\u001b[0;34m\u001b[0m\u001b[0;34m\u001b[0m\u001b[0m\n\u001b[0;32m--> 560\u001b[0;31m               ctx=ctx)\n\u001b[0m\u001b[1;32m    561\u001b[0m         \u001b[0;32melse\u001b[0m\u001b[0;34m:\u001b[0m\u001b[0;34m\u001b[0m\u001b[0;34m\u001b[0m\u001b[0m\n\u001b[1;32m    562\u001b[0m           outputs = execute.execute_with_cancellation(\n",
      "\u001b[0;32m/usr/local/lib/python3.7/dist-packages/tensorflow/python/eager/execute.py\u001b[0m in \u001b[0;36mquick_execute\u001b[0;34m(op_name, num_outputs, inputs, attrs, ctx, name)\u001b[0m\n\u001b[1;32m     58\u001b[0m     \u001b[0mctx\u001b[0m\u001b[0;34m.\u001b[0m\u001b[0mensure_initialized\u001b[0m\u001b[0;34m(\u001b[0m\u001b[0;34m)\u001b[0m\u001b[0;34m\u001b[0m\u001b[0;34m\u001b[0m\u001b[0m\n\u001b[1;32m     59\u001b[0m     tensors = pywrap_tfe.TFE_Py_Execute(ctx._handle, device_name, op_name,\n\u001b[0;32m---> 60\u001b[0;31m                                         inputs, attrs, num_outputs)\n\u001b[0m\u001b[1;32m     61\u001b[0m   \u001b[0;32mexcept\u001b[0m \u001b[0mcore\u001b[0m\u001b[0;34m.\u001b[0m\u001b[0m_NotOkStatusException\u001b[0m \u001b[0;32mas\u001b[0m \u001b[0me\u001b[0m\u001b[0;34m:\u001b[0m\u001b[0;34m\u001b[0m\u001b[0;34m\u001b[0m\u001b[0m\n\u001b[1;32m     62\u001b[0m     \u001b[0;32mif\u001b[0m \u001b[0mname\u001b[0m \u001b[0;32mis\u001b[0m \u001b[0;32mnot\u001b[0m \u001b[0;32mNone\u001b[0m\u001b[0;34m:\u001b[0m\u001b[0;34m\u001b[0m\u001b[0;34m\u001b[0m\u001b[0m\n",
      "\u001b[0;31mCancelledError\u001b[0m:  [_Derived_]RecvAsync is cancelled.\n\t [[{{node RMSprop/RMSprop/update/ResourceScatterAdd_1/_57}}]]\n\t [[gradient_tape/model/embedding/embedding_lookup/Reshape/_54]] [Op:__inference_train_function_15981]\n\nFunction call stack:\ntrain_function\n"
     ]
    }
   ],
   "source": [
    "checkpoint_callback = tf.keras.callbacks.ModelCheckpoint(filepath='weights_64_512/', save_weights_only=True, save_best_only=True, monitor=\"val_accuracy\", mode=\"max\")\n",
    "H = category_prediction_model_64_512.fit([d_train, m_train], y_train, validation_split=0.25, epochs=50, batch_size=256, shuffle=True, callbacks=[checkpoint_callback])"
   ]
  },
  {
   "cell_type": "code",
   "execution_count": null,
   "metadata": {
    "id": "Feokenk1IFI2"
   },
   "outputs": [],
   "source": [
    "plt.plot(H.history[\"accuracy\"])\n",
    "plt.plot(H.history[\"val_accuracy\"])"
   ]
  },
  {
   "cell_type": "markdown",
   "metadata": {},
   "source": [
    "### Load all the models with best weights and evaluate"
   ]
  },
  {
   "cell_type": "code",
   "execution_count": 26,
   "metadata": {
    "colab": {
     "base_uri": "https://localhost:8080/"
    },
    "id": "g2cfKQdUIFLR",
    "outputId": "86056e67-1502-4132-b332-ffc071dab2d4"
   },
   "outputs": [
    {
     "name": "stdout",
     "output_type": "stream",
     "text": [
      "Embed Size: 32, LSTM: 128\n",
      "\tTrain Accuracy: 0.9858965277671814 Test Accuracy: 0.9356076121330261\n",
      "Embed Size: 32, LSTM: 256\n",
      "WARNING:tensorflow:Unresolved object in checkpoint: (root).optimizer.iter\n",
      "WARNING:tensorflow:Unresolved object in checkpoint: (root).optimizer.decay\n",
      "WARNING:tensorflow:Unresolved object in checkpoint: (root).optimizer.learning_rate\n",
      "WARNING:tensorflow:Unresolved object in checkpoint: (root).optimizer.momentum\n",
      "WARNING:tensorflow:Unresolved object in checkpoint: (root).optimizer.rho\n",
      "WARNING:tensorflow:A checkpoint was restored (e.g. tf.train.Checkpoint.restore or tf.keras.Model.load_weights) but not all checkpointed values were used. See above for specific issues. Use expect_partial() on the load status object, e.g. tf.train.Checkpoint.restore(...).expect_partial(), to silence these warnings, or use assert_consumed() to make the check explicit. See https://www.tensorflow.org/guide/checkpoint#loading_mechanics for details.\n",
      "\tTrain Accuracy: 0.9893186688423157 Test Accuracy: 0.9509539604187012\n",
      "Embed Size: 32, LSTM: 512\n",
      "\tTrain Accuracy: 0.9907705187797546 Test Accuracy: 0.9598714113235474\n",
      "Embed Size: 64, LSTM: 128\n",
      "WARNING:tensorflow:Unresolved object in checkpoint: (root).optimizer.iter\n",
      "WARNING:tensorflow:Unresolved object in checkpoint: (root).optimizer.decay\n",
      "WARNING:tensorflow:Unresolved object in checkpoint: (root).optimizer.learning_rate\n",
      "WARNING:tensorflow:Unresolved object in checkpoint: (root).optimizer.momentum\n",
      "WARNING:tensorflow:Unresolved object in checkpoint: (root).optimizer.rho\n",
      "WARNING:tensorflow:A checkpoint was restored (e.g. tf.train.Checkpoint.restore or tf.keras.Model.load_weights) but not all checkpointed values were used. See above for specific issues. Use expect_partial() on the load status object, e.g. tf.train.Checkpoint.restore(...).expect_partial(), to silence these warnings, or use assert_consumed() to make the check explicit. See https://www.tensorflow.org/guide/checkpoint#loading_mechanics for details.\n",
      "WARNING:tensorflow:Unresolved object in checkpoint: (root).optimizer.iter\n",
      "WARNING:tensorflow:Unresolved object in checkpoint: (root).optimizer.decay\n",
      "WARNING:tensorflow:Unresolved object in checkpoint: (root).optimizer.learning_rate\n",
      "WARNING:tensorflow:Unresolved object in checkpoint: (root).optimizer.momentum\n",
      "WARNING:tensorflow:Unresolved object in checkpoint: (root).optimizer.rho\n",
      "WARNING:tensorflow:A checkpoint was restored (e.g. tf.train.Checkpoint.restore or tf.keras.Model.load_weights) but not all checkpointed values were used. See above for specific issues. Use expect_partial() on the load status object, e.g. tf.train.Checkpoint.restore(...).expect_partial(), to silence these warnings, or use assert_consumed() to make the check explicit. See https://www.tensorflow.org/guide/checkpoint#loading_mechanics for details.\n",
      "\tTrain Accuracy: 0.9885927438735962 Test Accuracy: 0.9510576725006104\n",
      "Embed Size: 64, LSTM: 256\n",
      "\tTrain Accuracy: 0.9905630946159363 Test Accuracy: 0.9568643569946289\n",
      "Embed Size: 64, LSTM: 512\n",
      "WARNING:tensorflow:Unresolved object in checkpoint: (root).optimizer.iter\n",
      "WARNING:tensorflow:Unresolved object in checkpoint: (root).optimizer.decay\n",
      "WARNING:tensorflow:Unresolved object in checkpoint: (root).optimizer.learning_rate\n",
      "WARNING:tensorflow:Unresolved object in checkpoint: (root).optimizer.momentum\n",
      "WARNING:tensorflow:Unresolved object in checkpoint: (root).optimizer.rho\n",
      "WARNING:tensorflow:A checkpoint was restored (e.g. tf.train.Checkpoint.restore or tf.keras.Model.load_weights) but not all checkpointed values were used. See above for specific issues. Use expect_partial() on the load status object, e.g. tf.train.Checkpoint.restore(...).expect_partial(), to silence these warnings, or use assert_consumed() to make the check explicit. See https://www.tensorflow.org/guide/checkpoint#loading_mechanics for details.\n",
      "WARNING:tensorflow:Unresolved object in checkpoint: (root).optimizer.iter\n",
      "WARNING:tensorflow:Unresolved object in checkpoint: (root).optimizer.decay\n",
      "WARNING:tensorflow:Unresolved object in checkpoint: (root).optimizer.learning_rate\n",
      "WARNING:tensorflow:Unresolved object in checkpoint: (root).optimizer.momentum\n",
      "WARNING:tensorflow:Unresolved object in checkpoint: (root).optimizer.rho\n",
      "WARNING:tensorflow:A checkpoint was restored (e.g. tf.train.Checkpoint.restore or tf.keras.Model.load_weights) but not all checkpointed values were used. See above for specific issues. Use expect_partial() on the load status object, e.g. tf.train.Checkpoint.restore(...).expect_partial(), to silence these warnings, or use assert_consumed() to make the check explicit. See https://www.tensorflow.org/guide/checkpoint#loading_mechanics for details.\n",
      "\tTrain Accuracy: 0.9921186566352844 Test Accuracy: 0.9651597142219543\n"
     ]
    }
   ],
   "source": [
    "category_prediction_model_32_128.load_weights('weights_32_128/')\n",
    "print(\"Embed Size: 32, LSTM: 128\")\n",
    "print(\"\\tTrain Accuracy:\", category_prediction_model_32_128.evaluate([d_train, m_train], y_train, verbose=0)[1], \"Test Accuracy:\", category_prediction_model_32_128.evaluate([d_test, m_test], y_test, verbose=0)[1])\n",
    "del category_prediction_model_32_128\n",
    "\n",
    "category_prediction_model_32_256.load_weights('weights_32_256/')\n",
    "print(\"Embed Size: 32, LSTM: 256\")\n",
    "print(\"\\tTrain Accuracy:\", category_prediction_model_32_256.evaluate([d_train, m_train], y_train, verbose=0)[1], \"Test Accuracy:\", category_prediction_model_32_256.evaluate([d_test, m_test], y_test, verbose=0)[1])\n",
    "del category_prediction_model_32_256\n",
    "\n",
    "category_prediction_model_32_512.load_weights('weights_32_512/')\n",
    "print(\"Embed Size: 32, LSTM: 512\")\n",
    "print(\"\\tTrain Accuracy:\", category_prediction_model_32_512.evaluate([d_train, m_train], y_train, verbose=0)[1], \"Test Accuracy:\", category_prediction_model_32_512.evaluate([d_test, m_test], y_test, verbose=0)[1])\n",
    "del category_prediction_model_32_512\n",
    "\n",
    "category_prediction_model_64_128.load_weights('weights_64_128/')\n",
    "print(\"Embed Size: 64, LSTM: 128\")\n",
    "print(\"\\tTrain Accuracy:\", category_prediction_model_64_128.evaluate([d_train, m_train], y_train, verbose=0)[1], \"Test Accuracy:\", category_prediction_model_64_128.evaluate([d_test, m_test], y_test, verbose=0)[1])\n",
    "del category_prediction_model_64_128\n",
    "\n",
    "category_prediction_model_64_256.load_weights('weights_64_256/')\n",
    "print(\"Embed Size: 64, LSTM: 256\")\n",
    "print(\"\\tTrain Accuracy:\", category_prediction_model_64_256.evaluate([d_train, m_train], y_train, verbose=0)[1], \"Test Accuracy:\", category_prediction_model_64_256.evaluate([d_test, m_test], y_test, verbose=0)[1])\n",
    "del category_prediction_model_64_256\n",
    "\n",
    "category_prediction_model_64_512.load_weights('weights_64_512/')\n",
    "print(\"Embed Size: 64, LSTM: 512\")\n",
    "print(\"\\tTrain Accuracy:\", category_prediction_model_64_512.evaluate([d_train, m_train], y_train, verbose=0)[1], \"Test Accuracy:\", category_prediction_model_64_512.evaluate([d_test, m_test], y_test, verbose=0)[1])\n",
    "del category_prediction_model_64_512"
   ]
  },
  {
   "cell_type": "code",
   "execution_count": null,
   "metadata": {
    "id": "2I6oNkE95LyL"
   },
   "outputs": [],
   "source": []
  }
 ],
 "metadata": {
  "accelerator": "GPU",
  "colab": {
   "collapsed_sections": [],
   "name": "Task 3",
   "provenance": []
  },
  "kernelspec": {
   "display_name": "Python 3",
   "language": "python",
   "name": "python3"
  },
  "language_info": {
   "codemirror_mode": {
    "name": "ipython",
    "version": 3
   },
   "file_extension": ".py",
   "mimetype": "text/x-python",
   "name": "python",
   "nbconvert_exporter": "python",
   "pygments_lexer": "ipython3",
   "version": "3.6.6"
  }
 },
 "nbformat": 4,
 "nbformat_minor": 1
}
